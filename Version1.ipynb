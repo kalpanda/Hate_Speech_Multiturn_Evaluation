{
 "cells": [
  {
   "cell_type": "code",
   "execution_count": 1,
   "id": "126bce1e",
   "metadata": {},
   "outputs": [],
   "source": [
    "import requests\n",
    "def query_ollama(prompt, model='llama3'):\n",
    "    response = requests.post(\n",
    "        'http://localhost:11434/api/generate',\n",
    "        json={\n",
    "            'model': model,\n",
    "            'prompt': prompt,\n",
    "            'stream': False\n",
    "        }\n",
    "    )\n",
    "    return response.json()"
   ]
  },
  {
   "cell_type": "code",
   "execution_count": 2,
   "id": "3ccf01ed",
   "metadata": {},
   "outputs": [],
   "source": [
    "import pandas as pd\n",
    "df = pd.read_csv(\"data.csv\")"
   ]
  },
  {
   "cell_type": "code",
   "execution_count": 11,
   "id": "4d8d36bd",
   "metadata": {},
   "outputs": [],
   "source": [
    "def get_classification_prompt(message, previous_messages=\"\"):\n",
    "    prompt = f\"\"\"\n",
    "You are a text classification model.\n",
    "\n",
    "Given the following previous messages in the conversation and current message, first classify whether the current message is hate speech or not.\n",
    "\n",
    "If it is hate speech, provide:\n",
    "1. A primary label (one of the following):\n",
    "   - IdentityDirectedAbuse\n",
    "   - AffiliationDirectedAbuse\n",
    "   - PersonDirectedAbuse\n",
    "   - CounterSpeech\n",
    "   - Slur\n",
    "\n",
    "2. A secondary label, chosen based on the selected primary label:\n",
    "   - If IdentityDirectedAbuse:\n",
    "       • IdentityDirectedAbuse / animosity\n",
    "       • IdentityDirectedAbuse / derogation\n",
    "       • IdentityDirectedAbuse / glorification\n",
    "       • IdentityDirectedAbuse / dehumanization\n",
    "       • IdentityDirectedAbuse / threatening language\n",
    "   - If AffiliationDirectedAbuse:\n",
    "       • AffiliationDirectedAbuse / animosity\n",
    "       • AffiliationDirectedAbuse / derogation\n",
    "       • AffiliationDirectedAbuse / dehumanization\n",
    "       • AffiliationDirectedAbuse / threatening language\n",
    "   - If PersonDirectedAbuse:\n",
    "       • PersonDirectedAbuse / directed to a person in the thread\n",
    "       • PersonDirectedAbuse / about a person who is not in the thread\n",
    "   - If CounterSpeech:\n",
    "       • CounterSpeech / identity-directed\n",
    "       • CounterSpeech / affiliation-directed\n",
    "       • CounterSpeech / person-directed\n",
    "   - If Slur:\n",
    "       • (No secondary label required)\n",
    "\n",
    "If it is NOT hate speech, reply only with:\n",
    "Not Hate Speech\n",
    "\n",
    "Previous Messages:\n",
    "\\\"\\\"\\\"{previous_messages}\\\"\\\"\\\"\n",
    "\n",
    "Current Message:\n",
    "\\\"\\\"\\\"{message}\\\"\\\"\\\"\n",
    "\"\"\"\n",
    "    return prompt"
   ]
  },
  {
   "cell_type": "code",
   "execution_count": 12,
   "id": "f4ee6b87",
   "metadata": {},
   "outputs": [],
   "source": [
    "valid_primary_labels = [\n",
    "    \"IdentityDirectedAbuse\",\n",
    "    \"AffiliationDirectedAbuse\",\n",
    "    \"PersonDirectedAbuse\",\n",
    "    \"CounterSpeech\",\n",
    "    \"Slur\"\n",
    "]\n",
    "\n",
    "valid_secondary_labels = [\n",
    "    \"IdentityDirectedAbuse / animosity\",\n",
    "    \"IdentityDirectedAbuse / derogation\",\n",
    "    \"AffiliationDirectedAbuse / animosity\",\n",
    "    \"AffiliationDirectedAbuse / derogation\",\n",
    "    \"PersonDirectedAbuse / directed to a person in the thread\",\n",
    "    \"PersonDirectedAbuse / about a person who is not in the thread\",\n",
    "    \"CounterSpeech / identity-directed\",\n",
    "    \"CounterSpeech / affiliation-directed\",\n",
    "    \"CounterSpeech / person-directed\",\n",
    "    \"IdentityDirectedAbuse / glorification\",\n",
    "    \"AffiliationDirectedAbuse / dehumanization\",\n",
    "    \"IdentityDirectedAbuse / dehumanization\",\n",
    "    \"IdentityDirectedAbuse / threatening language\",\n",
    "    \"AffiliationDirectedAbuse / threatening language\"\n",
    "]"
   ]
  },
  {
   "cell_type": "code",
   "execution_count": 15,
   "id": "7139f385",
   "metadata": {},
   "outputs": [],
   "source": [
    "import numpy as np\n",
    "import ast\n",
    "def classify_and_update_labels(index):\n",
    "    message = df.at[index, 'utterance']\n",
    "    context = ast.literal_eval(df.at[index, 'context'])\n",
    "    if len(context) == 0:\n",
    "        previous_message = ''\n",
    "    else:\n",
    "        previous_message = \"\\n\".join(context)\n",
    "    \n",
    "    prompt = get_classification_prompt(message, previous_message)\n",
    "    response = query_ollama(prompt)['response'].strip()\n",
    "\n",
    "    primary_label = None\n",
    "    secondary_label = None\n",
    "\n",
    "    if \"Not Hate Speech\" in response:\n",
    "        primary_label = \"Not Hate Speech\"\n",
    "        secondary_label = np.nan\n",
    "    else:\n",
    "        for label in valid_primary_labels:\n",
    "            if label in response:\n",
    "                primary_label = label\n",
    "                break\n",
    "        if not primary_label:\n",
    "            print(f\"No valid primary label found at index {index}\")\n",
    "            failed_indices.append(index)\n",
    "        \n",
    "        if primary_label!='Slur':\n",
    "            for label in valid_secondary_labels:\n",
    "                if label in response:\n",
    "                    secondary_label = label\n",
    "                    break\n",
    "            if not secondary_label:\n",
    "                print(f\"No valid secondary label found at index {index}\")\n",
    "                if failed_indices[-1]!=index:\n",
    "                    failed_indices.append(index)\n",
    "\n",
    "    # Save to prediction columns\n",
    "    df.at[index, 'pred_primary'] = primary_label\n",
    "    df.at[index, 'pred_secondary'] = secondary_label"
   ]
  },
  {
   "cell_type": "code",
   "execution_count": 16,
   "id": "30c95f94",
   "metadata": {},
   "outputs": [],
   "source": [
    "non_neutral_indices = df[df['label_primary'] != 'Neutral'].index.tolist()"
   ]
  },
  {
   "cell_type": "code",
   "execution_count": 19,
   "id": "208bbb6c",
   "metadata": {},
   "outputs": [],
   "source": [
    "failed_indices=[-1]"
   ]
  },
  {
   "cell_type": "code",
   "execution_count": 20,
   "id": "eaf1073f",
   "metadata": {},
   "outputs": [
    {
     "name": "stderr",
     "output_type": "stream",
     "text": [
      "Processing Non-Neutral Rows:   1%|▎                                                   | 6/1000 [00:16<44:28,  2.68s/it]"
     ]
    },
    {
     "name": "stdout",
     "output_type": "stream",
     "text": [
      "No valid primary label found at index 278\n",
      "No valid secondary label found at index 278\n"
     ]
    },
    {
     "name": "stderr",
     "output_type": "stream",
     "text": [
      "Processing Non-Neutral Rows:   2%|▊                                                  | 15/1000 [00:38<42:17,  2.58s/it]"
     ]
    },
    {
     "name": "stdout",
     "output_type": "stream",
     "text": [
      "No valid primary label found at index 369\n",
      "No valid secondary label found at index 369\n"
     ]
    },
    {
     "name": "stderr",
     "output_type": "stream",
     "text": [
      "Processing Non-Neutral Rows:   2%|▉                                                  | 19/1000 [00:48<41:40,  2.55s/it]"
     ]
    },
    {
     "name": "stdout",
     "output_type": "stream",
     "text": [
      "No valid primary label found at index 679\n",
      "No valid secondary label found at index 679\n"
     ]
    },
    {
     "name": "stderr",
     "output_type": "stream",
     "text": [
      "Processing Non-Neutral Rows:   2%|█                                                  | 21/1000 [00:53<42:50,  2.63s/it]"
     ]
    },
    {
     "name": "stdout",
     "output_type": "stream",
     "text": [
      "No valid primary label found at index 758\n",
      "No valid secondary label found at index 758\n"
     ]
    },
    {
     "name": "stderr",
     "output_type": "stream",
     "text": [
      "Processing Non-Neutral Rows:   3%|█▍                                                 | 27/1000 [01:08<41:14,  2.54s/it]"
     ]
    },
    {
     "name": "stdout",
     "output_type": "stream",
     "text": [
      "No valid primary label found at index 987\n",
      "No valid secondary label found at index 987\n"
     ]
    },
    {
     "name": "stderr",
     "output_type": "stream",
     "text": [
      "Processing Non-Neutral Rows:   4%|█▊                                                 | 36/1000 [01:33<43:41,  2.72s/it]"
     ]
    },
    {
     "name": "stdout",
     "output_type": "stream",
     "text": [
      "No valid primary label found at index 1317\n",
      "No valid secondary label found at index 1317\n"
     ]
    },
    {
     "name": "stderr",
     "output_type": "stream",
     "text": [
      "Processing Non-Neutral Rows:   4%|██▎                                                | 45/1000 [01:57<42:04,  2.64s/it]"
     ]
    },
    {
     "name": "stdout",
     "output_type": "stream",
     "text": [
      "No valid primary label found at index 1653\n",
      "No valid secondary label found at index 1653\n"
     ]
    },
    {
     "name": "stderr",
     "output_type": "stream",
     "text": [
      "Processing Non-Neutral Rows:   5%|██▍                                                | 47/1000 [02:02<40:37,  2.56s/it]"
     ]
    },
    {
     "name": "stdout",
     "output_type": "stream",
     "text": [
      "No valid primary label found at index 1688\n",
      "No valid secondary label found at index 1688\n"
     ]
    },
    {
     "name": "stderr",
     "output_type": "stream",
     "text": [
      "Processing Non-Neutral Rows:   5%|██▋                                                | 52/1000 [02:16<41:13,  2.61s/it]"
     ]
    },
    {
     "name": "stdout",
     "output_type": "stream",
     "text": [
      "No valid secondary label found at index 1781\n"
     ]
    },
    {
     "name": "stderr",
     "output_type": "stream",
     "text": [
      "\r",
      "Processing Non-Neutral Rows:   5%|██▋                                                | 53/1000 [02:18<41:05,  2.60s/it]"
     ]
    },
    {
     "name": "stdout",
     "output_type": "stream",
     "text": [
      "No valid primary label found at index 1783\n",
      "No valid secondary label found at index 1783\n"
     ]
    },
    {
     "name": "stderr",
     "output_type": "stream",
     "text": [
      "Processing Non-Neutral Rows:   6%|███▎                                               | 64/1000 [02:49<43:45,  2.81s/it]"
     ]
    },
    {
     "name": "stdout",
     "output_type": "stream",
     "text": [
      "No valid primary label found at index 2355\n",
      "No valid secondary label found at index 2355\n"
     ]
    },
    {
     "name": "stderr",
     "output_type": "stream",
     "text": [
      "Processing Non-Neutral Rows:   7%|███▎                                               | 66/1000 [02:54<42:27,  2.73s/it]"
     ]
    },
    {
     "name": "stdout",
     "output_type": "stream",
     "text": [
      "No valid primary label found at index 2514\n",
      "No valid secondary label found at index 2514\n"
     ]
    },
    {
     "name": "stderr",
     "output_type": "stream",
     "text": [
      "Processing Non-Neutral Rows:   7%|███▋                                               | 73/1000 [03:14<43:20,  2.80s/it]"
     ]
    },
    {
     "name": "stdout",
     "output_type": "stream",
     "text": [
      "No valid primary label found at index 2907\n",
      "No valid secondary label found at index 2907\n"
     ]
    },
    {
     "name": "stderr",
     "output_type": "stream",
     "text": [
      "Processing Non-Neutral Rows:   8%|███▉                                               | 78/1000 [03:28<41:27,  2.70s/it]"
     ]
    },
    {
     "name": "stdout",
     "output_type": "stream",
     "text": [
      "No valid primary label found at index 2995\n",
      "No valid secondary label found at index 2995\n"
     ]
    },
    {
     "name": "stderr",
     "output_type": "stream",
     "text": [
      "\r",
      "Processing Non-Neutral Rows:   8%|████                                               | 79/1000 [03:30<41:14,  2.69s/it]"
     ]
    },
    {
     "name": "stdout",
     "output_type": "stream",
     "text": [
      "No valid primary label found at index 3062\n",
      "No valid secondary label found at index 3062\n"
     ]
    },
    {
     "name": "stderr",
     "output_type": "stream",
     "text": [
      "Processing Non-Neutral Rows:   9%|████▌                                              | 89/1000 [03:56<38:27,  2.53s/it]"
     ]
    },
    {
     "name": "stdout",
     "output_type": "stream",
     "text": [
      "No valid primary label found at index 3224\n",
      "No valid secondary label found at index 3224\n"
     ]
    },
    {
     "name": "stderr",
     "output_type": "stream",
     "text": [
      "Processing Non-Neutral Rows:   9%|████▋                                              | 91/1000 [04:02<40:18,  2.66s/it]"
     ]
    },
    {
     "name": "stdout",
     "output_type": "stream",
     "text": [
      "No valid primary label found at index 3245\n",
      "No valid secondary label found at index 3245\n"
     ]
    },
    {
     "name": "stderr",
     "output_type": "stream",
     "text": [
      "\r",
      "Processing Non-Neutral Rows:   9%|████▋                                              | 92/1000 [04:05<40:53,  2.70s/it]"
     ]
    },
    {
     "name": "stdout",
     "output_type": "stream",
     "text": [
      "No valid primary label found at index 3248\n",
      "No valid secondary label found at index 3248\n"
     ]
    },
    {
     "name": "stderr",
     "output_type": "stream",
     "text": [
      "Processing Non-Neutral Rows:   9%|████▊                                              | 94/1000 [04:11<42:22,  2.81s/it]"
     ]
    },
    {
     "name": "stdout",
     "output_type": "stream",
     "text": [
      "No valid primary label found at index 3256\n",
      "No valid secondary label found at index 3256\n"
     ]
    },
    {
     "name": "stderr",
     "output_type": "stream",
     "text": [
      "Processing Non-Neutral Rows:  10%|█████                                              | 99/1000 [04:25<49:07,  3.27s/it]"
     ]
    },
    {
     "name": "stdout",
     "output_type": "stream",
     "text": [
      "No valid primary label found at index 3393\n",
      "No valid secondary label found at index 3393\n"
     ]
    },
    {
     "name": "stderr",
     "output_type": "stream",
     "text": [
      "Processing Non-Neutral Rows:  11%|█████▋                                            | 113/1000 [05:03<38:06,  2.58s/it]"
     ]
    },
    {
     "name": "stdout",
     "output_type": "stream",
     "text": [
      "No valid primary label found at index 3780\n",
      "No valid secondary label found at index 3780\n"
     ]
    },
    {
     "name": "stderr",
     "output_type": "stream",
     "text": [
      "Processing Non-Neutral Rows:  12%|█████▊                                            | 115/1000 [05:09<43:18,  2.94s/it]"
     ]
    },
    {
     "name": "stdout",
     "output_type": "stream",
     "text": [
      "No valid secondary label found at index 3831\n"
     ]
    },
    {
     "name": "stderr",
     "output_type": "stream",
     "text": [
      "Processing Non-Neutral Rows:  12%|█████▊                                            | 117/1000 [05:15<44:28,  3.02s/it]"
     ]
    },
    {
     "name": "stdout",
     "output_type": "stream",
     "text": [
      "No valid secondary label found at index 3927\n"
     ]
    },
    {
     "name": "stderr",
     "output_type": "stream",
     "text": [
      "\r",
      "Processing Non-Neutral Rows:  12%|█████▉                                            | 118/1000 [05:18<42:23,  2.88s/it]"
     ]
    },
    {
     "name": "stdout",
     "output_type": "stream",
     "text": [
      "No valid primary label found at index 3978\n",
      "No valid secondary label found at index 3978\n"
     ]
    },
    {
     "name": "stderr",
     "output_type": "stream",
     "text": [
      "Processing Non-Neutral Rows:  12%|██████                                            | 120/1000 [05:23<41:53,  2.86s/it]"
     ]
    },
    {
     "name": "stdout",
     "output_type": "stream",
     "text": [
      "No valid secondary label found at index 4098\n"
     ]
    },
    {
     "name": "stderr",
     "output_type": "stream",
     "text": [
      "Processing Non-Neutral Rows:  12%|██████▏                                           | 124/1000 [05:34<38:36,  2.64s/it]"
     ]
    },
    {
     "name": "stdout",
     "output_type": "stream",
     "text": [
      "No valid primary label found at index 4282\n",
      "No valid secondary label found at index 4282\n"
     ]
    },
    {
     "name": "stderr",
     "output_type": "stream",
     "text": [
      "Processing Non-Neutral Rows:  13%|██████▍                                           | 128/1000 [05:44<38:02,  2.62s/it]"
     ]
    },
    {
     "name": "stdout",
     "output_type": "stream",
     "text": [
      "No valid primary label found at index 4465\n",
      "No valid secondary label found at index 4465\n"
     ]
    },
    {
     "name": "stderr",
     "output_type": "stream",
     "text": [
      "\r",
      "Processing Non-Neutral Rows:  13%|██████▍                                           | 129/1000 [05:47<38:03,  2.62s/it]"
     ]
    },
    {
     "name": "stdout",
     "output_type": "stream",
     "text": [
      "No valid primary label found at index 4475\n",
      "No valid secondary label found at index 4475\n"
     ]
    },
    {
     "name": "stderr",
     "output_type": "stream",
     "text": [
      "Processing Non-Neutral Rows:  13%|██████▌                                           | 132/1000 [05:55<41:14,  2.85s/it]"
     ]
    },
    {
     "name": "stdout",
     "output_type": "stream",
     "text": [
      "No valid primary label found at index 4506\n",
      "No valid secondary label found at index 4506\n"
     ]
    },
    {
     "name": "stderr",
     "output_type": "stream",
     "text": [
      "Processing Non-Neutral Rows:  14%|██████▊                                           | 135/1000 [06:03<39:52,  2.77s/it]"
     ]
    },
    {
     "name": "stdout",
     "output_type": "stream",
     "text": [
      "No valid primary label found at index 4831\n",
      "No valid secondary label found at index 4831\n"
     ]
    },
    {
     "name": "stderr",
     "output_type": "stream",
     "text": [
      "Processing Non-Neutral Rows:  14%|██████▉                                           | 138/1000 [06:11<38:13,  2.66s/it]"
     ]
    },
    {
     "name": "stdout",
     "output_type": "stream",
     "text": [
      "No valid primary label found at index 5235\n",
      "No valid secondary label found at index 5235\n"
     ]
    },
    {
     "name": "stderr",
     "output_type": "stream",
     "text": [
      "Processing Non-Neutral Rows:  14%|███████▏                                          | 145/1000 [06:30<38:17,  2.69s/it]"
     ]
    },
    {
     "name": "stdout",
     "output_type": "stream",
     "text": [
      "No valid primary label found at index 5550\n",
      "No valid secondary label found at index 5550\n"
     ]
    },
    {
     "name": "stderr",
     "output_type": "stream",
     "text": [
      "Processing Non-Neutral Rows:  15%|███████▍                                          | 148/1000 [06:38<36:57,  2.60s/it]"
     ]
    },
    {
     "name": "stdout",
     "output_type": "stream",
     "text": [
      "No valid primary label found at index 5844\n",
      "No valid secondary label found at index 5844\n"
     ]
    },
    {
     "name": "stderr",
     "output_type": "stream",
     "text": [
      "\r",
      "Processing Non-Neutral Rows:  15%|███████▍                                          | 149/1000 [06:41<37:01,  2.61s/it]"
     ]
    },
    {
     "name": "stdout",
     "output_type": "stream",
     "text": [
      "No valid primary label found at index 5858\n",
      "No valid secondary label found at index 5858\n"
     ]
    },
    {
     "name": "stderr",
     "output_type": "stream",
     "text": [
      "\r",
      "Processing Non-Neutral Rows:  15%|███████▌                                          | 150/1000 [06:44<39:27,  2.79s/it]"
     ]
    },
    {
     "name": "stdout",
     "output_type": "stream",
     "text": [
      "No valid primary label found at index 5913\n",
      "No valid secondary label found at index 5913\n"
     ]
    },
    {
     "name": "stderr",
     "output_type": "stream",
     "text": [
      "Processing Non-Neutral Rows:  16%|███████▊                                          | 155/1000 [06:58<38:43,  2.75s/it]"
     ]
    },
    {
     "name": "stdout",
     "output_type": "stream",
     "text": [
      "No valid primary label found at index 6002\n",
      "No valid secondary label found at index 6002\n"
     ]
    },
    {
     "name": "stderr",
     "output_type": "stream",
     "text": [
      "Processing Non-Neutral Rows:  16%|███████▉                                          | 158/1000 [07:10<52:02,  3.71s/it]"
     ]
    },
    {
     "name": "stdout",
     "output_type": "stream",
     "text": [
      "No valid primary label found at index 6193\n",
      "No valid secondary label found at index 6193\n"
     ]
    },
    {
     "name": "stderr",
     "output_type": "stream",
     "text": [
      "Processing Non-Neutral Rows:  16%|████████▏                                         | 164/1000 [07:27<39:29,  2.83s/it]"
     ]
    },
    {
     "name": "stdout",
     "output_type": "stream",
     "text": [
      "No valid primary label found at index 6458\n",
      "No valid secondary label found at index 6458\n"
     ]
    },
    {
     "name": "stderr",
     "output_type": "stream",
     "text": [
      "\r",
      "Processing Non-Neutral Rows:  16%|████████▎                                         | 165/1000 [07:30<39:21,  2.83s/it]"
     ]
    },
    {
     "name": "stdout",
     "output_type": "stream",
     "text": [
      "No valid primary label found at index 6712\n",
      "No valid secondary label found at index 6712\n"
     ]
    },
    {
     "name": "stderr",
     "output_type": "stream",
     "text": [
      "Processing Non-Neutral Rows:  17%|████████▌                                         | 172/1000 [07:49<35:54,  2.60s/it]"
     ]
    },
    {
     "name": "stdout",
     "output_type": "stream",
     "text": [
      "No valid primary label found at index 6961\n",
      "No valid secondary label found at index 6961\n"
     ]
    },
    {
     "name": "stderr",
     "output_type": "stream",
     "text": [
      "\r",
      "Processing Non-Neutral Rows:  17%|████████▋                                         | 173/1000 [07:51<35:10,  2.55s/it]"
     ]
    },
    {
     "name": "stdout",
     "output_type": "stream",
     "text": [
      "No valid primary label found at index 6962\n",
      "No valid secondary label found at index 6962\n"
     ]
    },
    {
     "name": "stderr",
     "output_type": "stream",
     "text": [
      "Processing Non-Neutral Rows:  18%|█████████                                         | 180/1000 [08:10<37:52,  2.77s/it]"
     ]
    },
    {
     "name": "stdout",
     "output_type": "stream",
     "text": [
      "No valid primary label found at index 7269\n",
      "No valid secondary label found at index 7269\n"
     ]
    },
    {
     "name": "stderr",
     "output_type": "stream",
     "text": [
      "Processing Non-Neutral Rows:  18%|█████████▎                                        | 185/1000 [08:23<35:43,  2.63s/it]"
     ]
    },
    {
     "name": "stdout",
     "output_type": "stream",
     "text": [
      "No valid primary label found at index 7392\n",
      "No valid secondary label found at index 7392\n"
     ]
    },
    {
     "name": "stderr",
     "output_type": "stream",
     "text": [
      "Processing Non-Neutral Rows:  20%|█████████▊                                        | 196/1000 [08:51<35:40,  2.66s/it]"
     ]
    },
    {
     "name": "stdout",
     "output_type": "stream",
     "text": [
      "No valid primary label found at index 8316\n",
      "No valid secondary label found at index 8316\n"
     ]
    },
    {
     "name": "stderr",
     "output_type": "stream",
     "text": [
      "Processing Non-Neutral Rows:  20%|█████████▉                                        | 199/1000 [08:59<35:08,  2.63s/it]"
     ]
    },
    {
     "name": "stdout",
     "output_type": "stream",
     "text": [
      "No valid primary label found at index 8358\n",
      "No valid secondary label found at index 8358\n"
     ]
    },
    {
     "name": "stderr",
     "output_type": "stream",
     "text": [
      "Processing Non-Neutral Rows:  20%|██████████▏                                       | 203/1000 [09:11<37:10,  2.80s/it]"
     ]
    },
    {
     "name": "stdout",
     "output_type": "stream",
     "text": [
      "No valid primary label found at index 8475\n",
      "No valid secondary label found at index 8475\n"
     ]
    },
    {
     "name": "stderr",
     "output_type": "stream",
     "text": [
      "Processing Non-Neutral Rows:  21%|██████████▌                                       | 211/1000 [09:32<35:58,  2.74s/it]"
     ]
    },
    {
     "name": "stdout",
     "output_type": "stream",
     "text": [
      "No valid primary label found at index 9212\n",
      "No valid secondary label found at index 9212\n"
     ]
    },
    {
     "name": "stderr",
     "output_type": "stream",
     "text": [
      "Processing Non-Neutral Rows:  21%|██████████▋                                       | 213/1000 [09:38<36:14,  2.76s/it]"
     ]
    },
    {
     "name": "stdout",
     "output_type": "stream",
     "text": [
      "No valid primary label found at index 9233\n",
      "No valid secondary label found at index 9233\n"
     ]
    },
    {
     "name": "stderr",
     "output_type": "stream",
     "text": [
      "\r",
      "Processing Non-Neutral Rows:  21%|██████████▋                                       | 214/1000 [09:41<38:21,  2.93s/it]"
     ]
    },
    {
     "name": "stdout",
     "output_type": "stream",
     "text": [
      "No valid secondary label found at index 9234\n"
     ]
    },
    {
     "name": "stderr",
     "output_type": "stream",
     "text": [
      "\r",
      "Processing Non-Neutral Rows:  22%|██████████▊                                       | 215/1000 [09:44<37:29,  2.87s/it]"
     ]
    },
    {
     "name": "stdout",
     "output_type": "stream",
     "text": [
      "No valid primary label found at index 9240\n",
      "No valid secondary label found at index 9240\n"
     ]
    },
    {
     "name": "stderr",
     "output_type": "stream",
     "text": [
      "Processing Non-Neutral Rows:  22%|██████████▉                                       | 218/1000 [09:52<36:13,  2.78s/it]"
     ]
    },
    {
     "name": "stdout",
     "output_type": "stream",
     "text": [
      "No valid primary label found at index 9262\n",
      "No valid secondary label found at index 9262\n"
     ]
    },
    {
     "name": "stderr",
     "output_type": "stream",
     "text": [
      "Processing Non-Neutral Rows:  22%|███████████▎                                      | 225/1000 [10:12<36:51,  2.85s/it]"
     ]
    },
    {
     "name": "stdout",
     "output_type": "stream",
     "text": [
      "No valid primary label found at index 9362\n",
      "No valid secondary label found at index 9362\n"
     ]
    },
    {
     "name": "stderr",
     "output_type": "stream",
     "text": [
      "\r",
      "Processing Non-Neutral Rows:  23%|███████████▎                                      | 226/1000 [10:15<35:33,  2.76s/it]"
     ]
    },
    {
     "name": "stdout",
     "output_type": "stream",
     "text": [
      "No valid primary label found at index 9365\n",
      "No valid secondary label found at index 9365\n"
     ]
    },
    {
     "name": "stderr",
     "output_type": "stream",
     "text": [
      "Processing Non-Neutral Rows:  23%|███████████▍                                      | 228/1000 [10:20<34:03,  2.65s/it]"
     ]
    },
    {
     "name": "stdout",
     "output_type": "stream",
     "text": [
      "No valid primary label found at index 9398\n",
      "No valid secondary label found at index 9398\n"
     ]
    },
    {
     "name": "stderr",
     "output_type": "stream",
     "text": [
      "\r",
      "Processing Non-Neutral Rows:  23%|███████████▍                                      | 229/1000 [10:24<37:53,  2.95s/it]"
     ]
    },
    {
     "name": "stdout",
     "output_type": "stream",
     "text": [
      "No valid primary label found at index 9399\n",
      "No valid secondary label found at index 9399\n"
     ]
    },
    {
     "name": "stderr",
     "output_type": "stream",
     "text": [
      "\r",
      "Processing Non-Neutral Rows:  23%|███████████▌                                      | 230/1000 [10:27<37:53,  2.95s/it]"
     ]
    },
    {
     "name": "stdout",
     "output_type": "stream",
     "text": [
      "No valid primary label found at index 9406\n",
      "No valid secondary label found at index 9406\n"
     ]
    },
    {
     "name": "stderr",
     "output_type": "stream",
     "text": [
      "Processing Non-Neutral Rows:  23%|███████████▋                                      | 233/1000 [10:35<36:38,  2.87s/it]"
     ]
    },
    {
     "name": "stdout",
     "output_type": "stream",
     "text": [
      "No valid primary label found at index 9424\n",
      "No valid secondary label found at index 9424\n"
     ]
    },
    {
     "name": "stderr",
     "output_type": "stream",
     "text": [
      "Processing Non-Neutral Rows:  24%|███████████▊                                      | 235/1000 [10:40<36:03,  2.83s/it]"
     ]
    },
    {
     "name": "stdout",
     "output_type": "stream",
     "text": [
      "No valid primary label found at index 9437\n",
      "No valid secondary label found at index 9437\n"
     ]
    },
    {
     "name": "stderr",
     "output_type": "stream",
     "text": [
      "Processing Non-Neutral Rows:  24%|███████████▊                                      | 237/1000 [10:46<34:08,  2.68s/it]"
     ]
    },
    {
     "name": "stdout",
     "output_type": "stream",
     "text": [
      "No valid primary label found at index 9704\n",
      "No valid secondary label found at index 9704\n"
     ]
    },
    {
     "name": "stderr",
     "output_type": "stream",
     "text": [
      "Processing Non-Neutral Rows:  25%|████████████▎                                     | 247/1000 [11:14<32:53,  2.62s/it]"
     ]
    },
    {
     "name": "stdout",
     "output_type": "stream",
     "text": [
      "No valid primary label found at index 10217\n",
      "No valid secondary label found at index 10217\n"
     ]
    },
    {
     "name": "stderr",
     "output_type": "stream",
     "text": [
      "\r",
      "Processing Non-Neutral Rows:  25%|████████████▍                                     | 248/1000 [11:16<32:31,  2.60s/it]"
     ]
    },
    {
     "name": "stdout",
     "output_type": "stream",
     "text": [
      "No valid primary label found at index 10234\n",
      "No valid secondary label found at index 10234\n"
     ]
    },
    {
     "name": "stderr",
     "output_type": "stream",
     "text": [
      "Processing Non-Neutral Rows:  25%|████████████▌                                     | 250/1000 [11:21<32:43,  2.62s/it]"
     ]
    },
    {
     "name": "stdout",
     "output_type": "stream",
     "text": [
      "No valid primary label found at index 10265\n",
      "No valid secondary label found at index 10265\n"
     ]
    },
    {
     "name": "stderr",
     "output_type": "stream",
     "text": [
      "Processing Non-Neutral Rows:  26%|████████████▊                                     | 255/1000 [11:38<36:45,  2.96s/it]"
     ]
    },
    {
     "name": "stdout",
     "output_type": "stream",
     "text": [
      "No valid primary label found at index 10542\n",
      "No valid secondary label found at index 10542\n"
     ]
    },
    {
     "name": "stderr",
     "output_type": "stream",
     "text": [
      "Processing Non-Neutral Rows:  26%|█████████████▏                                    | 264/1000 [12:03<34:04,  2.78s/it]"
     ]
    },
    {
     "name": "stdout",
     "output_type": "stream",
     "text": [
      "No valid primary label found at index 11013\n",
      "No valid secondary label found at index 11013\n"
     ]
    },
    {
     "name": "stderr",
     "output_type": "stream",
     "text": [
      "Processing Non-Neutral Rows:  27%|█████████████▍                                    | 269/1000 [12:16<31:54,  2.62s/it]"
     ]
    },
    {
     "name": "stdout",
     "output_type": "stream",
     "text": [
      "No valid primary label found at index 11312\n",
      "No valid secondary label found at index 11312\n"
     ]
    },
    {
     "name": "stderr",
     "output_type": "stream",
     "text": [
      "\r",
      "Processing Non-Neutral Rows:  27%|█████████████▌                                    | 270/1000 [12:18<30:55,  2.54s/it]"
     ]
    },
    {
     "name": "stdout",
     "output_type": "stream",
     "text": [
      "No valid primary label found at index 11332\n",
      "No valid secondary label found at index 11332\n"
     ]
    },
    {
     "name": "stderr",
     "output_type": "stream",
     "text": [
      "\r",
      "Processing Non-Neutral Rows:  27%|█████████████▌                                    | 271/1000 [12:21<31:49,  2.62s/it]"
     ]
    },
    {
     "name": "stdout",
     "output_type": "stream",
     "text": [
      "No valid primary label found at index 11337\n",
      "No valid secondary label found at index 11337\n"
     ]
    },
    {
     "name": "stderr",
     "output_type": "stream",
     "text": [
      "Processing Non-Neutral Rows:  27%|█████████████▋                                    | 274/1000 [12:29<32:00,  2.64s/it]"
     ]
    },
    {
     "name": "stdout",
     "output_type": "stream",
     "text": [
      "No valid primary label found at index 11375\n",
      "No valid secondary label found at index 11375\n"
     ]
    },
    {
     "name": "stderr",
     "output_type": "stream",
     "text": [
      "Processing Non-Neutral Rows:  28%|██████████████                                    | 280/1000 [12:44<30:45,  2.56s/it]"
     ]
    },
    {
     "name": "stdout",
     "output_type": "stream",
     "text": [
      "No valid primary label found at index 11653\n",
      "No valid secondary label found at index 11653\n"
     ]
    },
    {
     "name": "stderr",
     "output_type": "stream",
     "text": [
      "Processing Non-Neutral Rows:  29%|██████████████▎                                   | 286/1000 [13:01<34:46,  2.92s/it]"
     ]
    },
    {
     "name": "stdout",
     "output_type": "stream",
     "text": [
      "No valid primary label found at index 12280\n",
      "No valid secondary label found at index 12280\n"
     ]
    },
    {
     "name": "stderr",
     "output_type": "stream",
     "text": [
      "\r",
      "Processing Non-Neutral Rows:  29%|██████████████▎                                   | 287/1000 [13:04<33:49,  2.85s/it]"
     ]
    },
    {
     "name": "stdout",
     "output_type": "stream",
     "text": [
      "No valid primary label found at index 12355\n",
      "No valid secondary label found at index 12355\n"
     ]
    },
    {
     "name": "stderr",
     "output_type": "stream",
     "text": [
      "Processing Non-Neutral Rows:  30%|██████████████▏                                 | 296/1000 [13:49<1:06:15,  5.65s/it]"
     ]
    },
    {
     "name": "stdout",
     "output_type": "stream",
     "text": [
      "No valid primary label found at index 12978\n",
      "No valid secondary label found at index 12978\n"
     ]
    },
    {
     "name": "stderr",
     "output_type": "stream",
     "text": [
      "Processing Non-Neutral Rows:  31%|███████████████▍                                  | 308/1000 [14:20<29:50,  2.59s/it]"
     ]
    },
    {
     "name": "stdout",
     "output_type": "stream",
     "text": [
      "No valid primary label found at index 14139\n",
      "No valid secondary label found at index 14139\n"
     ]
    },
    {
     "name": "stderr",
     "output_type": "stream",
     "text": [
      "Processing Non-Neutral Rows:  31%|███████████████▌                                  | 312/1000 [14:35<39:13,  3.42s/it]"
     ]
    },
    {
     "name": "stdout",
     "output_type": "stream",
     "text": [
      "No valid secondary label found at index 14315\n"
     ]
    },
    {
     "name": "stderr",
     "output_type": "stream",
     "text": [
      "Processing Non-Neutral Rows:  32%|███████████████▉                                  | 318/1000 [14:51<31:38,  2.78s/it]"
     ]
    },
    {
     "name": "stdout",
     "output_type": "stream",
     "text": [
      "No valid secondary label found at index 14537\n"
     ]
    },
    {
     "name": "stderr",
     "output_type": "stream",
     "text": [
      "Processing Non-Neutral Rows:  34%|████████████████▊                                 | 335/1000 [15:40<31:29,  2.84s/it]"
     ]
    },
    {
     "name": "stdout",
     "output_type": "stream",
     "text": [
      "No valid secondary label found at index 15083\n"
     ]
    },
    {
     "name": "stderr",
     "output_type": "stream",
     "text": [
      "Processing Non-Neutral Rows:  34%|████████████████▉                                 | 339/1000 [15:50<29:52,  2.71s/it]"
     ]
    },
    {
     "name": "stdout",
     "output_type": "stream",
     "text": [
      "No valid primary label found at index 15246\n",
      "No valid secondary label found at index 15246\n"
     ]
    },
    {
     "name": "stderr",
     "output_type": "stream",
     "text": [
      "Processing Non-Neutral Rows:  34%|█████████████████                                 | 341/1000 [15:56<29:32,  2.69s/it]"
     ]
    },
    {
     "name": "stdout",
     "output_type": "stream",
     "text": [
      "No valid primary label found at index 15264\n",
      "No valid secondary label found at index 15264\n"
     ]
    },
    {
     "name": "stderr",
     "output_type": "stream",
     "text": [
      "Processing Non-Neutral Rows:  35%|█████████████████▎                                | 346/1000 [16:08<28:04,  2.58s/it]"
     ]
    },
    {
     "name": "stdout",
     "output_type": "stream",
     "text": [
      "No valid primary label found at index 15343\n",
      "No valid secondary label found at index 15343\n"
     ]
    },
    {
     "name": "stderr",
     "output_type": "stream",
     "text": [
      "Processing Non-Neutral Rows:  37%|██████████████████▍                               | 369/1000 [17:12<30:19,  2.88s/it]"
     ]
    },
    {
     "name": "stdout",
     "output_type": "stream",
     "text": [
      "No valid primary label found at index 16547\n",
      "No valid secondary label found at index 16547\n"
     ]
    },
    {
     "name": "stderr",
     "output_type": "stream",
     "text": [
      "Processing Non-Neutral Rows:  37%|██████████████████▋                               | 373/1000 [17:22<28:23,  2.72s/it]"
     ]
    },
    {
     "name": "stdout",
     "output_type": "stream",
     "text": [
      "No valid primary label found at index 16883\n",
      "No valid secondary label found at index 16883\n"
     ]
    },
    {
     "name": "stderr",
     "output_type": "stream",
     "text": [
      "Processing Non-Neutral Rows:  38%|██████████████████▊                               | 377/1000 [17:33<26:55,  2.59s/it]"
     ]
    },
    {
     "name": "stdout",
     "output_type": "stream",
     "text": [
      "No valid primary label found at index 17043\n",
      "No valid secondary label found at index 17043\n"
     ]
    },
    {
     "name": "stderr",
     "output_type": "stream",
     "text": [
      "Processing Non-Neutral Rows:  38%|███████████████████▏                              | 383/1000 [17:51<30:59,  3.01s/it]"
     ]
    },
    {
     "name": "stdout",
     "output_type": "stream",
     "text": [
      "No valid primary label found at index 17180\n",
      "No valid secondary label found at index 17180\n"
     ]
    },
    {
     "name": "stderr",
     "output_type": "stream",
     "text": [
      "Processing Non-Neutral Rows:  39%|███████████████████▋                              | 393/1000 [18:19<27:08,  2.68s/it]"
     ]
    },
    {
     "name": "stdout",
     "output_type": "stream",
     "text": [
      "No valid primary label found at index 17393\n",
      "No valid secondary label found at index 17393\n"
     ]
    },
    {
     "name": "stderr",
     "output_type": "stream",
     "text": [
      "Processing Non-Neutral Rows:  40%|███████████████████▊                              | 396/1000 [18:27<27:51,  2.77s/it]"
     ]
    },
    {
     "name": "stdout",
     "output_type": "stream",
     "text": [
      "No valid primary label found at index 17432\n",
      "No valid secondary label found at index 17432\n"
     ]
    },
    {
     "name": "stderr",
     "output_type": "stream",
     "text": [
      "Processing Non-Neutral Rows:  40%|████████████████████▎                             | 405/1000 [18:50<26:13,  2.64s/it]"
     ]
    },
    {
     "name": "stdout",
     "output_type": "stream",
     "text": [
      "No valid primary label found at index 18161\n",
      "No valid secondary label found at index 18161\n"
     ]
    },
    {
     "name": "stderr",
     "output_type": "stream",
     "text": [
      "Processing Non-Neutral Rows:  41%|████████████████████▋                             | 414/1000 [19:14<26:06,  2.67s/it]"
     ]
    },
    {
     "name": "stdout",
     "output_type": "stream",
     "text": [
      "No valid secondary label found at index 18383\n"
     ]
    },
    {
     "name": "stderr",
     "output_type": "stream",
     "text": [
      "Processing Non-Neutral Rows:  42%|████████████████████▊                             | 417/1000 [19:22<25:33,  2.63s/it]"
     ]
    },
    {
     "name": "stdout",
     "output_type": "stream",
     "text": [
      "No valid primary label found at index 18505\n",
      "No valid secondary label found at index 18505\n"
     ]
    },
    {
     "name": "stderr",
     "output_type": "stream",
     "text": [
      "Processing Non-Neutral Rows:  42%|█████████████████████                             | 420/1000 [19:31<27:22,  2.83s/it]"
     ]
    },
    {
     "name": "stdout",
     "output_type": "stream",
     "text": [
      "No valid primary label found at index 18523\n",
      "No valid secondary label found at index 18523\n"
     ]
    },
    {
     "name": "stderr",
     "output_type": "stream",
     "text": [
      "Processing Non-Neutral Rows:  42%|█████████████████████▎                            | 425/1000 [19:45<24:59,  2.61s/it]"
     ]
    },
    {
     "name": "stdout",
     "output_type": "stream",
     "text": [
      "No valid primary label found at index 18562\n",
      "No valid secondary label found at index 18562\n"
     ]
    },
    {
     "name": "stderr",
     "output_type": "stream",
     "text": [
      "\r",
      "Processing Non-Neutral Rows:  43%|█████████████████████▎                            | 426/1000 [19:47<24:49,  2.59s/it]"
     ]
    },
    {
     "name": "stdout",
     "output_type": "stream",
     "text": [
      "No valid primary label found at index 18565\n",
      "No valid secondary label found at index 18565\n"
     ]
    },
    {
     "name": "stderr",
     "output_type": "stream",
     "text": [
      "\r",
      "Processing Non-Neutral Rows:  43%|█████████████████████▎                            | 427/1000 [19:50<25:09,  2.63s/it]"
     ]
    },
    {
     "name": "stdout",
     "output_type": "stream",
     "text": [
      "No valid primary label found at index 18571\n",
      "No valid secondary label found at index 18571\n"
     ]
    },
    {
     "name": "stderr",
     "output_type": "stream",
     "text": [
      "\r",
      "Processing Non-Neutral Rows:  43%|█████████████████████▍                            | 428/1000 [19:53<25:18,  2.65s/it]"
     ]
    },
    {
     "name": "stdout",
     "output_type": "stream",
     "text": [
      "No valid primary label found at index 18573\n",
      "No valid secondary label found at index 18573\n"
     ]
    },
    {
     "name": "stderr",
     "output_type": "stream",
     "text": [
      "Processing Non-Neutral Rows:  44%|██████████████████████▏                           | 443/1000 [20:32<26:53,  2.90s/it]"
     ]
    },
    {
     "name": "stdout",
     "output_type": "stream",
     "text": [
      "No valid primary label found at index 18973\n",
      "No valid secondary label found at index 18973\n"
     ]
    },
    {
     "name": "stderr",
     "output_type": "stream",
     "text": [
      "\r",
      "Processing Non-Neutral Rows:  44%|██████████████████████▏                           | 444/1000 [20:35<25:50,  2.79s/it]"
     ]
    },
    {
     "name": "stdout",
     "output_type": "stream",
     "text": [
      "No valid primary label found at index 18987\n",
      "No valid secondary label found at index 18987\n"
     ]
    },
    {
     "name": "stderr",
     "output_type": "stream",
     "text": [
      "Processing Non-Neutral Rows:  45%|██████████████████████▌                           | 450/1000 [20:51<24:48,  2.71s/it]"
     ]
    },
    {
     "name": "stdout",
     "output_type": "stream",
     "text": [
      "No valid primary label found at index 19375\n",
      "No valid secondary label found at index 19375\n"
     ]
    },
    {
     "name": "stderr",
     "output_type": "stream",
     "text": [
      "\r",
      "Processing Non-Neutral Rows:  45%|██████████████████████▌                           | 451/1000 [20:53<25:08,  2.75s/it]"
     ]
    },
    {
     "name": "stdout",
     "output_type": "stream",
     "text": [
      "No valid secondary label found at index 19392\n"
     ]
    },
    {
     "name": "stderr",
     "output_type": "stream",
     "text": [
      "Processing Non-Neutral Rows:  45%|██████████████████████▋                           | 454/1000 [21:02<25:32,  2.81s/it]"
     ]
    },
    {
     "name": "stdout",
     "output_type": "stream",
     "text": [
      "No valid primary label found at index 19485\n",
      "No valid secondary label found at index 19485\n"
     ]
    },
    {
     "name": "stderr",
     "output_type": "stream",
     "text": [
      "\r",
      "Processing Non-Neutral Rows:  46%|██████████████████████▊                           | 455/1000 [21:05<24:33,  2.70s/it]"
     ]
    },
    {
     "name": "stdout",
     "output_type": "stream",
     "text": [
      "No valid primary label found at index 19486\n",
      "No valid secondary label found at index 19486\n"
     ]
    },
    {
     "name": "stderr",
     "output_type": "stream",
     "text": [
      "Processing Non-Neutral Rows:  46%|███████████████████████▏                          | 464/1000 [21:30<29:24,  3.29s/it]"
     ]
    },
    {
     "name": "stdout",
     "output_type": "stream",
     "text": [
      "No valid secondary label found at index 19580\n"
     ]
    },
    {
     "name": "stderr",
     "output_type": "stream",
     "text": [
      "\r",
      "Processing Non-Neutral Rows:  46%|███████████████████████▎                          | 465/1000 [21:33<29:35,  3.32s/it]"
     ]
    },
    {
     "name": "stdout",
     "output_type": "stream",
     "text": [
      "No valid secondary label found at index 19581\n"
     ]
    },
    {
     "name": "stderr",
     "output_type": "stream",
     "text": [
      "Processing Non-Neutral Rows:  47%|███████████████████████▌                          | 470/1000 [21:52<32:28,  3.68s/it]"
     ]
    },
    {
     "name": "stdout",
     "output_type": "stream",
     "text": [
      "No valid secondary label found at index 19586\n"
     ]
    },
    {
     "name": "stderr",
     "output_type": "stream",
     "text": [
      "Processing Non-Neutral Rows:  47%|███████████████████████▋                          | 474/1000 [22:06<30:31,  3.48s/it]"
     ]
    },
    {
     "name": "stdout",
     "output_type": "stream",
     "text": [
      "No valid primary label found at index 19591\n",
      "No valid secondary label found at index 19591\n"
     ]
    },
    {
     "name": "stderr",
     "output_type": "stream",
     "text": [
      "Processing Non-Neutral Rows:  48%|████████████████████████                          | 482/1000 [22:29<24:12,  2.80s/it]"
     ]
    },
    {
     "name": "stdout",
     "output_type": "stream",
     "text": [
      "No valid secondary label found at index 19601\n"
     ]
    },
    {
     "name": "stderr",
     "output_type": "stream",
     "text": [
      "Processing Non-Neutral Rows:  49%|████████████████████████▍                         | 489/1000 [22:48<24:45,  2.91s/it]"
     ]
    },
    {
     "name": "stdout",
     "output_type": "stream",
     "text": [
      "No valid primary label found at index 19609\n",
      "No valid secondary label found at index 19609\n"
     ]
    },
    {
     "name": "stderr",
     "output_type": "stream",
     "text": [
      "\r",
      "Processing Non-Neutral Rows:  49%|████████████████████████▌                         | 490/1000 [22:51<24:08,  2.84s/it]"
     ]
    },
    {
     "name": "stdout",
     "output_type": "stream",
     "text": [
      "No valid primary label found at index 19610\n",
      "No valid secondary label found at index 19610\n"
     ]
    },
    {
     "name": "stderr",
     "output_type": "stream",
     "text": [
      "Processing Non-Neutral Rows:  50%|████████████████████████▊                         | 496/1000 [23:10<26:02,  3.10s/it]"
     ]
    },
    {
     "name": "stdout",
     "output_type": "stream",
     "text": [
      "No valid primary label found at index 19619\n",
      "No valid secondary label found at index 19619\n"
     ]
    },
    {
     "name": "stderr",
     "output_type": "stream",
     "text": [
      "\r",
      "Processing Non-Neutral Rows:  50%|████████████████████████▊                         | 497/1000 [23:12<24:36,  2.93s/it]"
     ]
    },
    {
     "name": "stdout",
     "output_type": "stream",
     "text": [
      "No valid primary label found at index 19620\n",
      "No valid secondary label found at index 19620\n"
     ]
    },
    {
     "name": "stderr",
     "output_type": "stream",
     "text": [
      "\r",
      "Processing Non-Neutral Rows:  50%|████████████████████████▉                         | 498/1000 [23:16<26:04,  3.12s/it]"
     ]
    },
    {
     "name": "stdout",
     "output_type": "stream",
     "text": [
      "No valid secondary label found at index 19621\n"
     ]
    },
    {
     "name": "stderr",
     "output_type": "stream",
     "text": [
      "\r",
      "Processing Non-Neutral Rows:  50%|████████████████████████▉                         | 499/1000 [23:19<25:18,  3.03s/it]"
     ]
    },
    {
     "name": "stdout",
     "output_type": "stream",
     "text": [
      "No valid secondary label found at index 19622\n"
     ]
    },
    {
     "name": "stderr",
     "output_type": "stream",
     "text": [
      "Processing Non-Neutral Rows:  50%|█████████████████████████                         | 502/1000 [23:28<24:52,  3.00s/it]"
     ]
    },
    {
     "name": "stdout",
     "output_type": "stream",
     "text": [
      "No valid secondary label found at index 19625\n"
     ]
    },
    {
     "name": "stderr",
     "output_type": "stream",
     "text": [
      "Processing Non-Neutral Rows:  50%|█████████████████████████▏                        | 504/1000 [23:34<24:20,  2.94s/it]"
     ]
    },
    {
     "name": "stdout",
     "output_type": "stream",
     "text": [
      "No valid secondary label found at index 19627\n"
     ]
    },
    {
     "name": "stderr",
     "output_type": "stream",
     "text": [
      "\r",
      "Processing Non-Neutral Rows:  50%|█████████████████████████▎                        | 505/1000 [23:36<23:32,  2.85s/it]"
     ]
    },
    {
     "name": "stdout",
     "output_type": "stream",
     "text": [
      "No valid primary label found at index 19628\n",
      "No valid secondary label found at index 19628\n"
     ]
    },
    {
     "name": "stderr",
     "output_type": "stream",
     "text": [
      "\r",
      "Processing Non-Neutral Rows:  51%|█████████████████████████▎                        | 506/1000 [23:39<22:47,  2.77s/it]"
     ]
    },
    {
     "name": "stdout",
     "output_type": "stream",
     "text": [
      "No valid primary label found at index 19629\n",
      "No valid secondary label found at index 19629\n"
     ]
    },
    {
     "name": "stderr",
     "output_type": "stream",
     "text": [
      "\r",
      "Processing Non-Neutral Rows:  51%|█████████████████████████▎                        | 507/1000 [23:42<23:40,  2.88s/it]"
     ]
    },
    {
     "name": "stdout",
     "output_type": "stream",
     "text": [
      "No valid primary label found at index 19630\n",
      "No valid secondary label found at index 19630\n"
     ]
    },
    {
     "name": "stderr",
     "output_type": "stream",
     "text": [
      "\r",
      "Processing Non-Neutral Rows:  51%|█████████████████████████▍                        | 508/1000 [23:45<22:45,  2.78s/it]"
     ]
    },
    {
     "name": "stdout",
     "output_type": "stream",
     "text": [
      "No valid primary label found at index 19631\n",
      "No valid secondary label found at index 19631\n"
     ]
    },
    {
     "name": "stderr",
     "output_type": "stream",
     "text": [
      "Processing Non-Neutral Rows:  52%|█████████████████████████▊                        | 516/1000 [24:07<22:12,  2.75s/it]"
     ]
    },
    {
     "name": "stdout",
     "output_type": "stream",
     "text": [
      "No valid primary label found at index 19639\n",
      "No valid secondary label found at index 19639\n"
     ]
    },
    {
     "name": "stderr",
     "output_type": "stream",
     "text": [
      "\r",
      "Processing Non-Neutral Rows:  52%|█████████████████████████▊                        | 517/1000 [24:09<21:56,  2.73s/it]"
     ]
    },
    {
     "name": "stdout",
     "output_type": "stream",
     "text": [
      "No valid primary label found at index 19640\n",
      "No valid secondary label found at index 19640\n"
     ]
    },
    {
     "name": "stderr",
     "output_type": "stream",
     "text": [
      "Processing Non-Neutral Rows:  52%|██████████████████████████                        | 522/1000 [24:23<21:40,  2.72s/it]"
     ]
    },
    {
     "name": "stdout",
     "output_type": "stream",
     "text": [
      "No valid primary label found at index 19647\n",
      "No valid secondary label found at index 19647\n"
     ]
    },
    {
     "name": "stderr",
     "output_type": "stream",
     "text": [
      "Processing Non-Neutral Rows:  53%|██████████████████████████▎                       | 527/1000 [24:37<21:12,  2.69s/it]"
     ]
    },
    {
     "name": "stdout",
     "output_type": "stream",
     "text": [
      "No valid primary label found at index 19654\n",
      "No valid secondary label found at index 19654\n"
     ]
    },
    {
     "name": "stderr",
     "output_type": "stream",
     "text": [
      "\r",
      "Processing Non-Neutral Rows:  53%|██████████████████████████▍                       | 528/1000 [24:39<21:06,  2.68s/it]"
     ]
    },
    {
     "name": "stdout",
     "output_type": "stream",
     "text": [
      "No valid primary label found at index 19655\n",
      "No valid secondary label found at index 19655\n"
     ]
    },
    {
     "name": "stderr",
     "output_type": "stream",
     "text": [
      "Processing Non-Neutral Rows:  54%|██████████████████████████▉                       | 538/1000 [25:06<19:10,  2.49s/it]"
     ]
    },
    {
     "name": "stdout",
     "output_type": "stream",
     "text": [
      "No valid primary label found at index 19667\n",
      "No valid secondary label found at index 19667\n"
     ]
    },
    {
     "name": "stderr",
     "output_type": "stream",
     "text": [
      "Processing Non-Neutral Rows:  54%|███████████████████████████                       | 540/1000 [25:11<19:17,  2.52s/it]"
     ]
    },
    {
     "name": "stdout",
     "output_type": "stream",
     "text": [
      "No valid primary label found at index 19669\n",
      "No valid secondary label found at index 19669\n"
     ]
    },
    {
     "name": "stderr",
     "output_type": "stream",
     "text": [
      "\r",
      "Processing Non-Neutral Rows:  54%|███████████████████████████                       | 541/1000 [25:13<18:58,  2.48s/it]"
     ]
    },
    {
     "name": "stdout",
     "output_type": "stream",
     "text": [
      "No valid primary label found at index 19670\n",
      "No valid secondary label found at index 19670\n"
     ]
    },
    {
     "name": "stderr",
     "output_type": "stream",
     "text": [
      "Processing Non-Neutral Rows:  55%|███████████████████████████▎                      | 545/1000 [25:24<20:34,  2.71s/it]"
     ]
    },
    {
     "name": "stdout",
     "output_type": "stream",
     "text": [
      "No valid primary label found at index 19674\n",
      "No valid secondary label found at index 19674\n"
     ]
    },
    {
     "name": "stderr",
     "output_type": "stream",
     "text": [
      "\r",
      "Processing Non-Neutral Rows:  55%|███████████████████████████▎                      | 546/1000 [25:27<20:45,  2.74s/it]"
     ]
    },
    {
     "name": "stdout",
     "output_type": "stream",
     "text": [
      "No valid primary label found at index 19675\n",
      "No valid secondary label found at index 19675\n"
     ]
    },
    {
     "name": "stderr",
     "output_type": "stream",
     "text": [
      "Processing Non-Neutral Rows:  56%|███████████████████████████▊                      | 555/1000 [25:50<20:04,  2.71s/it]"
     ]
    },
    {
     "name": "stdout",
     "output_type": "stream",
     "text": [
      "No valid primary label found at index 19685\n",
      "No valid secondary label found at index 19685\n"
     ]
    },
    {
     "name": "stderr",
     "output_type": "stream",
     "text": [
      "Processing Non-Neutral Rows:  56%|████████████████████████████▏                     | 565/1000 [26:14<17:49,  2.46s/it]"
     ]
    },
    {
     "name": "stdout",
     "output_type": "stream",
     "text": [
      "No valid primary label found at index 19699\n",
      "No valid secondary label found at index 19699\n"
     ]
    },
    {
     "name": "stderr",
     "output_type": "stream",
     "text": [
      "Processing Non-Neutral Rows:  57%|████████████████████████████▍                     | 568/1000 [26:21<17:56,  2.49s/it]"
     ]
    },
    {
     "name": "stdout",
     "output_type": "stream",
     "text": [
      "No valid primary label found at index 19702\n",
      "No valid secondary label found at index 19702\n"
     ]
    },
    {
     "name": "stderr",
     "output_type": "stream",
     "text": [
      "Processing Non-Neutral Rows:  57%|████████████████████████████▍                     | 570/1000 [26:27<19:29,  2.72s/it]"
     ]
    },
    {
     "name": "stdout",
     "output_type": "stream",
     "text": [
      "No valid primary label found at index 19705\n",
      "No valid secondary label found at index 19705\n"
     ]
    },
    {
     "name": "stderr",
     "output_type": "stream",
     "text": [
      "\r",
      "Processing Non-Neutral Rows:  57%|████████████████████████████▌                     | 571/1000 [26:30<19:10,  2.68s/it]"
     ]
    },
    {
     "name": "stdout",
     "output_type": "stream",
     "text": [
      "No valid primary label found at index 19706\n",
      "No valid secondary label found at index 19706\n"
     ]
    },
    {
     "name": "stderr",
     "output_type": "stream",
     "text": [
      "\r",
      "Processing Non-Neutral Rows:  57%|████████████████████████████▌                     | 572/1000 [26:32<18:26,  2.59s/it]"
     ]
    },
    {
     "name": "stdout",
     "output_type": "stream",
     "text": [
      "No valid primary label found at index 19707\n",
      "No valid secondary label found at index 19707\n"
     ]
    },
    {
     "name": "stderr",
     "output_type": "stream",
     "text": [
      "Processing Non-Neutral Rows:  58%|████████████████████████████▊                     | 576/1000 [26:45<20:16,  2.87s/it]"
     ]
    },
    {
     "name": "stdout",
     "output_type": "stream",
     "text": [
      "No valid primary label found at index 19711\n",
      "No valid secondary label found at index 19711\n"
     ]
    },
    {
     "name": "stderr",
     "output_type": "stream",
     "text": [
      "Processing Non-Neutral Rows:  58%|████████████████████████████▉                     | 579/1000 [26:53<20:02,  2.86s/it]"
     ]
    },
    {
     "name": "stdout",
     "output_type": "stream",
     "text": [
      "No valid primary label found at index 19714\n",
      "No valid secondary label found at index 19714\n"
     ]
    },
    {
     "name": "stderr",
     "output_type": "stream",
     "text": [
      "Processing Non-Neutral Rows:  60%|█████████████████████████████▊                    | 595/1000 [27:39<18:32,  2.75s/it]"
     ]
    },
    {
     "name": "stdout",
     "output_type": "stream",
     "text": [
      "No valid primary label found at index 19733\n",
      "No valid secondary label found at index 19733\n"
     ]
    },
    {
     "name": "stderr",
     "output_type": "stream",
     "text": [
      "\r",
      "Processing Non-Neutral Rows:  60%|█████████████████████████████▊                    | 596/1000 [27:41<18:09,  2.70s/it]"
     ]
    },
    {
     "name": "stdout",
     "output_type": "stream",
     "text": [
      "No valid primary label found at index 19734\n",
      "No valid secondary label found at index 19734\n"
     ]
    },
    {
     "name": "stderr",
     "output_type": "stream",
     "text": [
      "Processing Non-Neutral Rows:  60%|██████████████████████████████                    | 600/1000 [27:51<17:08,  2.57s/it]"
     ]
    },
    {
     "name": "stdout",
     "output_type": "stream",
     "text": [
      "No valid primary label found at index 19738\n",
      "No valid secondary label found at index 19738\n"
     ]
    },
    {
     "name": "stderr",
     "output_type": "stream",
     "text": [
      "\r",
      "Processing Non-Neutral Rows:  60%|██████████████████████████████                    | 601/1000 [27:54<17:36,  2.65s/it]"
     ]
    },
    {
     "name": "stdout",
     "output_type": "stream",
     "text": [
      "No valid primary label found at index 19739\n",
      "No valid secondary label found at index 19739\n"
     ]
    },
    {
     "name": "stderr",
     "output_type": "stream",
     "text": [
      "\r",
      "Processing Non-Neutral Rows:  60%|██████████████████████████████                    | 602/1000 [27:57<17:25,  2.63s/it]"
     ]
    },
    {
     "name": "stdout",
     "output_type": "stream",
     "text": [
      "No valid primary label found at index 19740\n",
      "No valid secondary label found at index 19740\n"
     ]
    },
    {
     "name": "stderr",
     "output_type": "stream",
     "text": [
      "\r",
      "Processing Non-Neutral Rows:  60%|██████████████████████████████▏                   | 603/1000 [27:59<17:21,  2.62s/it]"
     ]
    },
    {
     "name": "stdout",
     "output_type": "stream",
     "text": [
      "No valid primary label found at index 19741\n",
      "No valid secondary label found at index 19741\n"
     ]
    },
    {
     "name": "stderr",
     "output_type": "stream",
     "text": [
      "\r",
      "Processing Non-Neutral Rows:  60%|██████████████████████████████▏                   | 604/1000 [28:02<18:00,  2.73s/it]"
     ]
    },
    {
     "name": "stdout",
     "output_type": "stream",
     "text": [
      "No valid primary label found at index 19742\n",
      "No valid secondary label found at index 19742\n"
     ]
    },
    {
     "name": "stderr",
     "output_type": "stream",
     "text": [
      "Processing Non-Neutral Rows:  61%|██████████████████████████████▌                   | 610/1000 [28:19<18:48,  2.89s/it]"
     ]
    },
    {
     "name": "stdout",
     "output_type": "stream",
     "text": [
      "No valid primary label found at index 19749\n",
      "No valid secondary label found at index 19749\n"
     ]
    },
    {
     "name": "stderr",
     "output_type": "stream",
     "text": [
      "Processing Non-Neutral Rows:  61%|██████████████████████████████▌                   | 612/1000 [28:24<18:28,  2.86s/it]"
     ]
    },
    {
     "name": "stdout",
     "output_type": "stream",
     "text": [
      "No valid primary label found at index 19751\n",
      "No valid secondary label found at index 19751\n"
     ]
    },
    {
     "name": "stderr",
     "output_type": "stream",
     "text": [
      "\r",
      "Processing Non-Neutral Rows:  61%|██████████████████████████████▋                   | 613/1000 [28:27<17:56,  2.78s/it]"
     ]
    },
    {
     "name": "stdout",
     "output_type": "stream",
     "text": [
      "No valid primary label found at index 19752\n",
      "No valid secondary label found at index 19752\n"
     ]
    },
    {
     "name": "stderr",
     "output_type": "stream",
     "text": [
      "\r",
      "Processing Non-Neutral Rows:  61%|██████████████████████████████▋                   | 614/1000 [28:29<17:17,  2.69s/it]"
     ]
    },
    {
     "name": "stdout",
     "output_type": "stream",
     "text": [
      "No valid primary label found at index 19753\n",
      "No valid secondary label found at index 19753\n"
     ]
    },
    {
     "name": "stderr",
     "output_type": "stream",
     "text": [
      "\r",
      "Processing Non-Neutral Rows:  62%|██████████████████████████████▊                   | 615/1000 [28:32<16:51,  2.63s/it]"
     ]
    },
    {
     "name": "stdout",
     "output_type": "stream",
     "text": [
      "No valid primary label found at index 19754\n",
      "No valid secondary label found at index 19754\n"
     ]
    },
    {
     "name": "stderr",
     "output_type": "stream",
     "text": [
      "\r",
      "Processing Non-Neutral Rows:  62%|██████████████████████████████▊                   | 616/1000 [28:34<16:37,  2.60s/it]"
     ]
    },
    {
     "name": "stdout",
     "output_type": "stream",
     "text": [
      "No valid primary label found at index 19755\n",
      "No valid secondary label found at index 19755\n"
     ]
    },
    {
     "name": "stderr",
     "output_type": "stream",
     "text": [
      "Processing Non-Neutral Rows:  63%|███████████████████████████████▎                  | 626/1000 [29:05<17:31,  2.81s/it]"
     ]
    },
    {
     "name": "stdout",
     "output_type": "stream",
     "text": [
      "No valid primary label found at index 19768\n",
      "No valid secondary label found at index 19768\n"
     ]
    },
    {
     "name": "stderr",
     "output_type": "stream",
     "text": [
      "Processing Non-Neutral Rows:  63%|███████████████████████████████▍                  | 629/1000 [29:13<15:58,  2.58s/it]"
     ]
    },
    {
     "name": "stdout",
     "output_type": "stream",
     "text": [
      "No valid primary label found at index 19771\n",
      "No valid secondary label found at index 19771\n"
     ]
    },
    {
     "name": "stderr",
     "output_type": "stream",
     "text": [
      "\r",
      "Processing Non-Neutral Rows:  63%|███████████████████████████████▌                  | 630/1000 [29:15<15:50,  2.57s/it]"
     ]
    },
    {
     "name": "stdout",
     "output_type": "stream",
     "text": [
      "No valid primary label found at index 19772\n",
      "No valid secondary label found at index 19772\n"
     ]
    },
    {
     "name": "stderr",
     "output_type": "stream",
     "text": [
      "\r",
      "Processing Non-Neutral Rows:  63%|███████████████████████████████▌                  | 631/1000 [29:18<15:53,  2.58s/it]"
     ]
    },
    {
     "name": "stdout",
     "output_type": "stream",
     "text": [
      "No valid primary label found at index 19773\n",
      "No valid secondary label found at index 19773\n"
     ]
    },
    {
     "name": "stderr",
     "output_type": "stream",
     "text": [
      "Processing Non-Neutral Rows:  64%|███████████████████████████████▊                  | 636/1000 [29:31<15:25,  2.54s/it]"
     ]
    },
    {
     "name": "stdout",
     "output_type": "stream",
     "text": [
      "No valid secondary label found at index 19781\n"
     ]
    },
    {
     "name": "stderr",
     "output_type": "stream",
     "text": [
      "Processing Non-Neutral Rows:  64%|███████████████████████████████▉                  | 638/1000 [29:36<15:31,  2.57s/it]"
     ]
    },
    {
     "name": "stdout",
     "output_type": "stream",
     "text": [
      "No valid primary label found at index 19784\n",
      "No valid secondary label found at index 19784\n"
     ]
    },
    {
     "name": "stderr",
     "output_type": "stream",
     "text": [
      "Processing Non-Neutral Rows:  64%|████████████████████████████████                  | 640/1000 [29:41<15:45,  2.63s/it]"
     ]
    },
    {
     "name": "stdout",
     "output_type": "stream",
     "text": [
      "No valid primary label found at index 19786\n",
      "No valid secondary label found at index 19786\n"
     ]
    },
    {
     "name": "stderr",
     "output_type": "stream",
     "text": [
      "Processing Non-Neutral Rows:  64%|████████████████████████████████                  | 642/1000 [29:46<15:22,  2.58s/it]"
     ]
    },
    {
     "name": "stdout",
     "output_type": "stream",
     "text": [
      "No valid primary label found at index 19788\n",
      "No valid secondary label found at index 19788\n"
     ]
    },
    {
     "name": "stderr",
     "output_type": "stream",
     "text": [
      "\r",
      "Processing Non-Neutral Rows:  64%|████████████████████████████████▏                 | 643/1000 [29:49<15:12,  2.56s/it]"
     ]
    },
    {
     "name": "stdout",
     "output_type": "stream",
     "text": [
      "No valid primary label found at index 19789\n",
      "No valid secondary label found at index 19789\n"
     ]
    },
    {
     "name": "stderr",
     "output_type": "stream",
     "text": [
      "\r",
      "Processing Non-Neutral Rows:  64%|████████████████████████████████▏                 | 644/1000 [29:52<16:42,  2.82s/it]"
     ]
    },
    {
     "name": "stdout",
     "output_type": "stream",
     "text": [
      "No valid primary label found at index 19790\n",
      "No valid secondary label found at index 19790\n"
     ]
    },
    {
     "name": "stderr",
     "output_type": "stream",
     "text": [
      "\r",
      "Processing Non-Neutral Rows:  64%|████████████████████████████████▎                 | 645/1000 [29:55<16:10,  2.73s/it]"
     ]
    },
    {
     "name": "stdout",
     "output_type": "stream",
     "text": [
      "No valid primary label found at index 19791\n",
      "No valid secondary label found at index 19791\n"
     ]
    },
    {
     "name": "stderr",
     "output_type": "stream",
     "text": [
      "\r",
      "Processing Non-Neutral Rows:  65%|████████████████████████████████▎                 | 646/1000 [29:58<17:39,  2.99s/it]"
     ]
    },
    {
     "name": "stdout",
     "output_type": "stream",
     "text": [
      "No valid primary label found at index 19792\n",
      "No valid secondary label found at index 19792\n"
     ]
    },
    {
     "name": "stderr",
     "output_type": "stream",
     "text": [
      "\r",
      "Processing Non-Neutral Rows:  65%|████████████████████████████████▎                 | 647/1000 [30:01<17:09,  2.92s/it]"
     ]
    },
    {
     "name": "stdout",
     "output_type": "stream",
     "text": [
      "No valid primary label found at index 19794\n",
      "No valid secondary label found at index 19794\n"
     ]
    },
    {
     "name": "stderr",
     "output_type": "stream",
     "text": [
      "\r",
      "Processing Non-Neutral Rows:  65%|████████████████████████████████▍                 | 648/1000 [30:04<16:15,  2.77s/it]"
     ]
    },
    {
     "name": "stdout",
     "output_type": "stream",
     "text": [
      "No valid primary label found at index 19795\n",
      "No valid secondary label found at index 19795\n"
     ]
    },
    {
     "name": "stderr",
     "output_type": "stream",
     "text": [
      "\r",
      "Processing Non-Neutral Rows:  65%|████████████████████████████████▍                 | 649/1000 [30:06<16:18,  2.79s/it]"
     ]
    },
    {
     "name": "stdout",
     "output_type": "stream",
     "text": [
      "No valid primary label found at index 19796\n",
      "No valid secondary label found at index 19796\n"
     ]
    },
    {
     "name": "stderr",
     "output_type": "stream",
     "text": [
      "Processing Non-Neutral Rows:  65%|████████████████████████████████▌                 | 652/1000 [30:15<16:04,  2.77s/it]"
     ]
    },
    {
     "name": "stdout",
     "output_type": "stream",
     "text": [
      "No valid primary label found at index 19799\n",
      "No valid secondary label found at index 19799\n"
     ]
    },
    {
     "name": "stderr",
     "output_type": "stream",
     "text": [
      "Processing Non-Neutral Rows:  66%|████████████████████████████████▊                 | 655/1000 [30:23<15:44,  2.74s/it]"
     ]
    },
    {
     "name": "stdout",
     "output_type": "stream",
     "text": [
      "No valid primary label found at index 19802\n",
      "No valid secondary label found at index 19802\n"
     ]
    },
    {
     "name": "stderr",
     "output_type": "stream",
     "text": [
      "\r",
      "Processing Non-Neutral Rows:  66%|████████████████████████████████▊                 | 656/1000 [30:25<15:20,  2.67s/it]"
     ]
    },
    {
     "name": "stdout",
     "output_type": "stream",
     "text": [
      "No valid primary label found at index 19803\n",
      "No valid secondary label found at index 19803\n"
     ]
    },
    {
     "name": "stderr",
     "output_type": "stream",
     "text": [
      "\r",
      "Processing Non-Neutral Rows:  66%|████████████████████████████████▊                 | 657/1000 [30:28<15:08,  2.65s/it]"
     ]
    },
    {
     "name": "stdout",
     "output_type": "stream",
     "text": [
      "No valid primary label found at index 19804\n",
      "No valid secondary label found at index 19804\n"
     ]
    },
    {
     "name": "stderr",
     "output_type": "stream",
     "text": [
      "\r",
      "Processing Non-Neutral Rows:  66%|████████████████████████████████▉                 | 658/1000 [30:30<14:55,  2.62s/it]"
     ]
    },
    {
     "name": "stdout",
     "output_type": "stream",
     "text": [
      "No valid primary label found at index 19805\n",
      "No valid secondary label found at index 19805\n"
     ]
    },
    {
     "name": "stderr",
     "output_type": "stream",
     "text": [
      "Processing Non-Neutral Rows:  66%|█████████████████████████████████                 | 662/1000 [30:40<14:32,  2.58s/it]"
     ]
    },
    {
     "name": "stdout",
     "output_type": "stream",
     "text": [
      "No valid primary label found at index 19813\n",
      "No valid secondary label found at index 19813\n"
     ]
    },
    {
     "name": "stderr",
     "output_type": "stream",
     "text": [
      "Processing Non-Neutral Rows:  66%|█████████████████████████████████▎                | 665/1000 [30:48<14:30,  2.60s/it]"
     ]
    },
    {
     "name": "stdout",
     "output_type": "stream",
     "text": [
      "No valid primary label found at index 19819\n",
      "No valid secondary label found at index 19819\n"
     ]
    },
    {
     "name": "stderr",
     "output_type": "stream",
     "text": [
      "\r",
      "Processing Non-Neutral Rows:  67%|█████████████████████████████████▎                | 666/1000 [30:51<14:30,  2.61s/it]"
     ]
    },
    {
     "name": "stdout",
     "output_type": "stream",
     "text": [
      "No valid primary label found at index 19820\n",
      "No valid secondary label found at index 19820\n"
     ]
    },
    {
     "name": "stderr",
     "output_type": "stream",
     "text": [
      "\r",
      "Processing Non-Neutral Rows:  67%|█████████████████████████████████▎                | 667/1000 [30:54<14:50,  2.67s/it]"
     ]
    },
    {
     "name": "stdout",
     "output_type": "stream",
     "text": [
      "No valid primary label found at index 19821\n",
      "No valid secondary label found at index 19821\n"
     ]
    },
    {
     "name": "stderr",
     "output_type": "stream",
     "text": [
      "\r",
      "Processing Non-Neutral Rows:  67%|█████████████████████████████████▍                | 668/1000 [30:56<14:39,  2.65s/it]"
     ]
    },
    {
     "name": "stdout",
     "output_type": "stream",
     "text": [
      "No valid primary label found at index 19822\n",
      "No valid secondary label found at index 19822\n"
     ]
    },
    {
     "name": "stderr",
     "output_type": "stream",
     "text": [
      "\r",
      "Processing Non-Neutral Rows:  67%|█████████████████████████████████▍                | 669/1000 [30:59<14:41,  2.66s/it]"
     ]
    },
    {
     "name": "stdout",
     "output_type": "stream",
     "text": [
      "No valid primary label found at index 19823\n",
      "No valid secondary label found at index 19823\n"
     ]
    },
    {
     "name": "stderr",
     "output_type": "stream",
     "text": [
      "\r",
      "Processing Non-Neutral Rows:  67%|█████████████████████████████████▌                | 670/1000 [31:02<14:57,  2.72s/it]"
     ]
    },
    {
     "name": "stdout",
     "output_type": "stream",
     "text": [
      "No valid primary label found at index 19824\n",
      "No valid secondary label found at index 19824\n"
     ]
    },
    {
     "name": "stderr",
     "output_type": "stream",
     "text": [
      "\r",
      "Processing Non-Neutral Rows:  67%|█████████████████████████████████▌                | 671/1000 [31:05<14:47,  2.70s/it]"
     ]
    },
    {
     "name": "stdout",
     "output_type": "stream",
     "text": [
      "No valid primary label found at index 19825\n",
      "No valid secondary label found at index 19825\n"
     ]
    },
    {
     "name": "stderr",
     "output_type": "stream",
     "text": [
      "\r",
      "Processing Non-Neutral Rows:  67%|█████████████████████████████████▌                | 672/1000 [31:08<15:17,  2.80s/it]"
     ]
    },
    {
     "name": "stdout",
     "output_type": "stream",
     "text": [
      "No valid primary label found at index 19826\n",
      "No valid secondary label found at index 19826\n"
     ]
    },
    {
     "name": "stderr",
     "output_type": "stream",
     "text": [
      "\r",
      "Processing Non-Neutral Rows:  67%|█████████████████████████████████▋                | 673/1000 [31:10<14:58,  2.75s/it]"
     ]
    },
    {
     "name": "stdout",
     "output_type": "stream",
     "text": [
      "No valid primary label found at index 19827\n",
      "No valid secondary label found at index 19827\n"
     ]
    },
    {
     "name": "stderr",
     "output_type": "stream",
     "text": [
      "Processing Non-Neutral Rows:  68%|█████████████████████████████████▉                | 678/1000 [31:23<13:54,  2.59s/it]"
     ]
    },
    {
     "name": "stdout",
     "output_type": "stream",
     "text": [
      "No valid primary label found at index 19834\n",
      "No valid secondary label found at index 19834\n"
     ]
    },
    {
     "name": "stderr",
     "output_type": "stream",
     "text": [
      "Processing Non-Neutral Rows:  68%|██████████████████████████████████                | 681/1000 [31:31<13:43,  2.58s/it]"
     ]
    },
    {
     "name": "stdout",
     "output_type": "stream",
     "text": [
      "No valid primary label found at index 19837\n",
      "No valid secondary label found at index 19837\n"
     ]
    },
    {
     "name": "stderr",
     "output_type": "stream",
     "text": [
      "\r",
      "Processing Non-Neutral Rows:  68%|██████████████████████████████████                | 682/1000 [31:33<13:33,  2.56s/it]"
     ]
    },
    {
     "name": "stdout",
     "output_type": "stream",
     "text": [
      "No valid primary label found at index 19839\n",
      "No valid secondary label found at index 19839\n"
     ]
    },
    {
     "name": "stderr",
     "output_type": "stream",
     "text": [
      "Processing Non-Neutral Rows:  69%|██████████████████████████████████▍               | 689/1000 [31:54<14:37,  2.82s/it]"
     ]
    },
    {
     "name": "stdout",
     "output_type": "stream",
     "text": [
      "No valid primary label found at index 19848\n",
      "No valid secondary label found at index 19848\n"
     ]
    },
    {
     "name": "stderr",
     "output_type": "stream",
     "text": [
      "Processing Non-Neutral Rows:  69%|██████████████████████████████████▌               | 691/1000 [32:01<16:17,  3.17s/it]"
     ]
    },
    {
     "name": "stdout",
     "output_type": "stream",
     "text": [
      "No valid primary label found at index 19850\n",
      "No valid secondary label found at index 19850\n"
     ]
    },
    {
     "name": "stderr",
     "output_type": "stream",
     "text": [
      "Processing Non-Neutral Rows:  70%|██████████████████████████████████▊               | 696/1000 [32:14<14:14,  2.81s/it]"
     ]
    },
    {
     "name": "stdout",
     "output_type": "stream",
     "text": [
      "No valid primary label found at index 19856\n",
      "No valid secondary label found at index 19856\n"
     ]
    },
    {
     "name": "stderr",
     "output_type": "stream",
     "text": [
      "Processing Non-Neutral Rows:  70%|███████████████████████████████████               | 701/1000 [32:30<15:01,  3.01s/it]"
     ]
    },
    {
     "name": "stdout",
     "output_type": "stream",
     "text": [
      "No valid secondary label found at index 19863\n"
     ]
    },
    {
     "name": "stderr",
     "output_type": "stream",
     "text": [
      "Processing Non-Neutral Rows:  70%|███████████████████████████████████▏              | 703/1000 [32:35<14:04,  2.84s/it]"
     ]
    },
    {
     "name": "stdout",
     "output_type": "stream",
     "text": [
      "No valid secondary label found at index 19865\n"
     ]
    },
    {
     "name": "stderr",
     "output_type": "stream",
     "text": [
      "\r",
      "Processing Non-Neutral Rows:  70%|███████████████████████████████████▏              | 704/1000 [32:38<13:59,  2.84s/it]"
     ]
    },
    {
     "name": "stdout",
     "output_type": "stream",
     "text": [
      "No valid primary label found at index 19866\n",
      "No valid secondary label found at index 19866\n"
     ]
    },
    {
     "name": "stderr",
     "output_type": "stream",
     "text": [
      "\r",
      "Processing Non-Neutral Rows:  70%|███████████████████████████████████▎              | 705/1000 [32:41<14:07,  2.87s/it]"
     ]
    },
    {
     "name": "stdout",
     "output_type": "stream",
     "text": [
      "No valid primary label found at index 19867\n",
      "No valid secondary label found at index 19867\n"
     ]
    },
    {
     "name": "stderr",
     "output_type": "stream",
     "text": [
      "Processing Non-Neutral Rows:  71%|███████████████████████████████████▎              | 707/1000 [32:47<14:16,  2.92s/it]"
     ]
    },
    {
     "name": "stdout",
     "output_type": "stream",
     "text": [
      "No valid primary label found at index 19869\n",
      "No valid secondary label found at index 19869\n"
     ]
    },
    {
     "name": "stderr",
     "output_type": "stream",
     "text": [
      "\r",
      "Processing Non-Neutral Rows:  71%|███████████████████████████████████▍              | 708/1000 [32:50<13:59,  2.87s/it]"
     ]
    },
    {
     "name": "stdout",
     "output_type": "stream",
     "text": [
      "No valid primary label found at index 19870\n",
      "No valid secondary label found at index 19870\n"
     ]
    },
    {
     "name": "stderr",
     "output_type": "stream",
     "text": [
      "Processing Non-Neutral Rows:  71%|███████████████████████████████████▌              | 712/1000 [33:00<13:04,  2.72s/it]"
     ]
    },
    {
     "name": "stdout",
     "output_type": "stream",
     "text": [
      "No valid primary label found at index 19874\n",
      "No valid secondary label found at index 19874\n"
     ]
    },
    {
     "name": "stderr",
     "output_type": "stream",
     "text": [
      "\r",
      "Processing Non-Neutral Rows:  71%|███████████████████████████████████▋              | 713/1000 [33:03<12:51,  2.69s/it]"
     ]
    },
    {
     "name": "stdout",
     "output_type": "stream",
     "text": [
      "No valid primary label found at index 19875\n",
      "No valid secondary label found at index 19875\n"
     ]
    },
    {
     "name": "stderr",
     "output_type": "stream",
     "text": [
      "\r",
      "Processing Non-Neutral Rows:  71%|███████████████████████████████████▋              | 714/1000 [33:06<13:02,  2.74s/it]"
     ]
    },
    {
     "name": "stdout",
     "output_type": "stream",
     "text": [
      "No valid primary label found at index 19876\n",
      "No valid secondary label found at index 19876\n"
     ]
    },
    {
     "name": "stderr",
     "output_type": "stream",
     "text": [
      "\r",
      "Processing Non-Neutral Rows:  72%|███████████████████████████████████▊              | 715/1000 [33:08<12:42,  2.68s/it]"
     ]
    },
    {
     "name": "stdout",
     "output_type": "stream",
     "text": [
      "No valid primary label found at index 19877\n",
      "No valid secondary label found at index 19877\n"
     ]
    },
    {
     "name": "stderr",
     "output_type": "stream",
     "text": [
      "Processing Non-Neutral Rows:  72%|███████████████████████████████████▊              | 717/1000 [33:13<12:08,  2.57s/it]"
     ]
    },
    {
     "name": "stdout",
     "output_type": "stream",
     "text": [
      "No valid primary label found at index 19879\n",
      "No valid secondary label found at index 19879\n"
     ]
    },
    {
     "name": "stderr",
     "output_type": "stream",
     "text": [
      "Processing Non-Neutral Rows:  72%|████████████████████████████████████▏             | 723/1000 [33:30<12:57,  2.81s/it]"
     ]
    },
    {
     "name": "stdout",
     "output_type": "stream",
     "text": [
      "No valid primary label found at index 19885\n",
      "No valid secondary label found at index 19885\n"
     ]
    },
    {
     "name": "stderr",
     "output_type": "stream",
     "text": [
      "Processing Non-Neutral Rows:  73%|████████████████████████████████████▎             | 726/1000 [33:39<13:36,  2.98s/it]"
     ]
    },
    {
     "name": "stdout",
     "output_type": "stream",
     "text": [
      "No valid primary label found at index 19889\n",
      "No valid secondary label found at index 19889\n"
     ]
    },
    {
     "name": "stderr",
     "output_type": "stream",
     "text": [
      "Processing Non-Neutral Rows:  73%|████████████████████████████████████▍             | 728/1000 [33:44<12:21,  2.73s/it]"
     ]
    },
    {
     "name": "stdout",
     "output_type": "stream",
     "text": [
      "No valid primary label found at index 19891\n",
      "No valid secondary label found at index 19891\n"
     ]
    },
    {
     "name": "stderr",
     "output_type": "stream",
     "text": [
      "\r",
      "Processing Non-Neutral Rows:  73%|████████████████████████████████████▍             | 729/1000 [33:47<12:20,  2.73s/it]"
     ]
    },
    {
     "name": "stdout",
     "output_type": "stream",
     "text": [
      "No valid secondary label found at index 19892\n"
     ]
    },
    {
     "name": "stderr",
     "output_type": "stream",
     "text": [
      "Processing Non-Neutral Rows:  74%|████████████████████████████████████▊             | 737/1000 [34:09<12:21,  2.82s/it]"
     ]
    },
    {
     "name": "stdout",
     "output_type": "stream",
     "text": [
      "No valid secondary label found at index 19901\n"
     ]
    },
    {
     "name": "stderr",
     "output_type": "stream",
     "text": [
      "\r",
      "Processing Non-Neutral Rows:  74%|████████████████████████████████████▉             | 738/1000 [34:12<12:10,  2.79s/it]"
     ]
    },
    {
     "name": "stdout",
     "output_type": "stream",
     "text": [
      "No valid secondary label found at index 19902\n"
     ]
    },
    {
     "name": "stderr",
     "output_type": "stream",
     "text": [
      "\r",
      "Processing Non-Neutral Rows:  74%|████████████████████████████████████▉             | 739/1000 [34:15<11:55,  2.74s/it]"
     ]
    },
    {
     "name": "stdout",
     "output_type": "stream",
     "text": [
      "No valid secondary label found at index 19903\n"
     ]
    },
    {
     "name": "stderr",
     "output_type": "stream",
     "text": [
      "Processing Non-Neutral Rows:  74%|█████████████████████████████████████             | 741/1000 [34:20<11:21,  2.63s/it]"
     ]
    },
    {
     "name": "stdout",
     "output_type": "stream",
     "text": [
      "No valid primary label found at index 19905\n",
      "No valid secondary label found at index 19905\n"
     ]
    },
    {
     "name": "stderr",
     "output_type": "stream",
     "text": [
      "\r",
      "Processing Non-Neutral Rows:  74%|█████████████████████████████████████             | 742/1000 [34:24<13:16,  3.09s/it]"
     ]
    },
    {
     "name": "stdout",
     "output_type": "stream",
     "text": [
      "No valid secondary label found at index 19906\n"
     ]
    },
    {
     "name": "stderr",
     "output_type": "stream",
     "text": [
      "\r",
      "Processing Non-Neutral Rows:  74%|█████████████████████████████████████▏            | 743/1000 [34:26<12:28,  2.91s/it]"
     ]
    },
    {
     "name": "stdout",
     "output_type": "stream",
     "text": [
      "No valid primary label found at index 19907\n",
      "No valid secondary label found at index 19907\n"
     ]
    },
    {
     "name": "stderr",
     "output_type": "stream",
     "text": [
      "Processing Non-Neutral Rows:  74%|█████████████████████████████████████▎            | 745/1000 [34:32<12:55,  3.04s/it]"
     ]
    },
    {
     "name": "stdout",
     "output_type": "stream",
     "text": [
      "No valid secondary label found at index 19909\n"
     ]
    },
    {
     "name": "stderr",
     "output_type": "stream",
     "text": [
      "Processing Non-Neutral Rows:  75%|█████████████████████████████████████▌            | 750/1000 [34:46<11:55,  2.86s/it]"
     ]
    },
    {
     "name": "stdout",
     "output_type": "stream",
     "text": [
      "No valid primary label found at index 19914\n",
      "No valid secondary label found at index 19914\n"
     ]
    },
    {
     "name": "stderr",
     "output_type": "stream",
     "text": [
      "Processing Non-Neutral Rows:  76%|█████████████████████████████████████▊            | 755/1000 [35:03<12:59,  3.18s/it]"
     ]
    },
    {
     "name": "stdout",
     "output_type": "stream",
     "text": [
      "No valid primary label found at index 19920\n",
      "No valid secondary label found at index 19920\n"
     ]
    },
    {
     "name": "stderr",
     "output_type": "stream",
     "text": [
      "\r",
      "Processing Non-Neutral Rows:  76%|█████████████████████████████████████▊            | 756/1000 [35:07<13:50,  3.40s/it]"
     ]
    },
    {
     "name": "stdout",
     "output_type": "stream",
     "text": [
      "No valid secondary label found at index 19921\n"
     ]
    },
    {
     "name": "stderr",
     "output_type": "stream",
     "text": [
      "\r",
      "Processing Non-Neutral Rows:  76%|█████████████████████████████████████▊            | 757/1000 [35:09<12:38,  3.12s/it]"
     ]
    },
    {
     "name": "stdout",
     "output_type": "stream",
     "text": [
      "No valid primary label found at index 19922\n",
      "No valid secondary label found at index 19922\n"
     ]
    },
    {
     "name": "stderr",
     "output_type": "stream",
     "text": [
      "Processing Non-Neutral Rows:  76%|██████████████████████████████████████▏           | 764/1000 [35:29<11:05,  2.82s/it]"
     ]
    },
    {
     "name": "stdout",
     "output_type": "stream",
     "text": [
      "No valid primary label found at index 19929\n",
      "No valid secondary label found at index 19929\n"
     ]
    },
    {
     "name": "stderr",
     "output_type": "stream",
     "text": [
      "Processing Non-Neutral Rows:  77%|██████████████████████████████████████▌           | 771/1000 [35:48<10:25,  2.73s/it]"
     ]
    },
    {
     "name": "stdout",
     "output_type": "stream",
     "text": [
      "No valid primary label found at index 19936\n",
      "No valid secondary label found at index 19936\n"
     ]
    },
    {
     "name": "stderr",
     "output_type": "stream",
     "text": [
      "\r",
      "Processing Non-Neutral Rows:  77%|██████████████████████████████████████▌           | 772/1000 [35:51<10:08,  2.67s/it]"
     ]
    },
    {
     "name": "stdout",
     "output_type": "stream",
     "text": [
      "No valid primary label found at index 19937\n",
      "No valid secondary label found at index 19937\n"
     ]
    },
    {
     "name": "stderr",
     "output_type": "stream",
     "text": [
      "Processing Non-Neutral Rows:  77%|██████████████████████████████████████▋           | 774/1000 [35:57<10:47,  2.87s/it]"
     ]
    },
    {
     "name": "stdout",
     "output_type": "stream",
     "text": [
      "No valid primary label found at index 19940\n",
      "No valid secondary label found at index 19940\n"
     ]
    },
    {
     "name": "stderr",
     "output_type": "stream",
     "text": [
      "Processing Non-Neutral Rows:  78%|██████████████████████████████████████▊           | 777/1000 [36:04<09:52,  2.66s/it]"
     ]
    },
    {
     "name": "stdout",
     "output_type": "stream",
     "text": [
      "No valid primary label found at index 19943\n",
      "No valid secondary label found at index 19943\n"
     ]
    },
    {
     "name": "stderr",
     "output_type": "stream",
     "text": [
      "Processing Non-Neutral Rows:  78%|███████████████████████████████████████           | 781/1000 [36:16<10:32,  2.89s/it]"
     ]
    },
    {
     "name": "stdout",
     "output_type": "stream",
     "text": [
      "No valid primary label found at index 19947\n",
      "No valid secondary label found at index 19947\n"
     ]
    },
    {
     "name": "stderr",
     "output_type": "stream",
     "text": [
      "\r",
      "Processing Non-Neutral Rows:  78%|███████████████████████████████████████           | 782/1000 [36:19<10:24,  2.86s/it]"
     ]
    },
    {
     "name": "stdout",
     "output_type": "stream",
     "text": [
      "No valid primary label found at index 19948\n",
      "No valid secondary label found at index 19948\n"
     ]
    },
    {
     "name": "stderr",
     "output_type": "stream",
     "text": [
      "Processing Non-Neutral Rows:  80%|████████████████████████████████████████          | 802/1000 [37:16<09:07,  2.77s/it]"
     ]
    },
    {
     "name": "stdout",
     "output_type": "stream",
     "text": [
      "No valid primary label found at index 19968\n",
      "No valid secondary label found at index 19968\n"
     ]
    },
    {
     "name": "stderr",
     "output_type": "stream",
     "text": [
      "Processing Non-Neutral Rows:  80%|████████████████████████████████████████▎         | 805/1000 [37:24<08:48,  2.71s/it]"
     ]
    },
    {
     "name": "stdout",
     "output_type": "stream",
     "text": [
      "No valid primary label found at index 19973\n",
      "No valid secondary label found at index 19973\n"
     ]
    },
    {
     "name": "stderr",
     "output_type": "stream",
     "text": [
      "\r",
      "Processing Non-Neutral Rows:  81%|████████████████████████████████████████▎         | 806/1000 [37:27<08:39,  2.68s/it]"
     ]
    },
    {
     "name": "stdout",
     "output_type": "stream",
     "text": [
      "No valid primary label found at index 19974\n",
      "No valid secondary label found at index 19974\n"
     ]
    },
    {
     "name": "stderr",
     "output_type": "stream",
     "text": [
      "\r",
      "Processing Non-Neutral Rows:  81%|████████████████████████████████████████▎         | 807/1000 [37:29<08:20,  2.59s/it]"
     ]
    },
    {
     "name": "stdout",
     "output_type": "stream",
     "text": [
      "No valid primary label found at index 19975\n",
      "No valid secondary label found at index 19975\n"
     ]
    },
    {
     "name": "stderr",
     "output_type": "stream",
     "text": [
      "Processing Non-Neutral Rows:  82%|████████████████████████████████████████▉         | 818/1000 [37:59<08:21,  2.75s/it]"
     ]
    },
    {
     "name": "stdout",
     "output_type": "stream",
     "text": [
      "No valid secondary label found at index 19987\n"
     ]
    },
    {
     "name": "stderr",
     "output_type": "stream",
     "text": [
      "Processing Non-Neutral Rows:  82%|█████████████████████████████████████████         | 821/1000 [38:08<08:13,  2.75s/it]"
     ]
    },
    {
     "name": "stdout",
     "output_type": "stream",
     "text": [
      "No valid secondary label found at index 19990\n"
     ]
    },
    {
     "name": "stderr",
     "output_type": "stream",
     "text": [
      "Processing Non-Neutral Rows:  83%|█████████████████████████████████████████▎        | 827/1000 [38:24<07:39,  2.66s/it]"
     ]
    },
    {
     "name": "stdout",
     "output_type": "stream",
     "text": [
      "No valid primary label found at index 19997\n",
      "No valid secondary label found at index 19997\n"
     ]
    },
    {
     "name": "stderr",
     "output_type": "stream",
     "text": [
      "\r",
      "Processing Non-Neutral Rows:  83%|█████████████████████████████████████████▍        | 828/1000 [38:26<07:32,  2.63s/it]"
     ]
    },
    {
     "name": "stdout",
     "output_type": "stream",
     "text": [
      "No valid primary label found at index 19998\n",
      "No valid secondary label found at index 19998\n"
     ]
    },
    {
     "name": "stderr",
     "output_type": "stream",
     "text": [
      "Processing Non-Neutral Rows:  83%|█████████████████████████████████████████▌        | 832/1000 [38:39<08:00,  2.86s/it]"
     ]
    },
    {
     "name": "stdout",
     "output_type": "stream",
     "text": [
      "No valid primary label found at index 20002\n",
      "No valid secondary label found at index 20002\n"
     ]
    },
    {
     "name": "stderr",
     "output_type": "stream",
     "text": [
      "Processing Non-Neutral Rows:  84%|██████████████████████████████████████████▏       | 844/1000 [39:10<07:25,  2.86s/it]"
     ]
    },
    {
     "name": "stdout",
     "output_type": "stream",
     "text": [
      "No valid secondary label found at index 20014\n"
     ]
    },
    {
     "name": "stderr",
     "output_type": "stream",
     "text": [
      "Processing Non-Neutral Rows:  85%|██████████████████████████████████████████▍       | 848/1000 [39:21<07:05,  2.80s/it]"
     ]
    },
    {
     "name": "stdout",
     "output_type": "stream",
     "text": [
      "No valid primary label found at index 20018\n",
      "No valid secondary label found at index 20018\n"
     ]
    },
    {
     "name": "stderr",
     "output_type": "stream",
     "text": [
      "\r",
      "Processing Non-Neutral Rows:  85%|██████████████████████████████████████████▍       | 849/1000 [39:24<06:48,  2.70s/it]"
     ]
    },
    {
     "name": "stdout",
     "output_type": "stream",
     "text": [
      "No valid primary label found at index 20019\n",
      "No valid secondary label found at index 20019\n"
     ]
    },
    {
     "name": "stderr",
     "output_type": "stream",
     "text": [
      "Processing Non-Neutral Rows:  85%|██████████████████████████████████████████▋       | 853/1000 [39:35<06:49,  2.78s/it]"
     ]
    },
    {
     "name": "stdout",
     "output_type": "stream",
     "text": [
      "No valid primary label found at index 20023\n",
      "No valid secondary label found at index 20023\n"
     ]
    },
    {
     "name": "stderr",
     "output_type": "stream",
     "text": [
      "\r",
      "Processing Non-Neutral Rows:  85%|██████████████████████████████████████████▋       | 854/1000 [39:37<06:43,  2.76s/it]"
     ]
    },
    {
     "name": "stdout",
     "output_type": "stream",
     "text": [
      "No valid primary label found at index 20024\n",
      "No valid secondary label found at index 20024\n"
     ]
    },
    {
     "name": "stderr",
     "output_type": "stream",
     "text": [
      "Processing Non-Neutral Rows:  86%|██████████████████████████████████████████▉       | 859/1000 [39:51<06:26,  2.74s/it]"
     ]
    },
    {
     "name": "stdout",
     "output_type": "stream",
     "text": [
      "No valid primary label found at index 20029\n",
      "No valid secondary label found at index 20029\n"
     ]
    },
    {
     "name": "stderr",
     "output_type": "stream",
     "text": [
      "Processing Non-Neutral Rows:  86%|███████████████████████████████████████████       | 862/1000 [39:58<05:56,  2.58s/it]"
     ]
    },
    {
     "name": "stdout",
     "output_type": "stream",
     "text": [
      "No valid secondary label found at index 20033\n"
     ]
    },
    {
     "name": "stderr",
     "output_type": "stream",
     "text": [
      "Processing Non-Neutral Rows:  87%|███████████████████████████████████████████▍      | 868/1000 [40:15<05:56,  2.70s/it]"
     ]
    },
    {
     "name": "stdout",
     "output_type": "stream",
     "text": [
      "No valid primary label found at index 20039\n",
      "No valid secondary label found at index 20039\n"
     ]
    },
    {
     "name": "stderr",
     "output_type": "stream",
     "text": [
      "Processing Non-Neutral Rows:  87%|███████████████████████████████████████████▋      | 873/1000 [40:29<05:38,  2.66s/it]"
     ]
    },
    {
     "name": "stdout",
     "output_type": "stream",
     "text": [
      "No valid primary label found at index 20044\n",
      "No valid secondary label found at index 20044\n"
     ]
    },
    {
     "name": "stderr",
     "output_type": "stream",
     "text": [
      "Processing Non-Neutral Rows:  88%|███████████████████████████████████████████▉      | 878/1000 [40:41<05:17,  2.60s/it]"
     ]
    },
    {
     "name": "stdout",
     "output_type": "stream",
     "text": [
      "No valid primary label found at index 20049\n",
      "No valid secondary label found at index 20049\n"
     ]
    },
    {
     "name": "stderr",
     "output_type": "stream",
     "text": [
      "Processing Non-Neutral Rows:  88%|████████████████████████████████████████████▏     | 884/1000 [40:58<05:14,  2.71s/it]"
     ]
    },
    {
     "name": "stdout",
     "output_type": "stream",
     "text": [
      "No valid primary label found at index 20055\n",
      "No valid secondary label found at index 20055\n"
     ]
    },
    {
     "name": "stderr",
     "output_type": "stream",
     "text": [
      "Processing Non-Neutral Rows:  90%|█████████████████████████████████████████████     | 900/1000 [41:47<04:54,  2.94s/it]"
     ]
    },
    {
     "name": "stdout",
     "output_type": "stream",
     "text": [
      "No valid primary label found at index 20072\n",
      "No valid secondary label found at index 20072\n"
     ]
    },
    {
     "name": "stderr",
     "output_type": "stream",
     "text": [
      "Processing Non-Neutral Rows:  92%|█████████████████████████████████████████████▊    | 916/1000 [42:31<04:06,  2.93s/it]"
     ]
    },
    {
     "name": "stdout",
     "output_type": "stream",
     "text": [
      "No valid primary label found at index 20092\n",
      "No valid secondary label found at index 20092\n"
     ]
    },
    {
     "name": "stderr",
     "output_type": "stream",
     "text": [
      "Processing Non-Neutral Rows:  92%|█████████████████████████████████████████████▉    | 918/1000 [42:37<03:52,  2.83s/it]"
     ]
    },
    {
     "name": "stdout",
     "output_type": "stream",
     "text": [
      "No valid primary label found at index 20094\n",
      "No valid secondary label found at index 20094\n"
     ]
    },
    {
     "name": "stderr",
     "output_type": "stream",
     "text": [
      "\r",
      "Processing Non-Neutral Rows:  92%|█████████████████████████████████████████████▉    | 919/1000 [42:39<03:39,  2.71s/it]"
     ]
    },
    {
     "name": "stdout",
     "output_type": "stream",
     "text": [
      "No valid primary label found at index 20095\n",
      "No valid secondary label found at index 20095\n"
     ]
    },
    {
     "name": "stderr",
     "output_type": "stream",
     "text": [
      "\r",
      "Processing Non-Neutral Rows:  92%|██████████████████████████████████████████████    | 920/1000 [42:41<03:29,  2.62s/it]"
     ]
    },
    {
     "name": "stdout",
     "output_type": "stream",
     "text": [
      "No valid primary label found at index 20096\n",
      "No valid secondary label found at index 20096\n"
     ]
    },
    {
     "name": "stderr",
     "output_type": "stream",
     "text": [
      "Processing Non-Neutral Rows:  92%|██████████████████████████████████████████████    | 922/1000 [42:46<03:16,  2.52s/it]"
     ]
    },
    {
     "name": "stdout",
     "output_type": "stream",
     "text": [
      "No valid primary label found at index 20098\n",
      "No valid secondary label found at index 20098\n"
     ]
    },
    {
     "name": "stderr",
     "output_type": "stream",
     "text": [
      "Processing Non-Neutral Rows:  92%|██████████████████████████████████████████████▏   | 924/1000 [42:51<03:09,  2.49s/it]"
     ]
    },
    {
     "name": "stdout",
     "output_type": "stream",
     "text": [
      "No valid primary label found at index 20100\n",
      "No valid secondary label found at index 20100\n"
     ]
    },
    {
     "name": "stderr",
     "output_type": "stream",
     "text": [
      "Processing Non-Neutral Rows:  93%|██████████████████████████████████████████████▍   | 928/1000 [43:03<03:13,  2.69s/it]"
     ]
    },
    {
     "name": "stdout",
     "output_type": "stream",
     "text": [
      "No valid primary label found at index 20104\n",
      "No valid secondary label found at index 20104\n"
     ]
    },
    {
     "name": "stderr",
     "output_type": "stream",
     "text": [
      "Processing Non-Neutral Rows:  93%|██████████████████████████████████████████████▌   | 931/1000 [43:11<03:11,  2.77s/it]"
     ]
    },
    {
     "name": "stdout",
     "output_type": "stream",
     "text": [
      "No valid primary label found at index 20108\n",
      "No valid secondary label found at index 20108\n"
     ]
    },
    {
     "name": "stderr",
     "output_type": "stream",
     "text": [
      "Processing Non-Neutral Rows:  93%|██████████████████████████████████████████████▋   | 933/1000 [43:16<03:05,  2.76s/it]"
     ]
    },
    {
     "name": "stdout",
     "output_type": "stream",
     "text": [
      "No valid primary label found at index 20110\n",
      "No valid secondary label found at index 20110\n"
     ]
    },
    {
     "name": "stderr",
     "output_type": "stream",
     "text": [
      "\r",
      "Processing Non-Neutral Rows:  93%|██████████████████████████████████████████████▋   | 934/1000 [43:19<02:59,  2.72s/it]"
     ]
    },
    {
     "name": "stdout",
     "output_type": "stream",
     "text": [
      "No valid primary label found at index 20111\n",
      "No valid secondary label found at index 20111\n"
     ]
    },
    {
     "name": "stderr",
     "output_type": "stream",
     "text": [
      "\r",
      "Processing Non-Neutral Rows:  94%|██████████████████████████████████████████████▊   | 935/1000 [43:22<02:57,  2.73s/it]"
     ]
    },
    {
     "name": "stdout",
     "output_type": "stream",
     "text": [
      "No valid primary label found at index 20112\n",
      "No valid secondary label found at index 20112\n"
     ]
    },
    {
     "name": "stderr",
     "output_type": "stream",
     "text": [
      "\r",
      "Processing Non-Neutral Rows:  94%|██████████████████████████████████████████████▊   | 936/1000 [43:24<02:51,  2.69s/it]"
     ]
    },
    {
     "name": "stdout",
     "output_type": "stream",
     "text": [
      "No valid primary label found at index 20113\n",
      "No valid secondary label found at index 20113\n"
     ]
    },
    {
     "name": "stderr",
     "output_type": "stream",
     "text": [
      "Processing Non-Neutral Rows:  94%|███████████████████████████████████████████████   | 942/1000 [43:47<03:18,  3.43s/it]"
     ]
    },
    {
     "name": "stdout",
     "output_type": "stream",
     "text": [
      "No valid primary label found at index 20120\n",
      "No valid secondary label found at index 20120\n"
     ]
    },
    {
     "name": "stderr",
     "output_type": "stream",
     "text": [
      "\r",
      "Processing Non-Neutral Rows:  94%|███████████████████████████████████████████████▏  | 943/1000 [43:50<02:58,  3.14s/it]"
     ]
    },
    {
     "name": "stdout",
     "output_type": "stream",
     "text": [
      "No valid primary label found at index 20121\n",
      "No valid secondary label found at index 20121\n"
     ]
    },
    {
     "name": "stderr",
     "output_type": "stream",
     "text": [
      "Processing Non-Neutral Rows:  94%|███████████████████████████████████████████████▎  | 945/1000 [43:55<02:40,  2.93s/it]"
     ]
    },
    {
     "name": "stdout",
     "output_type": "stream",
     "text": [
      "No valid primary label found at index 20123\n",
      "No valid secondary label found at index 20123\n"
     ]
    },
    {
     "name": "stderr",
     "output_type": "stream",
     "text": [
      "\r",
      "Processing Non-Neutral Rows:  95%|███████████████████████████████████████████████▎  | 946/1000 [43:58<02:44,  3.04s/it]"
     ]
    },
    {
     "name": "stdout",
     "output_type": "stream",
     "text": [
      "No valid primary label found at index 20124\n",
      "No valid secondary label found at index 20124\n"
     ]
    },
    {
     "name": "stderr",
     "output_type": "stream",
     "text": [
      "Processing Non-Neutral Rows:  96%|███████████████████████████████████████████████▉  | 958/1000 [44:32<01:51,  2.64s/it]"
     ]
    },
    {
     "name": "stdout",
     "output_type": "stream",
     "text": [
      "No valid primary label found at index 20138\n",
      "No valid secondary label found at index 20138\n"
     ]
    },
    {
     "name": "stderr",
     "output_type": "stream",
     "text": [
      "\r",
      "Processing Non-Neutral Rows:  96%|███████████████████████████████████████████████▉  | 959/1000 [44:34<01:49,  2.68s/it]"
     ]
    },
    {
     "name": "stdout",
     "output_type": "stream",
     "text": [
      "No valid primary label found at index 20139\n",
      "No valid secondary label found at index 20139\n"
     ]
    },
    {
     "name": "stderr",
     "output_type": "stream",
     "text": [
      "\r",
      "Processing Non-Neutral Rows:  96%|████████████████████████████████████████████████  | 960/1000 [44:37<01:45,  2.63s/it]"
     ]
    },
    {
     "name": "stdout",
     "output_type": "stream",
     "text": [
      "No valid primary label found at index 20140\n",
      "No valid secondary label found at index 20140\n"
     ]
    },
    {
     "name": "stderr",
     "output_type": "stream",
     "text": [
      "\r",
      "Processing Non-Neutral Rows:  96%|████████████████████████████████████████████████  | 961/1000 [44:39<01:40,  2.57s/it]"
     ]
    },
    {
     "name": "stdout",
     "output_type": "stream",
     "text": [
      "No valid primary label found at index 20141\n",
      "No valid secondary label found at index 20141\n"
     ]
    },
    {
     "name": "stderr",
     "output_type": "stream",
     "text": [
      "Processing Non-Neutral Rows:  97%|████████████████████████████████████████████████▍ | 968/1000 [45:00<01:32,  2.88s/it]"
     ]
    },
    {
     "name": "stdout",
     "output_type": "stream",
     "text": [
      "No valid primary label found at index 20148\n",
      "No valid secondary label found at index 20148\n"
     ]
    },
    {
     "name": "stderr",
     "output_type": "stream",
     "text": [
      "\r",
      "Processing Non-Neutral Rows:  97%|████████████████████████████████████████████████▍ | 969/1000 [45:02<01:26,  2.78s/it]"
     ]
    },
    {
     "name": "stdout",
     "output_type": "stream",
     "text": [
      "No valid primary label found at index 20149\n",
      "No valid secondary label found at index 20149\n"
     ]
    },
    {
     "name": "stderr",
     "output_type": "stream",
     "text": [
      "Processing Non-Neutral Rows:  97%|████████████████████████████████████████████████▌ | 971/1000 [45:08<01:21,  2.82s/it]"
     ]
    },
    {
     "name": "stdout",
     "output_type": "stream",
     "text": [
      "No valid secondary label found at index 20151\n"
     ]
    },
    {
     "name": "stderr",
     "output_type": "stream",
     "text": [
      "Processing Non-Neutral Rows:  97%|████████████████████████████████████████████████▋ | 974/1000 [45:17<01:14,  2.87s/it]"
     ]
    },
    {
     "name": "stdout",
     "output_type": "stream",
     "text": [
      "No valid primary label found at index 20154\n",
      "No valid secondary label found at index 20154\n"
     ]
    },
    {
     "name": "stderr",
     "output_type": "stream",
     "text": [
      "Processing Non-Neutral Rows:  98%|████████████████████████████████████████████████▊ | 976/1000 [45:23<01:09,  2.90s/it]"
     ]
    },
    {
     "name": "stdout",
     "output_type": "stream",
     "text": [
      "No valid primary label found at index 20157\n",
      "No valid secondary label found at index 20157\n"
     ]
    },
    {
     "name": "stderr",
     "output_type": "stream",
     "text": [
      "\r",
      "Processing Non-Neutral Rows:  98%|████████████████████████████████████████████████▊ | 977/1000 [45:26<01:04,  2.82s/it]"
     ]
    },
    {
     "name": "stdout",
     "output_type": "stream",
     "text": [
      "No valid primary label found at index 20158\n",
      "No valid secondary label found at index 20158\n"
     ]
    },
    {
     "name": "stderr",
     "output_type": "stream",
     "text": [
      "Processing Non-Neutral Rows:  98%|█████████████████████████████████████████████████ | 981/1000 [45:36<00:50,  2.67s/it]"
     ]
    },
    {
     "name": "stdout",
     "output_type": "stream",
     "text": [
      "No valid primary label found at index 20163\n",
      "No valid secondary label found at index 20163\n"
     ]
    },
    {
     "name": "stderr",
     "output_type": "stream",
     "text": [
      "\r",
      "Processing Non-Neutral Rows:  98%|█████████████████████████████████████████████████ | 982/1000 [45:39<00:48,  2.68s/it]"
     ]
    },
    {
     "name": "stdout",
     "output_type": "stream",
     "text": [
      "No valid primary label found at index 20164\n",
      "No valid secondary label found at index 20164\n"
     ]
    },
    {
     "name": "stderr",
     "output_type": "stream",
     "text": [
      "Processing Non-Neutral Rows:  99%|█████████████████████████████████████████████████▍| 989/1000 [45:58<00:30,  2.75s/it]"
     ]
    },
    {
     "name": "stdout",
     "output_type": "stream",
     "text": [
      "No valid primary label found at index 20171\n",
      "No valid secondary label found at index 20171\n"
     ]
    },
    {
     "name": "stderr",
     "output_type": "stream",
     "text": [
      "Processing Non-Neutral Rows:  99%|█████████████████████████████████████████████████▌| 991/1000 [46:02<00:23,  2.62s/it]"
     ]
    },
    {
     "name": "stdout",
     "output_type": "stream",
     "text": [
      "No valid primary label found at index 20173\n",
      "No valid secondary label found at index 20173\n"
     ]
    },
    {
     "name": "stderr",
     "output_type": "stream",
     "text": [
      "Processing Non-Neutral Rows:  99%|█████████████████████████████████████████████████▋| 993/1000 [46:08<00:18,  2.58s/it]"
     ]
    },
    {
     "name": "stdout",
     "output_type": "stream",
     "text": [
      "No valid primary label found at index 20175\n",
      "No valid secondary label found at index 20175\n"
     ]
    },
    {
     "name": "stderr",
     "output_type": "stream",
     "text": [
      "Processing Non-Neutral Rows: 100%|█████████████████████████████████████████████████▉| 998/1000 [46:22<00:06,  3.11s/it]"
     ]
    },
    {
     "name": "stdout",
     "output_type": "stream",
     "text": [
      "No valid secondary label found at index 20181\n"
     ]
    },
    {
     "name": "stderr",
     "output_type": "stream",
     "text": [
      "Processing Non-Neutral Rows: 100%|█████████████████████████████████████████████████| 1000/1000 [46:27<00:00,  2.79s/it]\n"
     ]
    }
   ],
   "source": [
    "from tqdm import tqdm\n",
    "\n",
    "for index in tqdm(non_neutral_indices[:1000], desc=\"Processing Non-Neutral Rows\"):\n",
    "    classify_and_update_labels(index)"
   ]
  },
  {
   "cell_type": "code",
   "execution_count": 21,
   "id": "38450f19",
   "metadata": {},
   "outputs": [],
   "source": [
    "df.to_csv('outputs.csv', index=False)"
   ]
  },
  {
   "cell_type": "code",
   "execution_count": 26,
   "id": "54396d6a",
   "metadata": {},
   "outputs": [],
   "source": [
    "redo_indices=failed_indices[1:]"
   ]
  },
  {
   "cell_type": "code",
   "execution_count": 32,
   "id": "9cf59a7f",
   "metadata": {},
   "outputs": [],
   "source": [
    "import pickle\n",
    "with open('redo.pkl', 'wb') as f:\n",
    "    pickle.dump(redo_indices, f)"
   ]
  },
  {
   "cell_type": "code",
   "execution_count": 34,
   "id": "feca843a",
   "metadata": {},
   "outputs": [],
   "source": [
    "failed_indices=redo_indices"
   ]
  },
  {
   "cell_type": "code",
   "execution_count": 36,
   "id": "5d661e07",
   "metadata": {},
   "outputs": [
    {
     "name": "stderr",
     "output_type": "stream",
     "text": [
      "Processing Non-Neutral Rows:   0%|                                                    | 1/1000 [00:03<59:15,  3.56s/it]"
     ]
    },
    {
     "name": "stdout",
     "output_type": "stream",
     "text": [
      "No valid secondary label found at index 20184\n"
     ]
    },
    {
     "name": "stderr",
     "output_type": "stream",
     "text": [
      "\r",
      "Processing Non-Neutral Rows:   0%|                                                    | 2/1000 [00:06<49:30,  2.98s/it]"
     ]
    },
    {
     "name": "stdout",
     "output_type": "stream",
     "text": [
      "No valid primary label found at index 20185\n",
      "No valid secondary label found at index 20185\n"
     ]
    },
    {
     "name": "stderr",
     "output_type": "stream",
     "text": [
      "Processing Non-Neutral Rows:   1%|▋                                                  | 14/1000 [00:36<44:06,  2.68s/it]"
     ]
    },
    {
     "name": "stdout",
     "output_type": "stream",
     "text": [
      "No valid primary label found at index 20197\n",
      "No valid secondary label found at index 20197\n"
     ]
    },
    {
     "name": "stderr",
     "output_type": "stream",
     "text": [
      "Processing Non-Neutral Rows:   2%|█▎                                                 | 25/1000 [01:05<46:46,  2.88s/it]"
     ]
    },
    {
     "name": "stdout",
     "output_type": "stream",
     "text": [
      "No valid secondary label found at index 20208\n"
     ]
    },
    {
     "name": "stderr",
     "output_type": "stream",
     "text": [
      "\r",
      "Processing Non-Neutral Rows:   3%|█▎                                                 | 26/1000 [01:09<52:44,  3.25s/it]"
     ]
    },
    {
     "name": "stdout",
     "output_type": "stream",
     "text": [
      "No valid secondary label found at index 20209\n"
     ]
    },
    {
     "name": "stderr",
     "output_type": "stream",
     "text": [
      "Processing Non-Neutral Rows:   3%|█▌                                                 | 31/1000 [01:25<49:50,  3.09s/it]"
     ]
    },
    {
     "name": "stdout",
     "output_type": "stream",
     "text": [
      "No valid secondary label found at index 20214\n"
     ]
    },
    {
     "name": "stderr",
     "output_type": "stream",
     "text": [
      "Processing Non-Neutral Rows:   3%|█▋                                                 | 33/1000 [01:31<49:28,  3.07s/it]"
     ]
    },
    {
     "name": "stdout",
     "output_type": "stream",
     "text": [
      "No valid secondary label found at index 20216\n"
     ]
    },
    {
     "name": "stderr",
     "output_type": "stream",
     "text": [
      "Processing Non-Neutral Rows:   4%|█▊                                                 | 36/1000 [01:38<42:58,  2.67s/it]"
     ]
    },
    {
     "name": "stdout",
     "output_type": "stream",
     "text": [
      "No valid primary label found at index 20219\n",
      "No valid secondary label found at index 20219\n"
     ]
    },
    {
     "name": "stderr",
     "output_type": "stream",
     "text": [
      "Processing Non-Neutral Rows:   4%|██▏                                                | 44/1000 [01:59<41:51,  2.63s/it]"
     ]
    },
    {
     "name": "stdout",
     "output_type": "stream",
     "text": [
      "No valid primary label found at index 20227\n",
      "No valid secondary label found at index 20227\n"
     ]
    },
    {
     "name": "stderr",
     "output_type": "stream",
     "text": [
      "Processing Non-Neutral Rows:   6%|███▎                                               | 65/1000 [02:58<43:39,  2.80s/it]"
     ]
    },
    {
     "name": "stdout",
     "output_type": "stream",
     "text": [
      "No valid primary label found at index 20249\n",
      "No valid secondary label found at index 20249\n"
     ]
    },
    {
     "name": "stderr",
     "output_type": "stream",
     "text": [
      "\r",
      "Processing Non-Neutral Rows:   7%|███▎                                               | 66/1000 [03:01<42:04,  2.70s/it]"
     ]
    },
    {
     "name": "stdout",
     "output_type": "stream",
     "text": [
      "No valid primary label found at index 20250\n",
      "No valid secondary label found at index 20250\n"
     ]
    },
    {
     "name": "stderr",
     "output_type": "stream",
     "text": [
      "\r",
      "Processing Non-Neutral Rows:   7%|███▍                                               | 67/1000 [03:03<41:43,  2.68s/it]"
     ]
    },
    {
     "name": "stdout",
     "output_type": "stream",
     "text": [
      "No valid primary label found at index 20251\n",
      "No valid secondary label found at index 20251\n"
     ]
    },
    {
     "name": "stderr",
     "output_type": "stream",
     "text": [
      "Processing Non-Neutral Rows:   7%|███▌                                               | 71/1000 [03:14<41:56,  2.71s/it]"
     ]
    },
    {
     "name": "stdout",
     "output_type": "stream",
     "text": [
      "No valid secondary label found at index 20256\n"
     ]
    },
    {
     "name": "stderr",
     "output_type": "stream",
     "text": [
      "Processing Non-Neutral Rows:   8%|████                                               | 80/1000 [03:38<40:30,  2.64s/it]"
     ]
    },
    {
     "name": "stdout",
     "output_type": "stream",
     "text": [
      "No valid primary label found at index 20265\n",
      "No valid secondary label found at index 20265\n"
     ]
    },
    {
     "name": "stderr",
     "output_type": "stream",
     "text": [
      "Processing Non-Neutral Rows:  10%|████▊                                              | 95/1000 [04:19<39:51,  2.64s/it]"
     ]
    },
    {
     "name": "stdout",
     "output_type": "stream",
     "text": [
      "No valid primary label found at index 20280\n",
      "No valid secondary label found at index 20280\n"
     ]
    },
    {
     "name": "stderr",
     "output_type": "stream",
     "text": [
      "Processing Non-Neutral Rows:  10%|█████▏                                            | 104/1000 [04:42<36:59,  2.48s/it]"
     ]
    },
    {
     "name": "stdout",
     "output_type": "stream",
     "text": [
      "No valid primary label found at index 20289\n",
      "No valid secondary label found at index 20289\n"
     ]
    },
    {
     "name": "stderr",
     "output_type": "stream",
     "text": [
      "\r",
      "Processing Non-Neutral Rows:  10%|█████▎                                            | 105/1000 [04:44<37:05,  2.49s/it]"
     ]
    },
    {
     "name": "stdout",
     "output_type": "stream",
     "text": [
      "No valid primary label found at index 20290\n",
      "No valid secondary label found at index 20290\n"
     ]
    },
    {
     "name": "stderr",
     "output_type": "stream",
     "text": [
      "Processing Non-Neutral Rows:  11%|█████▎                                            | 107/1000 [04:49<38:00,  2.55s/it]"
     ]
    },
    {
     "name": "stdout",
     "output_type": "stream",
     "text": [
      "No valid primary label found at index 20292\n",
      "No valid secondary label found at index 20292\n"
     ]
    },
    {
     "name": "stderr",
     "output_type": "stream",
     "text": [
      "Processing Non-Neutral Rows:  11%|█████▋                                            | 114/1000 [05:09<38:52,  2.63s/it]"
     ]
    },
    {
     "name": "stdout",
     "output_type": "stream",
     "text": [
      "No valid primary label found at index 20299\n",
      "No valid secondary label found at index 20299\n"
     ]
    },
    {
     "name": "stderr",
     "output_type": "stream",
     "text": [
      "Processing Non-Neutral Rows:  12%|█████▊                                            | 116/1000 [05:14<38:08,  2.59s/it]"
     ]
    },
    {
     "name": "stdout",
     "output_type": "stream",
     "text": [
      "No valid primary label found at index 20301\n",
      "No valid secondary label found at index 20301\n"
     ]
    },
    {
     "name": "stderr",
     "output_type": "stream",
     "text": [
      "Processing Non-Neutral Rows:  12%|██████                                            | 121/1000 [05:28<42:07,  2.88s/it]"
     ]
    },
    {
     "name": "stdout",
     "output_type": "stream",
     "text": [
      "No valid primary label found at index 20306\n",
      "No valid secondary label found at index 20306\n"
     ]
    },
    {
     "name": "stderr",
     "output_type": "stream",
     "text": [
      "\r",
      "Processing Non-Neutral Rows:  12%|██████                                            | 122/1000 [05:31<41:36,  2.84s/it]"
     ]
    },
    {
     "name": "stdout",
     "output_type": "stream",
     "text": [
      "No valid secondary label found at index 20308\n"
     ]
    },
    {
     "name": "stderr",
     "output_type": "stream",
     "text": [
      "Processing Non-Neutral Rows:  13%|██████▎                                           | 127/1000 [05:45<41:12,  2.83s/it]"
     ]
    },
    {
     "name": "stdout",
     "output_type": "stream",
     "text": [
      "No valid primary label found at index 20313\n",
      "No valid secondary label found at index 20313\n"
     ]
    },
    {
     "name": "stderr",
     "output_type": "stream",
     "text": [
      "\r",
      "Processing Non-Neutral Rows:  13%|██████▍                                           | 128/1000 [05:48<41:57,  2.89s/it]"
     ]
    },
    {
     "name": "stdout",
     "output_type": "stream",
     "text": [
      "No valid primary label found at index 20314\n",
      "No valid secondary label found at index 20314\n"
     ]
    },
    {
     "name": "stderr",
     "output_type": "stream",
     "text": [
      "\r",
      "Processing Non-Neutral Rows:  13%|██████▍                                           | 129/1000 [05:51<40:55,  2.82s/it]"
     ]
    },
    {
     "name": "stdout",
     "output_type": "stream",
     "text": [
      "No valid primary label found at index 20315\n",
      "No valid secondary label found at index 20315\n"
     ]
    },
    {
     "name": "stderr",
     "output_type": "stream",
     "text": [
      "\r",
      "Processing Non-Neutral Rows:  13%|██████▌                                           | 130/1000 [05:54<41:16,  2.85s/it]"
     ]
    },
    {
     "name": "stdout",
     "output_type": "stream",
     "text": [
      "No valid secondary label found at index 20316\n"
     ]
    },
    {
     "name": "stderr",
     "output_type": "stream",
     "text": [
      "Processing Non-Neutral Rows:  14%|██████▉                                           | 138/1000 [06:16<39:34,  2.75s/it]"
     ]
    },
    {
     "name": "stdout",
     "output_type": "stream",
     "text": [
      "No valid primary label found at index 20324\n",
      "No valid secondary label found at index 20324\n"
     ]
    },
    {
     "name": "stderr",
     "output_type": "stream",
     "text": [
      "Processing Non-Neutral Rows:  14%|███████                                           | 140/1000 [06:21<37:31,  2.62s/it]"
     ]
    },
    {
     "name": "stdout",
     "output_type": "stream",
     "text": [
      "No valid primary label found at index 20326\n",
      "No valid secondary label found at index 20326\n"
     ]
    },
    {
     "name": "stderr",
     "output_type": "stream",
     "text": [
      "Processing Non-Neutral Rows:  15%|███████▌                                          | 152/1000 [06:56<40:34,  2.87s/it]"
     ]
    },
    {
     "name": "stdout",
     "output_type": "stream",
     "text": [
      "No valid primary label found at index 20340\n",
      "No valid secondary label found at index 20340\n"
     ]
    },
    {
     "name": "stderr",
     "output_type": "stream",
     "text": [
      "\r",
      "Processing Non-Neutral Rows:  15%|███████▋                                          | 153/1000 [06:59<39:18,  2.78s/it]"
     ]
    },
    {
     "name": "stdout",
     "output_type": "stream",
     "text": [
      "No valid primary label found at index 20341\n",
      "No valid secondary label found at index 20341\n"
     ]
    },
    {
     "name": "stderr",
     "output_type": "stream",
     "text": [
      "Processing Non-Neutral Rows:  16%|████████▎                                         | 165/1000 [07:30<35:57,  2.58s/it]"
     ]
    },
    {
     "name": "stdout",
     "output_type": "stream",
     "text": [
      "No valid primary label found at index 20353\n",
      "No valid secondary label found at index 20353\n"
     ]
    },
    {
     "name": "stderr",
     "output_type": "stream",
     "text": [
      "\r",
      "Processing Non-Neutral Rows:  17%|████████▎                                         | 166/1000 [07:32<36:06,  2.60s/it]"
     ]
    },
    {
     "name": "stdout",
     "output_type": "stream",
     "text": [
      "No valid primary label found at index 20354\n",
      "No valid secondary label found at index 20354\n"
     ]
    },
    {
     "name": "stderr",
     "output_type": "stream",
     "text": [
      "\r",
      "Processing Non-Neutral Rows:  17%|████████▎                                         | 167/1000 [07:36<38:38,  2.78s/it]"
     ]
    },
    {
     "name": "stdout",
     "output_type": "stream",
     "text": [
      "No valid secondary label found at index 20355\n"
     ]
    },
    {
     "name": "stderr",
     "output_type": "stream",
     "text": [
      "Processing Non-Neutral Rows:  17%|████████▍                                         | 169/1000 [07:40<35:50,  2.59s/it]"
     ]
    },
    {
     "name": "stdout",
     "output_type": "stream",
     "text": [
      "No valid primary label found at index 20357\n",
      "No valid secondary label found at index 20357\n"
     ]
    },
    {
     "name": "stderr",
     "output_type": "stream",
     "text": [
      "Processing Non-Neutral Rows:  17%|████████▋                                         | 174/1000 [07:54<39:09,  2.84s/it]"
     ]
    },
    {
     "name": "stdout",
     "output_type": "stream",
     "text": [
      "No valid primary label found at index 20363\n",
      "No valid secondary label found at index 20363\n"
     ]
    },
    {
     "name": "stderr",
     "output_type": "stream",
     "text": [
      "\r",
      "Processing Non-Neutral Rows:  18%|████████▊                                         | 175/1000 [07:57<38:19,  2.79s/it]"
     ]
    },
    {
     "name": "stdout",
     "output_type": "stream",
     "text": [
      "No valid primary label found at index 20364\n",
      "No valid secondary label found at index 20364\n"
     ]
    },
    {
     "name": "stderr",
     "output_type": "stream",
     "text": [
      "Processing Non-Neutral Rows:  19%|█████████▎                                        | 186/1000 [08:30<39:03,  2.88s/it]"
     ]
    },
    {
     "name": "stdout",
     "output_type": "stream",
     "text": [
      "No valid primary label found at index 20379\n",
      "No valid secondary label found at index 20379\n"
     ]
    },
    {
     "name": "stderr",
     "output_type": "stream",
     "text": [
      "\r",
      "Processing Non-Neutral Rows:  19%|█████████▎                                        | 187/1000 [08:32<37:38,  2.78s/it]"
     ]
    },
    {
     "name": "stdout",
     "output_type": "stream",
     "text": [
      "No valid primary label found at index 20380\n",
      "No valid secondary label found at index 20380\n"
     ]
    },
    {
     "name": "stderr",
     "output_type": "stream",
     "text": [
      "Processing Non-Neutral Rows:  20%|█████████▉                                        | 198/1000 [09:05<41:57,  3.14s/it]"
     ]
    },
    {
     "name": "stdout",
     "output_type": "stream",
     "text": [
      "No valid secondary label found at index 20391\n"
     ]
    },
    {
     "name": "stderr",
     "output_type": "stream",
     "text": [
      "Processing Non-Neutral Rows:  20%|██████████                                        | 200/1000 [09:11<39:40,  2.98s/it]"
     ]
    },
    {
     "name": "stdout",
     "output_type": "stream",
     "text": [
      "No valid primary label found at index 20393\n",
      "No valid secondary label found at index 20393\n"
     ]
    },
    {
     "name": "stderr",
     "output_type": "stream",
     "text": [
      "\r",
      "Processing Non-Neutral Rows:  20%|██████████                                        | 201/1000 [09:13<37:25,  2.81s/it]"
     ]
    },
    {
     "name": "stdout",
     "output_type": "stream",
     "text": [
      "No valid primary label found at index 20394\n",
      "No valid secondary label found at index 20394\n"
     ]
    },
    {
     "name": "stderr",
     "output_type": "stream",
     "text": [
      "\r",
      "Processing Non-Neutral Rows:  20%|██████████                                        | 202/1000 [09:16<36:29,  2.74s/it]"
     ]
    },
    {
     "name": "stdout",
     "output_type": "stream",
     "text": [
      "No valid primary label found at index 20395\n",
      "No valid secondary label found at index 20395\n"
     ]
    },
    {
     "name": "stderr",
     "output_type": "stream",
     "text": [
      "\r",
      "Processing Non-Neutral Rows:  20%|██████████▏                                       | 203/1000 [09:18<35:36,  2.68s/it]"
     ]
    },
    {
     "name": "stdout",
     "output_type": "stream",
     "text": [
      "No valid primary label found at index 20396\n",
      "No valid secondary label found at index 20396\n"
     ]
    },
    {
     "name": "stderr",
     "output_type": "stream",
     "text": [
      "\r",
      "Processing Non-Neutral Rows:  20%|██████████▏                                       | 204/1000 [09:22<37:59,  2.86s/it]"
     ]
    },
    {
     "name": "stdout",
     "output_type": "stream",
     "text": [
      "No valid primary label found at index 20397\n",
      "No valid secondary label found at index 20397\n"
     ]
    },
    {
     "name": "stderr",
     "output_type": "stream",
     "text": [
      "Processing Non-Neutral Rows:  21%|██████████▎                                       | 206/1000 [09:27<36:51,  2.78s/it]"
     ]
    },
    {
     "name": "stdout",
     "output_type": "stream",
     "text": [
      "No valid primary label found at index 20399\n",
      "No valid secondary label found at index 20399\n"
     ]
    },
    {
     "name": "stderr",
     "output_type": "stream",
     "text": [
      "Processing Non-Neutral Rows:  21%|██████████▋                                       | 213/1000 [09:47<36:33,  2.79s/it]"
     ]
    },
    {
     "name": "stdout",
     "output_type": "stream",
     "text": [
      "No valid primary label found at index 20406\n",
      "No valid secondary label found at index 20406\n"
     ]
    },
    {
     "name": "stderr",
     "output_type": "stream",
     "text": [
      "Processing Non-Neutral Rows:  22%|██████████▊                                       | 217/1000 [09:59<36:18,  2.78s/it]"
     ]
    },
    {
     "name": "stdout",
     "output_type": "stream",
     "text": [
      "No valid primary label found at index 20410\n",
      "No valid secondary label found at index 20410\n"
     ]
    },
    {
     "name": "stderr",
     "output_type": "stream",
     "text": [
      "Processing Non-Neutral Rows:  22%|███████████                                       | 221/1000 [10:12<41:06,  3.17s/it]"
     ]
    },
    {
     "name": "stdout",
     "output_type": "stream",
     "text": [
      "No valid secondary label found at index 20415\n"
     ]
    },
    {
     "name": "stderr",
     "output_type": "stream",
     "text": [
      "\r",
      "Processing Non-Neutral Rows:  22%|███████████                                       | 222/1000 [10:14<39:18,  3.03s/it]"
     ]
    },
    {
     "name": "stdout",
     "output_type": "stream",
     "text": [
      "No valid secondary label found at index 20416\n"
     ]
    },
    {
     "name": "stderr",
     "output_type": "stream",
     "text": [
      "Processing Non-Neutral Rows:  22%|███████████▏                                      | 224/1000 [10:21<39:41,  3.07s/it]"
     ]
    },
    {
     "name": "stdout",
     "output_type": "stream",
     "text": [
      "No valid secondary label found at index 20418\n"
     ]
    },
    {
     "name": "stderr",
     "output_type": "stream",
     "text": [
      "\r",
      "Processing Non-Neutral Rows:  22%|███████████▎                                      | 225/1000 [10:24<39:01,  3.02s/it]"
     ]
    },
    {
     "name": "stdout",
     "output_type": "stream",
     "text": [
      "No valid primary label found at index 20419\n",
      "No valid secondary label found at index 20419\n"
     ]
    },
    {
     "name": "stderr",
     "output_type": "stream",
     "text": [
      "Processing Non-Neutral Rows:  23%|███████████▎                                      | 227/1000 [10:30<38:59,  3.03s/it]"
     ]
    },
    {
     "name": "stdout",
     "output_type": "stream",
     "text": [
      "No valid primary label found at index 20421\n",
      "No valid secondary label found at index 20421\n"
     ]
    },
    {
     "name": "stderr",
     "output_type": "stream",
     "text": [
      "\r",
      "Processing Non-Neutral Rows:  23%|███████████▍                                      | 228/1000 [10:34<44:34,  3.46s/it]"
     ]
    },
    {
     "name": "stdout",
     "output_type": "stream",
     "text": [
      "No valid primary label found at index 20422\n",
      "No valid secondary label found at index 20422\n"
     ]
    },
    {
     "name": "stderr",
     "output_type": "stream",
     "text": [
      "Processing Non-Neutral Rows:  23%|███████████▌                                      | 231/1000 [10:45<45:39,  3.56s/it]"
     ]
    },
    {
     "name": "stdout",
     "output_type": "stream",
     "text": [
      "No valid secondary label found at index 20425\n"
     ]
    },
    {
     "name": "stderr",
     "output_type": "stream",
     "text": [
      "\r",
      "Processing Non-Neutral Rows:  23%|███████████▌                                      | 232/1000 [10:47<42:19,  3.31s/it]"
     ]
    },
    {
     "name": "stdout",
     "output_type": "stream",
     "text": [
      "No valid secondary label found at index 20426\n"
     ]
    },
    {
     "name": "stderr",
     "output_type": "stream",
     "text": [
      "Processing Non-Neutral Rows:  24%|████████████▏                                     | 244/1000 [11:19<33:44,  2.68s/it]"
     ]
    },
    {
     "name": "stdout",
     "output_type": "stream",
     "text": [
      "No valid primary label found at index 20440\n",
      "No valid secondary label found at index 20440\n"
     ]
    },
    {
     "name": "stderr",
     "output_type": "stream",
     "text": [
      "Processing Non-Neutral Rows:  25%|████████████▎                                     | 246/1000 [11:24<32:57,  2.62s/it]"
     ]
    },
    {
     "name": "stdout",
     "output_type": "stream",
     "text": [
      "No valid primary label found at index 20442\n",
      "No valid secondary label found at index 20442\n"
     ]
    },
    {
     "name": "stderr",
     "output_type": "stream",
     "text": [
      "Processing Non-Neutral Rows:  25%|████████████▍                                     | 249/1000 [11:32<32:52,  2.63s/it]"
     ]
    },
    {
     "name": "stdout",
     "output_type": "stream",
     "text": [
      "No valid primary label found at index 20445\n",
      "No valid secondary label found at index 20445\n"
     ]
    },
    {
     "name": "stderr",
     "output_type": "stream",
     "text": [
      "\r",
      "Processing Non-Neutral Rows:  25%|████████████▌                                     | 250/1000 [11:34<32:52,  2.63s/it]"
     ]
    },
    {
     "name": "stdout",
     "output_type": "stream",
     "text": [
      "No valid primary label found at index 20446\n",
      "No valid secondary label found at index 20446\n"
     ]
    },
    {
     "name": "stderr",
     "output_type": "stream",
     "text": [
      "Processing Non-Neutral Rows:  25%|████████████▋                                     | 253/1000 [11:43<35:47,  2.87s/it]"
     ]
    },
    {
     "name": "stdout",
     "output_type": "stream",
     "text": [
      "No valid primary label found at index 20449\n",
      "No valid secondary label found at index 20449\n"
     ]
    },
    {
     "name": "stderr",
     "output_type": "stream",
     "text": [
      "\r",
      "Processing Non-Neutral Rows:  25%|████████████▋                                     | 254/1000 [11:46<36:07,  2.91s/it]"
     ]
    },
    {
     "name": "stdout",
     "output_type": "stream",
     "text": [
      "No valid primary label found at index 20450\n",
      "No valid secondary label found at index 20450\n"
     ]
    },
    {
     "name": "stderr",
     "output_type": "stream",
     "text": [
      "Processing Non-Neutral Rows:  26%|████████████▉                                     | 259/1000 [12:02<35:03,  2.84s/it]"
     ]
    },
    {
     "name": "stdout",
     "output_type": "stream",
     "text": [
      "No valid primary label found at index 20455\n",
      "No valid secondary label found at index 20455\n"
     ]
    },
    {
     "name": "stderr",
     "output_type": "stream",
     "text": [
      "Processing Non-Neutral Rows:  27%|█████████████▌                                    | 270/1000 [12:35<38:09,  3.14s/it]"
     ]
    },
    {
     "name": "stdout",
     "output_type": "stream",
     "text": [
      "No valid primary label found at index 20470\n",
      "No valid secondary label found at index 20470\n"
     ]
    },
    {
     "name": "stderr",
     "output_type": "stream",
     "text": [
      "Processing Non-Neutral Rows:  28%|██████████████                                    | 280/1000 [13:02<31:38,  2.64s/it]"
     ]
    },
    {
     "name": "stdout",
     "output_type": "stream",
     "text": [
      "No valid primary label found at index 20480\n",
      "No valid secondary label found at index 20480\n"
     ]
    },
    {
     "name": "stderr",
     "output_type": "stream",
     "text": [
      "Processing Non-Neutral Rows:  30%|███████████████▎                                  | 305/1000 [14:13<30:55,  2.67s/it]"
     ]
    },
    {
     "name": "stdout",
     "output_type": "stream",
     "text": [
      "No valid primary label found at index 20508\n",
      "No valid secondary label found at index 20508\n"
     ]
    },
    {
     "name": "stderr",
     "output_type": "stream",
     "text": [
      "\r",
      "Processing Non-Neutral Rows:  31%|███████████████▎                                  | 306/1000 [14:16<32:51,  2.84s/it]"
     ]
    },
    {
     "name": "stdout",
     "output_type": "stream",
     "text": [
      "No valid primary label found at index 20509\n",
      "No valid secondary label found at index 20509\n"
     ]
    },
    {
     "name": "stderr",
     "output_type": "stream",
     "text": [
      "Processing Non-Neutral Rows:  32%|███████████████▊                                  | 316/1000 [14:45<34:40,  3.04s/it]"
     ]
    },
    {
     "name": "stdout",
     "output_type": "stream",
     "text": [
      "No valid primary label found at index 20521\n",
      "No valid secondary label found at index 20521\n"
     ]
    },
    {
     "name": "stderr",
     "output_type": "stream",
     "text": [
      "Processing Non-Neutral Rows:  32%|███████████████▉                                  | 318/1000 [14:51<34:16,  3.02s/it]"
     ]
    },
    {
     "name": "stdout",
     "output_type": "stream",
     "text": [
      "No valid primary label found at index 20523\n",
      "No valid secondary label found at index 20523\n"
     ]
    },
    {
     "name": "stderr",
     "output_type": "stream",
     "text": [
      "\r",
      "Processing Non-Neutral Rows:  32%|███████████████▉                                  | 319/1000 [14:53<32:55,  2.90s/it]"
     ]
    },
    {
     "name": "stdout",
     "output_type": "stream",
     "text": [
      "No valid primary label found at index 20524\n",
      "No valid secondary label found at index 20524\n"
     ]
    },
    {
     "name": "stderr",
     "output_type": "stream",
     "text": [
      "Processing Non-Neutral Rows:  33%|████████████████▍                                 | 328/1000 [15:20<29:35,  2.64s/it]"
     ]
    },
    {
     "name": "stdout",
     "output_type": "stream",
     "text": [
      "No valid primary label found at index 20533\n",
      "No valid secondary label found at index 20533\n"
     ]
    },
    {
     "name": "stderr",
     "output_type": "stream",
     "text": [
      "Processing Non-Neutral Rows:  34%|████████████████▊                                 | 335/1000 [15:41<32:58,  2.98s/it]"
     ]
    },
    {
     "name": "stdout",
     "output_type": "stream",
     "text": [
      "No valid primary label found at index 20540\n",
      "No valid secondary label found at index 20540\n"
     ]
    },
    {
     "name": "stderr",
     "output_type": "stream",
     "text": [
      "Processing Non-Neutral Rows:  34%|████████████████▉                                 | 339/1000 [15:53<31:04,  2.82s/it]"
     ]
    },
    {
     "name": "stdout",
     "output_type": "stream",
     "text": [
      "No valid primary label found at index 20544\n",
      "No valid secondary label found at index 20544\n"
     ]
    },
    {
     "name": "stderr",
     "output_type": "stream",
     "text": [
      "\r",
      "Processing Non-Neutral Rows:  34%|█████████████████                                 | 340/1000 [15:55<30:21,  2.76s/it]"
     ]
    },
    {
     "name": "stdout",
     "output_type": "stream",
     "text": [
      "No valid primary label found at index 20545\n",
      "No valid secondary label found at index 20545\n"
     ]
    },
    {
     "name": "stderr",
     "output_type": "stream",
     "text": [
      "\r",
      "Processing Non-Neutral Rows:  34%|█████████████████                                 | 341/1000 [15:58<30:42,  2.80s/it]"
     ]
    },
    {
     "name": "stdout",
     "output_type": "stream",
     "text": [
      "No valid primary label found at index 20546\n",
      "No valid secondary label found at index 20546\n"
     ]
    },
    {
     "name": "stderr",
     "output_type": "stream",
     "text": [
      "\r",
      "Processing Non-Neutral Rows:  34%|█████████████████                                 | 342/1000 [16:01<31:05,  2.83s/it]"
     ]
    },
    {
     "name": "stdout",
     "output_type": "stream",
     "text": [
      "No valid secondary label found at index 20547\n"
     ]
    },
    {
     "name": "stderr",
     "output_type": "stream",
     "text": [
      "Processing Non-Neutral Rows:  34%|█████████████████▎                                | 345/1000 [16:09<29:28,  2.70s/it]"
     ]
    },
    {
     "name": "stdout",
     "output_type": "stream",
     "text": [
      "No valid primary label found at index 20550\n",
      "No valid secondary label found at index 20550\n"
     ]
    },
    {
     "name": "stderr",
     "output_type": "stream",
     "text": [
      "\r",
      "Processing Non-Neutral Rows:  35%|█████████████████▎                                | 346/1000 [16:12<29:00,  2.66s/it]"
     ]
    },
    {
     "name": "stdout",
     "output_type": "stream",
     "text": [
      "No valid primary label found at index 20551\n",
      "No valid secondary label found at index 20551\n"
     ]
    },
    {
     "name": "stderr",
     "output_type": "stream",
     "text": [
      "Processing Non-Neutral Rows:  35%|█████████████████▋                                | 353/1000 [16:33<34:56,  3.24s/it]"
     ]
    },
    {
     "name": "stdout",
     "output_type": "stream",
     "text": [
      "No valid secondary label found at index 20558\n"
     ]
    },
    {
     "name": "stderr",
     "output_type": "stream",
     "text": [
      "Processing Non-Neutral Rows:  36%|█████████████████▊                                | 355/1000 [16:38<31:50,  2.96s/it]"
     ]
    },
    {
     "name": "stdout",
     "output_type": "stream",
     "text": [
      "No valid primary label found at index 20560\n",
      "No valid secondary label found at index 20560\n"
     ]
    },
    {
     "name": "stderr",
     "output_type": "stream",
     "text": [
      "Processing Non-Neutral Rows:  36%|██████████████████                                | 362/1000 [16:57<30:04,  2.83s/it]"
     ]
    },
    {
     "name": "stdout",
     "output_type": "stream",
     "text": [
      "No valid primary label found at index 20569\n",
      "No valid secondary label found at index 20569\n"
     ]
    },
    {
     "name": "stderr",
     "output_type": "stream",
     "text": [
      "\r",
      "Processing Non-Neutral Rows:  36%|██████████████████▏                               | 363/1000 [17:00<29:36,  2.79s/it]"
     ]
    },
    {
     "name": "stdout",
     "output_type": "stream",
     "text": [
      "No valid primary label found at index 20570\n",
      "No valid secondary label found at index 20570\n"
     ]
    },
    {
     "name": "stderr",
     "output_type": "stream",
     "text": [
      "Processing Non-Neutral Rows:  37%|██████████████████▎                               | 367/1000 [17:11<29:09,  2.76s/it]"
     ]
    },
    {
     "name": "stdout",
     "output_type": "stream",
     "text": [
      "No valid secondary label found at index 20574\n"
     ]
    },
    {
     "name": "stderr",
     "output_type": "stream",
     "text": [
      "Processing Non-Neutral Rows:  37%|██████████████████▋                               | 373/1000 [17:28<28:44,  2.75s/it]"
     ]
    },
    {
     "name": "stdout",
     "output_type": "stream",
     "text": [
      "No valid primary label found at index 20580\n",
      "No valid secondary label found at index 20580\n"
     ]
    },
    {
     "name": "stderr",
     "output_type": "stream",
     "text": [
      "Processing Non-Neutral Rows:  38%|██████████████████▊                               | 376/1000 [17:36<27:58,  2.69s/it]"
     ]
    },
    {
     "name": "stdout",
     "output_type": "stream",
     "text": [
      "No valid primary label found at index 20583\n",
      "No valid secondary label found at index 20583\n"
     ]
    },
    {
     "name": "stderr",
     "output_type": "stream",
     "text": [
      "Processing Non-Neutral Rows:  38%|███████████████████▏                              | 383/1000 [17:55<27:53,  2.71s/it]"
     ]
    },
    {
     "name": "stdout",
     "output_type": "stream",
     "text": [
      "No valid primary label found at index 20590\n",
      "No valid secondary label found at index 20590\n"
     ]
    },
    {
     "name": "stderr",
     "output_type": "stream",
     "text": [
      "\r",
      "Processing Non-Neutral Rows:  38%|███████████████████▏                              | 384/1000 [17:57<27:33,  2.68s/it]"
     ]
    },
    {
     "name": "stdout",
     "output_type": "stream",
     "text": [
      "No valid primary label found at index 20591\n",
      "No valid secondary label found at index 20591\n"
     ]
    },
    {
     "name": "stderr",
     "output_type": "stream",
     "text": [
      "\r",
      "Processing Non-Neutral Rows:  38%|███████████████████▎                              | 385/1000 [18:00<27:46,  2.71s/it]"
     ]
    },
    {
     "name": "stdout",
     "output_type": "stream",
     "text": [
      "No valid primary label found at index 20592\n",
      "No valid secondary label found at index 20592\n"
     ]
    },
    {
     "name": "stderr",
     "output_type": "stream",
     "text": [
      "Processing Non-Neutral Rows:  39%|███████████████████▍                              | 389/1000 [18:10<26:21,  2.59s/it]"
     ]
    },
    {
     "name": "stdout",
     "output_type": "stream",
     "text": [
      "No valid primary label found at index 20596\n",
      "No valid secondary label found at index 20596\n"
     ]
    },
    {
     "name": "stderr",
     "output_type": "stream",
     "text": [
      "\r",
      "Processing Non-Neutral Rows:  39%|███████████████████▌                              | 390/1000 [18:13<26:31,  2.61s/it]"
     ]
    },
    {
     "name": "stdout",
     "output_type": "stream",
     "text": [
      "No valid primary label found at index 20597\n",
      "No valid secondary label found at index 20597\n"
     ]
    },
    {
     "name": "stderr",
     "output_type": "stream",
     "text": [
      "Processing Non-Neutral Rows:  39%|███████████████████▌                              | 392/1000 [18:19<28:23,  2.80s/it]"
     ]
    },
    {
     "name": "stdout",
     "output_type": "stream",
     "text": [
      "No valid primary label found at index 20599\n",
      "No valid secondary label found at index 20599\n"
     ]
    },
    {
     "name": "stderr",
     "output_type": "stream",
     "text": [
      "\r",
      "Processing Non-Neutral Rows:  39%|███████████████████▋                              | 393/1000 [18:22<27:57,  2.76s/it]"
     ]
    },
    {
     "name": "stdout",
     "output_type": "stream",
     "text": [
      "No valid primary label found at index 20600\n",
      "No valid secondary label found at index 20600\n"
     ]
    },
    {
     "name": "stderr",
     "output_type": "stream",
     "text": [
      "Processing Non-Neutral Rows:  40%|███████████████████▊                              | 395/1000 [18:27<27:59,  2.78s/it]"
     ]
    },
    {
     "name": "stdout",
     "output_type": "stream",
     "text": [
      "No valid primary label found at index 20602\n",
      "No valid secondary label found at index 20602\n"
     ]
    },
    {
     "name": "stderr",
     "output_type": "stream",
     "text": [
      "\r",
      "Processing Non-Neutral Rows:  40%|███████████████████▊                              | 396/1000 [18:30<27:17,  2.71s/it]"
     ]
    },
    {
     "name": "stdout",
     "output_type": "stream",
     "text": [
      "No valid primary label found at index 20603\n",
      "No valid secondary label found at index 20603\n"
     ]
    },
    {
     "name": "stderr",
     "output_type": "stream",
     "text": [
      "Processing Non-Neutral Rows:  40%|███████████████████▉                              | 399/1000 [18:39<28:31,  2.85s/it]"
     ]
    },
    {
     "name": "stdout",
     "output_type": "stream",
     "text": [
      "No valid primary label found at index 20606\n",
      "No valid secondary label found at index 20606\n"
     ]
    },
    {
     "name": "stderr",
     "output_type": "stream",
     "text": [
      "Processing Non-Neutral Rows:  40%|████████████████████                              | 401/1000 [18:45<28:46,  2.88s/it]"
     ]
    },
    {
     "name": "stdout",
     "output_type": "stream",
     "text": [
      "No valid primary label found at index 20608\n",
      "No valid secondary label found at index 20608\n"
     ]
    },
    {
     "name": "stderr",
     "output_type": "stream",
     "text": [
      "Processing Non-Neutral Rows:  40%|████████████████████▏                             | 403/1000 [18:50<27:32,  2.77s/it]"
     ]
    },
    {
     "name": "stdout",
     "output_type": "stream",
     "text": [
      "No valid primary label found at index 20610\n",
      "No valid secondary label found at index 20610\n"
     ]
    },
    {
     "name": "stderr",
     "output_type": "stream",
     "text": [
      "\r",
      "Processing Non-Neutral Rows:  40%|████████████████████▏                             | 404/1000 [18:53<27:49,  2.80s/it]"
     ]
    },
    {
     "name": "stdout",
     "output_type": "stream",
     "text": [
      "No valid secondary label found at index 20611\n"
     ]
    },
    {
     "name": "stderr",
     "output_type": "stream",
     "text": [
      "Processing Non-Neutral Rows:  41%|████████████████████▎                             | 406/1000 [18:58<25:57,  2.62s/it]"
     ]
    },
    {
     "name": "stdout",
     "output_type": "stream",
     "text": [
      "No valid primary label found at index 20613\n",
      "No valid secondary label found at index 20613\n"
     ]
    },
    {
     "name": "stderr",
     "output_type": "stream",
     "text": [
      "Processing Non-Neutral Rows:  42%|████████████████████▊                             | 417/1000 [19:29<27:00,  2.78s/it]"
     ]
    },
    {
     "name": "stdout",
     "output_type": "stream",
     "text": [
      "No valid primary label found at index 20628\n",
      "No valid secondary label found at index 20628\n"
     ]
    },
    {
     "name": "stderr",
     "output_type": "stream",
     "text": [
      "Processing Non-Neutral Rows:  42%|█████████████████████                             | 421/1000 [19:39<25:20,  2.63s/it]"
     ]
    },
    {
     "name": "stdout",
     "output_type": "stream",
     "text": [
      "No valid primary label found at index 20632\n",
      "No valid secondary label found at index 20632\n"
     ]
    },
    {
     "name": "stderr",
     "output_type": "stream",
     "text": [
      "Processing Non-Neutral Rows:  43%|█████████████████████▎                            | 427/1000 [19:56<26:01,  2.73s/it]"
     ]
    },
    {
     "name": "stdout",
     "output_type": "stream",
     "text": [
      "No valid primary label found at index 20639\n",
      "No valid secondary label found at index 20639\n"
     ]
    },
    {
     "name": "stderr",
     "output_type": "stream",
     "text": [
      "\r",
      "Processing Non-Neutral Rows:  43%|█████████████████████▍                            | 428/1000 [19:59<26:48,  2.81s/it]"
     ]
    },
    {
     "name": "stdout",
     "output_type": "stream",
     "text": [
      "No valid primary label found at index 20640\n",
      "No valid secondary label found at index 20640\n"
     ]
    },
    {
     "name": "stderr",
     "output_type": "stream",
     "text": [
      "Processing Non-Neutral Rows:  43%|█████████████████████▋                            | 434/1000 [20:15<24:59,  2.65s/it]"
     ]
    },
    {
     "name": "stdout",
     "output_type": "stream",
     "text": [
      "No valid primary label found at index 20647\n",
      "No valid secondary label found at index 20647\n"
     ]
    },
    {
     "name": "stderr",
     "output_type": "stream",
     "text": [
      "Processing Non-Neutral Rows:  44%|██████████████████████▏                           | 443/1000 [20:40<25:24,  2.74s/it]"
     ]
    },
    {
     "name": "stdout",
     "output_type": "stream",
     "text": [
      "No valid primary label found at index 20658\n",
      "No valid secondary label found at index 20658\n"
     ]
    },
    {
     "name": "stderr",
     "output_type": "stream",
     "text": [
      "Processing Non-Neutral Rows:  45%|██████████████████████▌                           | 452/1000 [21:07<25:16,  2.77s/it]"
     ]
    },
    {
     "name": "stdout",
     "output_type": "stream",
     "text": [
      "No valid primary label found at index 20668\n",
      "No valid secondary label found at index 20668\n"
     ]
    },
    {
     "name": "stderr",
     "output_type": "stream",
     "text": [
      "\r",
      "Processing Non-Neutral Rows:  45%|██████████████████████▋                           | 453/1000 [21:09<24:37,  2.70s/it]"
     ]
    },
    {
     "name": "stdout",
     "output_type": "stream",
     "text": [
      "No valid primary label found at index 20669\n",
      "No valid secondary label found at index 20669\n"
     ]
    },
    {
     "name": "stderr",
     "output_type": "stream",
     "text": [
      "\r",
      "Processing Non-Neutral Rows:  45%|██████████████████████▋                           | 454/1000 [21:12<25:35,  2.81s/it]"
     ]
    },
    {
     "name": "stdout",
     "output_type": "stream",
     "text": [
      "No valid primary label found at index 20670\n",
      "No valid secondary label found at index 20670\n"
     ]
    },
    {
     "name": "stderr",
     "output_type": "stream",
     "text": [
      "\r",
      "Processing Non-Neutral Rows:  46%|██████████████████████▊                           | 455/1000 [21:15<24:45,  2.73s/it]"
     ]
    },
    {
     "name": "stdout",
     "output_type": "stream",
     "text": [
      "No valid primary label found at index 20671\n",
      "No valid secondary label found at index 20671\n"
     ]
    },
    {
     "name": "stderr",
     "output_type": "stream",
     "text": [
      "Processing Non-Neutral Rows:  46%|██████████████████████▉                           | 458/1000 [21:25<29:28,  3.26s/it]"
     ]
    },
    {
     "name": "stdout",
     "output_type": "stream",
     "text": [
      "No valid primary label found at index 20674\n",
      "No valid secondary label found at index 20674\n"
     ]
    },
    {
     "name": "stderr",
     "output_type": "stream",
     "text": [
      "Processing Non-Neutral Rows:  46%|███████████████████████                           | 460/1000 [21:31<28:08,  3.13s/it]"
     ]
    },
    {
     "name": "stdout",
     "output_type": "stream",
     "text": [
      "No valid primary label found at index 20676\n",
      "No valid secondary label found at index 20676\n"
     ]
    },
    {
     "name": "stderr",
     "output_type": "stream",
     "text": [
      "\r",
      "Processing Non-Neutral Rows:  46%|███████████████████████                           | 461/1000 [21:33<26:14,  2.92s/it]"
     ]
    },
    {
     "name": "stdout",
     "output_type": "stream",
     "text": [
      "No valid primary label found at index 20677\n",
      "No valid secondary label found at index 20677\n"
     ]
    },
    {
     "name": "stderr",
     "output_type": "stream",
     "text": [
      "\r",
      "Processing Non-Neutral Rows:  46%|███████████████████████                           | 462/1000 [21:36<25:10,  2.81s/it]"
     ]
    },
    {
     "name": "stdout",
     "output_type": "stream",
     "text": [
      "No valid primary label found at index 20678\n",
      "No valid secondary label found at index 20678\n"
     ]
    },
    {
     "name": "stderr",
     "output_type": "stream",
     "text": [
      "\r",
      "Processing Non-Neutral Rows:  46%|███████████████████████▏                          | 463/1000 [21:39<25:14,  2.82s/it]"
     ]
    },
    {
     "name": "stdout",
     "output_type": "stream",
     "text": [
      "No valid secondary label found at index 20679\n"
     ]
    },
    {
     "name": "stderr",
     "output_type": "stream",
     "text": [
      "Processing Non-Neutral Rows:  47%|███████████████████████▍                          | 468/1000 [21:52<23:01,  2.60s/it]"
     ]
    },
    {
     "name": "stdout",
     "output_type": "stream",
     "text": [
      "No valid primary label found at index 20684\n",
      "No valid secondary label found at index 20684\n"
     ]
    },
    {
     "name": "stderr",
     "output_type": "stream",
     "text": [
      "Processing Non-Neutral Rows:  48%|████████████████████████                          | 480/1000 [22:26<23:04,  2.66s/it]"
     ]
    },
    {
     "name": "stdout",
     "output_type": "stream",
     "text": [
      "No valid primary label found at index 20697\n",
      "No valid secondary label found at index 20697\n"
     ]
    },
    {
     "name": "stderr",
     "output_type": "stream",
     "text": [
      "Processing Non-Neutral Rows:  49%|████████████████████████▎                         | 487/1000 [22:45<24:33,  2.87s/it]"
     ]
    },
    {
     "name": "stdout",
     "output_type": "stream",
     "text": [
      "No valid primary label found at index 20706\n",
      "No valid secondary label found at index 20706\n"
     ]
    },
    {
     "name": "stderr",
     "output_type": "stream",
     "text": [
      "Processing Non-Neutral Rows:  49%|████████████████████████▋                         | 494/1000 [23:04<22:36,  2.68s/it]"
     ]
    },
    {
     "name": "stdout",
     "output_type": "stream",
     "text": [
      "No valid primary label found at index 20713\n",
      "No valid secondary label found at index 20713\n"
     ]
    },
    {
     "name": "stderr",
     "output_type": "stream",
     "text": [
      "\r",
      "Processing Non-Neutral Rows:  50%|████████████████████████▊                         | 495/1000 [23:07<23:24,  2.78s/it]"
     ]
    },
    {
     "name": "stdout",
     "output_type": "stream",
     "text": [
      "No valid secondary label found at index 20714\n"
     ]
    },
    {
     "name": "stderr",
     "output_type": "stream",
     "text": [
      "Processing Non-Neutral Rows:  50%|█████████████████████████                         | 500/1000 [23:21<23:28,  2.82s/it]"
     ]
    },
    {
     "name": "stdout",
     "output_type": "stream",
     "text": [
      "No valid secondary label found at index 20720\n"
     ]
    },
    {
     "name": "stderr",
     "output_type": "stream",
     "text": [
      "\r",
      "Processing Non-Neutral Rows:  50%|█████████████████████████                         | 501/1000 [23:25<25:12,  3.03s/it]"
     ]
    },
    {
     "name": "stdout",
     "output_type": "stream",
     "text": [
      "No valid secondary label found at index 20721\n"
     ]
    },
    {
     "name": "stderr",
     "output_type": "stream",
     "text": [
      "\r",
      "Processing Non-Neutral Rows:  50%|█████████████████████████                         | 502/1000 [23:27<23:52,  2.88s/it]"
     ]
    },
    {
     "name": "stdout",
     "output_type": "stream",
     "text": [
      "No valid secondary label found at index 20722\n"
     ]
    },
    {
     "name": "stderr",
     "output_type": "stream",
     "text": [
      "\r",
      "Processing Non-Neutral Rows:  50%|█████████████████████████▏                        | 503/1000 [23:30<24:10,  2.92s/it]"
     ]
    },
    {
     "name": "stdout",
     "output_type": "stream",
     "text": [
      "No valid primary label found at index 20723\n",
      "No valid secondary label found at index 20723\n"
     ]
    },
    {
     "name": "stderr",
     "output_type": "stream",
     "text": [
      "Processing Non-Neutral Rows:  51%|█████████████████████████▌                        | 512/1000 [23:55<22:29,  2.76s/it]"
     ]
    },
    {
     "name": "stdout",
     "output_type": "stream",
     "text": [
      "No valid secondary label found at index 20733\n"
     ]
    },
    {
     "name": "stderr",
     "output_type": "stream",
     "text": [
      "Processing Non-Neutral Rows:  51%|█████████████████████████▋                        | 514/1000 [24:00<21:06,  2.61s/it]"
     ]
    },
    {
     "name": "stdout",
     "output_type": "stream",
     "text": [
      "No valid primary label found at index 20735\n",
      "No valid secondary label found at index 20735\n"
     ]
    },
    {
     "name": "stderr",
     "output_type": "stream",
     "text": [
      "Processing Non-Neutral Rows:  52%|█████████████████████████▉                        | 518/1000 [24:12<23:45,  2.96s/it]"
     ]
    },
    {
     "name": "stdout",
     "output_type": "stream",
     "text": [
      "No valid primary label found at index 20739\n",
      "No valid secondary label found at index 20739\n"
     ]
    },
    {
     "name": "stderr",
     "output_type": "stream",
     "text": [
      "Processing Non-Neutral Rows:  53%|██████████████████████████▌                       | 532/1000 [24:52<23:47,  3.05s/it]"
     ]
    },
    {
     "name": "stdout",
     "output_type": "stream",
     "text": [
      "No valid primary label found at index 20754\n",
      "No valid secondary label found at index 20754\n"
     ]
    },
    {
     "name": "stderr",
     "output_type": "stream",
     "text": [
      "Processing Non-Neutral Rows:  53%|██████████████████████████▋                       | 534/1000 [24:59<23:53,  3.08s/it]"
     ]
    },
    {
     "name": "stdout",
     "output_type": "stream",
     "text": [
      "No valid primary label found at index 20756\n",
      "No valid secondary label found at index 20756\n"
     ]
    },
    {
     "name": "stderr",
     "output_type": "stream",
     "text": [
      "\r",
      "Processing Non-Neutral Rows:  54%|██████████████████████████▊                       | 535/1000 [25:02<23:01,  2.97s/it]"
     ]
    },
    {
     "name": "stdout",
     "output_type": "stream",
     "text": [
      "No valid primary label found at index 20757\n",
      "No valid secondary label found at index 20757\n"
     ]
    },
    {
     "name": "stderr",
     "output_type": "stream",
     "text": [
      "Processing Non-Neutral Rows:  54%|███████████████████████████                       | 542/1000 [25:20<20:27,  2.68s/it]"
     ]
    },
    {
     "name": "stdout",
     "output_type": "stream",
     "text": [
      "No valid primary label found at index 20764\n",
      "No valid secondary label found at index 20764\n"
     ]
    },
    {
     "name": "stderr",
     "output_type": "stream",
     "text": [
      "\r",
      "Processing Non-Neutral Rows:  54%|███████████████████████████▏                      | 543/1000 [25:22<20:13,  2.66s/it]"
     ]
    },
    {
     "name": "stdout",
     "output_type": "stream",
     "text": [
      "No valid primary label found at index 20765\n",
      "No valid secondary label found at index 20765\n"
     ]
    },
    {
     "name": "stderr",
     "output_type": "stream",
     "text": [
      "Processing Non-Neutral Rows:  55%|███████████████████████████▎                      | 546/1000 [25:33<23:24,  3.09s/it]"
     ]
    },
    {
     "name": "stdout",
     "output_type": "stream",
     "text": [
      "No valid secondary label found at index 20770\n"
     ]
    },
    {
     "name": "stderr",
     "output_type": "stream",
     "text": [
      "Processing Non-Neutral Rows:  56%|████████████████████████████▏                     | 563/1000 [26:25<21:07,  2.90s/it]"
     ]
    },
    {
     "name": "stdout",
     "output_type": "stream",
     "text": [
      "No valid primary label found at index 20789\n",
      "No valid secondary label found at index 20789\n"
     ]
    },
    {
     "name": "stderr",
     "output_type": "stream",
     "text": [
      "\r",
      "Processing Non-Neutral Rows:  56%|████████████████████████████▏                     | 564/1000 [26:27<19:55,  2.74s/it]"
     ]
    },
    {
     "name": "stdout",
     "output_type": "stream",
     "text": [
      "No valid primary label found at index 20790\n",
      "No valid secondary label found at index 20790\n"
     ]
    },
    {
     "name": "stderr",
     "output_type": "stream",
     "text": [
      "Processing Non-Neutral Rows:  57%|████████████████████████████▌                     | 571/1000 [26:47<19:49,  2.77s/it]"
     ]
    },
    {
     "name": "stdout",
     "output_type": "stream",
     "text": [
      "No valid secondary label found at index 20798\n"
     ]
    },
    {
     "name": "stderr",
     "output_type": "stream",
     "text": [
      "Processing Non-Neutral Rows:  57%|████████████████████████████▋                     | 573/1000 [26:53<20:26,  2.87s/it]"
     ]
    },
    {
     "name": "stdout",
     "output_type": "stream",
     "text": [
      "No valid secondary label found at index 20800\n"
     ]
    },
    {
     "name": "stderr",
     "output_type": "stream",
     "text": [
      "Processing Non-Neutral Rows:  58%|█████████████████████████████▎                    | 585/1000 [27:28<22:00,  3.18s/it]"
     ]
    },
    {
     "name": "stdout",
     "output_type": "stream",
     "text": [
      "No valid secondary label found at index 20812\n"
     ]
    },
    {
     "name": "stderr",
     "output_type": "stream",
     "text": [
      "Processing Non-Neutral Rows:  60%|█████████████████████████████▊                    | 597/1000 [28:01<18:32,  2.76s/it]"
     ]
    },
    {
     "name": "stdout",
     "output_type": "stream",
     "text": [
      "No valid primary label found at index 20824\n",
      "No valid secondary label found at index 20824\n"
     ]
    },
    {
     "name": "stderr",
     "output_type": "stream",
     "text": [
      "\r",
      "Processing Non-Neutral Rows:  60%|█████████████████████████████▉                    | 598/1000 [28:04<18:47,  2.80s/it]"
     ]
    },
    {
     "name": "stdout",
     "output_type": "stream",
     "text": [
      "No valid secondary label found at index 20825\n"
     ]
    },
    {
     "name": "stderr",
     "output_type": "stream",
     "text": [
      "\r",
      "Processing Non-Neutral Rows:  60%|█████████████████████████████▉                    | 599/1000 [28:07<18:33,  2.78s/it]"
     ]
    },
    {
     "name": "stdout",
     "output_type": "stream",
     "text": [
      "No valid secondary label found at index 20826\n"
     ]
    },
    {
     "name": "stderr",
     "output_type": "stream",
     "text": [
      "Processing Non-Neutral Rows:  60%|██████████████████████████████▏                   | 604/1000 [28:24<22:45,  3.45s/it]"
     ]
    },
    {
     "name": "stdout",
     "output_type": "stream",
     "text": [
      "No valid secondary label found at index 20831\n"
     ]
    },
    {
     "name": "stderr",
     "output_type": "stream",
     "text": [
      "Processing Non-Neutral Rows:  61%|██████████████████████████████▋                   | 614/1000 [28:52<17:46,  2.76s/it]"
     ]
    },
    {
     "name": "stdout",
     "output_type": "stream",
     "text": [
      "No valid primary label found at index 20842\n",
      "No valid secondary label found at index 20842\n"
     ]
    },
    {
     "name": "stderr",
     "output_type": "stream",
     "text": [
      "\r",
      "Processing Non-Neutral Rows:  62%|██████████████████████████████▊                   | 615/1000 [28:54<17:16,  2.69s/it]"
     ]
    },
    {
     "name": "stdout",
     "output_type": "stream",
     "text": [
      "No valid primary label found at index 20843\n",
      "No valid secondary label found at index 20843\n"
     ]
    },
    {
     "name": "stderr",
     "output_type": "stream",
     "text": [
      "Processing Non-Neutral Rows:  62%|██████████████████████████████▊                   | 617/1000 [28:59<16:25,  2.57s/it]"
     ]
    },
    {
     "name": "stdout",
     "output_type": "stream",
     "text": [
      "No valid primary label found at index 20845\n",
      "No valid secondary label found at index 20845\n"
     ]
    },
    {
     "name": "stderr",
     "output_type": "stream",
     "text": [
      "Processing Non-Neutral Rows:  62%|███████████████████████████████▏                  | 623/1000 [29:17<18:25,  2.93s/it]"
     ]
    },
    {
     "name": "stdout",
     "output_type": "stream",
     "text": [
      "No valid primary label found at index 20851\n",
      "No valid secondary label found at index 20851\n"
     ]
    },
    {
     "name": "stderr",
     "output_type": "stream",
     "text": [
      "Processing Non-Neutral Rows:  63%|███████████████████████████████▌                  | 631/1000 [29:37<16:33,  2.69s/it]"
     ]
    },
    {
     "name": "stdout",
     "output_type": "stream",
     "text": [
      "No valid primary label found at index 20860\n",
      "No valid secondary label found at index 20860\n"
     ]
    },
    {
     "name": "stderr",
     "output_type": "stream",
     "text": [
      "Processing Non-Neutral Rows:  64%|████████████████████████████████                  | 641/1000 [30:05<17:12,  2.88s/it]"
     ]
    },
    {
     "name": "stdout",
     "output_type": "stream",
     "text": [
      "No valid primary label found at index 20875\n",
      "No valid secondary label found at index 20875\n"
     ]
    },
    {
     "name": "stderr",
     "output_type": "stream",
     "text": [
      "\r",
      "Processing Non-Neutral Rows:  64%|████████████████████████████████                  | 642/1000 [30:08<17:08,  2.87s/it]"
     ]
    },
    {
     "name": "stdout",
     "output_type": "stream",
     "text": [
      "No valid secondary label found at index 20876\n"
     ]
    },
    {
     "name": "stderr",
     "output_type": "stream",
     "text": [
      "Processing Non-Neutral Rows:  66%|████████████████████████████████▊                 | 656/1000 [30:52<16:45,  2.92s/it]"
     ]
    },
    {
     "name": "stdout",
     "output_type": "stream",
     "text": [
      "No valid primary label found at index 20891\n",
      "No valid secondary label found at index 20891\n"
     ]
    },
    {
     "name": "stderr",
     "output_type": "stream",
     "text": [
      "Processing Non-Neutral Rows:  67%|█████████████████████████████████▍                | 669/1000 [31:27<14:36,  2.65s/it]"
     ]
    },
    {
     "name": "stdout",
     "output_type": "stream",
     "text": [
      "No valid primary label found at index 20906\n",
      "No valid secondary label found at index 20906\n"
     ]
    },
    {
     "name": "stderr",
     "output_type": "stream",
     "text": [
      "Processing Non-Neutral Rows:  67%|█████████████████████████████████▌                | 671/1000 [31:32<14:16,  2.60s/it]"
     ]
    },
    {
     "name": "stdout",
     "output_type": "stream",
     "text": [
      "No valid primary label found at index 20908\n",
      "No valid secondary label found at index 20908\n"
     ]
    },
    {
     "name": "stderr",
     "output_type": "stream",
     "text": [
      "\r",
      "Processing Non-Neutral Rows:  67%|█████████████████████████████████▌                | 672/1000 [31:35<14:55,  2.73s/it]"
     ]
    },
    {
     "name": "stdout",
     "output_type": "stream",
     "text": [
      "No valid primary label found at index 20909\n",
      "No valid secondary label found at index 20909\n"
     ]
    },
    {
     "name": "stderr",
     "output_type": "stream",
     "text": [
      "Processing Non-Neutral Rows:  67%|█████████████████████████████████▋                | 674/1000 [31:41<14:44,  2.71s/it]"
     ]
    },
    {
     "name": "stdout",
     "output_type": "stream",
     "text": [
      "No valid primary label found at index 20911\n",
      "No valid secondary label found at index 20911\n"
     ]
    },
    {
     "name": "stderr",
     "output_type": "stream",
     "text": [
      "Processing Non-Neutral Rows:  68%|██████████████████████████████████▏               | 683/1000 [32:06<14:43,  2.79s/it]"
     ]
    },
    {
     "name": "stdout",
     "output_type": "stream",
     "text": [
      "No valid primary label found at index 20920\n",
      "No valid secondary label found at index 20920\n"
     ]
    },
    {
     "name": "stderr",
     "output_type": "stream",
     "text": [
      "Processing Non-Neutral Rows:  69%|██████████████████████████████████▎               | 687/1000 [32:17<14:16,  2.74s/it]"
     ]
    },
    {
     "name": "stdout",
     "output_type": "stream",
     "text": [
      "No valid primary label found at index 20924\n",
      "No valid secondary label found at index 20924\n"
     ]
    },
    {
     "name": "stderr",
     "output_type": "stream",
     "text": [
      "\r",
      "Processing Non-Neutral Rows:  69%|██████████████████████████████████▍               | 688/1000 [32:20<13:47,  2.65s/it]"
     ]
    },
    {
     "name": "stdout",
     "output_type": "stream",
     "text": [
      "No valid primary label found at index 20925\n",
      "No valid secondary label found at index 20925\n"
     ]
    },
    {
     "name": "stderr",
     "output_type": "stream",
     "text": [
      "Processing Non-Neutral Rows:  69%|██████████████████████████████████▌               | 690/1000 [32:28<17:50,  3.45s/it]"
     ]
    },
    {
     "name": "stdout",
     "output_type": "stream",
     "text": [
      "No valid primary label found at index 20928\n",
      "No valid secondary label found at index 20928\n"
     ]
    },
    {
     "name": "stderr",
     "output_type": "stream",
     "text": [
      "Processing Non-Neutral Rows:  69%|██████████████████████████████████▋               | 694/1000 [32:40<15:59,  3.14s/it]"
     ]
    },
    {
     "name": "stdout",
     "output_type": "stream",
     "text": [
      "No valid primary label found at index 20932\n",
      "No valid secondary label found at index 20932\n"
     ]
    },
    {
     "name": "stderr",
     "output_type": "stream",
     "text": [
      "\r",
      "Processing Non-Neutral Rows:  70%|██████████████████████████████████▊               | 695/1000 [32:43<15:30,  3.05s/it]"
     ]
    },
    {
     "name": "stdout",
     "output_type": "stream",
     "text": [
      "No valid primary label found at index 20933\n",
      "No valid secondary label found at index 20933\n"
     ]
    },
    {
     "name": "stderr",
     "output_type": "stream",
     "text": [
      "\r",
      "Processing Non-Neutral Rows:  70%|██████████████████████████████████▊               | 696/1000 [32:45<14:44,  2.91s/it]"
     ]
    },
    {
     "name": "stdout",
     "output_type": "stream",
     "text": [
      "No valid primary label found at index 20934\n",
      "No valid secondary label found at index 20934\n"
     ]
    },
    {
     "name": "stderr",
     "output_type": "stream",
     "text": [
      "\r",
      "Processing Non-Neutral Rows:  70%|██████████████████████████████████▊               | 697/1000 [32:48<14:18,  2.83s/it]"
     ]
    },
    {
     "name": "stdout",
     "output_type": "stream",
     "text": [
      "No valid primary label found at index 20935\n",
      "No valid secondary label found at index 20935\n"
     ]
    },
    {
     "name": "stderr",
     "output_type": "stream",
     "text": [
      "\r",
      "Processing Non-Neutral Rows:  70%|██████████████████████████████████▉               | 698/1000 [32:50<13:58,  2.78s/it]"
     ]
    },
    {
     "name": "stdout",
     "output_type": "stream",
     "text": [
      "No valid primary label found at index 20936\n",
      "No valid secondary label found at index 20936\n"
     ]
    },
    {
     "name": "stderr",
     "output_type": "stream",
     "text": [
      "Processing Non-Neutral Rows:  70%|███████████████████████████████████▏              | 704/1000 [33:09<15:08,  3.07s/it]"
     ]
    },
    {
     "name": "stdout",
     "output_type": "stream",
     "text": [
      "No valid primary label found at index 20942\n",
      "No valid secondary label found at index 20942\n"
     ]
    },
    {
     "name": "stderr",
     "output_type": "stream",
     "text": [
      "\r",
      "Processing Non-Neutral Rows:  70%|███████████████████████████████████▎              | 705/1000 [33:11<14:24,  2.93s/it]"
     ]
    },
    {
     "name": "stdout",
     "output_type": "stream",
     "text": [
      "No valid primary label found at index 20943\n",
      "No valid secondary label found at index 20943\n"
     ]
    },
    {
     "name": "stderr",
     "output_type": "stream",
     "text": [
      "Processing Non-Neutral Rows:  71%|███████████████████████████████████▍              | 708/1000 [33:20<13:43,  2.82s/it]"
     ]
    },
    {
     "name": "stdout",
     "output_type": "stream",
     "text": [
      "No valid primary label found at index 20946\n",
      "No valid secondary label found at index 20946\n"
     ]
    },
    {
     "name": "stderr",
     "output_type": "stream",
     "text": [
      "Processing Non-Neutral Rows:  71%|███████████████████████████████████▋              | 714/1000 [33:35<12:36,  2.65s/it]"
     ]
    },
    {
     "name": "stdout",
     "output_type": "stream",
     "text": [
      "No valid primary label found at index 20952\n",
      "No valid secondary label found at index 20952\n"
     ]
    },
    {
     "name": "stderr",
     "output_type": "stream",
     "text": [
      "Processing Non-Neutral Rows:  74%|████████████████████████████████████▉             | 739/1000 [34:44<12:26,  2.86s/it]"
     ]
    },
    {
     "name": "stdout",
     "output_type": "stream",
     "text": [
      "No valid secondary label found at index 20977\n"
     ]
    },
    {
     "name": "stderr",
     "output_type": "stream",
     "text": [
      "Processing Non-Neutral Rows:  75%|█████████████████████████████████████▎            | 746/1000 [35:03<12:45,  3.02s/it]"
     ]
    },
    {
     "name": "stdout",
     "output_type": "stream",
     "text": [
      "No valid secondary label found at index 20985\n"
     ]
    },
    {
     "name": "stderr",
     "output_type": "stream",
     "text": [
      "Processing Non-Neutral Rows:  75%|█████████████████████████████████████▍            | 749/1000 [35:11<11:36,  2.77s/it]"
     ]
    },
    {
     "name": "stdout",
     "output_type": "stream",
     "text": [
      "No valid primary label found at index 20988\n",
      "No valid secondary label found at index 20988\n"
     ]
    },
    {
     "name": "stderr",
     "output_type": "stream",
     "text": [
      "\r",
      "Processing Non-Neutral Rows:  75%|█████████████████████████████████████▌            | 750/1000 [35:14<11:39,  2.80s/it]"
     ]
    },
    {
     "name": "stdout",
     "output_type": "stream",
     "text": [
      "No valid primary label found at index 20989\n",
      "No valid secondary label found at index 20989\n"
     ]
    },
    {
     "name": "stderr",
     "output_type": "stream",
     "text": [
      "Processing Non-Neutral Rows:  75%|█████████████████████████████████████▌            | 752/1000 [35:19<11:09,  2.70s/it]"
     ]
    },
    {
     "name": "stdout",
     "output_type": "stream",
     "text": [
      "No valid primary label found at index 20991\n",
      "No valid secondary label found at index 20991\n"
     ]
    },
    {
     "name": "stderr",
     "output_type": "stream",
     "text": [
      "Processing Non-Neutral Rows:  75%|█████████████████████████████████████▋            | 754/1000 [35:25<11:09,  2.72s/it]"
     ]
    },
    {
     "name": "stdout",
     "output_type": "stream",
     "text": [
      "No valid primary label found at index 20994\n",
      "No valid secondary label found at index 20994\n"
     ]
    },
    {
     "name": "stderr",
     "output_type": "stream",
     "text": [
      "\r",
      "Processing Non-Neutral Rows:  76%|█████████████████████████████████████▊            | 755/1000 [35:27<11:07,  2.72s/it]"
     ]
    },
    {
     "name": "stdout",
     "output_type": "stream",
     "text": [
      "No valid primary label found at index 20995\n",
      "No valid secondary label found at index 20995\n"
     ]
    },
    {
     "name": "stderr",
     "output_type": "stream",
     "text": [
      "\r",
      "Processing Non-Neutral Rows:  76%|█████████████████████████████████████▊            | 756/1000 [35:30<10:54,  2.68s/it]"
     ]
    },
    {
     "name": "stdout",
     "output_type": "stream",
     "text": [
      "No valid primary label found at index 20996\n",
      "No valid secondary label found at index 20996\n"
     ]
    },
    {
     "name": "stderr",
     "output_type": "stream",
     "text": [
      "Processing Non-Neutral Rows:  76%|█████████████████████████████████████▉            | 759/1000 [35:38<10:40,  2.66s/it]"
     ]
    },
    {
     "name": "stdout",
     "output_type": "stream",
     "text": [
      "No valid primary label found at index 20999\n",
      "No valid secondary label found at index 20999\n"
     ]
    },
    {
     "name": "stderr",
     "output_type": "stream",
     "text": [
      "Processing Non-Neutral Rows:  76%|██████████████████████████████████████▏           | 763/1000 [35:48<10:01,  2.54s/it]"
     ]
    },
    {
     "name": "stdout",
     "output_type": "stream",
     "text": [
      "No valid primary label found at index 21003\n",
      "No valid secondary label found at index 21003\n"
     ]
    },
    {
     "name": "stderr",
     "output_type": "stream",
     "text": [
      "\r",
      "Processing Non-Neutral Rows:  76%|██████████████████████████████████████▏           | 764/1000 [35:50<09:52,  2.51s/it]"
     ]
    },
    {
     "name": "stdout",
     "output_type": "stream",
     "text": [
      "No valid primary label found at index 21004\n",
      "No valid secondary label found at index 21004\n"
     ]
    },
    {
     "name": "stderr",
     "output_type": "stream",
     "text": [
      "\r",
      "Processing Non-Neutral Rows:  76%|██████████████████████████████████████▎           | 765/1000 [35:53<09:42,  2.48s/it]"
     ]
    },
    {
     "name": "stdout",
     "output_type": "stream",
     "text": [
      "No valid primary label found at index 21005\n",
      "No valid secondary label found at index 21005\n"
     ]
    },
    {
     "name": "stderr",
     "output_type": "stream",
     "text": [
      "Processing Non-Neutral Rows:  77%|██████████████████████████████████████▎           | 767/1000 [35:58<09:57,  2.56s/it]"
     ]
    },
    {
     "name": "stdout",
     "output_type": "stream",
     "text": [
      "No valid primary label found at index 21008\n",
      "No valid secondary label found at index 21008\n"
     ]
    },
    {
     "name": "stderr",
     "output_type": "stream",
     "text": [
      "\r",
      "Processing Non-Neutral Rows:  77%|██████████████████████████████████████▍           | 768/1000 [36:00<10:04,  2.60s/it]"
     ]
    },
    {
     "name": "stdout",
     "output_type": "stream",
     "text": [
      "No valid primary label found at index 21009\n",
      "No valid secondary label found at index 21009\n"
     ]
    },
    {
     "name": "stderr",
     "output_type": "stream",
     "text": [
      "Processing Non-Neutral Rows:  77%|██████████████████████████████████████▌           | 770/1000 [36:06<10:22,  2.71s/it]"
     ]
    },
    {
     "name": "stdout",
     "output_type": "stream",
     "text": [
      "No valid primary label found at index 21011\n",
      "No valid secondary label found at index 21011\n"
     ]
    },
    {
     "name": "stderr",
     "output_type": "stream",
     "text": [
      "\r",
      "Processing Non-Neutral Rows:  77%|██████████████████████████████████████▌           | 771/1000 [36:09<10:29,  2.75s/it]"
     ]
    },
    {
     "name": "stdout",
     "output_type": "stream",
     "text": [
      "No valid primary label found at index 21012\n",
      "No valid secondary label found at index 21012\n"
     ]
    },
    {
     "name": "stderr",
     "output_type": "stream",
     "text": [
      "Processing Non-Neutral Rows:  77%|██████████████████████████████████████▋           | 773/1000 [36:14<09:56,  2.63s/it]"
     ]
    },
    {
     "name": "stdout",
     "output_type": "stream",
     "text": [
      "No valid primary label found at index 21014\n",
      "No valid secondary label found at index 21014\n"
     ]
    },
    {
     "name": "stderr",
     "output_type": "stream",
     "text": [
      "Processing Non-Neutral Rows:  78%|██████████████████████████████████████▊           | 775/1000 [36:20<10:10,  2.71s/it]"
     ]
    },
    {
     "name": "stdout",
     "output_type": "stream",
     "text": [
      "No valid primary label found at index 21016\n",
      "No valid secondary label found at index 21016\n"
     ]
    },
    {
     "name": "stderr",
     "output_type": "stream",
     "text": [
      "Processing Non-Neutral Rows:  78%|██████████████████████████████████████▊           | 777/1000 [36:25<09:55,  2.67s/it]"
     ]
    },
    {
     "name": "stdout",
     "output_type": "stream",
     "text": [
      "No valid primary label found at index 21018\n",
      "No valid secondary label found at index 21018\n"
     ]
    },
    {
     "name": "stderr",
     "output_type": "stream",
     "text": [
      "\r",
      "Processing Non-Neutral Rows:  78%|██████████████████████████████████████▉           | 778/1000 [36:27<09:45,  2.64s/it]"
     ]
    },
    {
     "name": "stdout",
     "output_type": "stream",
     "text": [
      "No valid primary label found at index 21019\n",
      "No valid secondary label found at index 21019\n"
     ]
    },
    {
     "name": "stderr",
     "output_type": "stream",
     "text": [
      "\r",
      "Processing Non-Neutral Rows:  78%|██████████████████████████████████████▉           | 779/1000 [36:31<10:30,  2.85s/it]"
     ]
    },
    {
     "name": "stdout",
     "output_type": "stream",
     "text": [
      "No valid primary label found at index 21021\n",
      "No valid secondary label found at index 21021\n"
     ]
    },
    {
     "name": "stderr",
     "output_type": "stream",
     "text": [
      "Processing Non-Neutral Rows:  79%|███████████████████████████████████████▎          | 787/1000 [36:50<09:18,  2.62s/it]"
     ]
    },
    {
     "name": "stdout",
     "output_type": "stream",
     "text": [
      "No valid primary label found at index 21029\n",
      "No valid secondary label found at index 21029\n"
     ]
    },
    {
     "name": "stderr",
     "output_type": "stream",
     "text": [
      "\r",
      "Processing Non-Neutral Rows:  79%|███████████████████████████████████████▍          | 788/1000 [36:53<09:16,  2.63s/it]"
     ]
    },
    {
     "name": "stdout",
     "output_type": "stream",
     "text": [
      "No valid primary label found at index 21030\n",
      "No valid secondary label found at index 21030\n"
     ]
    },
    {
     "name": "stderr",
     "output_type": "stream",
     "text": [
      "\r",
      "Processing Non-Neutral Rows:  79%|███████████████████████████████████████▍          | 789/1000 [36:56<09:09,  2.60s/it]"
     ]
    },
    {
     "name": "stdout",
     "output_type": "stream",
     "text": [
      "No valid primary label found at index 21031\n",
      "No valid secondary label found at index 21031\n"
     ]
    },
    {
     "name": "stderr",
     "output_type": "stream",
     "text": [
      "Processing Non-Neutral Rows:  79%|███████████████████████████████████████▋          | 793/1000 [37:08<10:03,  2.91s/it]"
     ]
    },
    {
     "name": "stdout",
     "output_type": "stream",
     "text": [
      "No valid primary label found at index 21036\n",
      "No valid secondary label found at index 21036\n"
     ]
    },
    {
     "name": "stderr",
     "output_type": "stream",
     "text": [
      "\r",
      "Processing Non-Neutral Rows:  79%|███████████████████████████████████████▋          | 794/1000 [37:11<09:30,  2.77s/it]"
     ]
    },
    {
     "name": "stdout",
     "output_type": "stream",
     "text": [
      "No valid primary label found at index 21037\n",
      "No valid secondary label found at index 21037\n"
     ]
    },
    {
     "name": "stderr",
     "output_type": "stream",
     "text": [
      "Processing Non-Neutral Rows:  80%|███████████████████████████████████████▊          | 797/1000 [37:19<09:07,  2.70s/it]"
     ]
    },
    {
     "name": "stdout",
     "output_type": "stream",
     "text": [
      "No valid primary label found at index 21040\n",
      "No valid secondary label found at index 21040\n"
     ]
    },
    {
     "name": "stderr",
     "output_type": "stream",
     "text": [
      "Processing Non-Neutral Rows:  80%|████████████████████████████████████████          | 800/1000 [37:27<08:42,  2.61s/it]"
     ]
    },
    {
     "name": "stdout",
     "output_type": "stream",
     "text": [
      "No valid primary label found at index 21043\n",
      "No valid secondary label found at index 21043\n"
     ]
    },
    {
     "name": "stderr",
     "output_type": "stream",
     "text": [
      "Processing Non-Neutral Rows:  80%|████████████████████████████████████████▎         | 805/1000 [37:42<09:10,  2.82s/it]"
     ]
    },
    {
     "name": "stdout",
     "output_type": "stream",
     "text": [
      "No valid primary label found at index 21048\n",
      "No valid secondary label found at index 21048\n"
     ]
    },
    {
     "name": "stderr",
     "output_type": "stream",
     "text": [
      "Processing Non-Neutral Rows:  82%|████████████████████████████████████████▉         | 819/1000 [38:19<08:29,  2.81s/it]"
     ]
    },
    {
     "name": "stdout",
     "output_type": "stream",
     "text": [
      "No valid primary label found at index 21062\n",
      "No valid secondary label found at index 21062\n"
     ]
    },
    {
     "name": "stderr",
     "output_type": "stream",
     "text": [
      "\r",
      "Processing Non-Neutral Rows:  82%|█████████████████████████████████████████         | 820/1000 [38:22<08:12,  2.74s/it]"
     ]
    },
    {
     "name": "stdout",
     "output_type": "stream",
     "text": [
      "No valid primary label found at index 21063\n",
      "No valid secondary label found at index 21063\n"
     ]
    },
    {
     "name": "stderr",
     "output_type": "stream",
     "text": [
      "Processing Non-Neutral Rows:  82%|█████████████████████████████████████████▏        | 823/1000 [38:30<07:46,  2.64s/it]"
     ]
    },
    {
     "name": "stdout",
     "output_type": "stream",
     "text": [
      "No valid primary label found at index 21066\n",
      "No valid secondary label found at index 21066\n"
     ]
    },
    {
     "name": "stderr",
     "output_type": "stream",
     "text": [
      "\r",
      "Processing Non-Neutral Rows:  82%|█████████████████████████████████████████▏        | 824/1000 [38:33<07:52,  2.69s/it]"
     ]
    },
    {
     "name": "stdout",
     "output_type": "stream",
     "text": [
      "No valid primary label found at index 21067\n",
      "No valid secondary label found at index 21067\n"
     ]
    },
    {
     "name": "stderr",
     "output_type": "stream",
     "text": [
      "Processing Non-Neutral Rows:  83%|█████████████████████████████████████████▍        | 828/1000 [38:43<07:36,  2.65s/it]"
     ]
    },
    {
     "name": "stdout",
     "output_type": "stream",
     "text": [
      "No valid primary label found at index 21073\n",
      "No valid secondary label found at index 21073\n"
     ]
    },
    {
     "name": "stderr",
     "output_type": "stream",
     "text": [
      "\r",
      "Processing Non-Neutral Rows:  83%|█████████████████████████████████████████▍        | 829/1000 [38:46<07:24,  2.60s/it]"
     ]
    },
    {
     "name": "stdout",
     "output_type": "stream",
     "text": [
      "No valid primary label found at index 21074\n",
      "No valid secondary label found at index 21074\n"
     ]
    },
    {
     "name": "stderr",
     "output_type": "stream",
     "text": [
      "\r",
      "Processing Non-Neutral Rows:  83%|█████████████████████████████████████████▌        | 830/1000 [38:48<07:16,  2.57s/it]"
     ]
    },
    {
     "name": "stdout",
     "output_type": "stream",
     "text": [
      "No valid primary label found at index 21075\n",
      "No valid secondary label found at index 21075\n"
     ]
    },
    {
     "name": "stderr",
     "output_type": "stream",
     "text": [
      "\r",
      "Processing Non-Neutral Rows:  83%|█████████████████████████████████████████▌        | 831/1000 [38:51<07:15,  2.58s/it]"
     ]
    },
    {
     "name": "stdout",
     "output_type": "stream",
     "text": [
      "No valid primary label found at index 21076\n",
      "No valid secondary label found at index 21076\n"
     ]
    },
    {
     "name": "stderr",
     "output_type": "stream",
     "text": [
      "\r",
      "Processing Non-Neutral Rows:  83%|█████████████████████████████████████████▌        | 832/1000 [38:53<07:17,  2.60s/it]"
     ]
    },
    {
     "name": "stdout",
     "output_type": "stream",
     "text": [
      "No valid primary label found at index 21078\n",
      "No valid secondary label found at index 21078\n"
     ]
    },
    {
     "name": "stderr",
     "output_type": "stream",
     "text": [
      "Processing Non-Neutral Rows:  84%|██████████████████████████████████████████        | 840/1000 [39:17<07:52,  2.95s/it]"
     ]
    },
    {
     "name": "stdout",
     "output_type": "stream",
     "text": [
      "No valid primary label found at index 21087\n",
      "No valid secondary label found at index 21087\n"
     ]
    },
    {
     "name": "stderr",
     "output_type": "stream",
     "text": [
      "\r",
      "Processing Non-Neutral Rows:  84%|██████████████████████████████████████████        | 841/1000 [39:20<07:39,  2.89s/it]"
     ]
    },
    {
     "name": "stdout",
     "output_type": "stream",
     "text": [
      "No valid primary label found at index 21088\n",
      "No valid secondary label found at index 21088\n"
     ]
    },
    {
     "name": "stderr",
     "output_type": "stream",
     "text": [
      "Processing Non-Neutral Rows:  85%|██████████████████████████████████████████▎       | 846/1000 [39:33<07:03,  2.75s/it]"
     ]
    },
    {
     "name": "stdout",
     "output_type": "stream",
     "text": [
      "No valid secondary label found at index 21094\n"
     ]
    },
    {
     "name": "stderr",
     "output_type": "stream",
     "text": [
      "Processing Non-Neutral Rows:  85%|██████████████████████████████████████████▍       | 848/1000 [39:38<06:38,  2.62s/it]"
     ]
    },
    {
     "name": "stdout",
     "output_type": "stream",
     "text": [
      "No valid primary label found at index 21097\n",
      "No valid secondary label found at index 21097\n"
     ]
    },
    {
     "name": "stderr",
     "output_type": "stream",
     "text": [
      "\r",
      "Processing Non-Neutral Rows:  85%|██████████████████████████████████████████▍       | 849/1000 [39:40<06:37,  2.63s/it]"
     ]
    },
    {
     "name": "stdout",
     "output_type": "stream",
     "text": [
      "No valid primary label found at index 21098\n",
      "No valid secondary label found at index 21098\n"
     ]
    },
    {
     "name": "stderr",
     "output_type": "stream",
     "text": [
      "\r",
      "Processing Non-Neutral Rows:  85%|██████████████████████████████████████████▌       | 850/1000 [39:43<06:34,  2.63s/it]"
     ]
    },
    {
     "name": "stdout",
     "output_type": "stream",
     "text": [
      "No valid primary label found at index 21099\n",
      "No valid secondary label found at index 21099\n"
     ]
    },
    {
     "name": "stderr",
     "output_type": "stream",
     "text": [
      "Processing Non-Neutral Rows:  86%|██████████████████████████████████████████▉       | 859/1000 [40:07<06:04,  2.58s/it]"
     ]
    },
    {
     "name": "stdout",
     "output_type": "stream",
     "text": [
      "No valid primary label found at index 21108\n",
      "No valid secondary label found at index 21108\n"
     ]
    },
    {
     "name": "stderr",
     "output_type": "stream",
     "text": [
      "Processing Non-Neutral Rows:  87%|███████████████████████████████████████████▎      | 866/1000 [40:25<05:59,  2.69s/it]"
     ]
    },
    {
     "name": "stdout",
     "output_type": "stream",
     "text": [
      "No valid primary label found at index 21115\n",
      "No valid secondary label found at index 21115\n"
     ]
    },
    {
     "name": "stderr",
     "output_type": "stream",
     "text": [
      "\r",
      "Processing Non-Neutral Rows:  87%|███████████████████████████████████████████▎      | 867/1000 [40:28<05:55,  2.67s/it]"
     ]
    },
    {
     "name": "stdout",
     "output_type": "stream",
     "text": [
      "No valid primary label found at index 21116\n",
      "No valid secondary label found at index 21116\n"
     ]
    },
    {
     "name": "stderr",
     "output_type": "stream",
     "text": [
      "Processing Non-Neutral Rows:  87%|███████████████████████████████████████████▍      | 869/1000 [40:33<05:35,  2.56s/it]"
     ]
    },
    {
     "name": "stdout",
     "output_type": "stream",
     "text": [
      "No valid primary label found at index 21118\n",
      "No valid secondary label found at index 21118\n"
     ]
    },
    {
     "name": "stderr",
     "output_type": "stream",
     "text": [
      "\r",
      "Processing Non-Neutral Rows:  87%|███████████████████████████████████████████▌      | 870/1000 [40:35<05:35,  2.58s/it]"
     ]
    },
    {
     "name": "stdout",
     "output_type": "stream",
     "text": [
      "No valid primary label found at index 21119\n",
      "No valid secondary label found at index 21119\n"
     ]
    },
    {
     "name": "stderr",
     "output_type": "stream",
     "text": [
      "Processing Non-Neutral Rows:  87%|███████████████████████████████████████████▋      | 873/1000 [40:43<05:22,  2.54s/it]"
     ]
    },
    {
     "name": "stdout",
     "output_type": "stream",
     "text": [
      "No valid primary label found at index 21123\n",
      "No valid secondary label found at index 21123\n"
     ]
    },
    {
     "name": "stderr",
     "output_type": "stream",
     "text": [
      "Processing Non-Neutral Rows:  88%|███████████████████████████████████████████▊      | 876/1000 [40:51<05:23,  2.61s/it]"
     ]
    },
    {
     "name": "stdout",
     "output_type": "stream",
     "text": [
      "No valid primary label found at index 21126\n",
      "No valid secondary label found at index 21126\n"
     ]
    },
    {
     "name": "stderr",
     "output_type": "stream",
     "text": [
      "\r",
      "Processing Non-Neutral Rows:  88%|███████████████████████████████████████████▊      | 877/1000 [40:53<05:18,  2.59s/it]"
     ]
    },
    {
     "name": "stdout",
     "output_type": "stream",
     "text": [
      "No valid primary label found at index 21127\n",
      "No valid secondary label found at index 21127\n"
     ]
    },
    {
     "name": "stderr",
     "output_type": "stream",
     "text": [
      "Processing Non-Neutral Rows:  88%|███████████████████████████████████████████▉      | 879/1000 [40:59<05:21,  2.66s/it]"
     ]
    },
    {
     "name": "stdout",
     "output_type": "stream",
     "text": [
      "No valid primary label found at index 21129\n",
      "No valid secondary label found at index 21129\n"
     ]
    },
    {
     "name": "stderr",
     "output_type": "stream",
     "text": [
      "\r",
      "Processing Non-Neutral Rows:  88%|████████████████████████████████████████████      | 880/1000 [41:01<05:15,  2.63s/it]"
     ]
    },
    {
     "name": "stdout",
     "output_type": "stream",
     "text": [
      "No valid primary label found at index 21130\n",
      "No valid secondary label found at index 21130\n"
     ]
    },
    {
     "name": "stderr",
     "output_type": "stream",
     "text": [
      "\r",
      "Processing Non-Neutral Rows:  88%|████████████████████████████████████████████      | 881/1000 [41:04<05:10,  2.61s/it]"
     ]
    },
    {
     "name": "stdout",
     "output_type": "stream",
     "text": [
      "No valid primary label found at index 21132\n",
      "No valid secondary label found at index 21132\n"
     ]
    },
    {
     "name": "stderr",
     "output_type": "stream",
     "text": [
      "Processing Non-Neutral Rows:  88%|████████████████████████████████████████████▏     | 883/1000 [41:09<05:15,  2.70s/it]"
     ]
    },
    {
     "name": "stdout",
     "output_type": "stream",
     "text": [
      "No valid primary label found at index 21137\n",
      "No valid secondary label found at index 21137\n"
     ]
    },
    {
     "name": "stderr",
     "output_type": "stream",
     "text": [
      "Processing Non-Neutral Rows:  89%|████████████████████████████████████████████▌     | 892/1000 [41:34<04:51,  2.70s/it]"
     ]
    },
    {
     "name": "stdout",
     "output_type": "stream",
     "text": [
      "No valid primary label found at index 21151\n",
      "No valid secondary label found at index 21151\n"
     ]
    },
    {
     "name": "stderr",
     "output_type": "stream",
     "text": [
      "Processing Non-Neutral Rows:  90%|████████████████████████████████████████████▉     | 898/1000 [41:50<04:19,  2.54s/it]"
     ]
    },
    {
     "name": "stdout",
     "output_type": "stream",
     "text": [
      "No valid primary label found at index 21157\n",
      "No valid secondary label found at index 21157\n"
     ]
    },
    {
     "name": "stderr",
     "output_type": "stream",
     "text": [
      "\r",
      "Processing Non-Neutral Rows:  90%|████████████████████████████████████████████▉     | 899/1000 [41:53<04:27,  2.65s/it]"
     ]
    },
    {
     "name": "stdout",
     "output_type": "stream",
     "text": [
      "No valid primary label found at index 21158\n",
      "No valid secondary label found at index 21158\n"
     ]
    },
    {
     "name": "stderr",
     "output_type": "stream",
     "text": [
      "Processing Non-Neutral Rows:  90%|█████████████████████████████████████████████▏    | 904/1000 [42:08<04:39,  2.92s/it]"
     ]
    },
    {
     "name": "stdout",
     "output_type": "stream",
     "text": [
      "No valid primary label found at index 21166\n",
      "No valid secondary label found at index 21166\n"
     ]
    },
    {
     "name": "stderr",
     "output_type": "stream",
     "text": [
      "Processing Non-Neutral Rows:  91%|█████████████████████████████████████████████▍    | 909/1000 [42:22<04:28,  2.95s/it]"
     ]
    },
    {
     "name": "stdout",
     "output_type": "stream",
     "text": [
      "No valid secondary label found at index 21171\n"
     ]
    },
    {
     "name": "stderr",
     "output_type": "stream",
     "text": [
      "Processing Non-Neutral Rows:  91%|█████████████████████████████████████████████▌    | 911/1000 [42:28<04:04,  2.75s/it]"
     ]
    },
    {
     "name": "stdout",
     "output_type": "stream",
     "text": [
      "No valid primary label found at index 21173\n",
      "No valid secondary label found at index 21173\n"
     ]
    },
    {
     "name": "stderr",
     "output_type": "stream",
     "text": [
      "Processing Non-Neutral Rows:  92%|█████████████████████████████████████████████▊    | 916/1000 [42:41<03:49,  2.74s/it]"
     ]
    },
    {
     "name": "stdout",
     "output_type": "stream",
     "text": [
      "No valid primary label found at index 21179\n",
      "No valid secondary label found at index 21179\n"
     ]
    },
    {
     "name": "stderr",
     "output_type": "stream",
     "text": [
      "\r",
      "Processing Non-Neutral Rows:  92%|█████████████████████████████████████████████▊    | 917/1000 [42:44<03:57,  2.87s/it]"
     ]
    },
    {
     "name": "stdout",
     "output_type": "stream",
     "text": [
      "No valid secondary label found at index 21180\n"
     ]
    },
    {
     "name": "stderr",
     "output_type": "stream",
     "text": [
      "Processing Non-Neutral Rows:  93%|██████████████████████████████████████████████▌   | 930/1000 [43:19<03:15,  2.79s/it]"
     ]
    },
    {
     "name": "stdout",
     "output_type": "stream",
     "text": [
      "No valid primary label found at index 21194\n",
      "No valid secondary label found at index 21194\n"
     ]
    },
    {
     "name": "stderr",
     "output_type": "stream",
     "text": [
      "\r",
      "Processing Non-Neutral Rows:  93%|██████████████████████████████████████████████▌   | 931/1000 [43:22<03:11,  2.78s/it]"
     ]
    },
    {
     "name": "stdout",
     "output_type": "stream",
     "text": [
      "No valid primary label found at index 21195\n",
      "No valid secondary label found at index 21195\n"
     ]
    },
    {
     "name": "stderr",
     "output_type": "stream",
     "text": [
      "Processing Non-Neutral Rows:  94%|███████████████████████████████████████████████   | 940/1000 [43:49<03:03,  3.05s/it]"
     ]
    },
    {
     "name": "stdout",
     "output_type": "stream",
     "text": [
      "No valid secondary label found at index 21204\n"
     ]
    },
    {
     "name": "stderr",
     "output_type": "stream",
     "text": [
      "Processing Non-Neutral Rows:  94%|███████████████████████████████████████████████   | 942/1000 [43:54<02:41,  2.79s/it]"
     ]
    },
    {
     "name": "stdout",
     "output_type": "stream",
     "text": [
      "No valid primary label found at index 21207\n",
      "No valid secondary label found at index 21207\n"
     ]
    },
    {
     "name": "stderr",
     "output_type": "stream",
     "text": [
      "Processing Non-Neutral Rows:  95%|███████████████████████████████████████████████▎  | 946/1000 [44:06<02:39,  2.95s/it]"
     ]
    },
    {
     "name": "stdout",
     "output_type": "stream",
     "text": [
      "No valid secondary label found at index 21211\n"
     ]
    },
    {
     "name": "stderr",
     "output_type": "stream",
     "text": [
      "Processing Non-Neutral Rows:  95%|███████████████████████████████████████████████▍  | 949/1000 [44:13<02:18,  2.72s/it]"
     ]
    },
    {
     "name": "stdout",
     "output_type": "stream",
     "text": [
      "No valid primary label found at index 21215\n",
      "No valid secondary label found at index 21215\n"
     ]
    },
    {
     "name": "stderr",
     "output_type": "stream",
     "text": [
      "\r",
      "Processing Non-Neutral Rows:  95%|███████████████████████████████████████████████▌  | 950/1000 [44:16<02:13,  2.67s/it]"
     ]
    },
    {
     "name": "stdout",
     "output_type": "stream",
     "text": [
      "No valid primary label found at index 21216\n",
      "No valid secondary label found at index 21216\n"
     ]
    },
    {
     "name": "stderr",
     "output_type": "stream",
     "text": [
      "Processing Non-Neutral Rows:  96%|███████████████████████████████████████████████▊  | 955/1000 [44:30<02:08,  2.86s/it]"
     ]
    },
    {
     "name": "stdout",
     "output_type": "stream",
     "text": [
      "No valid primary label found at index 21221\n",
      "No valid secondary label found at index 21221\n"
     ]
    },
    {
     "name": "stderr",
     "output_type": "stream",
     "text": [
      "Processing Non-Neutral Rows:  97%|████████████████████████████████████████████████▍ | 968/1000 [45:08<01:32,  2.88s/it]"
     ]
    },
    {
     "name": "stdout",
     "output_type": "stream",
     "text": [
      "No valid primary label found at index 21235\n",
      "No valid secondary label found at index 21235\n"
     ]
    },
    {
     "name": "stderr",
     "output_type": "stream",
     "text": [
      "Processing Non-Neutral Rows:  97%|████████████████████████████████████████████████▌ | 970/1000 [45:13<01:22,  2.74s/it]"
     ]
    },
    {
     "name": "stdout",
     "output_type": "stream",
     "text": [
      "No valid primary label found at index 21237\n",
      "No valid secondary label found at index 21237\n"
     ]
    },
    {
     "name": "stderr",
     "output_type": "stream",
     "text": [
      "\r",
      "Processing Non-Neutral Rows:  97%|████████████████████████████████████████████████▌ | 971/1000 [45:16<01:18,  2.69s/it]"
     ]
    },
    {
     "name": "stdout",
     "output_type": "stream",
     "text": [
      "No valid primary label found at index 21238\n",
      "No valid secondary label found at index 21238\n"
     ]
    },
    {
     "name": "stderr",
     "output_type": "stream",
     "text": [
      "\r",
      "Processing Non-Neutral Rows:  97%|████████████████████████████████████████████████▌ | 972/1000 [45:18<01:13,  2.62s/it]"
     ]
    },
    {
     "name": "stdout",
     "output_type": "stream",
     "text": [
      "No valid primary label found at index 21239\n",
      "No valid secondary label found at index 21239\n"
     ]
    },
    {
     "name": "stderr",
     "output_type": "stream",
     "text": [
      "Processing Non-Neutral Rows:  98%|████████████████████████████████████████████████▉ | 978/1000 [45:35<01:03,  2.88s/it]"
     ]
    },
    {
     "name": "stdout",
     "output_type": "stream",
     "text": [
      "No valid secondary label found at index 21246\n"
     ]
    },
    {
     "name": "stderr",
     "output_type": "stream",
     "text": [
      "Processing Non-Neutral Rows:  98%|█████████████████████████████████████████████████ | 980/1000 [45:42<00:59,  2.97s/it]"
     ]
    },
    {
     "name": "stdout",
     "output_type": "stream",
     "text": [
      "No valid primary label found at index 21249\n",
      "No valid secondary label found at index 21249\n"
     ]
    },
    {
     "name": "stderr",
     "output_type": "stream",
     "text": [
      "\r",
      "Processing Non-Neutral Rows:  98%|█████████████████████████████████████████████████ | 981/1000 [45:44<00:55,  2.91s/it]"
     ]
    },
    {
     "name": "stdout",
     "output_type": "stream",
     "text": [
      "No valid primary label found at index 21250\n",
      "No valid secondary label found at index 21250\n"
     ]
    },
    {
     "name": "stderr",
     "output_type": "stream",
     "text": [
      "Processing Non-Neutral Rows:  99%|█████████████████████████████████████████████████▎| 986/1000 [45:58<00:38,  2.72s/it]"
     ]
    },
    {
     "name": "stdout",
     "output_type": "stream",
     "text": [
      "No valid primary label found at index 21255\n",
      "No valid secondary label found at index 21255\n"
     ]
    },
    {
     "name": "stderr",
     "output_type": "stream",
     "text": [
      "Processing Non-Neutral Rows:  99%|█████████████████████████████████████████████████▍| 988/1000 [46:03<00:33,  2.78s/it]"
     ]
    },
    {
     "name": "stdout",
     "output_type": "stream",
     "text": [
      "No valid primary label found at index 21257\n",
      "No valid secondary label found at index 21257\n"
     ]
    },
    {
     "name": "stderr",
     "output_type": "stream",
     "text": [
      "Processing Non-Neutral Rows:  99%|█████████████████████████████████████████████████▌| 991/1000 [46:12<00:24,  2.74s/it]"
     ]
    },
    {
     "name": "stdout",
     "output_type": "stream",
     "text": [
      "No valid primary label found at index 21261\n",
      "No valid secondary label found at index 21261\n"
     ]
    },
    {
     "name": "stderr",
     "output_type": "stream",
     "text": [
      "\r",
      "Processing Non-Neutral Rows:  99%|█████████████████████████████████████████████████▌| 992/1000 [46:15<00:21,  2.72s/it]"
     ]
    },
    {
     "name": "stdout",
     "output_type": "stream",
     "text": [
      "No valid primary label found at index 21262\n",
      "No valid secondary label found at index 21262\n"
     ]
    },
    {
     "name": "stderr",
     "output_type": "stream",
     "text": [
      "Processing Non-Neutral Rows: 100%|█████████████████████████████████████████████████▊| 996/1000 [46:25<00:10,  2.75s/it]"
     ]
    },
    {
     "name": "stdout",
     "output_type": "stream",
     "text": [
      "No valid primary label found at index 21266\n",
      "No valid secondary label found at index 21266\n"
     ]
    },
    {
     "name": "stderr",
     "output_type": "stream",
     "text": [
      "Processing Non-Neutral Rows: 100%|█████████████████████████████████████████████████▉| 998/1000 [46:31<00:05,  2.79s/it]"
     ]
    },
    {
     "name": "stdout",
     "output_type": "stream",
     "text": [
      "No valid primary label found at index 21268\n",
      "No valid secondary label found at index 21268\n"
     ]
    },
    {
     "name": "stderr",
     "output_type": "stream",
     "text": [
      "\r",
      "Processing Non-Neutral Rows: 100%|█████████████████████████████████████████████████▉| 999/1000 [46:34<00:02,  2.87s/it]"
     ]
    },
    {
     "name": "stdout",
     "output_type": "stream",
     "text": [
      "No valid primary label found at index 21269\n",
      "No valid secondary label found at index 21269\n"
     ]
    },
    {
     "name": "stderr",
     "output_type": "stream",
     "text": [
      "Processing Non-Neutral Rows: 100%|█████████████████████████████████████████████████| 1000/1000 [46:37<00:00,  2.80s/it]"
     ]
    },
    {
     "name": "stdout",
     "output_type": "stream",
     "text": [
      "No valid primary label found at index 21270\n",
      "No valid secondary label found at index 21270\n"
     ]
    },
    {
     "name": "stderr",
     "output_type": "stream",
     "text": [
      "\n"
     ]
    }
   ],
   "source": [
    "for index in tqdm(non_neutral_indices[1000:2000], desc=\"Processing Non-Neutral Rows\"):\n",
    "    classify_and_update_labels(index)"
   ]
  },
  {
   "cell_type": "code",
   "execution_count": 39,
   "id": "188adbf4",
   "metadata": {},
   "outputs": [],
   "source": [
    "df.to_csv('outputs.csv', index=False)"
   ]
  },
  {
   "cell_type": "code",
   "execution_count": 41,
   "id": "34118ae7",
   "metadata": {},
   "outputs": [],
   "source": [
    "redo_indices=failed_indices"
   ]
  },
  {
   "cell_type": "code",
   "execution_count": 42,
   "id": "20aca406",
   "metadata": {},
   "outputs": [],
   "source": [
    "with open('redo.pkl', 'wb') as f:\n",
    "    pickle.dump(redo_indices, f)"
   ]
  },
  {
   "cell_type": "code",
   "execution_count": 43,
   "id": "22fef717",
   "metadata": {},
   "outputs": [
    {
     "name": "stderr",
     "output_type": "stream",
     "text": [
      "Processing Non-Neutral Rows:   1%|▎                                                   | 7/1000 [00:19<44:48,  2.71s/it]"
     ]
    },
    {
     "name": "stdout",
     "output_type": "stream",
     "text": [
      "No valid primary label found at index 21277\n",
      "No valid secondary label found at index 21277\n"
     ]
    },
    {
     "name": "stderr",
     "output_type": "stream",
     "text": [
      "Processing Non-Neutral Rows:   1%|▌                                                  | 12/1000 [00:32<42:52,  2.60s/it]"
     ]
    },
    {
     "name": "stdout",
     "output_type": "stream",
     "text": [
      "No valid primary label found at index 21282\n",
      "No valid secondary label found at index 21282\n"
     ]
    },
    {
     "name": "stderr",
     "output_type": "stream",
     "text": [
      "Processing Non-Neutral Rows:   2%|▊                                                  | 16/1000 [00:42<43:24,  2.65s/it]"
     ]
    },
    {
     "name": "stdout",
     "output_type": "stream",
     "text": [
      "No valid primary label found at index 21287\n",
      "No valid secondary label found at index 21287\n"
     ]
    },
    {
     "name": "stderr",
     "output_type": "stream",
     "text": [
      "Processing Non-Neutral Rows:   2%|▉                                                  | 19/1000 [00:52<46:52,  2.87s/it]"
     ]
    },
    {
     "name": "stdout",
     "output_type": "stream",
     "text": [
      "No valid primary label found at index 21292\n",
      "No valid secondary label found at index 21292\n"
     ]
    },
    {
     "name": "stderr",
     "output_type": "stream",
     "text": [
      "\r",
      "Processing Non-Neutral Rows:   2%|█                                                  | 20/1000 [00:54<46:15,  2.83s/it]"
     ]
    },
    {
     "name": "stdout",
     "output_type": "stream",
     "text": [
      "No valid primary label found at index 21295\n",
      "No valid secondary label found at index 21295\n"
     ]
    },
    {
     "name": "stderr",
     "output_type": "stream",
     "text": [
      "Processing Non-Neutral Rows:   2%|█                                                  | 22/1000 [01:01<49:06,  3.01s/it]"
     ]
    },
    {
     "name": "stdout",
     "output_type": "stream",
     "text": [
      "No valid primary label found at index 21300\n",
      "No valid secondary label found at index 21300\n"
     ]
    },
    {
     "name": "stderr",
     "output_type": "stream",
     "text": [
      "Processing Non-Neutral Rows:   3%|█▍                                                 | 29/1000 [01:19<45:49,  2.83s/it]"
     ]
    },
    {
     "name": "stdout",
     "output_type": "stream",
     "text": [
      "No valid primary label found at index 21311\n",
      "No valid secondary label found at index 21311\n"
     ]
    },
    {
     "name": "stderr",
     "output_type": "stream",
     "text": [
      "\r",
      "Processing Non-Neutral Rows:   3%|█▌                                                 | 30/1000 [01:22<44:40,  2.76s/it]"
     ]
    },
    {
     "name": "stdout",
     "output_type": "stream",
     "text": [
      "No valid primary label found at index 21312\n",
      "No valid secondary label found at index 21312\n"
     ]
    },
    {
     "name": "stderr",
     "output_type": "stream",
     "text": [
      "\r",
      "Processing Non-Neutral Rows:   3%|█▌                                                 | 31/1000 [01:24<42:49,  2.65s/it]"
     ]
    },
    {
     "name": "stdout",
     "output_type": "stream",
     "text": [
      "No valid primary label found at index 21313\n",
      "No valid secondary label found at index 21313\n"
     ]
    },
    {
     "name": "stderr",
     "output_type": "stream",
     "text": [
      "Processing Non-Neutral Rows:   4%|█▊                                                 | 35/1000 [01:34<40:33,  2.52s/it]"
     ]
    },
    {
     "name": "stdout",
     "output_type": "stream",
     "text": [
      "No valid primary label found at index 21318\n",
      "No valid secondary label found at index 21318\n"
     ]
    },
    {
     "name": "stderr",
     "output_type": "stream",
     "text": [
      "Processing Non-Neutral Rows:   4%|█▉                                                 | 37/1000 [01:39<41:27,  2.58s/it]"
     ]
    },
    {
     "name": "stdout",
     "output_type": "stream",
     "text": [
      "No valid primary label found at index 21320\n",
      "No valid secondary label found at index 21320\n"
     ]
    },
    {
     "name": "stderr",
     "output_type": "stream",
     "text": [
      "Processing Non-Neutral Rows:   4%|██▏                                                | 44/1000 [01:59<45:42,  2.87s/it]"
     ]
    },
    {
     "name": "stdout",
     "output_type": "stream",
     "text": [
      "No valid primary label found at index 21330\n",
      "No valid secondary label found at index 21330\n"
     ]
    },
    {
     "name": "stderr",
     "output_type": "stream",
     "text": [
      "Processing Non-Neutral Rows:   5%|██▍                                                | 49/1000 [02:13<42:57,  2.71s/it]"
     ]
    },
    {
     "name": "stdout",
     "output_type": "stream",
     "text": [
      "No valid primary label found at index 21336\n",
      "No valid secondary label found at index 21336\n"
     ]
    },
    {
     "name": "stderr",
     "output_type": "stream",
     "text": [
      "\r",
      "Processing Non-Neutral Rows:   5%|██▌                                                | 50/1000 [02:15<43:26,  2.74s/it]"
     ]
    },
    {
     "name": "stdout",
     "output_type": "stream",
     "text": [
      "No valid primary label found at index 21337\n",
      "No valid secondary label found at index 21337\n"
     ]
    },
    {
     "name": "stderr",
     "output_type": "stream",
     "text": [
      "\r",
      "Processing Non-Neutral Rows:   5%|██▌                                                | 51/1000 [02:18<42:56,  2.71s/it]"
     ]
    },
    {
     "name": "stdout",
     "output_type": "stream",
     "text": [
      "No valid primary label found at index 21338\n",
      "No valid secondary label found at index 21338\n"
     ]
    },
    {
     "name": "stderr",
     "output_type": "stream",
     "text": [
      "\r",
      "Processing Non-Neutral Rows:   5%|██▋                                                | 52/1000 [02:20<41:43,  2.64s/it]"
     ]
    },
    {
     "name": "stdout",
     "output_type": "stream",
     "text": [
      "No valid primary label found at index 21339\n",
      "No valid secondary label found at index 21339\n"
     ]
    },
    {
     "name": "stderr",
     "output_type": "stream",
     "text": [
      "\r",
      "Processing Non-Neutral Rows:   5%|██▋                                                | 53/1000 [02:23<41:56,  2.66s/it]"
     ]
    },
    {
     "name": "stdout",
     "output_type": "stream",
     "text": [
      "No valid primary label found at index 21340\n",
      "No valid secondary label found at index 21340\n"
     ]
    },
    {
     "name": "stderr",
     "output_type": "stream",
     "text": [
      "Processing Non-Neutral Rows:   6%|██▊                                                | 55/1000 [02:28<40:44,  2.59s/it]"
     ]
    },
    {
     "name": "stdout",
     "output_type": "stream",
     "text": [
      "No valid secondary label found at index 21342\n"
     ]
    },
    {
     "name": "stderr",
     "output_type": "stream",
     "text": [
      "Processing Non-Neutral Rows:   6%|██▉                                                | 58/1000 [02:36<40:28,  2.58s/it]"
     ]
    },
    {
     "name": "stdout",
     "output_type": "stream",
     "text": [
      "No valid primary label found at index 21346\n",
      "No valid secondary label found at index 21346\n"
     ]
    },
    {
     "name": "stderr",
     "output_type": "stream",
     "text": [
      "Processing Non-Neutral Rows:   6%|███▎                                               | 64/1000 [02:53<43:18,  2.78s/it]"
     ]
    },
    {
     "name": "stdout",
     "output_type": "stream",
     "text": [
      "No valid primary label found at index 21353\n",
      "No valid secondary label found at index 21353\n"
     ]
    },
    {
     "name": "stderr",
     "output_type": "stream",
     "text": [
      "Processing Non-Neutral Rows:   7%|███▍                                               | 68/1000 [03:03<40:13,  2.59s/it]"
     ]
    },
    {
     "name": "stdout",
     "output_type": "stream",
     "text": [
      "No valid primary label found at index 21357\n",
      "No valid secondary label found at index 21357\n"
     ]
    },
    {
     "name": "stderr",
     "output_type": "stream",
     "text": [
      "Processing Non-Neutral Rows:   7%|███▋                                               | 72/1000 [03:13<41:41,  2.70s/it]"
     ]
    },
    {
     "name": "stdout",
     "output_type": "stream",
     "text": [
      "No valid primary label found at index 21362\n",
      "No valid secondary label found at index 21362\n"
     ]
    },
    {
     "name": "stderr",
     "output_type": "stream",
     "text": [
      "\r",
      "Processing Non-Neutral Rows:   7%|███▋                                               | 73/1000 [03:16<40:49,  2.64s/it]"
     ]
    },
    {
     "name": "stdout",
     "output_type": "stream",
     "text": [
      "No valid primary label found at index 21363\n",
      "No valid secondary label found at index 21363\n"
     ]
    },
    {
     "name": "stderr",
     "output_type": "stream",
     "text": [
      "Processing Non-Neutral Rows:   8%|████                                               | 79/1000 [03:32<41:16,  2.69s/it]"
     ]
    },
    {
     "name": "stdout",
     "output_type": "stream",
     "text": [
      "No valid secondary label found at index 21369\n"
     ]
    },
    {
     "name": "stderr",
     "output_type": "stream",
     "text": [
      "Processing Non-Neutral Rows:   8%|████▏                                              | 81/1000 [03:37<41:38,  2.72s/it]"
     ]
    },
    {
     "name": "stdout",
     "output_type": "stream",
     "text": [
      "No valid primary label found at index 21371\n",
      "No valid secondary label found at index 21371\n"
     ]
    },
    {
     "name": "stderr",
     "output_type": "stream",
     "text": [
      "Processing Non-Neutral Rows:   9%|████▋                                              | 92/1000 [04:08<42:14,  2.79s/it]"
     ]
    },
    {
     "name": "stdout",
     "output_type": "stream",
     "text": [
      "No valid primary label found at index 21382\n",
      "No valid secondary label found at index 21382\n"
     ]
    },
    {
     "name": "stderr",
     "output_type": "stream",
     "text": [
      "Processing Non-Neutral Rows:  10%|█████▏                                            | 104/1000 [04:42<42:14,  2.83s/it]"
     ]
    },
    {
     "name": "stdout",
     "output_type": "stream",
     "text": [
      "No valid primary label found at index 21394\n",
      "No valid secondary label found at index 21394\n"
     ]
    },
    {
     "name": "stderr",
     "output_type": "stream",
     "text": [
      "\r",
      "Processing Non-Neutral Rows:  10%|█████▎                                            | 105/1000 [04:44<42:32,  2.85s/it]"
     ]
    },
    {
     "name": "stdout",
     "output_type": "stream",
     "text": [
      "No valid primary label found at index 21395\n",
      "No valid secondary label found at index 21395\n"
     ]
    },
    {
     "name": "stderr",
     "output_type": "stream",
     "text": [
      "Processing Non-Neutral Rows:  11%|█████▌                                            | 112/1000 [05:03<38:14,  2.58s/it]"
     ]
    },
    {
     "name": "stdout",
     "output_type": "stream",
     "text": [
      "No valid primary label found at index 21404\n",
      "No valid secondary label found at index 21404\n"
     ]
    },
    {
     "name": "stderr",
     "output_type": "stream",
     "text": [
      "Processing Non-Neutral Rows:  12%|█████▊                                            | 117/1000 [05:17<39:26,  2.68s/it]"
     ]
    },
    {
     "name": "stdout",
     "output_type": "stream",
     "text": [
      "No valid primary label found at index 21410\n",
      "No valid secondary label found at index 21410\n"
     ]
    },
    {
     "name": "stderr",
     "output_type": "stream",
     "text": [
      "\r",
      "Processing Non-Neutral Rows:  12%|█████▉                                            | 118/1000 [05:19<39:11,  2.67s/it]"
     ]
    },
    {
     "name": "stdout",
     "output_type": "stream",
     "text": [
      "No valid primary label found at index 21411\n",
      "No valid secondary label found at index 21411\n"
     ]
    },
    {
     "name": "stderr",
     "output_type": "stream",
     "text": [
      "\r",
      "Processing Non-Neutral Rows:  12%|█████▉                                            | 119/1000 [05:22<39:23,  2.68s/it]"
     ]
    },
    {
     "name": "stdout",
     "output_type": "stream",
     "text": [
      "No valid primary label found at index 21412\n",
      "No valid secondary label found at index 21412\n"
     ]
    },
    {
     "name": "stderr",
     "output_type": "stream",
     "text": [
      "Processing Non-Neutral Rows:  13%|██████▎                                           | 126/1000 [05:40<38:25,  2.64s/it]"
     ]
    },
    {
     "name": "stdout",
     "output_type": "stream",
     "text": [
      "No valid primary label found at index 21420\n",
      "No valid secondary label found at index 21420\n"
     ]
    },
    {
     "name": "stderr",
     "output_type": "stream",
     "text": [
      "\r",
      "Processing Non-Neutral Rows:  13%|██████▎                                           | 127/1000 [05:44<40:59,  2.82s/it]"
     ]
    },
    {
     "name": "stdout",
     "output_type": "stream",
     "text": [
      "No valid primary label found at index 21421\n",
      "No valid secondary label found at index 21421\n"
     ]
    },
    {
     "name": "stderr",
     "output_type": "stream",
     "text": [
      "\r",
      "Processing Non-Neutral Rows:  13%|██████▍                                           | 128/1000 [05:46<39:41,  2.73s/it]"
     ]
    },
    {
     "name": "stdout",
     "output_type": "stream",
     "text": [
      "No valid primary label found at index 21422\n",
      "No valid secondary label found at index 21422\n"
     ]
    },
    {
     "name": "stderr",
     "output_type": "stream",
     "text": [
      "Processing Non-Neutral Rows:  13%|██████▋                                           | 133/1000 [06:03<48:08,  3.33s/it]"
     ]
    },
    {
     "name": "stdout",
     "output_type": "stream",
     "text": [
      "No valid primary label found at index 21428\n",
      "No valid secondary label found at index 21428\n"
     ]
    },
    {
     "name": "stderr",
     "output_type": "stream",
     "text": [
      "Processing Non-Neutral Rows:  14%|███████                                           | 141/1000 [06:25<41:35,  2.90s/it]"
     ]
    },
    {
     "name": "stdout",
     "output_type": "stream",
     "text": [
      "No valid primary label found at index 21437\n",
      "No valid secondary label found at index 21437\n"
     ]
    },
    {
     "name": "stderr",
     "output_type": "stream",
     "text": [
      "Processing Non-Neutral Rows:  14%|███████▏                                          | 143/1000 [06:31<42:36,  2.98s/it]"
     ]
    },
    {
     "name": "stdout",
     "output_type": "stream",
     "text": [
      "No valid primary label found at index 21439\n",
      "No valid secondary label found at index 21439\n"
     ]
    },
    {
     "name": "stderr",
     "output_type": "stream",
     "text": [
      "Processing Non-Neutral Rows:  15%|███████▍                                          | 148/1000 [06:44<39:06,  2.75s/it]"
     ]
    },
    {
     "name": "stdout",
     "output_type": "stream",
     "text": [
      "No valid primary label found at index 21444\n",
      "No valid secondary label found at index 21444\n"
     ]
    },
    {
     "name": "stderr",
     "output_type": "stream",
     "text": [
      "Processing Non-Neutral Rows:  16%|███████▉                                          | 158/1000 [07:14<43:26,  3.10s/it]"
     ]
    },
    {
     "name": "stdout",
     "output_type": "stream",
     "text": [
      "No valid primary label found at index 21456\n",
      "No valid secondary label found at index 21456\n"
     ]
    },
    {
     "name": "stderr",
     "output_type": "stream",
     "text": [
      "Processing Non-Neutral Rows:  16%|████████                                          | 160/1000 [07:19<39:22,  2.81s/it]"
     ]
    },
    {
     "name": "stdout",
     "output_type": "stream",
     "text": [
      "No valid primary label found at index 21458\n",
      "No valid secondary label found at index 21458\n"
     ]
    },
    {
     "name": "stderr",
     "output_type": "stream",
     "text": [
      "\r",
      "Processing Non-Neutral Rows:  16%|████████                                          | 161/1000 [07:23<42:21,  3.03s/it]"
     ]
    },
    {
     "name": "stdout",
     "output_type": "stream",
     "text": [
      "No valid secondary label found at index 21459\n"
     ]
    },
    {
     "name": "stderr",
     "output_type": "stream",
     "text": [
      "\r",
      "Processing Non-Neutral Rows:  16%|████████                                          | 162/1000 [07:26<40:23,  2.89s/it]"
     ]
    },
    {
     "name": "stdout",
     "output_type": "stream",
     "text": [
      "No valid primary label found at index 21460\n",
      "No valid secondary label found at index 21460\n"
     ]
    },
    {
     "name": "stderr",
     "output_type": "stream",
     "text": [
      "\r",
      "Processing Non-Neutral Rows:  16%|████████▏                                         | 163/1000 [07:28<40:16,  2.89s/it]"
     ]
    },
    {
     "name": "stdout",
     "output_type": "stream",
     "text": [
      "No valid primary label found at index 21461\n",
      "No valid secondary label found at index 21461\n"
     ]
    },
    {
     "name": "stderr",
     "output_type": "stream",
     "text": [
      "Processing Non-Neutral Rows:  17%|████████▎                                         | 166/1000 [07:37<39:38,  2.85s/it]"
     ]
    },
    {
     "name": "stdout",
     "output_type": "stream",
     "text": [
      "No valid primary label found at index 21464\n",
      "No valid secondary label found at index 21464\n"
     ]
    },
    {
     "name": "stderr",
     "output_type": "stream",
     "text": [
      "Processing Non-Neutral Rows:  17%|████████▌                                         | 172/1000 [07:53<37:50,  2.74s/it]"
     ]
    },
    {
     "name": "stdout",
     "output_type": "stream",
     "text": [
      "No valid secondary label found at index 21471\n"
     ]
    },
    {
     "name": "stderr",
     "output_type": "stream",
     "text": [
      "Processing Non-Neutral Rows:  17%|████████▋                                         | 174/1000 [07:58<37:00,  2.69s/it]"
     ]
    },
    {
     "name": "stdout",
     "output_type": "stream",
     "text": [
      "No valid secondary label found at index 21473\n"
     ]
    },
    {
     "name": "stderr",
     "output_type": "stream",
     "text": [
      "Processing Non-Neutral Rows:  18%|█████████▏                                        | 184/1000 [08:25<36:11,  2.66s/it]"
     ]
    },
    {
     "name": "stdout",
     "output_type": "stream",
     "text": [
      "No valid secondary label found at index 21484\n"
     ]
    },
    {
     "name": "stderr",
     "output_type": "stream",
     "text": [
      "Processing Non-Neutral Rows:  20%|█████████▊                                        | 196/1000 [08:58<35:22,  2.64s/it]"
     ]
    },
    {
     "name": "stdout",
     "output_type": "stream",
     "text": [
      "No valid primary label found at index 21498\n",
      "No valid secondary label found at index 21498\n"
     ]
    },
    {
     "name": "stderr",
     "output_type": "stream",
     "text": [
      "Processing Non-Neutral Rows:  20%|██████████                                        | 200/1000 [09:09<37:57,  2.85s/it]"
     ]
    },
    {
     "name": "stdout",
     "output_type": "stream",
     "text": [
      "No valid primary label found at index 21502\n",
      "No valid secondary label found at index 21502\n"
     ]
    },
    {
     "name": "stderr",
     "output_type": "stream",
     "text": [
      "Processing Non-Neutral Rows:  20%|██████████▎                                       | 205/1000 [09:22<35:31,  2.68s/it]"
     ]
    },
    {
     "name": "stdout",
     "output_type": "stream",
     "text": [
      "No valid primary label found at index 21507\n",
      "No valid secondary label found at index 21507\n"
     ]
    },
    {
     "name": "stderr",
     "output_type": "stream",
     "text": [
      "Processing Non-Neutral Rows:  21%|██████████▍                                       | 208/1000 [09:31<37:04,  2.81s/it]"
     ]
    },
    {
     "name": "stdout",
     "output_type": "stream",
     "text": [
      "No valid primary label found at index 21510\n",
      "No valid secondary label found at index 21510\n"
     ]
    },
    {
     "name": "stderr",
     "output_type": "stream",
     "text": [
      "Processing Non-Neutral Rows:  21%|██████████▌                                       | 210/1000 [09:37<36:24,  2.77s/it]"
     ]
    },
    {
     "name": "stdout",
     "output_type": "stream",
     "text": [
      "No valid primary label found at index 21513\n",
      "No valid secondary label found at index 21513\n"
     ]
    },
    {
     "name": "stderr",
     "output_type": "stream",
     "text": [
      "Processing Non-Neutral Rows:  21%|██████████▌                                       | 212/1000 [09:43<37:51,  2.88s/it]"
     ]
    },
    {
     "name": "stdout",
     "output_type": "stream",
     "text": [
      "No valid primary label found at index 21515\n",
      "No valid secondary label found at index 21515\n"
     ]
    },
    {
     "name": "stderr",
     "output_type": "stream",
     "text": [
      "\r",
      "Processing Non-Neutral Rows:  21%|██████████▋                                       | 213/1000 [09:46<37:32,  2.86s/it]"
     ]
    },
    {
     "name": "stdout",
     "output_type": "stream",
     "text": [
      "No valid primary label found at index 21517\n",
      "No valid secondary label found at index 21517\n"
     ]
    },
    {
     "name": "stderr",
     "output_type": "stream",
     "text": [
      "Processing Non-Neutral Rows:  22%|██████████▊                                       | 216/1000 [09:54<35:21,  2.71s/it]"
     ]
    },
    {
     "name": "stdout",
     "output_type": "stream",
     "text": [
      "No valid primary label found at index 21520\n",
      "No valid secondary label found at index 21520\n"
     ]
    },
    {
     "name": "stderr",
     "output_type": "stream",
     "text": [
      "\r",
      "Processing Non-Neutral Rows:  22%|██████████▊                                       | 217/1000 [09:56<35:01,  2.68s/it]"
     ]
    },
    {
     "name": "stdout",
     "output_type": "stream",
     "text": [
      "No valid primary label found at index 21521\n",
      "No valid secondary label found at index 21521\n"
     ]
    },
    {
     "name": "stderr",
     "output_type": "stream",
     "text": [
      "Processing Non-Neutral Rows:  22%|███████████▏                                      | 223/1000 [10:12<34:53,  2.69s/it]"
     ]
    },
    {
     "name": "stdout",
     "output_type": "stream",
     "text": [
      "No valid secondary label found at index 21527\n"
     ]
    },
    {
     "name": "stderr",
     "output_type": "stream",
     "text": [
      "Processing Non-Neutral Rows:  23%|███████████▋                                      | 233/1000 [10:39<34:35,  2.71s/it]"
     ]
    },
    {
     "name": "stdout",
     "output_type": "stream",
     "text": [
      "No valid primary label found at index 21538\n",
      "No valid secondary label found at index 21538\n"
     ]
    },
    {
     "name": "stderr",
     "output_type": "stream",
     "text": [
      "\r",
      "Processing Non-Neutral Rows:  23%|███████████▋                                      | 234/1000 [10:42<34:07,  2.67s/it]"
     ]
    },
    {
     "name": "stdout",
     "output_type": "stream",
     "text": [
      "No valid primary label found at index 21539\n",
      "No valid secondary label found at index 21539\n"
     ]
    },
    {
     "name": "stderr",
     "output_type": "stream",
     "text": [
      "Processing Non-Neutral Rows:  24%|███████████▊                                      | 236/1000 [10:48<38:38,  3.03s/it]"
     ]
    },
    {
     "name": "stdout",
     "output_type": "stream",
     "text": [
      "No valid secondary label found at index 21541\n"
     ]
    },
    {
     "name": "stderr",
     "output_type": "stream",
     "text": [
      "Processing Non-Neutral Rows:  24%|████████████                                      | 240/1000 [11:00<39:49,  3.14s/it]"
     ]
    },
    {
     "name": "stdout",
     "output_type": "stream",
     "text": [
      "No valid secondary label found at index 21547\n"
     ]
    },
    {
     "name": "stderr",
     "output_type": "stream",
     "text": [
      "Processing Non-Neutral Rows:  24%|████████████▏                                     | 244/1000 [11:11<35:22,  2.81s/it]"
     ]
    },
    {
     "name": "stdout",
     "output_type": "stream",
     "text": [
      "No valid primary label found at index 21551\n",
      "No valid secondary label found at index 21551\n"
     ]
    },
    {
     "name": "stderr",
     "output_type": "stream",
     "text": [
      "\r",
      "Processing Non-Neutral Rows:  24%|████████████▎                                     | 245/1000 [11:14<35:25,  2.82s/it]"
     ]
    },
    {
     "name": "stdout",
     "output_type": "stream",
     "text": [
      "No valid secondary label found at index 21552\n"
     ]
    },
    {
     "name": "stderr",
     "output_type": "stream",
     "text": [
      "\r",
      "Processing Non-Neutral Rows:  25%|████████████▎                                     | 246/1000 [11:17<36:42,  2.92s/it]"
     ]
    },
    {
     "name": "stdout",
     "output_type": "stream",
     "text": [
      "No valid primary label found at index 21553\n",
      "No valid secondary label found at index 21553\n"
     ]
    },
    {
     "name": "stderr",
     "output_type": "stream",
     "text": [
      "Processing Non-Neutral Rows:  25%|████████████▌                                     | 250/1000 [11:30<39:55,  3.19s/it]"
     ]
    },
    {
     "name": "stdout",
     "output_type": "stream",
     "text": [
      "No valid secondary label found at index 21558\n"
     ]
    },
    {
     "name": "stderr",
     "output_type": "stream",
     "text": [
      "Processing Non-Neutral Rows:  26%|████████████▊                                     | 257/1000 [11:47<32:05,  2.59s/it]"
     ]
    },
    {
     "name": "stdout",
     "output_type": "stream",
     "text": [
      "No valid secondary label found at index 21566\n"
     ]
    },
    {
     "name": "stderr",
     "output_type": "stream",
     "text": [
      "Processing Non-Neutral Rows:  26%|████████████▉                                     | 259/1000 [11:54<35:11,  2.85s/it]"
     ]
    },
    {
     "name": "stdout",
     "output_type": "stream",
     "text": [
      "No valid primary label found at index 21570\n",
      "No valid secondary label found at index 21570\n"
     ]
    },
    {
     "name": "stderr",
     "output_type": "stream",
     "text": [
      "Processing Non-Neutral Rows:  28%|█████████████▊                                    | 275/1000 [12:41<34:36,  2.86s/it]"
     ]
    },
    {
     "name": "stdout",
     "output_type": "stream",
     "text": [
      "No valid primary label found at index 21588\n",
      "No valid secondary label found at index 21588\n"
     ]
    },
    {
     "name": "stderr",
     "output_type": "stream",
     "text": [
      "Processing Non-Neutral Rows:  28%|█████████████▊                                    | 277/1000 [12:46<34:36,  2.87s/it]"
     ]
    },
    {
     "name": "stdout",
     "output_type": "stream",
     "text": [
      "No valid secondary label found at index 21593\n"
     ]
    },
    {
     "name": "stderr",
     "output_type": "stream",
     "text": [
      "Processing Non-Neutral Rows:  28%|██████████████▏                                   | 284/1000 [13:06<34:00,  2.85s/it]"
     ]
    },
    {
     "name": "stdout",
     "output_type": "stream",
     "text": [
      "No valid secondary label found at index 21600\n"
     ]
    },
    {
     "name": "stderr",
     "output_type": "stream",
     "text": [
      "Processing Non-Neutral Rows:  29%|██████████████▍                                   | 289/1000 [13:20<32:47,  2.77s/it]"
     ]
    },
    {
     "name": "stdout",
     "output_type": "stream",
     "text": [
      "No valid secondary label found at index 21607\n"
     ]
    },
    {
     "name": "stderr",
     "output_type": "stream",
     "text": [
      "Processing Non-Neutral Rows:  32%|████████████████                                  | 322/1000 [14:56<33:16,  2.94s/it]"
     ]
    },
    {
     "name": "stdout",
     "output_type": "stream",
     "text": [
      "No valid secondary label found at index 21642\n"
     ]
    },
    {
     "name": "stderr",
     "output_type": "stream",
     "text": [
      "Processing Non-Neutral Rows:  33%|████████████████▍                                 | 328/1000 [15:13<31:11,  2.79s/it]"
     ]
    },
    {
     "name": "stdout",
     "output_type": "stream",
     "text": [
      "No valid primary label found at index 21648\n",
      "No valid secondary label found at index 21648\n"
     ]
    },
    {
     "name": "stderr",
     "output_type": "stream",
     "text": [
      "Processing Non-Neutral Rows:  33%|████████████████▋                                 | 334/1000 [15:30<30:43,  2.77s/it]"
     ]
    },
    {
     "name": "stdout",
     "output_type": "stream",
     "text": [
      "No valid primary label found at index 21656\n",
      "No valid secondary label found at index 21656\n"
     ]
    },
    {
     "name": "stderr",
     "output_type": "stream",
     "text": [
      "\r",
      "Processing Non-Neutral Rows:  34%|████████████████▊                                 | 335/1000 [15:32<30:38,  2.76s/it]"
     ]
    },
    {
     "name": "stdout",
     "output_type": "stream",
     "text": [
      "No valid primary label found at index 21657\n",
      "No valid secondary label found at index 21657\n"
     ]
    },
    {
     "name": "stderr",
     "output_type": "stream",
     "text": [
      "Processing Non-Neutral Rows:  34%|█████████████████                                 | 341/1000 [15:50<30:57,  2.82s/it]"
     ]
    },
    {
     "name": "stdout",
     "output_type": "stream",
     "text": [
      "No valid secondary label found at index 21663\n"
     ]
    },
    {
     "name": "stderr",
     "output_type": "stream",
     "text": [
      "Processing Non-Neutral Rows:  35%|█████████████████▍                                | 349/1000 [16:11<29:16,  2.70s/it]"
     ]
    },
    {
     "name": "stdout",
     "output_type": "stream",
     "text": [
      "No valid primary label found at index 21673\n",
      "No valid secondary label found at index 21673\n"
     ]
    },
    {
     "name": "stderr",
     "output_type": "stream",
     "text": [
      "Processing Non-Neutral Rows:  36%|█████████████████▊                                | 355/1000 [16:27<27:49,  2.59s/it]"
     ]
    },
    {
     "name": "stdout",
     "output_type": "stream",
     "text": [
      "No valid primary label found at index 21679\n",
      "No valid secondary label found at index 21679\n"
     ]
    },
    {
     "name": "stderr",
     "output_type": "stream",
     "text": [
      "Processing Non-Neutral Rows:  36%|██████████████████▏                               | 364/1000 [16:50<28:30,  2.69s/it]"
     ]
    },
    {
     "name": "stdout",
     "output_type": "stream",
     "text": [
      "No valid primary label found at index 21688\n",
      "No valid secondary label found at index 21688\n"
     ]
    },
    {
     "name": "stderr",
     "output_type": "stream",
     "text": [
      "\r",
      "Processing Non-Neutral Rows:  36%|██████████████████▎                               | 365/1000 [16:53<27:36,  2.61s/it]"
     ]
    },
    {
     "name": "stdout",
     "output_type": "stream",
     "text": [
      "No valid primary label found at index 21689\n",
      "No valid secondary label found at index 21689\n"
     ]
    },
    {
     "name": "stderr",
     "output_type": "stream",
     "text": [
      "Processing Non-Neutral Rows:  37%|██████████████████▌                               | 371/1000 [17:12<31:12,  2.98s/it]"
     ]
    },
    {
     "name": "stdout",
     "output_type": "stream",
     "text": [
      "No valid primary label found at index 21696\n",
      "No valid secondary label found at index 21696\n"
     ]
    },
    {
     "name": "stderr",
     "output_type": "stream",
     "text": [
      "Processing Non-Neutral Rows:  38%|██████████████████▉                               | 378/1000 [17:31<28:33,  2.76s/it]"
     ]
    },
    {
     "name": "stdout",
     "output_type": "stream",
     "text": [
      "No valid primary label found at index 21703\n",
      "No valid secondary label found at index 21703\n"
     ]
    },
    {
     "name": "stderr",
     "output_type": "stream",
     "text": [
      "\r",
      "Processing Non-Neutral Rows:  38%|██████████████████▉                               | 379/1000 [17:34<28:09,  2.72s/it]"
     ]
    },
    {
     "name": "stdout",
     "output_type": "stream",
     "text": [
      "No valid primary label found at index 21705\n",
      "No valid secondary label found at index 21705\n"
     ]
    },
    {
     "name": "stderr",
     "output_type": "stream",
     "text": [
      "\r",
      "Processing Non-Neutral Rows:  38%|███████████████████                               | 380/1000 [17:36<27:37,  2.67s/it]"
     ]
    },
    {
     "name": "stdout",
     "output_type": "stream",
     "text": [
      "No valid primary label found at index 21706\n",
      "No valid secondary label found at index 21706\n"
     ]
    },
    {
     "name": "stderr",
     "output_type": "stream",
     "text": [
      "Processing Non-Neutral Rows:  38%|███████████████████▏                              | 383/1000 [17:45<29:09,  2.84s/it]"
     ]
    },
    {
     "name": "stdout",
     "output_type": "stream",
     "text": [
      "No valid primary label found at index 21709\n",
      "No valid secondary label found at index 21709\n"
     ]
    },
    {
     "name": "stderr",
     "output_type": "stream",
     "text": [
      "Processing Non-Neutral Rows:  39%|███████████████████▌                              | 390/1000 [18:06<30:25,  2.99s/it]"
     ]
    },
    {
     "name": "stdout",
     "output_type": "stream",
     "text": [
      "No valid primary label found at index 21716\n",
      "No valid secondary label found at index 21716\n"
     ]
    },
    {
     "name": "stderr",
     "output_type": "stream",
     "text": [
      "Processing Non-Neutral Rows:  39%|███████████████████▋                              | 393/1000 [18:16<31:43,  3.14s/it]"
     ]
    },
    {
     "name": "stdout",
     "output_type": "stream",
     "text": [
      "No valid secondary label found at index 21719\n"
     ]
    },
    {
     "name": "stderr",
     "output_type": "stream",
     "text": [
      "Processing Non-Neutral Rows:  40%|███████████████████▉                              | 399/1000 [18:31<26:14,  2.62s/it]"
     ]
    },
    {
     "name": "stdout",
     "output_type": "stream",
     "text": [
      "No valid primary label found at index 21725\n",
      "No valid secondary label found at index 21725\n"
     ]
    },
    {
     "name": "stderr",
     "output_type": "stream",
     "text": [
      "Processing Non-Neutral Rows:  40%|████████████████████▏                             | 403/1000 [18:41<25:16,  2.54s/it]"
     ]
    },
    {
     "name": "stdout",
     "output_type": "stream",
     "text": [
      "No valid primary label found at index 21730\n",
      "No valid secondary label found at index 21730\n"
     ]
    },
    {
     "name": "stderr",
     "output_type": "stream",
     "text": [
      "Processing Non-Neutral Rows:  40%|████████████████████▎                             | 405/1000 [18:46<25:05,  2.53s/it]"
     ]
    },
    {
     "name": "stdout",
     "output_type": "stream",
     "text": [
      "No valid primary label found at index 21733\n",
      "No valid secondary label found at index 21733\n"
     ]
    },
    {
     "name": "stderr",
     "output_type": "stream",
     "text": [
      "\r",
      "Processing Non-Neutral Rows:  41%|████████████████████▎                             | 406/1000 [18:48<25:15,  2.55s/it]"
     ]
    },
    {
     "name": "stdout",
     "output_type": "stream",
     "text": [
      "No valid primary label found at index 21734\n",
      "No valid secondary label found at index 21734\n"
     ]
    },
    {
     "name": "stderr",
     "output_type": "stream",
     "text": [
      "\r",
      "Processing Non-Neutral Rows:  41%|████████████████████▎                             | 407/1000 [18:51<25:38,  2.60s/it]"
     ]
    },
    {
     "name": "stdout",
     "output_type": "stream",
     "text": [
      "No valid primary label found at index 21735\n",
      "No valid secondary label found at index 21735\n"
     ]
    },
    {
     "name": "stderr",
     "output_type": "stream",
     "text": [
      "Processing Non-Neutral Rows:  41%|████████████████████▋                             | 414/1000 [19:09<25:52,  2.65s/it]"
     ]
    },
    {
     "name": "stdout",
     "output_type": "stream",
     "text": [
      "No valid primary label found at index 21744\n",
      "No valid secondary label found at index 21744\n"
     ]
    },
    {
     "name": "stderr",
     "output_type": "stream",
     "text": [
      "\r",
      "Processing Non-Neutral Rows:  42%|████████████████████▊                             | 415/1000 [19:12<26:05,  2.68s/it]"
     ]
    },
    {
     "name": "stdout",
     "output_type": "stream",
     "text": [
      "No valid primary label found at index 21745\n",
      "No valid secondary label found at index 21745\n"
     ]
    },
    {
     "name": "stderr",
     "output_type": "stream",
     "text": [
      "Processing Non-Neutral Rows:  43%|█████████████████████▎                            | 426/1000 [19:40<24:05,  2.52s/it]"
     ]
    },
    {
     "name": "stdout",
     "output_type": "stream",
     "text": [
      "No valid primary label found at index 21758\n",
      "No valid secondary label found at index 21758\n"
     ]
    },
    {
     "name": "stderr",
     "output_type": "stream",
     "text": [
      "Processing Non-Neutral Rows:  44%|█████████████████████▊                            | 436/1000 [20:04<23:40,  2.52s/it]"
     ]
    },
    {
     "name": "stdout",
     "output_type": "stream",
     "text": [
      "No valid primary label found at index 21772\n",
      "No valid secondary label found at index 21772\n"
     ]
    },
    {
     "name": "stderr",
     "output_type": "stream",
     "text": [
      "Processing Non-Neutral Rows:  44%|██████████████████████                            | 442/1000 [20:20<25:15,  2.72s/it]"
     ]
    },
    {
     "name": "stdout",
     "output_type": "stream",
     "text": [
      "No valid secondary label found at index 21778\n"
     ]
    },
    {
     "name": "stderr",
     "output_type": "stream",
     "text": [
      "Processing Non-Neutral Rows:  44%|██████████████████████▏                           | 444/1000 [20:26<25:22,  2.74s/it]"
     ]
    },
    {
     "name": "stdout",
     "output_type": "stream",
     "text": [
      "No valid secondary label found at index 21780\n"
     ]
    },
    {
     "name": "stderr",
     "output_type": "stream",
     "text": [
      "Processing Non-Neutral Rows:  45%|██████████████████████▍                           | 449/1000 [20:40<25:00,  2.72s/it]"
     ]
    },
    {
     "name": "stdout",
     "output_type": "stream",
     "text": [
      "No valid primary label found at index 21785\n",
      "No valid secondary label found at index 21785\n"
     ]
    },
    {
     "name": "stderr",
     "output_type": "stream",
     "text": [
      "Processing Non-Neutral Rows:  46%|██████████████████████▊                           | 455/1000 [20:58<26:51,  2.96s/it]"
     ]
    },
    {
     "name": "stdout",
     "output_type": "stream",
     "text": [
      "No valid secondary label found at index 21791\n"
     ]
    },
    {
     "name": "stderr",
     "output_type": "stream",
     "text": [
      "Processing Non-Neutral Rows:  46%|██████████████████████▊                           | 457/1000 [21:04<27:12,  3.01s/it]"
     ]
    },
    {
     "name": "stdout",
     "output_type": "stream",
     "text": [
      "No valid secondary label found at index 21793\n"
     ]
    },
    {
     "name": "stderr",
     "output_type": "stream",
     "text": [
      "\r",
      "Processing Non-Neutral Rows:  46%|██████████████████████▉                           | 458/1000 [21:06<26:00,  2.88s/it]"
     ]
    },
    {
     "name": "stdout",
     "output_type": "stream",
     "text": [
      "No valid primary label found at index 21794\n",
      "No valid secondary label found at index 21794\n"
     ]
    },
    {
     "name": "stderr",
     "output_type": "stream",
     "text": [
      "Processing Non-Neutral Rows:  46%|███████████████████████                           | 461/1000 [21:18<31:45,  3.53s/it]"
     ]
    },
    {
     "name": "stdout",
     "output_type": "stream",
     "text": [
      "No valid secondary label found at index 21797\n"
     ]
    },
    {
     "name": "stderr",
     "output_type": "stream",
     "text": [
      "\r",
      "Processing Non-Neutral Rows:  46%|███████████████████████                           | 462/1000 [21:22<33:03,  3.69s/it]"
     ]
    },
    {
     "name": "stdout",
     "output_type": "stream",
     "text": [
      "No valid secondary label found at index 21798\n"
     ]
    },
    {
     "name": "stderr",
     "output_type": "stream",
     "text": [
      "Processing Non-Neutral Rows:  48%|████████████████████████                          | 481/1000 [22:13<23:23,  2.70s/it]"
     ]
    },
    {
     "name": "stdout",
     "output_type": "stream",
     "text": [
      "No valid primary label found at index 21821\n",
      "No valid secondary label found at index 21821\n"
     ]
    },
    {
     "name": "stderr",
     "output_type": "stream",
     "text": [
      "Processing Non-Neutral Rows:  49%|████████████████████████▎                         | 487/1000 [22:32<25:57,  3.04s/it]"
     ]
    },
    {
     "name": "stdout",
     "output_type": "stream",
     "text": [
      "No valid primary label found at index 21827\n",
      "No valid secondary label found at index 21827\n"
     ]
    },
    {
     "name": "stderr",
     "output_type": "stream",
     "text": [
      "\r",
      "Processing Non-Neutral Rows:  49%|████████████████████████▍                         | 488/1000 [22:35<25:28,  2.99s/it]"
     ]
    },
    {
     "name": "stdout",
     "output_type": "stream",
     "text": [
      "No valid secondary label found at index 21828\n"
     ]
    },
    {
     "name": "stderr",
     "output_type": "stream",
     "text": [
      "Processing Non-Neutral Rows:  49%|████████████████████████▌                         | 492/1000 [22:47<26:35,  3.14s/it]"
     ]
    },
    {
     "name": "stdout",
     "output_type": "stream",
     "text": [
      "No valid secondary label found at index 21832\n"
     ]
    },
    {
     "name": "stderr",
     "output_type": "stream",
     "text": [
      "Processing Non-Neutral Rows:  50%|████████████████████████▊                         | 496/1000 [23:00<25:57,  3.09s/it]"
     ]
    },
    {
     "name": "stdout",
     "output_type": "stream",
     "text": [
      "No valid primary label found at index 21836\n",
      "No valid secondary label found at index 21836\n"
     ]
    },
    {
     "name": "stderr",
     "output_type": "stream",
     "text": [
      "\r",
      "Processing Non-Neutral Rows:  50%|████████████████████████▊                         | 497/1000 [23:02<24:37,  2.94s/it]"
     ]
    },
    {
     "name": "stdout",
     "output_type": "stream",
     "text": [
      "No valid primary label found at index 21837\n",
      "No valid secondary label found at index 21837\n"
     ]
    },
    {
     "name": "stderr",
     "output_type": "stream",
     "text": [
      "Processing Non-Neutral Rows:  52%|█████████████████████████▊                        | 517/1000 [23:56<22:11,  2.76s/it]"
     ]
    },
    {
     "name": "stdout",
     "output_type": "stream",
     "text": [
      "No valid primary label found at index 21860\n",
      "No valid secondary label found at index 21860\n"
     ]
    },
    {
     "name": "stderr",
     "output_type": "stream",
     "text": [
      "\r",
      "Processing Non-Neutral Rows:  52%|█████████████████████████▉                        | 518/1000 [23:59<21:47,  2.71s/it]"
     ]
    },
    {
     "name": "stdout",
     "output_type": "stream",
     "text": [
      "No valid primary label found at index 21861\n",
      "No valid secondary label found at index 21861\n"
     ]
    },
    {
     "name": "stderr",
     "output_type": "stream",
     "text": [
      "Processing Non-Neutral Rows:  52%|██████████████████████████                        | 520/1000 [24:05<23:10,  2.90s/it]"
     ]
    },
    {
     "name": "stdout",
     "output_type": "stream",
     "text": [
      "No valid primary label found at index 21863\n",
      "No valid secondary label found at index 21863\n"
     ]
    },
    {
     "name": "stderr",
     "output_type": "stream",
     "text": [
      "Processing Non-Neutral Rows:  54%|██████████████████████████▊                       | 537/1000 [24:52<20:14,  2.62s/it]"
     ]
    },
    {
     "name": "stdout",
     "output_type": "stream",
     "text": [
      "No valid secondary label found at index 21882\n"
     ]
    },
    {
     "name": "stderr",
     "output_type": "stream",
     "text": [
      "Processing Non-Neutral Rows:  54%|██████████████████████████▉                       | 539/1000 [24:56<19:40,  2.56s/it]"
     ]
    },
    {
     "name": "stdout",
     "output_type": "stream",
     "text": [
      "No valid primary label found at index 21884\n",
      "No valid secondary label found at index 21884\n"
     ]
    },
    {
     "name": "stderr",
     "output_type": "stream",
     "text": [
      "\r",
      "Processing Non-Neutral Rows:  54%|███████████████████████████                       | 540/1000 [24:59<20:30,  2.67s/it]"
     ]
    },
    {
     "name": "stdout",
     "output_type": "stream",
     "text": [
      "No valid primary label found at index 21885\n",
      "No valid secondary label found at index 21885\n"
     ]
    },
    {
     "name": "stderr",
     "output_type": "stream",
     "text": [
      "\r",
      "Processing Non-Neutral Rows:  54%|███████████████████████████                       | 541/1000 [25:02<20:22,  2.66s/it]"
     ]
    },
    {
     "name": "stdout",
     "output_type": "stream",
     "text": [
      "No valid primary label found at index 21886\n",
      "No valid secondary label found at index 21886\n"
     ]
    },
    {
     "name": "stderr",
     "output_type": "stream",
     "text": [
      "Processing Non-Neutral Rows:  55%|███████████████████████████▎                      | 545/1000 [25:14<21:24,  2.82s/it]"
     ]
    },
    {
     "name": "stdout",
     "output_type": "stream",
     "text": [
      "No valid primary label found at index 21890\n",
      "No valid secondary label found at index 21890\n"
     ]
    },
    {
     "name": "stderr",
     "output_type": "stream",
     "text": [
      "Processing Non-Neutral Rows:  55%|███████████████████████████▎                      | 547/1000 [25:19<20:16,  2.68s/it]"
     ]
    },
    {
     "name": "stdout",
     "output_type": "stream",
     "text": [
      "No valid primary label found at index 21892\n",
      "No valid secondary label found at index 21892\n"
     ]
    },
    {
     "name": "stderr",
     "output_type": "stream",
     "text": [
      "\r",
      "Processing Non-Neutral Rows:  55%|███████████████████████████▍                      | 548/1000 [25:21<20:02,  2.66s/it]"
     ]
    },
    {
     "name": "stdout",
     "output_type": "stream",
     "text": [
      "No valid primary label found at index 21893\n",
      "No valid secondary label found at index 21893\n"
     ]
    },
    {
     "name": "stderr",
     "output_type": "stream",
     "text": [
      "\r",
      "Processing Non-Neutral Rows:  55%|███████████████████████████▍                      | 549/1000 [25:24<19:53,  2.65s/it]"
     ]
    },
    {
     "name": "stdout",
     "output_type": "stream",
     "text": [
      "No valid primary label found at index 21894\n",
      "No valid secondary label found at index 21894\n"
     ]
    },
    {
     "name": "stderr",
     "output_type": "stream",
     "text": [
      "Processing Non-Neutral Rows:  55%|███████████████████████████▌                      | 551/1000 [25:29<20:02,  2.68s/it]"
     ]
    },
    {
     "name": "stdout",
     "output_type": "stream",
     "text": [
      "No valid primary label found at index 21896\n",
      "No valid secondary label found at index 21896\n"
     ]
    },
    {
     "name": "stderr",
     "output_type": "stream",
     "text": [
      "\r",
      "Processing Non-Neutral Rows:  55%|███████████████████████████▌                      | 552/1000 [25:32<20:20,  2.72s/it]"
     ]
    },
    {
     "name": "stdout",
     "output_type": "stream",
     "text": [
      "No valid primary label found at index 21898\n",
      "No valid secondary label found at index 21898\n"
     ]
    },
    {
     "name": "stderr",
     "output_type": "stream",
     "text": [
      "\r",
      "Processing Non-Neutral Rows:  55%|███████████████████████████▋                      | 553/1000 [25:35<20:01,  2.69s/it]"
     ]
    },
    {
     "name": "stdout",
     "output_type": "stream",
     "text": [
      "No valid primary label found at index 21899\n",
      "No valid secondary label found at index 21899\n"
     ]
    },
    {
     "name": "stderr",
     "output_type": "stream",
     "text": [
      "Processing Non-Neutral Rows:  56%|███████████████████████████▉                      | 558/1000 [25:50<21:47,  2.96s/it]"
     ]
    },
    {
     "name": "stdout",
     "output_type": "stream",
     "text": [
      "No valid primary label found at index 21905\n",
      "No valid secondary label found at index 21905\n"
     ]
    },
    {
     "name": "stderr",
     "output_type": "stream",
     "text": [
      "Processing Non-Neutral Rows:  56%|████████████████████████████                      | 561/1000 [25:58<20:13,  2.76s/it]"
     ]
    },
    {
     "name": "stdout",
     "output_type": "stream",
     "text": [
      "No valid secondary label found at index 21908\n"
     ]
    },
    {
     "name": "stderr",
     "output_type": "stream",
     "text": [
      "Processing Non-Neutral Rows:  56%|████████████████████████████▏                     | 563/1000 [26:03<19:19,  2.65s/it]"
     ]
    },
    {
     "name": "stdout",
     "output_type": "stream",
     "text": [
      "No valid primary label found at index 21910\n",
      "No valid secondary label found at index 21910\n"
     ]
    },
    {
     "name": "stderr",
     "output_type": "stream",
     "text": [
      "Processing Non-Neutral Rows:  57%|████████████████████████████▎                     | 566/1000 [26:11<19:16,  2.67s/it]"
     ]
    },
    {
     "name": "stdout",
     "output_type": "stream",
     "text": [
      "No valid primary label found at index 21913\n",
      "No valid secondary label found at index 21913\n"
     ]
    },
    {
     "name": "stderr",
     "output_type": "stream",
     "text": [
      "\r",
      "Processing Non-Neutral Rows:  57%|████████████████████████████▎                     | 567/1000 [26:13<18:51,  2.61s/it]"
     ]
    },
    {
     "name": "stdout",
     "output_type": "stream",
     "text": [
      "No valid primary label found at index 21914\n",
      "No valid secondary label found at index 21914\n"
     ]
    },
    {
     "name": "stderr",
     "output_type": "stream",
     "text": [
      "Processing Non-Neutral Rows:  57%|████████████████████████████▍                     | 569/1000 [26:18<18:27,  2.57s/it]"
     ]
    },
    {
     "name": "stdout",
     "output_type": "stream",
     "text": [
      "No valid primary label found at index 21916\n",
      "No valid secondary label found at index 21916\n"
     ]
    },
    {
     "name": "stderr",
     "output_type": "stream",
     "text": [
      "Processing Non-Neutral Rows:  57%|████████████████████████████▋                     | 573/1000 [26:30<19:48,  2.78s/it]"
     ]
    },
    {
     "name": "stdout",
     "output_type": "stream",
     "text": [
      "No valid secondary label found at index 21920\n"
     ]
    },
    {
     "name": "stderr",
     "output_type": "stream",
     "text": [
      "Processing Non-Neutral Rows:  57%|████████████████████████████▋                     | 575/1000 [26:35<19:12,  2.71s/it]"
     ]
    },
    {
     "name": "stdout",
     "output_type": "stream",
     "text": [
      "No valid primary label found at index 21923\n",
      "No valid secondary label found at index 21923\n"
     ]
    },
    {
     "name": "stderr",
     "output_type": "stream",
     "text": [
      "Processing Non-Neutral Rows:  58%|████████████████████████████▊                     | 577/1000 [26:40<18:18,  2.60s/it]"
     ]
    },
    {
     "name": "stdout",
     "output_type": "stream",
     "text": [
      "No valid primary label found at index 21925\n",
      "No valid secondary label found at index 21925\n"
     ]
    },
    {
     "name": "stderr",
     "output_type": "stream",
     "text": [
      "Processing Non-Neutral Rows:  58%|█████████████████████████████▏                    | 584/1000 [27:00<21:16,  3.07s/it]"
     ]
    },
    {
     "name": "stdout",
     "output_type": "stream",
     "text": [
      "No valid primary label found at index 21933\n",
      "No valid secondary label found at index 21933\n"
     ]
    },
    {
     "name": "stderr",
     "output_type": "stream",
     "text": [
      "Processing Non-Neutral Rows:  60%|██████████████████████████████▏                   | 604/1000 [27:53<17:15,  2.62s/it]"
     ]
    },
    {
     "name": "stdout",
     "output_type": "stream",
     "text": [
      "No valid primary label found at index 21956\n",
      "No valid secondary label found at index 21956\n"
     ]
    },
    {
     "name": "stderr",
     "output_type": "stream",
     "text": [
      "Processing Non-Neutral Rows:  61%|██████████████████████████████▌                   | 610/1000 [28:08<16:18,  2.51s/it]"
     ]
    },
    {
     "name": "stdout",
     "output_type": "stream",
     "text": [
      "No valid primary label found at index 21962\n",
      "No valid secondary label found at index 21962\n"
     ]
    },
    {
     "name": "stderr",
     "output_type": "stream",
     "text": [
      "\r",
      "Processing Non-Neutral Rows:  61%|██████████████████████████████▌                   | 611/1000 [28:11<17:23,  2.68s/it]"
     ]
    },
    {
     "name": "stdout",
     "output_type": "stream",
     "text": [
      "No valid primary label found at index 21963\n",
      "No valid secondary label found at index 21963\n"
     ]
    },
    {
     "name": "stderr",
     "output_type": "stream",
     "text": [
      "Processing Non-Neutral Rows:  62%|██████████████████████████████▉                   | 618/1000 [28:29<16:47,  2.64s/it]"
     ]
    },
    {
     "name": "stdout",
     "output_type": "stream",
     "text": [
      "No valid primary label found at index 21971\n",
      "No valid secondary label found at index 21971\n"
     ]
    },
    {
     "name": "stderr",
     "output_type": "stream",
     "text": [
      "Processing Non-Neutral Rows:  62%|███████████████████████████████▏                  | 623/1000 [28:42<16:15,  2.59s/it]"
     ]
    },
    {
     "name": "stdout",
     "output_type": "stream",
     "text": [
      "No valid primary label found at index 21976\n",
      "No valid secondary label found at index 21976\n"
     ]
    },
    {
     "name": "stderr",
     "output_type": "stream",
     "text": [
      "Processing Non-Neutral Rows:  63%|███████████████████████████████▎                  | 627/1000 [28:53<16:02,  2.58s/it]"
     ]
    },
    {
     "name": "stdout",
     "output_type": "stream",
     "text": [
      "No valid primary label found at index 21980\n",
      "No valid secondary label found at index 21980\n"
     ]
    },
    {
     "name": "stderr",
     "output_type": "stream",
     "text": [
      "\r",
      "Processing Non-Neutral Rows:  63%|███████████████████████████████▍                  | 628/1000 [28:56<16:42,  2.70s/it]"
     ]
    },
    {
     "name": "stdout",
     "output_type": "stream",
     "text": [
      "No valid primary label found at index 21981\n",
      "No valid secondary label found at index 21981\n"
     ]
    },
    {
     "name": "stderr",
     "output_type": "stream",
     "text": [
      "\r",
      "Processing Non-Neutral Rows:  63%|███████████████████████████████▍                  | 629/1000 [28:59<18:08,  2.93s/it]"
     ]
    },
    {
     "name": "stdout",
     "output_type": "stream",
     "text": [
      "No valid secondary label found at index 21982\n"
     ]
    },
    {
     "name": "stderr",
     "output_type": "stream",
     "text": [
      "\r",
      "Processing Non-Neutral Rows:  63%|███████████████████████████████▌                  | 630/1000 [29:02<17:53,  2.90s/it]"
     ]
    },
    {
     "name": "stdout",
     "output_type": "stream",
     "text": [
      "No valid primary label found at index 21983\n",
      "No valid secondary label found at index 21983\n"
     ]
    },
    {
     "name": "stderr",
     "output_type": "stream",
     "text": [
      "Processing Non-Neutral Rows:  64%|████████████████████████████████▏                 | 643/1000 [29:37<16:45,  2.82s/it]"
     ]
    },
    {
     "name": "stdout",
     "output_type": "stream",
     "text": [
      "No valid primary label found at index 21999\n",
      "No valid secondary label found at index 21999\n"
     ]
    },
    {
     "name": "stderr",
     "output_type": "stream",
     "text": [
      "\r",
      "Processing Non-Neutral Rows:  64%|████████████████████████████████▏                 | 644/1000 [29:39<16:11,  2.73s/it]"
     ]
    },
    {
     "name": "stdout",
     "output_type": "stream",
     "text": [
      "No valid primary label found at index 22000\n",
      "No valid secondary label found at index 22000\n"
     ]
    },
    {
     "name": "stderr",
     "output_type": "stream",
     "text": [
      "Processing Non-Neutral Rows:  65%|████████████████████████████████▍                 | 648/1000 [29:50<15:17,  2.61s/it]"
     ]
    },
    {
     "name": "stdout",
     "output_type": "stream",
     "text": [
      "No valid primary label found at index 22004\n",
      "No valid secondary label found at index 22004\n"
     ]
    },
    {
     "name": "stderr",
     "output_type": "stream",
     "text": [
      "\r",
      "Processing Non-Neutral Rows:  65%|████████████████████████████████▍                 | 649/1000 [29:52<15:12,  2.60s/it]"
     ]
    },
    {
     "name": "stdout",
     "output_type": "stream",
     "text": [
      "No valid primary label found at index 22005\n",
      "No valid secondary label found at index 22005\n"
     ]
    },
    {
     "name": "stderr",
     "output_type": "stream",
     "text": [
      "\r",
      "Processing Non-Neutral Rows:  65%|████████████████████████████████▌                 | 650/1000 [29:55<15:14,  2.61s/it]"
     ]
    },
    {
     "name": "stdout",
     "output_type": "stream",
     "text": [
      "No valid primary label found at index 22006\n",
      "No valid secondary label found at index 22006\n"
     ]
    },
    {
     "name": "stderr",
     "output_type": "stream",
     "text": [
      "\r",
      "Processing Non-Neutral Rows:  65%|████████████████████████████████▌                 | 651/1000 [29:57<15:01,  2.58s/it]"
     ]
    },
    {
     "name": "stdout",
     "output_type": "stream",
     "text": [
      "No valid primary label found at index 22007\n",
      "No valid secondary label found at index 22007\n"
     ]
    },
    {
     "name": "stderr",
     "output_type": "stream",
     "text": [
      "\r",
      "Processing Non-Neutral Rows:  65%|████████████████████████████████▌                 | 652/1000 [30:00<15:34,  2.69s/it]"
     ]
    },
    {
     "name": "stdout",
     "output_type": "stream",
     "text": [
      "No valid primary label found at index 22008\n",
      "No valid secondary label found at index 22008\n"
     ]
    },
    {
     "name": "stderr",
     "output_type": "stream",
     "text": [
      "Processing Non-Neutral Rows:  66%|████████████████████████████████▉                 | 658/1000 [30:17<16:01,  2.81s/it]"
     ]
    },
    {
     "name": "stdout",
     "output_type": "stream",
     "text": [
      "No valid primary label found at index 22015\n",
      "No valid secondary label found at index 22015\n"
     ]
    },
    {
     "name": "stderr",
     "output_type": "stream",
     "text": [
      "\r",
      "Processing Non-Neutral Rows:  66%|████████████████████████████████▉                 | 659/1000 [30:20<15:28,  2.72s/it]"
     ]
    },
    {
     "name": "stdout",
     "output_type": "stream",
     "text": [
      "No valid primary label found at index 22016\n",
      "No valid secondary label found at index 22016\n"
     ]
    },
    {
     "name": "stderr",
     "output_type": "stream",
     "text": [
      "Processing Non-Neutral Rows:  66%|█████████████████████████████████                 | 662/1000 [30:28<14:47,  2.63s/it]"
     ]
    },
    {
     "name": "stdout",
     "output_type": "stream",
     "text": [
      "No valid primary label found at index 22019\n",
      "No valid secondary label found at index 22019\n"
     ]
    },
    {
     "name": "stderr",
     "output_type": "stream",
     "text": [
      "\r",
      "Processing Non-Neutral Rows:  66%|█████████████████████████████████▏                | 663/1000 [30:30<14:25,  2.57s/it]"
     ]
    },
    {
     "name": "stdout",
     "output_type": "stream",
     "text": [
      "No valid primary label found at index 22020\n",
      "No valid secondary label found at index 22020\n"
     ]
    },
    {
     "name": "stderr",
     "output_type": "stream",
     "text": [
      "\r",
      "Processing Non-Neutral Rows:  66%|█████████████████████████████████▏                | 664/1000 [30:33<14:18,  2.56s/it]"
     ]
    },
    {
     "name": "stdout",
     "output_type": "stream",
     "text": [
      "No valid primary label found at index 22022\n",
      "No valid secondary label found at index 22022\n"
     ]
    },
    {
     "name": "stderr",
     "output_type": "stream",
     "text": [
      "Processing Non-Neutral Rows:  67%|█████████████████████████████████▍                | 668/1000 [30:43<14:39,  2.65s/it]"
     ]
    },
    {
     "name": "stdout",
     "output_type": "stream",
     "text": [
      "No valid primary label found at index 22028\n",
      "No valid secondary label found at index 22028\n"
     ]
    },
    {
     "name": "stderr",
     "output_type": "stream",
     "text": [
      "Processing Non-Neutral Rows:  67%|█████████████████████████████████▌                | 670/1000 [30:49<15:11,  2.76s/it]"
     ]
    },
    {
     "name": "stdout",
     "output_type": "stream",
     "text": [
      "No valid primary label found at index 22031\n",
      "No valid secondary label found at index 22031\n"
     ]
    },
    {
     "name": "stderr",
     "output_type": "stream",
     "text": [
      "Processing Non-Neutral Rows:  68%|█████████████████████████████████▉                | 679/1000 [31:14<15:20,  2.87s/it]"
     ]
    },
    {
     "name": "stdout",
     "output_type": "stream",
     "text": [
      "No valid primary label found at index 22048\n",
      "No valid secondary label found at index 22048\n"
     ]
    },
    {
     "name": "stderr",
     "output_type": "stream",
     "text": [
      "Processing Non-Neutral Rows:  68%|██████████████████████████████████                | 681/1000 [31:20<15:47,  2.97s/it]"
     ]
    },
    {
     "name": "stdout",
     "output_type": "stream",
     "text": [
      "No valid primary label found at index 22050\n",
      "No valid secondary label found at index 22050\n"
     ]
    },
    {
     "name": "stderr",
     "output_type": "stream",
     "text": [
      "Processing Non-Neutral Rows:  68%|██████████████████████████████████▏               | 684/1000 [31:28<14:51,  2.82s/it]"
     ]
    },
    {
     "name": "stdout",
     "output_type": "stream",
     "text": [
      "No valid primary label found at index 22053\n",
      "No valid secondary label found at index 22053\n"
     ]
    },
    {
     "name": "stderr",
     "output_type": "stream",
     "text": [
      "Processing Non-Neutral Rows:  70%|██████████████████████████████████▉               | 698/1000 [32:08<14:18,  2.84s/it]"
     ]
    },
    {
     "name": "stdout",
     "output_type": "stream",
     "text": [
      "No valid primary label found at index 22070\n",
      "No valid secondary label found at index 22070\n"
     ]
    },
    {
     "name": "stderr",
     "output_type": "stream",
     "text": [
      "\r",
      "Processing Non-Neutral Rows:  70%|██████████████████████████████████▉               | 699/1000 [32:10<14:03,  2.80s/it]"
     ]
    },
    {
     "name": "stdout",
     "output_type": "stream",
     "text": [
      "No valid primary label found at index 22071\n",
      "No valid secondary label found at index 22071\n"
     ]
    },
    {
     "name": "stderr",
     "output_type": "stream",
     "text": [
      "Processing Non-Neutral Rows:  70%|███████████████████████████████████▏              | 703/1000 [32:21<13:34,  2.74s/it]"
     ]
    },
    {
     "name": "stdout",
     "output_type": "stream",
     "text": [
      "No valid primary label found at index 22075\n",
      "No valid secondary label found at index 22075\n"
     ]
    },
    {
     "name": "stderr",
     "output_type": "stream",
     "text": [
      "\r",
      "Processing Non-Neutral Rows:  70%|███████████████████████████████████▏              | 704/1000 [32:24<13:23,  2.72s/it]"
     ]
    },
    {
     "name": "stdout",
     "output_type": "stream",
     "text": [
      "No valid primary label found at index 22076\n",
      "No valid secondary label found at index 22076\n"
     ]
    },
    {
     "name": "stderr",
     "output_type": "stream",
     "text": [
      "Processing Non-Neutral Rows:  72%|███████████████████████████████████▉              | 718/1000 [33:03<12:00,  2.55s/it]"
     ]
    },
    {
     "name": "stdout",
     "output_type": "stream",
     "text": [
      "No valid primary label found at index 22092\n",
      "No valid secondary label found at index 22092\n"
     ]
    },
    {
     "name": "stderr",
     "output_type": "stream",
     "text": [
      "Processing Non-Neutral Rows:  72%|████████████████████████████████████              | 720/1000 [33:08<12:07,  2.60s/it]"
     ]
    },
    {
     "name": "stdout",
     "output_type": "stream",
     "text": [
      "No valid primary label found at index 22094\n",
      "No valid secondary label found at index 22094\n"
     ]
    },
    {
     "name": "stderr",
     "output_type": "stream",
     "text": [
      "Processing Non-Neutral Rows:  73%|████████████████████████████████████▎             | 727/1000 [33:26<11:39,  2.56s/it]"
     ]
    },
    {
     "name": "stdout",
     "output_type": "stream",
     "text": [
      "No valid primary label found at index 22101\n",
      "No valid secondary label found at index 22101\n"
     ]
    },
    {
     "name": "stderr",
     "output_type": "stream",
     "text": [
      "\r",
      "Processing Non-Neutral Rows:  73%|████████████████████████████████████▍             | 728/1000 [33:29<12:22,  2.73s/it]"
     ]
    },
    {
     "name": "stdout",
     "output_type": "stream",
     "text": [
      "No valid primary label found at index 22102\n",
      "No valid secondary label found at index 22102\n"
     ]
    },
    {
     "name": "stderr",
     "output_type": "stream",
     "text": [
      "Processing Non-Neutral Rows:  77%|██████████████████████████████████████▋           | 773/1000 [35:39<12:43,  3.37s/it]"
     ]
    },
    {
     "name": "stdout",
     "output_type": "stream",
     "text": [
      "No valid secondary label found at index 22154\n"
     ]
    },
    {
     "name": "stderr",
     "output_type": "stream",
     "text": [
      "Processing Non-Neutral Rows:  78%|███████████████████████████████████████           | 781/1000 [36:00<09:44,  2.67s/it]"
     ]
    },
    {
     "name": "stdout",
     "output_type": "stream",
     "text": [
      "No valid primary label found at index 22162\n",
      "No valid secondary label found at index 22162\n"
     ]
    },
    {
     "name": "stderr",
     "output_type": "stream",
     "text": [
      "Processing Non-Neutral Rows:  79%|███████████████████████████████████████▎          | 787/1000 [36:15<09:27,  2.66s/it]"
     ]
    },
    {
     "name": "stdout",
     "output_type": "stream",
     "text": [
      "No valid primary label found at index 22168\n",
      "No valid secondary label found at index 22168\n"
     ]
    },
    {
     "name": "stderr",
     "output_type": "stream",
     "text": [
      "Processing Non-Neutral Rows:  79%|███████████████████████████████████████▌          | 790/1000 [36:24<09:34,  2.74s/it]"
     ]
    },
    {
     "name": "stdout",
     "output_type": "stream",
     "text": [
      "No valid secondary label found at index 22171\n"
     ]
    },
    {
     "name": "stderr",
     "output_type": "stream",
     "text": [
      "\r",
      "Processing Non-Neutral Rows:  79%|███████████████████████████████████████▌          | 791/1000 [36:26<09:28,  2.72s/it]"
     ]
    },
    {
     "name": "stdout",
     "output_type": "stream",
     "text": [
      "No valid secondary label found at index 22172\n"
     ]
    },
    {
     "name": "stderr",
     "output_type": "stream",
     "text": [
      "Processing Non-Neutral Rows:  80%|████████████████████████████████████████          | 800/1000 [36:50<08:40,  2.60s/it]"
     ]
    },
    {
     "name": "stdout",
     "output_type": "stream",
     "text": [
      "No valid primary label found at index 22184\n",
      "No valid secondary label found at index 22184\n"
     ]
    },
    {
     "name": "stderr",
     "output_type": "stream",
     "text": [
      "\r",
      "Processing Non-Neutral Rows:  80%|████████████████████████████████████████          | 801/1000 [36:53<08:50,  2.67s/it]"
     ]
    },
    {
     "name": "stdout",
     "output_type": "stream",
     "text": [
      "No valid secondary label found at index 22185\n"
     ]
    },
    {
     "name": "stderr",
     "output_type": "stream",
     "text": [
      "Processing Non-Neutral Rows:  81%|████████████████████████████████████████▎         | 806/1000 [37:06<08:35,  2.66s/it]"
     ]
    },
    {
     "name": "stdout",
     "output_type": "stream",
     "text": [
      "No valid primary label found at index 22191\n",
      "No valid secondary label found at index 22191\n"
     ]
    },
    {
     "name": "stderr",
     "output_type": "stream",
     "text": [
      "Processing Non-Neutral Rows:  81%|████████████████████████████████████████▌         | 810/1000 [37:17<08:13,  2.60s/it]"
     ]
    },
    {
     "name": "stdout",
     "output_type": "stream",
     "text": [
      "No valid primary label found at index 22196\n",
      "No valid secondary label found at index 22196\n"
     ]
    },
    {
     "name": "stderr",
     "output_type": "stream",
     "text": [
      "Processing Non-Neutral Rows:  82%|█████████████████████████████████████████▏        | 823/1000 [37:53<07:52,  2.67s/it]"
     ]
    },
    {
     "name": "stdout",
     "output_type": "stream",
     "text": [
      "No valid primary label found at index 22210\n",
      "No valid secondary label found at index 22210\n"
     ]
    },
    {
     "name": "stderr",
     "output_type": "stream",
     "text": [
      "Processing Non-Neutral Rows:  83%|█████████████████████████████████████████▎        | 827/1000 [38:04<07:32,  2.61s/it]"
     ]
    },
    {
     "name": "stdout",
     "output_type": "stream",
     "text": [
      "No valid primary label found at index 22214\n",
      "No valid secondary label found at index 22214\n"
     ]
    },
    {
     "name": "stderr",
     "output_type": "stream",
     "text": [
      "\r",
      "Processing Non-Neutral Rows:  83%|█████████████████████████████████████████▍        | 828/1000 [38:07<07:44,  2.70s/it]"
     ]
    },
    {
     "name": "stdout",
     "output_type": "stream",
     "text": [
      "No valid primary label found at index 22215\n",
      "No valid secondary label found at index 22215\n"
     ]
    },
    {
     "name": "stderr",
     "output_type": "stream",
     "text": [
      "Processing Non-Neutral Rows:  83%|█████████████████████████████████████████▌        | 832/1000 [38:18<07:59,  2.86s/it]"
     ]
    },
    {
     "name": "stdout",
     "output_type": "stream",
     "text": [
      "No valid primary label found at index 22219\n",
      "No valid secondary label found at index 22219\n"
     ]
    },
    {
     "name": "stderr",
     "output_type": "stream",
     "text": [
      "\r",
      "Processing Non-Neutral Rows:  83%|█████████████████████████████████████████▋        | 833/1000 [38:21<07:48,  2.80s/it]"
     ]
    },
    {
     "name": "stdout",
     "output_type": "stream",
     "text": [
      "No valid primary label found at index 22220\n",
      "No valid secondary label found at index 22220\n"
     ]
    },
    {
     "name": "stderr",
     "output_type": "stream",
     "text": [
      "\r",
      "Processing Non-Neutral Rows:  83%|█████████████████████████████████████████▋        | 834/1000 [38:23<07:29,  2.71s/it]"
     ]
    },
    {
     "name": "stdout",
     "output_type": "stream",
     "text": [
      "No valid primary label found at index 22221\n",
      "No valid secondary label found at index 22221\n"
     ]
    },
    {
     "name": "stderr",
     "output_type": "stream",
     "text": [
      "Processing Non-Neutral Rows:  85%|██████████████████████████████████████████▋       | 853/1000 [39:13<06:05,  2.49s/it]"
     ]
    },
    {
     "name": "stdout",
     "output_type": "stream",
     "text": [
      "No valid primary label found at index 22244\n",
      "No valid secondary label found at index 22244\n"
     ]
    },
    {
     "name": "stderr",
     "output_type": "stream",
     "text": [
      "Processing Non-Neutral Rows:  86%|███████████████████████████████████████████       | 862/1000 [39:37<06:02,  2.62s/it]"
     ]
    },
    {
     "name": "stdout",
     "output_type": "stream",
     "text": [
      "No valid primary label found at index 22254\n",
      "No valid secondary label found at index 22254\n"
     ]
    },
    {
     "name": "stderr",
     "output_type": "stream",
     "text": [
      "Processing Non-Neutral Rows:  88%|███████████████████████████████████████████▊      | 877/1000 [40:15<05:22,  2.62s/it]"
     ]
    },
    {
     "name": "stdout",
     "output_type": "stream",
     "text": [
      "No valid primary label found at index 22279\n",
      "No valid secondary label found at index 22279\n"
     ]
    },
    {
     "name": "stderr",
     "output_type": "stream",
     "text": [
      "Processing Non-Neutral Rows:  88%|████████████████████████████████████████████      | 880/1000 [40:23<05:20,  2.67s/it]"
     ]
    },
    {
     "name": "stdout",
     "output_type": "stream",
     "text": [
      "No valid primary label found at index 22282\n",
      "No valid secondary label found at index 22282\n"
     ]
    },
    {
     "name": "stderr",
     "output_type": "stream",
     "text": [
      "Processing Non-Neutral Rows:  93%|██████████████████████████████████████████████▌   | 930/1000 [42:46<03:20,  2.86s/it]"
     ]
    },
    {
     "name": "stdout",
     "output_type": "stream",
     "text": [
      "No valid primary label found at index 22340\n",
      "No valid secondary label found at index 22340\n"
     ]
    },
    {
     "name": "stderr",
     "output_type": "stream",
     "text": [
      "Processing Non-Neutral Rows:  94%|███████████████████████████████████████████████   | 940/1000 [43:12<02:37,  2.63s/it]"
     ]
    },
    {
     "name": "stdout",
     "output_type": "stream",
     "text": [
      "No valid primary label found at index 22358\n",
      "No valid secondary label found at index 22358\n"
     ]
    },
    {
     "name": "stderr",
     "output_type": "stream",
     "text": [
      "\r",
      "Processing Non-Neutral Rows:  94%|███████████████████████████████████████████████   | 941/1000 [43:15<02:32,  2.59s/it]"
     ]
    },
    {
     "name": "stdout",
     "output_type": "stream",
     "text": [
      "No valid secondary label found at index 22359\n"
     ]
    },
    {
     "name": "stderr",
     "output_type": "stream",
     "text": [
      "\r",
      "Processing Non-Neutral Rows:  94%|███████████████████████████████████████████████   | 942/1000 [43:18<02:37,  2.72s/it]"
     ]
    },
    {
     "name": "stdout",
     "output_type": "stream",
     "text": [
      "No valid primary label found at index 22360\n",
      "No valid secondary label found at index 22360\n"
     ]
    },
    {
     "name": "stderr",
     "output_type": "stream",
     "text": [
      "\r",
      "Processing Non-Neutral Rows:  94%|███████████████████████████████████████████████▏  | 943/1000 [43:20<02:35,  2.73s/it]"
     ]
    },
    {
     "name": "stdout",
     "output_type": "stream",
     "text": [
      "No valid primary label found at index 22361\n",
      "No valid secondary label found at index 22361\n"
     ]
    },
    {
     "name": "stderr",
     "output_type": "stream",
     "text": [
      "\r",
      "Processing Non-Neutral Rows:  94%|███████████████████████████████████████████████▏  | 944/1000 [43:23<02:30,  2.69s/it]"
     ]
    },
    {
     "name": "stdout",
     "output_type": "stream",
     "text": [
      "No valid primary label found at index 22362\n",
      "No valid secondary label found at index 22362\n"
     ]
    },
    {
     "name": "stderr",
     "output_type": "stream",
     "text": [
      "Processing Non-Neutral Rows:  95%|███████████████████████████████████████████████▎  | 946/1000 [43:28<02:21,  2.63s/it]"
     ]
    },
    {
     "name": "stdout",
     "output_type": "stream",
     "text": [
      "No valid primary label found at index 22364\n",
      "No valid secondary label found at index 22364\n"
     ]
    },
    {
     "name": "stderr",
     "output_type": "stream",
     "text": [
      "Processing Non-Neutral Rows:  95%|███████████████████████████████████████████████▌  | 950/1000 [43:39<02:13,  2.67s/it]"
     ]
    },
    {
     "name": "stdout",
     "output_type": "stream",
     "text": [
      "No valid primary label found at index 22368\n",
      "No valid secondary label found at index 22368\n"
     ]
    },
    {
     "name": "stderr",
     "output_type": "stream",
     "text": [
      "\r",
      "Processing Non-Neutral Rows:  95%|███████████████████████████████████████████████▌  | 951/1000 [43:41<02:11,  2.68s/it]"
     ]
    },
    {
     "name": "stdout",
     "output_type": "stream",
     "text": [
      "No valid primary label found at index 22369\n",
      "No valid secondary label found at index 22369\n"
     ]
    },
    {
     "name": "stderr",
     "output_type": "stream",
     "text": [
      "Processing Non-Neutral Rows:  95%|███████████████████████████████████████████████▋  | 953/1000 [43:47<02:05,  2.66s/it]"
     ]
    },
    {
     "name": "stdout",
     "output_type": "stream",
     "text": [
      "No valid primary label found at index 22371\n",
      "No valid secondary label found at index 22371\n"
     ]
    },
    {
     "name": "stderr",
     "output_type": "stream",
     "text": [
      "Processing Non-Neutral Rows:  96%|████████████████████████████████████████████████  | 960/1000 [44:06<01:44,  2.62s/it]"
     ]
    },
    {
     "name": "stdout",
     "output_type": "stream",
     "text": [
      "No valid primary label found at index 22378\n",
      "No valid secondary label found at index 22378\n"
     ]
    },
    {
     "name": "stderr",
     "output_type": "stream",
     "text": [
      "Processing Non-Neutral Rows:  96%|████████████████████████████████████████████████▏ | 963/1000 [44:13<01:32,  2.50s/it]"
     ]
    },
    {
     "name": "stdout",
     "output_type": "stream",
     "text": [
      "No valid primary label found at index 22381\n",
      "No valid secondary label found at index 22381\n"
     ]
    },
    {
     "name": "stderr",
     "output_type": "stream",
     "text": [
      "\r",
      "Processing Non-Neutral Rows:  96%|████████████████████████████████████████████████▏ | 964/1000 [44:15<01:30,  2.51s/it]"
     ]
    },
    {
     "name": "stdout",
     "output_type": "stream",
     "text": [
      "No valid primary label found at index 22382\n",
      "No valid secondary label found at index 22382\n"
     ]
    },
    {
     "name": "stderr",
     "output_type": "stream",
     "text": [
      "Processing Non-Neutral Rows:  97%|████████████████████████████████████████████████▎ | 966/1000 [44:21<01:27,  2.59s/it]"
     ]
    },
    {
     "name": "stdout",
     "output_type": "stream",
     "text": [
      "No valid primary label found at index 22384\n",
      "No valid secondary label found at index 22384\n"
     ]
    },
    {
     "name": "stderr",
     "output_type": "stream",
     "text": [
      "Processing Non-Neutral Rows:  97%|████████████████████████████████████████████████▍ | 968/1000 [44:26<01:23,  2.62s/it]"
     ]
    },
    {
     "name": "stdout",
     "output_type": "stream",
     "text": [
      "No valid primary label found at index 22386\n",
      "No valid secondary label found at index 22386\n"
     ]
    },
    {
     "name": "stderr",
     "output_type": "stream",
     "text": [
      "\r",
      "Processing Non-Neutral Rows:  97%|████████████████████████████████████████████████▍ | 969/1000 [44:28<01:19,  2.57s/it]"
     ]
    },
    {
     "name": "stdout",
     "output_type": "stream",
     "text": [
      "No valid primary label found at index 22387\n",
      "No valid secondary label found at index 22387\n"
     ]
    },
    {
     "name": "stderr",
     "output_type": "stream",
     "text": [
      "Processing Non-Neutral Rows:  97%|████████████████████████████████████████████████▋ | 974/1000 [44:42<01:10,  2.71s/it]"
     ]
    },
    {
     "name": "stdout",
     "output_type": "stream",
     "text": [
      "No valid primary label found at index 22392\n",
      "No valid secondary label found at index 22392\n"
     ]
    },
    {
     "name": "stderr",
     "output_type": "stream",
     "text": [
      "\r",
      "Processing Non-Neutral Rows:  98%|████████████████████████████████████████████████▊ | 975/1000 [44:45<01:07,  2.69s/it]"
     ]
    },
    {
     "name": "stdout",
     "output_type": "stream",
     "text": [
      "No valid primary label found at index 22393\n",
      "No valid secondary label found at index 22393\n"
     ]
    },
    {
     "name": "stderr",
     "output_type": "stream",
     "text": [
      "\r",
      "Processing Non-Neutral Rows:  98%|████████████████████████████████████████████████▊ | 976/1000 [44:50<01:26,  3.59s/it]"
     ]
    },
    {
     "name": "stdout",
     "output_type": "stream",
     "text": [
      "No valid primary label found at index 22394\n",
      "No valid secondary label found at index 22394\n"
     ]
    },
    {
     "name": "stderr",
     "output_type": "stream",
     "text": [
      "\r",
      "Processing Non-Neutral Rows:  98%|████████████████████████████████████████████████▊ | 977/1000 [44:53<01:16,  3.34s/it]"
     ]
    },
    {
     "name": "stdout",
     "output_type": "stream",
     "text": [
      "No valid primary label found at index 22395\n",
      "No valid secondary label found at index 22395\n"
     ]
    },
    {
     "name": "stderr",
     "output_type": "stream",
     "text": [
      "Processing Non-Neutral Rows:  98%|████████████████████████████████████████████████▉ | 979/1000 [44:58<01:02,  2.97s/it]"
     ]
    },
    {
     "name": "stdout",
     "output_type": "stream",
     "text": [
      "No valid primary label found at index 22398\n",
      "No valid secondary label found at index 22398\n"
     ]
    },
    {
     "name": "stderr",
     "output_type": "stream",
     "text": [
      "\r",
      "Processing Non-Neutral Rows:  98%|█████████████████████████████████████████████████ | 980/1000 [45:01<00:57,  2.85s/it]"
     ]
    },
    {
     "name": "stdout",
     "output_type": "stream",
     "text": [
      "No valid primary label found at index 22399\n",
      "No valid secondary label found at index 22399\n"
     ]
    },
    {
     "name": "stderr",
     "output_type": "stream",
     "text": [
      "\r",
      "Processing Non-Neutral Rows:  98%|█████████████████████████████████████████████████ | 981/1000 [45:04<00:54,  2.85s/it]"
     ]
    },
    {
     "name": "stdout",
     "output_type": "stream",
     "text": [
      "No valid primary label found at index 22400\n",
      "No valid secondary label found at index 22400\n"
     ]
    },
    {
     "name": "stderr",
     "output_type": "stream",
     "text": [
      "Processing Non-Neutral Rows:  99%|█████████████████████████████████████████████████▌| 991/1000 [45:30<00:23,  2.63s/it]"
     ]
    },
    {
     "name": "stdout",
     "output_type": "stream",
     "text": [
      "No valid primary label found at index 22410\n",
      "No valid secondary label found at index 22410\n"
     ]
    },
    {
     "name": "stderr",
     "output_type": "stream",
     "text": [
      "Processing Non-Neutral Rows: 100%|█████████████████████████████████████████████████▊| 997/1000 [45:46<00:07,  2.60s/it]"
     ]
    },
    {
     "name": "stdout",
     "output_type": "stream",
     "text": [
      "No valid primary label found at index 22416\n",
      "No valid secondary label found at index 22416\n"
     ]
    },
    {
     "name": "stderr",
     "output_type": "stream",
     "text": [
      "Processing Non-Neutral Rows: 100%|█████████████████████████████████████████████████| 1000/1000 [45:53<00:00,  2.75s/it]\n"
     ]
    }
   ],
   "source": [
    "for index in tqdm(non_neutral_indices[2000:3000], desc=\"Processing Non-Neutral Rows\"):\n",
    "    classify_and_update_labels(index)"
   ]
  },
  {
   "cell_type": "code",
   "execution_count": 44,
   "id": "fb82f899",
   "metadata": {},
   "outputs": [],
   "source": [
    "df.to_csv('outputs.csv', index=False)"
   ]
  },
  {
   "cell_type": "code",
   "execution_count": 46,
   "id": "9c03d460",
   "metadata": {},
   "outputs": [],
   "source": [
    "redo_indices=failed_indices"
   ]
  },
  {
   "cell_type": "code",
   "execution_count": 47,
   "id": "d7104769",
   "metadata": {},
   "outputs": [],
   "source": [
    "with open('redo.pkl', 'wb') as f:\n",
    "    pickle.dump(redo_indices, f)"
   ]
  },
  {
   "cell_type": "code",
   "execution_count": 50,
   "id": "a0da5c9c",
   "metadata": {},
   "outputs": [
    {
     "name": "stderr",
     "output_type": "stream",
     "text": [
      "Processing Non-Neutral Rows:   0%|                                                    | 1/1000 [00:03<54:21,  3.27s/it]"
     ]
    },
    {
     "name": "stdout",
     "output_type": "stream",
     "text": [
      "No valid primary label found at index 22420\n",
      "No valid secondary label found at index 22420\n"
     ]
    },
    {
     "name": "stderr",
     "output_type": "stream",
     "text": [
      "Processing Non-Neutral Rows:   0%|▏                                                   | 4/1000 [00:11<47:31,  2.86s/it]"
     ]
    },
    {
     "name": "stdout",
     "output_type": "stream",
     "text": [
      "No valid primary label found at index 22423\n",
      "No valid secondary label found at index 22423\n"
     ]
    },
    {
     "name": "stderr",
     "output_type": "stream",
     "text": [
      "\r",
      "Processing Non-Neutral Rows:   0%|▎                                                   | 5/1000 [00:14<45:45,  2.76s/it]"
     ]
    },
    {
     "name": "stdout",
     "output_type": "stream",
     "text": [
      "No valid primary label found at index 22424\n",
      "No valid secondary label found at index 22424\n"
     ]
    },
    {
     "name": "stderr",
     "output_type": "stream",
     "text": [
      "Processing Non-Neutral Rows:   1%|▍                                                   | 8/1000 [00:22<43:54,  2.66s/it]"
     ]
    },
    {
     "name": "stdout",
     "output_type": "stream",
     "text": [
      "No valid primary label found at index 22427\n",
      "No valid secondary label found at index 22427\n"
     ]
    },
    {
     "name": "stderr",
     "output_type": "stream",
     "text": [
      "Processing Non-Neutral Rows:   1%|▌                                                  | 11/1000 [00:29<43:32,  2.64s/it]"
     ]
    },
    {
     "name": "stdout",
     "output_type": "stream",
     "text": [
      "No valid primary label found at index 22430\n",
      "No valid secondary label found at index 22430\n"
     ]
    },
    {
     "name": "stderr",
     "output_type": "stream",
     "text": [
      "\r",
      "Processing Non-Neutral Rows:   1%|▌                                                  | 12/1000 [00:32<42:58,  2.61s/it]"
     ]
    },
    {
     "name": "stdout",
     "output_type": "stream",
     "text": [
      "No valid primary label found at index 22431\n",
      "No valid secondary label found at index 22431\n"
     ]
    },
    {
     "name": "stderr",
     "output_type": "stream",
     "text": [
      "Processing Non-Neutral Rows:   1%|▋                                                  | 14/1000 [00:37<44:07,  2.68s/it]"
     ]
    },
    {
     "name": "stdout",
     "output_type": "stream",
     "text": [
      "No valid primary label found at index 22433\n",
      "No valid secondary label found at index 22433\n"
     ]
    },
    {
     "name": "stderr",
     "output_type": "stream",
     "text": [
      "\r",
      "Processing Non-Neutral Rows:   2%|▊                                                  | 15/1000 [00:40<44:49,  2.73s/it]"
     ]
    },
    {
     "name": "stdout",
     "output_type": "stream",
     "text": [
      "No valid primary label found at index 22434\n",
      "No valid secondary label found at index 22434\n"
     ]
    },
    {
     "name": "stderr",
     "output_type": "stream",
     "text": [
      "\r",
      "Processing Non-Neutral Rows:   2%|▊                                                  | 16/1000 [00:43<44:48,  2.73s/it]"
     ]
    },
    {
     "name": "stdout",
     "output_type": "stream",
     "text": [
      "No valid primary label found at index 22435\n",
      "No valid secondary label found at index 22435\n"
     ]
    },
    {
     "name": "stderr",
     "output_type": "stream",
     "text": [
      "\r",
      "Processing Non-Neutral Rows:   2%|▊                                                  | 17/1000 [00:46<45:04,  2.75s/it]"
     ]
    },
    {
     "name": "stdout",
     "output_type": "stream",
     "text": [
      "No valid secondary label found at index 22436\n"
     ]
    },
    {
     "name": "stderr",
     "output_type": "stream",
     "text": [
      "\r",
      "Processing Non-Neutral Rows:   2%|▉                                                  | 18/1000 [00:49<44:44,  2.73s/it]"
     ]
    },
    {
     "name": "stdout",
     "output_type": "stream",
     "text": [
      "No valid primary label found at index 22437\n",
      "No valid secondary label found at index 22437\n"
     ]
    },
    {
     "name": "stderr",
     "output_type": "stream",
     "text": [
      "\r",
      "Processing Non-Neutral Rows:   2%|▉                                                  | 19/1000 [00:51<43:45,  2.68s/it]"
     ]
    },
    {
     "name": "stdout",
     "output_type": "stream",
     "text": [
      "No valid primary label found at index 22438\n",
      "No valid secondary label found at index 22438\n"
     ]
    },
    {
     "name": "stderr",
     "output_type": "stream",
     "text": [
      "\r",
      "Processing Non-Neutral Rows:   2%|█                                                  | 20/1000 [00:55<47:48,  2.93s/it]"
     ]
    },
    {
     "name": "stdout",
     "output_type": "stream",
     "text": [
      "No valid secondary label found at index 22439\n"
     ]
    },
    {
     "name": "stderr",
     "output_type": "stream",
     "text": [
      "Processing Non-Neutral Rows:   2%|█                                                  | 22/1000 [01:01<48:42,  2.99s/it]"
     ]
    },
    {
     "name": "stdout",
     "output_type": "stream",
     "text": [
      "No valid primary label found at index 22441\n",
      "No valid secondary label found at index 22441\n"
     ]
    },
    {
     "name": "stderr",
     "output_type": "stream",
     "text": [
      "Processing Non-Neutral Rows:   3%|█▍                                                 | 28/1000 [01:17<46:40,  2.88s/it]"
     ]
    },
    {
     "name": "stdout",
     "output_type": "stream",
     "text": [
      "No valid secondary label found at index 22447\n"
     ]
    },
    {
     "name": "stderr",
     "output_type": "stream",
     "text": [
      "Processing Non-Neutral Rows:   4%|█▉                                                 | 39/1000 [01:48<43:28,  2.71s/it]"
     ]
    },
    {
     "name": "stdout",
     "output_type": "stream",
     "text": [
      "No valid primary label found at index 22458\n",
      "No valid secondary label found at index 22458\n"
     ]
    },
    {
     "name": "stderr",
     "output_type": "stream",
     "text": [
      "Processing Non-Neutral Rows:   4%|██▏                                                | 43/1000 [01:58<40:26,  2.54s/it]"
     ]
    },
    {
     "name": "stdout",
     "output_type": "stream",
     "text": [
      "No valid primary label found at index 22463\n",
      "No valid secondary label found at index 22463\n"
     ]
    },
    {
     "name": "stderr",
     "output_type": "stream",
     "text": [
      "Processing Non-Neutral Rows:   5%|██▍                                                | 49/1000 [02:16<45:25,  2.87s/it]"
     ]
    },
    {
     "name": "stdout",
     "output_type": "stream",
     "text": [
      "No valid secondary label found at index 22469\n"
     ]
    },
    {
     "name": "stderr",
     "output_type": "stream",
     "text": [
      "Processing Non-Neutral Rows:   5%|██▊                                                | 54/1000 [02:30<46:10,  2.93s/it]"
     ]
    },
    {
     "name": "stdout",
     "output_type": "stream",
     "text": [
      "No valid primary label found at index 22475\n",
      "No valid secondary label found at index 22475\n"
     ]
    },
    {
     "name": "stderr",
     "output_type": "stream",
     "text": [
      "Processing Non-Neutral Rows:   6%|███                                                | 60/1000 [02:48<45:40,  2.92s/it]"
     ]
    },
    {
     "name": "stdout",
     "output_type": "stream",
     "text": [
      "No valid primary label found at index 22482\n",
      "No valid secondary label found at index 22482\n"
     ]
    },
    {
     "name": "stderr",
     "output_type": "stream",
     "text": [
      "\r",
      "Processing Non-Neutral Rows:   6%|███                                                | 61/1000 [02:51<44:51,  2.87s/it]"
     ]
    },
    {
     "name": "stdout",
     "output_type": "stream",
     "text": [
      "No valid primary label found at index 22483\n",
      "No valid secondary label found at index 22483\n"
     ]
    },
    {
     "name": "stderr",
     "output_type": "stream",
     "text": [
      "Processing Non-Neutral Rows:   6%|███▏                                               | 63/1000 [02:58<47:47,  3.06s/it]"
     ]
    },
    {
     "name": "stdout",
     "output_type": "stream",
     "text": [
      "No valid secondary label found at index 22485\n"
     ]
    },
    {
     "name": "stderr",
     "output_type": "stream",
     "text": [
      "Processing Non-Neutral Rows:   7%|███▎                                               | 66/1000 [03:06<45:16,  2.91s/it]"
     ]
    },
    {
     "name": "stdout",
     "output_type": "stream",
     "text": [
      "No valid primary label found at index 22489\n",
      "No valid secondary label found at index 22489\n"
     ]
    },
    {
     "name": "stderr",
     "output_type": "stream",
     "text": [
      "\r",
      "Processing Non-Neutral Rows:   7%|███▍                                               | 67/1000 [03:09<44:53,  2.89s/it]"
     ]
    },
    {
     "name": "stdout",
     "output_type": "stream",
     "text": [
      "No valid primary label found at index 22490\n",
      "No valid secondary label found at index 22490\n"
     ]
    },
    {
     "name": "stderr",
     "output_type": "stream",
     "text": [
      "\r",
      "Processing Non-Neutral Rows:   7%|███▍                                               | 68/1000 [03:12<43:18,  2.79s/it]"
     ]
    },
    {
     "name": "stdout",
     "output_type": "stream",
     "text": [
      "No valid primary label found at index 22491\n",
      "No valid secondary label found at index 22491\n"
     ]
    },
    {
     "name": "stderr",
     "output_type": "stream",
     "text": [
      "Processing Non-Neutral Rows:   7%|███▌                                               | 71/1000 [03:20<41:29,  2.68s/it]"
     ]
    },
    {
     "name": "stdout",
     "output_type": "stream",
     "text": [
      "No valid primary label found at index 22494\n",
      "No valid secondary label found at index 22494\n"
     ]
    },
    {
     "name": "stderr",
     "output_type": "stream",
     "text": [
      "Processing Non-Neutral Rows:   8%|███▉                                               | 77/1000 [03:36<41:49,  2.72s/it]"
     ]
    },
    {
     "name": "stdout",
     "output_type": "stream",
     "text": [
      "No valid primary label found at index 22500\n",
      "No valid secondary label found at index 22500\n"
     ]
    },
    {
     "name": "stderr",
     "output_type": "stream",
     "text": [
      "Processing Non-Neutral Rows:   8%|████▎                                              | 84/1000 [03:55<44:13,  2.90s/it]"
     ]
    },
    {
     "name": "stdout",
     "output_type": "stream",
     "text": [
      "No valid secondary label found at index 22507\n"
     ]
    },
    {
     "name": "stderr",
     "output_type": "stream",
     "text": [
      "\r",
      "Processing Non-Neutral Rows:   8%|████▎                                              | 85/1000 [03:58<43:32,  2.86s/it]"
     ]
    },
    {
     "name": "stdout",
     "output_type": "stream",
     "text": [
      "No valid secondary label found at index 22508\n"
     ]
    },
    {
     "name": "stderr",
     "output_type": "stream",
     "text": [
      "Processing Non-Neutral Rows:  10%|████▉                                              | 97/1000 [04:34<46:16,  3.07s/it]"
     ]
    },
    {
     "name": "stdout",
     "output_type": "stream",
     "text": [
      "No valid secondary label found at index 22520\n"
     ]
    },
    {
     "name": "stderr",
     "output_type": "stream",
     "text": [
      "Processing Non-Neutral Rows:  10%|█████                                              | 99/1000 [04:39<42:27,  2.83s/it]"
     ]
    },
    {
     "name": "stdout",
     "output_type": "stream",
     "text": [
      "No valid primary label found at index 22522\n",
      "No valid secondary label found at index 22522\n"
     ]
    },
    {
     "name": "stderr",
     "output_type": "stream",
     "text": [
      "Processing Non-Neutral Rows:  10%|█████▏                                            | 103/1000 [04:50<40:07,  2.68s/it]"
     ]
    },
    {
     "name": "stdout",
     "output_type": "stream",
     "text": [
      "No valid primary label found at index 22527\n",
      "No valid secondary label found at index 22527\n"
     ]
    },
    {
     "name": "stderr",
     "output_type": "stream",
     "text": [
      "Processing Non-Neutral Rows:  10%|█████▎                                            | 105/1000 [04:55<39:16,  2.63s/it]"
     ]
    },
    {
     "name": "stdout",
     "output_type": "stream",
     "text": [
      "No valid primary label found at index 22529\n",
      "No valid secondary label found at index 22529\n"
     ]
    },
    {
     "name": "stderr",
     "output_type": "stream",
     "text": [
      "Processing Non-Neutral Rows:  11%|█████▎                                            | 107/1000 [05:00<39:26,  2.65s/it]"
     ]
    },
    {
     "name": "stdout",
     "output_type": "stream",
     "text": [
      "No valid primary label found at index 22531\n",
      "No valid secondary label found at index 22531\n"
     ]
    },
    {
     "name": "stderr",
     "output_type": "stream",
     "text": [
      "\r",
      "Processing Non-Neutral Rows:  11%|█████▍                                            | 108/1000 [05:03<40:28,  2.72s/it]"
     ]
    },
    {
     "name": "stdout",
     "output_type": "stream",
     "text": [
      "No valid primary label found at index 22532\n",
      "No valid secondary label found at index 22532\n"
     ]
    },
    {
     "name": "stderr",
     "output_type": "stream",
     "text": [
      "Processing Non-Neutral Rows:  11%|█████▌                                            | 111/1000 [05:11<38:58,  2.63s/it]"
     ]
    },
    {
     "name": "stdout",
     "output_type": "stream",
     "text": [
      "No valid primary label found at index 22536\n",
      "No valid secondary label found at index 22536\n"
     ]
    },
    {
     "name": "stderr",
     "output_type": "stream",
     "text": [
      "Processing Non-Neutral Rows:  13%|██████▎                                           | 127/1000 [05:55<38:01,  2.61s/it]"
     ]
    },
    {
     "name": "stdout",
     "output_type": "stream",
     "text": [
      "No valid secondary label found at index 22554\n"
     ]
    },
    {
     "name": "stderr",
     "output_type": "stream",
     "text": [
      "\r",
      "Processing Non-Neutral Rows:  13%|██████▍                                           | 128/1000 [05:58<37:23,  2.57s/it]"
     ]
    },
    {
     "name": "stdout",
     "output_type": "stream",
     "text": [
      "No valid primary label found at index 22555\n",
      "No valid secondary label found at index 22555\n"
     ]
    },
    {
     "name": "stderr",
     "output_type": "stream",
     "text": [
      "Processing Non-Neutral Rows:  13%|██████▌                                           | 131/1000 [06:07<42:42,  2.95s/it]"
     ]
    },
    {
     "name": "stdout",
     "output_type": "stream",
     "text": [
      "No valid primary label found at index 22558\n",
      "No valid secondary label found at index 22558\n"
     ]
    },
    {
     "name": "stderr",
     "output_type": "stream",
     "text": [
      "Processing Non-Neutral Rows:  14%|██████▊                                           | 136/1000 [06:20<39:07,  2.72s/it]"
     ]
    },
    {
     "name": "stdout",
     "output_type": "stream",
     "text": [
      "No valid primary label found at index 22564\n",
      "No valid secondary label found at index 22564\n"
     ]
    },
    {
     "name": "stderr",
     "output_type": "stream",
     "text": [
      "Processing Non-Neutral Rows:  14%|██████▉                                           | 138/1000 [06:26<40:40,  2.83s/it]"
     ]
    },
    {
     "name": "stdout",
     "output_type": "stream",
     "text": [
      "No valid primary label found at index 22569\n",
      "No valid secondary label found at index 22569\n"
     ]
    },
    {
     "name": "stderr",
     "output_type": "stream",
     "text": [
      "Processing Non-Neutral Rows:  14%|███████                                           | 140/1000 [06:32<39:53,  2.78s/it]"
     ]
    },
    {
     "name": "stdout",
     "output_type": "stream",
     "text": [
      "No valid primary label found at index 22572\n",
      "No valid secondary label found at index 22572\n"
     ]
    },
    {
     "name": "stderr",
     "output_type": "stream",
     "text": [
      "Processing Non-Neutral Rows:  14%|███████                                           | 142/1000 [06:38<39:54,  2.79s/it]"
     ]
    },
    {
     "name": "stdout",
     "output_type": "stream",
     "text": [
      "No valid primary label found at index 22574\n",
      "No valid secondary label found at index 22574\n"
     ]
    },
    {
     "name": "stderr",
     "output_type": "stream",
     "text": [
      "Processing Non-Neutral Rows:  15%|███████▌                                          | 151/1000 [07:02<40:47,  2.88s/it]"
     ]
    },
    {
     "name": "stdout",
     "output_type": "stream",
     "text": [
      "No valid primary label found at index 22585\n",
      "No valid secondary label found at index 22585\n"
     ]
    },
    {
     "name": "stderr",
     "output_type": "stream",
     "text": [
      "\r",
      "Processing Non-Neutral Rows:  15%|███████▌                                          | 152/1000 [07:05<40:32,  2.87s/it]"
     ]
    },
    {
     "name": "stdout",
     "output_type": "stream",
     "text": [
      "No valid primary label found at index 22587\n",
      "No valid secondary label found at index 22587\n"
     ]
    },
    {
     "name": "stderr",
     "output_type": "stream",
     "text": [
      "Processing Non-Neutral Rows:  16%|███████▉                                          | 158/1000 [07:21<39:25,  2.81s/it]"
     ]
    },
    {
     "name": "stdout",
     "output_type": "stream",
     "text": [
      "No valid secondary label found at index 22593\n"
     ]
    },
    {
     "name": "stderr",
     "output_type": "stream",
     "text": [
      "Processing Non-Neutral Rows:  16%|████████                                          | 162/1000 [07:32<38:41,  2.77s/it]"
     ]
    },
    {
     "name": "stdout",
     "output_type": "stream",
     "text": [
      "No valid primary label found at index 22598\n",
      "No valid secondary label found at index 22598\n"
     ]
    },
    {
     "name": "stderr",
     "output_type": "stream",
     "text": [
      "\r",
      "Processing Non-Neutral Rows:  16%|████████▏                                         | 163/1000 [07:35<38:05,  2.73s/it]"
     ]
    },
    {
     "name": "stdout",
     "output_type": "stream",
     "text": [
      "No valid primary label found at index 22599\n",
      "No valid secondary label found at index 22599\n"
     ]
    },
    {
     "name": "stderr",
     "output_type": "stream",
     "text": [
      "\r",
      "Processing Non-Neutral Rows:  16%|████████▏                                         | 164/1000 [07:38<37:44,  2.71s/it]"
     ]
    },
    {
     "name": "stdout",
     "output_type": "stream",
     "text": [
      "No valid primary label found at index 22600\n",
      "No valid secondary label found at index 22600\n"
     ]
    },
    {
     "name": "stderr",
     "output_type": "stream",
     "text": [
      "Processing Non-Neutral Rows:  17%|████████▌                                         | 170/1000 [07:54<37:26,  2.71s/it]"
     ]
    },
    {
     "name": "stdout",
     "output_type": "stream",
     "text": [
      "No valid primary label found at index 22607\n",
      "No valid secondary label found at index 22607\n"
     ]
    },
    {
     "name": "stderr",
     "output_type": "stream",
     "text": [
      "Processing Non-Neutral Rows:  18%|████████▊                                         | 175/1000 [08:08<38:51,  2.83s/it]"
     ]
    },
    {
     "name": "stdout",
     "output_type": "stream",
     "text": [
      "No valid primary label found at index 22615\n",
      "No valid secondary label found at index 22615\n"
     ]
    },
    {
     "name": "stderr",
     "output_type": "stream",
     "text": [
      "Processing Non-Neutral Rows:  18%|█████████▏                                        | 183/1000 [08:32<43:17,  3.18s/it]"
     ]
    },
    {
     "name": "stdout",
     "output_type": "stream",
     "text": [
      "No valid secondary label found at index 22624\n"
     ]
    },
    {
     "name": "stderr",
     "output_type": "stream",
     "text": [
      "\r",
      "Processing Non-Neutral Rows:  18%|█████████▏                                        | 184/1000 [08:34<41:00,  3.01s/it]"
     ]
    },
    {
     "name": "stdout",
     "output_type": "stream",
     "text": [
      "No valid primary label found at index 22627\n",
      "No valid secondary label found at index 22627\n"
     ]
    },
    {
     "name": "stderr",
     "output_type": "stream",
     "text": [
      "\r",
      "Processing Non-Neutral Rows:  18%|█████████▎                                        | 185/1000 [08:37<39:32,  2.91s/it]"
     ]
    },
    {
     "name": "stdout",
     "output_type": "stream",
     "text": [
      "No valid primary label found at index 22628\n",
      "No valid secondary label found at index 22628\n"
     ]
    },
    {
     "name": "stderr",
     "output_type": "stream",
     "text": [
      "Processing Non-Neutral Rows:  19%|█████████▍                                        | 189/1000 [08:48<38:06,  2.82s/it]"
     ]
    },
    {
     "name": "stdout",
     "output_type": "stream",
     "text": [
      "No valid primary label found at index 22632\n",
      "No valid secondary label found at index 22632\n"
     ]
    },
    {
     "name": "stderr",
     "output_type": "stream",
     "text": [
      "\r",
      "Processing Non-Neutral Rows:  19%|█████████▌                                        | 190/1000 [08:51<37:51,  2.80s/it]"
     ]
    },
    {
     "name": "stdout",
     "output_type": "stream",
     "text": [
      "No valid primary label found at index 22633\n",
      "No valid secondary label found at index 22633\n"
     ]
    },
    {
     "name": "stderr",
     "output_type": "stream",
     "text": [
      "\r",
      "Processing Non-Neutral Rows:  19%|█████████▌                                        | 191/1000 [08:53<36:42,  2.72s/it]"
     ]
    },
    {
     "name": "stdout",
     "output_type": "stream",
     "text": [
      "No valid primary label found at index 22634\n",
      "No valid secondary label found at index 22634\n"
     ]
    },
    {
     "name": "stderr",
     "output_type": "stream",
     "text": [
      "\r",
      "Processing Non-Neutral Rows:  19%|█████████▌                                        | 192/1000 [08:56<36:20,  2.70s/it]"
     ]
    },
    {
     "name": "stdout",
     "output_type": "stream",
     "text": [
      "No valid primary label found at index 22635\n",
      "No valid secondary label found at index 22635\n"
     ]
    },
    {
     "name": "stderr",
     "output_type": "stream",
     "text": [
      "Processing Non-Neutral Rows:  20%|██████████                                        | 201/1000 [09:22<39:56,  3.00s/it]"
     ]
    },
    {
     "name": "stdout",
     "output_type": "stream",
     "text": [
      "No valid secondary label found at index 22645\n"
     ]
    },
    {
     "name": "stderr",
     "output_type": "stream",
     "text": [
      "Processing Non-Neutral Rows:  21%|██████████▌                                       | 212/1000 [09:55<38:08,  2.90s/it]"
     ]
    },
    {
     "name": "stdout",
     "output_type": "stream",
     "text": [
      "No valid primary label found at index 22657\n",
      "No valid secondary label found at index 22657\n"
     ]
    },
    {
     "name": "stderr",
     "output_type": "stream",
     "text": [
      "Processing Non-Neutral Rows:  22%|███████████▏                                      | 223/1000 [10:27<34:48,  2.69s/it]"
     ]
    },
    {
     "name": "stdout",
     "output_type": "stream",
     "text": [
      "No valid primary label found at index 22669\n",
      "No valid secondary label found at index 22669\n"
     ]
    },
    {
     "name": "stderr",
     "output_type": "stream",
     "text": [
      "Processing Non-Neutral Rows:  23%|███████████▍                                      | 229/1000 [10:43<34:13,  2.66s/it]"
     ]
    },
    {
     "name": "stdout",
     "output_type": "stream",
     "text": [
      "No valid secondary label found at index 22675\n"
     ]
    },
    {
     "name": "stderr",
     "output_type": "stream",
     "text": [
      "Processing Non-Neutral Rows:  25%|████████████▌                                     | 250/1000 [11:44<37:43,  3.02s/it]"
     ]
    },
    {
     "name": "stdout",
     "output_type": "stream",
     "text": [
      "No valid primary label found at index 22700\n",
      "No valid secondary label found at index 22700\n"
     ]
    },
    {
     "name": "stderr",
     "output_type": "stream",
     "text": [
      "Processing Non-Neutral Rows:  25%|████████████▏                                   | 253/1000 [12:00<1:00:04,  4.83s/it]"
     ]
    },
    {
     "name": "stdout",
     "output_type": "stream",
     "text": [
      "No valid primary label found at index 22703\n",
      "No valid secondary label found at index 22703\n"
     ]
    },
    {
     "name": "stderr",
     "output_type": "stream",
     "text": [
      "\r",
      "Processing Non-Neutral Rows:  25%|████████████▏                                   | 254/1000 [12:08<1:12:28,  5.83s/it]"
     ]
    },
    {
     "name": "stdout",
     "output_type": "stream",
     "text": [
      "No valid primary label found at index 22704\n",
      "No valid secondary label found at index 22704\n"
     ]
    },
    {
     "name": "stderr",
     "output_type": "stream",
     "text": [
      "Processing Non-Neutral Rows:  27%|█████████████▋                                    | 273/1000 [13:08<38:58,  3.22s/it]"
     ]
    },
    {
     "name": "stdout",
     "output_type": "stream",
     "text": [
      "No valid primary label found at index 22724\n",
      "No valid secondary label found at index 22724\n"
     ]
    },
    {
     "name": "stderr",
     "output_type": "stream",
     "text": [
      "\r",
      "Processing Non-Neutral Rows:  27%|█████████████▋                                    | 274/1000 [13:10<35:59,  2.97s/it]"
     ]
    },
    {
     "name": "stdout",
     "output_type": "stream",
     "text": [
      "No valid primary label found at index 22726\n",
      "No valid secondary label found at index 22726\n"
     ]
    },
    {
     "name": "stderr",
     "output_type": "stream",
     "text": [
      "Processing Non-Neutral Rows:  29%|██████████████▋                                   | 294/1000 [14:08<33:35,  2.85s/it]"
     ]
    },
    {
     "name": "stdout",
     "output_type": "stream",
     "text": [
      "No valid primary label found at index 22749\n",
      "No valid secondary label found at index 22749\n"
     ]
    },
    {
     "name": "stderr",
     "output_type": "stream",
     "text": [
      "Processing Non-Neutral Rows:  30%|██████████████▊                                   | 296/1000 [14:13<33:47,  2.88s/it]"
     ]
    },
    {
     "name": "stdout",
     "output_type": "stream",
     "text": [
      "No valid primary label found at index 22752\n",
      "No valid secondary label found at index 22752\n"
     ]
    },
    {
     "name": "stderr",
     "output_type": "stream",
     "text": [
      "Processing Non-Neutral Rows:  30%|███████████████▏                                  | 304/1000 [14:38<32:52,  2.83s/it]"
     ]
    },
    {
     "name": "stdout",
     "output_type": "stream",
     "text": [
      "No valid primary label found at index 22760\n",
      "No valid secondary label found at index 22760\n"
     ]
    },
    {
     "name": "stderr",
     "output_type": "stream",
     "text": [
      "\r",
      "Processing Non-Neutral Rows:  30%|███████████████▎                                  | 305/1000 [14:40<31:47,  2.74s/it]"
     ]
    },
    {
     "name": "stdout",
     "output_type": "stream",
     "text": [
      "No valid primary label found at index 22761\n",
      "No valid secondary label found at index 22761\n"
     ]
    },
    {
     "name": "stderr",
     "output_type": "stream",
     "text": [
      "Processing Non-Neutral Rows:  31%|███████████████▎                                  | 307/1000 [14:47<35:26,  3.07s/it]"
     ]
    },
    {
     "name": "stdout",
     "output_type": "stream",
     "text": [
      "No valid secondary label found at index 22763\n"
     ]
    },
    {
     "name": "stderr",
     "output_type": "stream",
     "text": [
      "\r",
      "Processing Non-Neutral Rows:  31%|███████████████▍                                  | 308/1000 [14:49<32:52,  2.85s/it]"
     ]
    },
    {
     "name": "stdout",
     "output_type": "stream",
     "text": [
      "No valid primary label found at index 22764\n",
      "No valid secondary label found at index 22764\n"
     ]
    },
    {
     "name": "stderr",
     "output_type": "stream",
     "text": [
      "Processing Non-Neutral Rows:  33%|████████████████▎                                 | 327/1000 [15:43<32:31,  2.90s/it]"
     ]
    },
    {
     "name": "stdout",
     "output_type": "stream",
     "text": [
      "No valid secondary label found at index 22785\n"
     ]
    },
    {
     "name": "stderr",
     "output_type": "stream",
     "text": [
      "\r",
      "Processing Non-Neutral Rows:  33%|████████████████▍                                 | 328/1000 [15:46<31:56,  2.85s/it]"
     ]
    },
    {
     "name": "stdout",
     "output_type": "stream",
     "text": [
      "No valid primary label found at index 22786\n",
      "No valid secondary label found at index 22786\n"
     ]
    },
    {
     "name": "stderr",
     "output_type": "stream",
     "text": [
      "Processing Non-Neutral Rows:  33%|████████████████▌                                 | 330/1000 [15:51<30:41,  2.75s/it]"
     ]
    },
    {
     "name": "stdout",
     "output_type": "stream",
     "text": [
      "No valid primary label found at index 22788\n",
      "No valid secondary label found at index 22788\n"
     ]
    },
    {
     "name": "stderr",
     "output_type": "stream",
     "text": [
      "Processing Non-Neutral Rows:  34%|████████████████▊                                 | 336/1000 [16:06<29:27,  2.66s/it]"
     ]
    },
    {
     "name": "stdout",
     "output_type": "stream",
     "text": [
      "No valid primary label found at index 22794\n",
      "No valid secondary label found at index 22794\n"
     ]
    },
    {
     "name": "stderr",
     "output_type": "stream",
     "text": [
      "\r",
      "Processing Non-Neutral Rows:  34%|████████████████▊                                 | 337/1000 [16:09<29:23,  2.66s/it]"
     ]
    },
    {
     "name": "stdout",
     "output_type": "stream",
     "text": [
      "No valid primary label found at index 22795\n",
      "No valid secondary label found at index 22795\n"
     ]
    },
    {
     "name": "stderr",
     "output_type": "stream",
     "text": [
      "Processing Non-Neutral Rows:  35%|█████████████████▌                                | 352/1000 [16:47<27:53,  2.58s/it]"
     ]
    },
    {
     "name": "stdout",
     "output_type": "stream",
     "text": [
      "No valid primary label found at index 22816\n",
      "No valid secondary label found at index 22816\n"
     ]
    },
    {
     "name": "stderr",
     "output_type": "stream",
     "text": [
      "Processing Non-Neutral Rows:  36%|█████████████████▊                                | 357/1000 [17:00<29:08,  2.72s/it]"
     ]
    },
    {
     "name": "stdout",
     "output_type": "stream",
     "text": [
      "No valid primary label found at index 22821\n",
      "No valid secondary label found at index 22821\n"
     ]
    },
    {
     "name": "stderr",
     "output_type": "stream",
     "text": [
      "Processing Non-Neutral Rows:  36%|██████████████████                                | 362/1000 [17:14<30:31,  2.87s/it]"
     ]
    },
    {
     "name": "stdout",
     "output_type": "stream",
     "text": [
      "No valid primary label found at index 22827\n",
      "No valid secondary label found at index 22827\n"
     ]
    },
    {
     "name": "stderr",
     "output_type": "stream",
     "text": [
      "Processing Non-Neutral Rows:  37%|██████████████████▎                               | 367/1000 [17:28<29:58,  2.84s/it]"
     ]
    },
    {
     "name": "stdout",
     "output_type": "stream",
     "text": [
      "No valid primary label found at index 22833\n",
      "No valid secondary label found at index 22833\n"
     ]
    },
    {
     "name": "stderr",
     "output_type": "stream",
     "text": [
      "Processing Non-Neutral Rows:  38%|███████████████████                               | 380/1000 [18:07<28:58,  2.80s/it]"
     ]
    },
    {
     "name": "stdout",
     "output_type": "stream",
     "text": [
      "No valid primary label found at index 22847\n",
      "No valid secondary label found at index 22847\n"
     ]
    },
    {
     "name": "stderr",
     "output_type": "stream",
     "text": [
      "Processing Non-Neutral Rows:  38%|███████████████████                               | 382/1000 [18:13<28:35,  2.78s/it]"
     ]
    },
    {
     "name": "stdout",
     "output_type": "stream",
     "text": [
      "No valid primary label found at index 22849\n",
      "No valid secondary label found at index 22849\n"
     ]
    },
    {
     "name": "stderr",
     "output_type": "stream",
     "text": [
      "Processing Non-Neutral Rows:  38%|███████████████████▏                              | 384/1000 [18:19<29:32,  2.88s/it]"
     ]
    },
    {
     "name": "stdout",
     "output_type": "stream",
     "text": [
      "No valid primary label found at index 22853\n",
      "No valid secondary label found at index 22853\n"
     ]
    },
    {
     "name": "stderr",
     "output_type": "stream",
     "text": [
      "\r",
      "Processing Non-Neutral Rows:  38%|███████████████████▎                              | 385/1000 [18:21<28:16,  2.76s/it]"
     ]
    },
    {
     "name": "stdout",
     "output_type": "stream",
     "text": [
      "No valid primary label found at index 22854\n",
      "No valid secondary label found at index 22854\n"
     ]
    },
    {
     "name": "stderr",
     "output_type": "stream",
     "text": [
      "Processing Non-Neutral Rows:  39%|███████████████████▎                              | 387/1000 [18:27<28:33,  2.79s/it]"
     ]
    },
    {
     "name": "stdout",
     "output_type": "stream",
     "text": [
      "No valid primary label found at index 22857\n",
      "No valid secondary label found at index 22857\n"
     ]
    },
    {
     "name": "stderr",
     "output_type": "stream",
     "text": [
      "Processing Non-Neutral Rows:  39%|███████████████████▍                              | 389/1000 [18:33<27:48,  2.73s/it]"
     ]
    },
    {
     "name": "stdout",
     "output_type": "stream",
     "text": [
      "No valid primary label found at index 22859\n",
      "No valid secondary label found at index 22859\n"
     ]
    },
    {
     "name": "stderr",
     "output_type": "stream",
     "text": [
      "Processing Non-Neutral Rows:  39%|███████████████████▌                              | 391/1000 [18:38<28:57,  2.85s/it]"
     ]
    },
    {
     "name": "stdout",
     "output_type": "stream",
     "text": [
      "No valid primary label found at index 22861\n",
      "No valid secondary label found at index 22861\n"
     ]
    },
    {
     "name": "stderr",
     "output_type": "stream",
     "text": [
      "Processing Non-Neutral Rows:  40%|███████████████████▊                              | 395/1000 [18:49<26:20,  2.61s/it]"
     ]
    },
    {
     "name": "stdout",
     "output_type": "stream",
     "text": [
      "No valid secondary label found at index 22866\n"
     ]
    },
    {
     "name": "stderr",
     "output_type": "stream",
     "text": [
      "Processing Non-Neutral Rows:  42%|█████████████████████                             | 420/1000 [19:58<26:09,  2.71s/it]"
     ]
    },
    {
     "name": "stdout",
     "output_type": "stream",
     "text": [
      "No valid primary label found at index 22894\n",
      "No valid secondary label found at index 22894\n"
     ]
    },
    {
     "name": "stderr",
     "output_type": "stream",
     "text": [
      "Processing Non-Neutral Rows:  42%|█████████████████████                             | 422/1000 [20:02<24:45,  2.57s/it]"
     ]
    },
    {
     "name": "stdout",
     "output_type": "stream",
     "text": [
      "No valid primary label found at index 22896\n",
      "No valid secondary label found at index 22896\n"
     ]
    },
    {
     "name": "stderr",
     "output_type": "stream",
     "text": [
      "Processing Non-Neutral Rows:  43%|█████████████████████▍                            | 428/1000 [20:20<26:15,  2.75s/it]"
     ]
    },
    {
     "name": "stdout",
     "output_type": "stream",
     "text": [
      "No valid secondary label found at index 22905\n"
     ]
    },
    {
     "name": "stderr",
     "output_type": "stream",
     "text": [
      "Processing Non-Neutral Rows:  43%|█████████████████████▋                            | 433/1000 [20:33<25:05,  2.66s/it]"
     ]
    },
    {
     "name": "stdout",
     "output_type": "stream",
     "text": [
      "No valid primary label found at index 22910\n",
      "No valid secondary label found at index 22910\n"
     ]
    },
    {
     "name": "stderr",
     "output_type": "stream",
     "text": [
      "Processing Non-Neutral Rows:  44%|█████████████████████▊                            | 437/1000 [20:43<24:06,  2.57s/it]"
     ]
    },
    {
     "name": "stdout",
     "output_type": "stream",
     "text": [
      "No valid primary label found at index 22915\n",
      "No valid secondary label found at index 22915\n"
     ]
    },
    {
     "name": "stderr",
     "output_type": "stream",
     "text": [
      "Processing Non-Neutral Rows:  44%|██████████████████████▏                           | 443/1000 [20:58<23:36,  2.54s/it]"
     ]
    },
    {
     "name": "stdout",
     "output_type": "stream",
     "text": [
      "No valid primary label found at index 22923\n",
      "No valid secondary label found at index 22923\n"
     ]
    },
    {
     "name": "stderr",
     "output_type": "stream",
     "text": [
      "Processing Non-Neutral Rows:  45%|██████████████████████▎                           | 447/1000 [21:09<24:28,  2.66s/it]"
     ]
    },
    {
     "name": "stdout",
     "output_type": "stream",
     "text": [
      "No valid primary label found at index 22927\n",
      "No valid secondary label found at index 22927\n"
     ]
    },
    {
     "name": "stderr",
     "output_type": "stream",
     "text": [
      "Processing Non-Neutral Rows:  46%|███████████████████████                           | 460/1000 [21:46<25:41,  2.85s/it]"
     ]
    },
    {
     "name": "stdout",
     "output_type": "stream",
     "text": [
      "No valid primary label found at index 22940\n",
      "No valid secondary label found at index 22940\n"
     ]
    },
    {
     "name": "stderr",
     "output_type": "stream",
     "text": [
      "Processing Non-Neutral Rows:  47%|███████████████████████▎                          | 467/1000 [22:05<23:47,  2.68s/it]"
     ]
    },
    {
     "name": "stdout",
     "output_type": "stream",
     "text": [
      "No valid secondary label found at index 22948\n"
     ]
    },
    {
     "name": "stderr",
     "output_type": "stream",
     "text": [
      "Processing Non-Neutral Rows:  47%|███████████████████████▍                          | 469/1000 [22:11<26:03,  2.94s/it]"
     ]
    },
    {
     "name": "stdout",
     "output_type": "stream",
     "text": [
      "No valid secondary label found at index 22950\n"
     ]
    },
    {
     "name": "stderr",
     "output_type": "stream",
     "text": [
      "Processing Non-Neutral Rows:  50%|████████████████████████▉                         | 498/1000 [23:29<23:39,  2.83s/it]"
     ]
    },
    {
     "name": "stdout",
     "output_type": "stream",
     "text": [
      "No valid primary label found at index 22983\n",
      "No valid secondary label found at index 22983\n"
     ]
    },
    {
     "name": "stderr",
     "output_type": "stream",
     "text": [
      "\r",
      "Processing Non-Neutral Rows:  50%|████████████████████████▉                         | 499/1000 [23:31<23:36,  2.83s/it]"
     ]
    },
    {
     "name": "stdout",
     "output_type": "stream",
     "text": [
      "No valid primary label found at index 22984\n",
      "No valid secondary label found at index 22984\n"
     ]
    },
    {
     "name": "stderr",
     "output_type": "stream",
     "text": [
      "\r",
      "Processing Non-Neutral Rows:  50%|█████████████████████████                         | 500/1000 [23:34<22:41,  2.72s/it]"
     ]
    },
    {
     "name": "stdout",
     "output_type": "stream",
     "text": [
      "No valid primary label found at index 22985\n",
      "No valid secondary label found at index 22985\n"
     ]
    },
    {
     "name": "stderr",
     "output_type": "stream",
     "text": [
      "\r",
      "Processing Non-Neutral Rows:  50%|█████████████████████████                         | 501/1000 [23:36<22:06,  2.66s/it]"
     ]
    },
    {
     "name": "stdout",
     "output_type": "stream",
     "text": [
      "No valid primary label found at index 22986\n",
      "No valid secondary label found at index 22986\n"
     ]
    },
    {
     "name": "stderr",
     "output_type": "stream",
     "text": [
      "\r",
      "Processing Non-Neutral Rows:  50%|█████████████████████████                         | 502/1000 [23:40<24:58,  3.01s/it]"
     ]
    },
    {
     "name": "stdout",
     "output_type": "stream",
     "text": [
      "No valid secondary label found at index 22987\n"
     ]
    },
    {
     "name": "stderr",
     "output_type": "stream",
     "text": [
      "\r",
      "Processing Non-Neutral Rows:  50%|█████████████████████████▏                        | 503/1000 [23:43<24:09,  2.92s/it]"
     ]
    },
    {
     "name": "stdout",
     "output_type": "stream",
     "text": [
      "No valid primary label found at index 22988\n",
      "No valid secondary label found at index 22988\n"
     ]
    },
    {
     "name": "stderr",
     "output_type": "stream",
     "text": [
      "Processing Non-Neutral Rows:  50%|█████████████████████████▎                        | 505/1000 [23:50<25:46,  3.13s/it]"
     ]
    },
    {
     "name": "stdout",
     "output_type": "stream",
     "text": [
      "No valid primary label found at index 22990\n",
      "No valid secondary label found at index 22990\n"
     ]
    },
    {
     "name": "stderr",
     "output_type": "stream",
     "text": [
      "Processing Non-Neutral Rows:  51%|█████████████████████████▎                        | 507/1000 [23:55<24:06,  2.93s/it]"
     ]
    },
    {
     "name": "stdout",
     "output_type": "stream",
     "text": [
      "No valid primary label found at index 22992\n",
      "No valid secondary label found at index 22992\n"
     ]
    },
    {
     "name": "stderr",
     "output_type": "stream",
     "text": [
      "Processing Non-Neutral Rows:  51%|█████████████████████████▌                        | 512/1000 [24:09<21:41,  2.67s/it]"
     ]
    },
    {
     "name": "stdout",
     "output_type": "stream",
     "text": [
      "No valid secondary label found at index 22997\n"
     ]
    },
    {
     "name": "stderr",
     "output_type": "stream",
     "text": [
      "\r",
      "Processing Non-Neutral Rows:  51%|█████████████████████████▋                        | 513/1000 [24:12<23:14,  2.86s/it]"
     ]
    },
    {
     "name": "stdout",
     "output_type": "stream",
     "text": [
      "No valid secondary label found at index 22998\n"
     ]
    },
    {
     "name": "stderr",
     "output_type": "stream",
     "text": [
      "\r",
      "Processing Non-Neutral Rows:  51%|█████████████████████████▋                        | 514/1000 [24:15<22:30,  2.78s/it]"
     ]
    },
    {
     "name": "stdout",
     "output_type": "stream",
     "text": [
      "No valid primary label found at index 22999\n",
      "No valid secondary label found at index 22999\n"
     ]
    },
    {
     "name": "stderr",
     "output_type": "stream",
     "text": [
      "Processing Non-Neutral Rows:  52%|█████████████████████████▊                        | 516/1000 [24:20<23:04,  2.86s/it]"
     ]
    },
    {
     "name": "stdout",
     "output_type": "stream",
     "text": [
      "No valid secondary label found at index 23002\n"
     ]
    },
    {
     "name": "stderr",
     "output_type": "stream",
     "text": [
      "Processing Non-Neutral Rows:  53%|██████████████████████████▎                       | 526/1000 [24:51<22:41,  2.87s/it]"
     ]
    },
    {
     "name": "stdout",
     "output_type": "stream",
     "text": [
      "No valid secondary label found at index 23015\n"
     ]
    },
    {
     "name": "stderr",
     "output_type": "stream",
     "text": [
      "\r",
      "Processing Non-Neutral Rows:  53%|██████████████████████████▎                       | 527/1000 [24:53<22:22,  2.84s/it]"
     ]
    },
    {
     "name": "stdout",
     "output_type": "stream",
     "text": [
      "No valid primary label found at index 23016\n",
      "No valid secondary label found at index 23016\n"
     ]
    },
    {
     "name": "stderr",
     "output_type": "stream",
     "text": [
      "\r",
      "Processing Non-Neutral Rows:  53%|██████████████████████████▍                       | 528/1000 [24:56<22:11,  2.82s/it]"
     ]
    },
    {
     "name": "stdout",
     "output_type": "stream",
     "text": [
      "No valid primary label found at index 23017\n",
      "No valid secondary label found at index 23017\n"
     ]
    },
    {
     "name": "stderr",
     "output_type": "stream",
     "text": [
      "\r",
      "Processing Non-Neutral Rows:  53%|██████████████████████████▍                       | 529/1000 [24:59<21:50,  2.78s/it]"
     ]
    },
    {
     "name": "stdout",
     "output_type": "stream",
     "text": [
      "No valid primary label found at index 23018\n",
      "No valid secondary label found at index 23018\n"
     ]
    },
    {
     "name": "stderr",
     "output_type": "stream",
     "text": [
      "Processing Non-Neutral Rows:  53%|██████████████████████████▋                       | 534/1000 [25:16<25:35,  3.30s/it]"
     ]
    },
    {
     "name": "stdout",
     "output_type": "stream",
     "text": [
      "No valid primary label found at index 23024\n",
      "No valid secondary label found at index 23024\n"
     ]
    },
    {
     "name": "stderr",
     "output_type": "stream",
     "text": [
      "Processing Non-Neutral Rows:  57%|████████████████████████████▎                     | 566/1000 [26:54<19:11,  2.65s/it]"
     ]
    },
    {
     "name": "stdout",
     "output_type": "stream",
     "text": [
      "No valid secondary label found at index 23060\n"
     ]
    },
    {
     "name": "stderr",
     "output_type": "stream",
     "text": [
      "Processing Non-Neutral Rows:  57%|████████████████████████████▌                     | 572/1000 [27:13<20:25,  2.86s/it]"
     ]
    },
    {
     "name": "stdout",
     "output_type": "stream",
     "text": [
      "No valid primary label found at index 23067\n",
      "No valid secondary label found at index 23067\n"
     ]
    },
    {
     "name": "stderr",
     "output_type": "stream",
     "text": [
      "\r",
      "Processing Non-Neutral Rows:  57%|████████████████████████████▋                     | 573/1000 [27:15<19:59,  2.81s/it]"
     ]
    },
    {
     "name": "stdout",
     "output_type": "stream",
     "text": [
      "No valid primary label found at index 23068\n",
      "No valid secondary label found at index 23068\n"
     ]
    },
    {
     "name": "stderr",
     "output_type": "stream",
     "text": [
      "Processing Non-Neutral Rows:  58%|████████████████████████████▉                     | 579/1000 [27:33<23:03,  3.29s/it]"
     ]
    },
    {
     "name": "stdout",
     "output_type": "stream",
     "text": [
      "No valid secondary label found at index 23075\n"
     ]
    },
    {
     "name": "stderr",
     "output_type": "stream",
     "text": [
      "\r",
      "Processing Non-Neutral Rows:  58%|████████████████████████████▉                     | 580/1000 [27:37<24:33,  3.51s/it]"
     ]
    },
    {
     "name": "stdout",
     "output_type": "stream",
     "text": [
      "No valid secondary label found at index 23076\n"
     ]
    },
    {
     "name": "stderr",
     "output_type": "stream",
     "text": [
      "\r",
      "Processing Non-Neutral Rows:  58%|█████████████████████████████                     | 581/1000 [27:40<23:30,  3.37s/it]"
     ]
    },
    {
     "name": "stdout",
     "output_type": "stream",
     "text": [
      "No valid secondary label found at index 23077\n"
     ]
    },
    {
     "name": "stderr",
     "output_type": "stream",
     "text": [
      "Processing Non-Neutral Rows:  59%|█████████████████████████████▍                    | 588/1000 [28:01<22:27,  3.27s/it]"
     ]
    },
    {
     "name": "stdout",
     "output_type": "stream",
     "text": [
      "No valid secondary label found at index 23085\n"
     ]
    },
    {
     "name": "stderr",
     "output_type": "stream",
     "text": [
      "Processing Non-Neutral Rows:  59%|█████████████████████████████▌                    | 591/1000 [28:09<19:23,  2.85s/it]"
     ]
    },
    {
     "name": "stdout",
     "output_type": "stream",
     "text": [
      "No valid primary label found at index 23088\n",
      "No valid secondary label found at index 23088\n"
     ]
    },
    {
     "name": "stderr",
     "output_type": "stream",
     "text": [
      "Processing Non-Neutral Rows:  59%|█████████████████████████████▋                    | 593/1000 [28:14<19:08,  2.82s/it]"
     ]
    },
    {
     "name": "stdout",
     "output_type": "stream",
     "text": [
      "No valid primary label found at index 23090\n",
      "No valid secondary label found at index 23090\n"
     ]
    },
    {
     "name": "stderr",
     "output_type": "stream",
     "text": [
      "Processing Non-Neutral Rows:  61%|██████████████████████████████▎                   | 606/1000 [28:51<18:03,  2.75s/it]"
     ]
    },
    {
     "name": "stdout",
     "output_type": "stream",
     "text": [
      "No valid secondary label found at index 23103\n"
     ]
    },
    {
     "name": "stderr",
     "output_type": "stream",
     "text": [
      "\r",
      "Processing Non-Neutral Rows:  61%|██████████████████████████████▎                   | 607/1000 [28:54<17:35,  2.69s/it]"
     ]
    },
    {
     "name": "stdout",
     "output_type": "stream",
     "text": [
      "No valid primary label found at index 23104\n",
      "No valid secondary label found at index 23104\n"
     ]
    },
    {
     "name": "stderr",
     "output_type": "stream",
     "text": [
      "Processing Non-Neutral Rows:  61%|██████████████████████████████▋                   | 614/1000 [29:13<16:33,  2.57s/it]"
     ]
    },
    {
     "name": "stdout",
     "output_type": "stream",
     "text": [
      "No valid primary label found at index 23111\n",
      "No valid secondary label found at index 23111\n"
     ]
    },
    {
     "name": "stderr",
     "output_type": "stream",
     "text": [
      "\r",
      "Processing Non-Neutral Rows:  62%|██████████████████████████████▊                   | 615/1000 [29:15<16:38,  2.59s/it]"
     ]
    },
    {
     "name": "stdout",
     "output_type": "stream",
     "text": [
      "No valid primary label found at index 23112\n",
      "No valid secondary label found at index 23112\n"
     ]
    },
    {
     "name": "stderr",
     "output_type": "stream",
     "text": [
      "Processing Non-Neutral Rows:  62%|██████████████████████████████▊                   | 617/1000 [29:21<17:01,  2.67s/it]"
     ]
    },
    {
     "name": "stdout",
     "output_type": "stream",
     "text": [
      "No valid secondary label found at index 23114\n"
     ]
    },
    {
     "name": "stderr",
     "output_type": "stream",
     "text": [
      "Processing Non-Neutral Rows:  63%|███████████████████████████████▌                  | 630/1000 [29:55<16:39,  2.70s/it]"
     ]
    },
    {
     "name": "stdout",
     "output_type": "stream",
     "text": [
      "No valid primary label found at index 23128\n",
      "No valid secondary label found at index 23128\n"
     ]
    },
    {
     "name": "stderr",
     "output_type": "stream",
     "text": [
      "Processing Non-Neutral Rows:  64%|███████████████████████████████▉                  | 638/1000 [30:16<15:47,  2.62s/it]"
     ]
    },
    {
     "name": "stdout",
     "output_type": "stream",
     "text": [
      "No valid primary label found at index 23136\n",
      "No valid secondary label found at index 23136\n"
     ]
    },
    {
     "name": "stderr",
     "output_type": "stream",
     "text": [
      "\r",
      "Processing Non-Neutral Rows:  64%|███████████████████████████████▉                  | 639/1000 [30:18<15:50,  2.63s/it]"
     ]
    },
    {
     "name": "stdout",
     "output_type": "stream",
     "text": [
      "No valid primary label found at index 23137\n",
      "No valid secondary label found at index 23137\n"
     ]
    },
    {
     "name": "stderr",
     "output_type": "stream",
     "text": [
      "Processing Non-Neutral Rows:  64%|████████████████████████████████▏                 | 643/1000 [30:29<15:27,  2.60s/it]"
     ]
    },
    {
     "name": "stdout",
     "output_type": "stream",
     "text": [
      "No valid primary label found at index 23142\n",
      "No valid secondary label found at index 23142\n"
     ]
    },
    {
     "name": "stderr",
     "output_type": "stream",
     "text": [
      "Processing Non-Neutral Rows:  65%|████████████████████████████████▎                 | 647/1000 [30:40<16:34,  2.82s/it]"
     ]
    },
    {
     "name": "stdout",
     "output_type": "stream",
     "text": [
      "No valid secondary label found at index 23146\n"
     ]
    },
    {
     "name": "stderr",
     "output_type": "stream",
     "text": [
      "Processing Non-Neutral Rows:  65%|████████████████████████████████▌                 | 650/1000 [30:50<17:52,  3.07s/it]"
     ]
    },
    {
     "name": "stdout",
     "output_type": "stream",
     "text": [
      "No valid primary label found at index 23150\n",
      "No valid secondary label found at index 23150\n"
     ]
    },
    {
     "name": "stderr",
     "output_type": "stream",
     "text": [
      "\r",
      "Processing Non-Neutral Rows:  65%|████████████████████████████████▌                 | 651/1000 [30:52<16:46,  2.88s/it]"
     ]
    },
    {
     "name": "stdout",
     "output_type": "stream",
     "text": [
      "No valid primary label found at index 23151\n",
      "No valid secondary label found at index 23151\n"
     ]
    },
    {
     "name": "stderr",
     "output_type": "stream",
     "text": [
      "Processing Non-Neutral Rows:  65%|████████████████████████████████▋                 | 653/1000 [30:57<15:49,  2.74s/it]"
     ]
    },
    {
     "name": "stdout",
     "output_type": "stream",
     "text": [
      "No valid primary label found at index 23153\n",
      "No valid secondary label found at index 23153\n"
     ]
    },
    {
     "name": "stderr",
     "output_type": "stream",
     "text": [
      "\r",
      "Processing Non-Neutral Rows:  65%|████████████████████████████████▋                 | 654/1000 [31:00<15:34,  2.70s/it]"
     ]
    },
    {
     "name": "stdout",
     "output_type": "stream",
     "text": [
      "No valid secondary label found at index 23154\n"
     ]
    },
    {
     "name": "stderr",
     "output_type": "stream",
     "text": [
      "\r",
      "Processing Non-Neutral Rows:  66%|████████████████████████████████▊                 | 655/1000 [31:03<15:31,  2.70s/it]"
     ]
    },
    {
     "name": "stdout",
     "output_type": "stream",
     "text": [
      "No valid secondary label found at index 23155\n"
     ]
    },
    {
     "name": "stderr",
     "output_type": "stream",
     "text": [
      "Processing Non-Neutral Rows:  66%|████████████████████████████████▉                 | 658/1000 [31:10<15:15,  2.68s/it]"
     ]
    },
    {
     "name": "stdout",
     "output_type": "stream",
     "text": [
      "No valid primary label found at index 23158\n",
      "No valid secondary label found at index 23158\n"
     ]
    },
    {
     "name": "stderr",
     "output_type": "stream",
     "text": [
      "\r",
      "Processing Non-Neutral Rows:  66%|████████████████████████████████▉                 | 659/1000 [31:13<15:11,  2.67s/it]"
     ]
    },
    {
     "name": "stdout",
     "output_type": "stream",
     "text": [
      "No valid primary label found at index 23159\n",
      "No valid secondary label found at index 23159\n"
     ]
    },
    {
     "name": "stderr",
     "output_type": "stream",
     "text": [
      "Processing Non-Neutral Rows:  66%|█████████████████████████████████▏                | 664/1000 [31:27<14:39,  2.62s/it]"
     ]
    },
    {
     "name": "stdout",
     "output_type": "stream",
     "text": [
      "No valid primary label found at index 23164\n",
      "No valid secondary label found at index 23164\n"
     ]
    },
    {
     "name": "stderr",
     "output_type": "stream",
     "text": [
      "\r",
      "Processing Non-Neutral Rows:  66%|█████████████████████████████████▎                | 665/1000 [31:29<14:22,  2.57s/it]"
     ]
    },
    {
     "name": "stdout",
     "output_type": "stream",
     "text": [
      "No valid primary label found at index 23165\n",
      "No valid secondary label found at index 23165\n"
     ]
    },
    {
     "name": "stderr",
     "output_type": "stream",
     "text": [
      "\r",
      "Processing Non-Neutral Rows:  67%|█████████████████████████████████▎                | 666/1000 [31:32<14:17,  2.57s/it]"
     ]
    },
    {
     "name": "stdout",
     "output_type": "stream",
     "text": [
      "No valid primary label found at index 23166\n",
      "No valid secondary label found at index 23166\n"
     ]
    },
    {
     "name": "stderr",
     "output_type": "stream",
     "text": [
      "Processing Non-Neutral Rows:  67%|█████████████████████████████████▍                | 668/1000 [31:37<14:36,  2.64s/it]"
     ]
    },
    {
     "name": "stdout",
     "output_type": "stream",
     "text": [
      "No valid primary label found at index 23168\n",
      "No valid secondary label found at index 23168\n"
     ]
    },
    {
     "name": "stderr",
     "output_type": "stream",
     "text": [
      "Processing Non-Neutral Rows:  67%|█████████████████████████████████▌                | 671/1000 [31:45<14:33,  2.65s/it]"
     ]
    },
    {
     "name": "stdout",
     "output_type": "stream",
     "text": [
      "No valid primary label found at index 23171\n",
      "No valid secondary label found at index 23171\n"
     ]
    },
    {
     "name": "stderr",
     "output_type": "stream",
     "text": [
      "\r",
      "Processing Non-Neutral Rows:  67%|█████████████████████████████████▌                | 672/1000 [31:47<14:18,  2.62s/it]"
     ]
    },
    {
     "name": "stdout",
     "output_type": "stream",
     "text": [
      "No valid primary label found at index 23172\n",
      "No valid secondary label found at index 23172\n"
     ]
    },
    {
     "name": "stderr",
     "output_type": "stream",
     "text": [
      "\r",
      "Processing Non-Neutral Rows:  67%|█████████████████████████████████▋                | 673/1000 [31:50<13:54,  2.55s/it]"
     ]
    },
    {
     "name": "stdout",
     "output_type": "stream",
     "text": [
      "No valid primary label found at index 23173\n",
      "No valid secondary label found at index 23173\n"
     ]
    },
    {
     "name": "stderr",
     "output_type": "stream",
     "text": [
      "\r",
      "Processing Non-Neutral Rows:  67%|█████████████████████████████████▋                | 674/1000 [31:53<15:12,  2.80s/it]"
     ]
    },
    {
     "name": "stdout",
     "output_type": "stream",
     "text": [
      "No valid secondary label found at index 23174\n"
     ]
    },
    {
     "name": "stderr",
     "output_type": "stream",
     "text": [
      "\r",
      "Processing Non-Neutral Rows:  68%|█████████████████████████████████▊                | 675/1000 [31:56<14:47,  2.73s/it]"
     ]
    },
    {
     "name": "stdout",
     "output_type": "stream",
     "text": [
      "No valid primary label found at index 23175\n",
      "No valid secondary label found at index 23175\n"
     ]
    },
    {
     "name": "stderr",
     "output_type": "stream",
     "text": [
      "\r",
      "Processing Non-Neutral Rows:  68%|█████████████████████████████████▊                | 676/1000 [31:58<14:32,  2.69s/it]"
     ]
    },
    {
     "name": "stdout",
     "output_type": "stream",
     "text": [
      "No valid primary label found at index 23176\n",
      "No valid secondary label found at index 23176\n"
     ]
    },
    {
     "name": "stderr",
     "output_type": "stream",
     "text": [
      "\r",
      "Processing Non-Neutral Rows:  68%|█████████████████████████████████▊                | 677/1000 [32:01<14:19,  2.66s/it]"
     ]
    },
    {
     "name": "stdout",
     "output_type": "stream",
     "text": [
      "No valid primary label found at index 23177\n",
      "No valid secondary label found at index 23177\n"
     ]
    },
    {
     "name": "stderr",
     "output_type": "stream",
     "text": [
      "\r",
      "Processing Non-Neutral Rows:  68%|█████████████████████████████████▉                | 678/1000 [32:04<14:06,  2.63s/it]"
     ]
    },
    {
     "name": "stdout",
     "output_type": "stream",
     "text": [
      "No valid primary label found at index 23178\n",
      "No valid secondary label found at index 23178\n"
     ]
    },
    {
     "name": "stderr",
     "output_type": "stream",
     "text": [
      "Processing Non-Neutral Rows:  68%|██████████████████████████████████                | 681/1000 [32:13<15:38,  2.94s/it]"
     ]
    },
    {
     "name": "stdout",
     "output_type": "stream",
     "text": [
      "No valid primary label found at index 23182\n",
      "No valid secondary label found at index 23182\n"
     ]
    },
    {
     "name": "stderr",
     "output_type": "stream",
     "text": [
      "\r",
      "Processing Non-Neutral Rows:  68%|██████████████████████████████████                | 682/1000 [32:16<14:53,  2.81s/it]"
     ]
    },
    {
     "name": "stdout",
     "output_type": "stream",
     "text": [
      "No valid primary label found at index 23183\n",
      "No valid secondary label found at index 23183\n"
     ]
    },
    {
     "name": "stderr",
     "output_type": "stream",
     "text": [
      "\r",
      "Processing Non-Neutral Rows:  68%|██████████████████████████████████▏               | 683/1000 [32:19<15:25,  2.92s/it]"
     ]
    },
    {
     "name": "stdout",
     "output_type": "stream",
     "text": [
      "No valid secondary label found at index 23184\n"
     ]
    },
    {
     "name": "stderr",
     "output_type": "stream",
     "text": [
      "\r",
      "Processing Non-Neutral Rows:  68%|██████████████████████████████████▏               | 684/1000 [32:22<15:07,  2.87s/it]"
     ]
    },
    {
     "name": "stdout",
     "output_type": "stream",
     "text": [
      "No valid secondary label found at index 23185\n"
     ]
    },
    {
     "name": "stderr",
     "output_type": "stream",
     "text": [
      "\r",
      "Processing Non-Neutral Rows:  68%|██████████████████████████████████▎               | 685/1000 [32:25<14:46,  2.82s/it]"
     ]
    },
    {
     "name": "stdout",
     "output_type": "stream",
     "text": [
      "No valid secondary label found at index 23186\n"
     ]
    },
    {
     "name": "stderr",
     "output_type": "stream",
     "text": [
      "Processing Non-Neutral Rows:  70%|███████████████████████████████████▏              | 703/1000 [33:15<12:44,  2.57s/it]"
     ]
    },
    {
     "name": "stdout",
     "output_type": "stream",
     "text": [
      "No valid primary label found at index 23206\n",
      "No valid secondary label found at index 23206\n"
     ]
    },
    {
     "name": "stderr",
     "output_type": "stream",
     "text": [
      "Processing Non-Neutral Rows:  70%|███████████████████████████████████▎              | 705/1000 [33:21<14:02,  2.86s/it]"
     ]
    },
    {
     "name": "stdout",
     "output_type": "stream",
     "text": [
      "No valid primary label found at index 23208\n",
      "No valid secondary label found at index 23208\n"
     ]
    },
    {
     "name": "stderr",
     "output_type": "stream",
     "text": [
      "Processing Non-Neutral Rows:  72%|███████████████████████████████████▉              | 719/1000 [33:58<12:04,  2.58s/it]"
     ]
    },
    {
     "name": "stdout",
     "output_type": "stream",
     "text": [
      "No valid primary label found at index 23222\n",
      "No valid secondary label found at index 23222\n"
     ]
    },
    {
     "name": "stderr",
     "output_type": "stream",
     "text": [
      "\r",
      "Processing Non-Neutral Rows:  72%|████████████████████████████████████              | 720/1000 [34:01<12:16,  2.63s/it]"
     ]
    },
    {
     "name": "stdout",
     "output_type": "stream",
     "text": [
      "No valid primary label found at index 23223\n",
      "No valid secondary label found at index 23223\n"
     ]
    },
    {
     "name": "stderr",
     "output_type": "stream",
     "text": [
      "\r",
      "Processing Non-Neutral Rows:  72%|████████████████████████████████████              | 721/1000 [34:03<12:08,  2.61s/it]"
     ]
    },
    {
     "name": "stdout",
     "output_type": "stream",
     "text": [
      "No valid secondary label found at index 23224\n"
     ]
    },
    {
     "name": "stderr",
     "output_type": "stream",
     "text": [
      "\r",
      "Processing Non-Neutral Rows:  72%|████████████████████████████████████              | 722/1000 [34:06<12:25,  2.68s/it]"
     ]
    },
    {
     "name": "stdout",
     "output_type": "stream",
     "text": [
      "No valid primary label found at index 23225\n",
      "No valid secondary label found at index 23225\n"
     ]
    },
    {
     "name": "stderr",
     "output_type": "stream",
     "text": [
      "\r",
      "Processing Non-Neutral Rows:  72%|████████████████████████████████████▏             | 723/1000 [34:09<12:20,  2.67s/it]"
     ]
    },
    {
     "name": "stdout",
     "output_type": "stream",
     "text": [
      "No valid primary label found at index 23226\n",
      "No valid secondary label found at index 23226\n"
     ]
    },
    {
     "name": "stderr",
     "output_type": "stream",
     "text": [
      "Processing Non-Neutral Rows:  73%|████████████████████████████████████▍             | 728/1000 [34:23<12:34,  2.78s/it]"
     ]
    },
    {
     "name": "stdout",
     "output_type": "stream",
     "text": [
      "No valid primary label found at index 23231\n",
      "No valid secondary label found at index 23231\n"
     ]
    },
    {
     "name": "stderr",
     "output_type": "stream",
     "text": [
      "\r",
      "Processing Non-Neutral Rows:  73%|████████████████████████████████████▍             | 729/1000 [34:25<12:06,  2.68s/it]"
     ]
    },
    {
     "name": "stdout",
     "output_type": "stream",
     "text": [
      "No valid primary label found at index 23232\n",
      "No valid secondary label found at index 23232\n"
     ]
    },
    {
     "name": "stderr",
     "output_type": "stream",
     "text": [
      "Processing Non-Neutral Rows:  73%|████████████████████████████████████▌             | 732/1000 [34:36<13:39,  3.06s/it]"
     ]
    },
    {
     "name": "stdout",
     "output_type": "stream",
     "text": [
      "No valid primary label found at index 23235\n",
      "No valid secondary label found at index 23235\n"
     ]
    },
    {
     "name": "stderr",
     "output_type": "stream",
     "text": [
      "Processing Non-Neutral Rows:  74%|█████████████████████████████████████             | 740/1000 [34:57<11:54,  2.75s/it]"
     ]
    },
    {
     "name": "stdout",
     "output_type": "stream",
     "text": [
      "No valid primary label found at index 23243\n",
      "No valid secondary label found at index 23243\n"
     ]
    },
    {
     "name": "stderr",
     "output_type": "stream",
     "text": [
      "Processing Non-Neutral Rows:  74%|█████████████████████████████████████▏            | 744/1000 [35:09<12:07,  2.84s/it]"
     ]
    },
    {
     "name": "stdout",
     "output_type": "stream",
     "text": [
      "No valid primary label found at index 23249\n",
      "No valid secondary label found at index 23249\n"
     ]
    },
    {
     "name": "stderr",
     "output_type": "stream",
     "text": [
      "Processing Non-Neutral Rows:  75%|█████████████████████████████████████▎            | 746/1000 [35:14<11:48,  2.79s/it]"
     ]
    },
    {
     "name": "stdout",
     "output_type": "stream",
     "text": [
      "No valid primary label found at index 23251\n",
      "No valid secondary label found at index 23251\n"
     ]
    },
    {
     "name": "stderr",
     "output_type": "stream",
     "text": [
      "\r",
      "Processing Non-Neutral Rows:  75%|█████████████████████████████████████▎            | 747/1000 [35:18<13:00,  3.08s/it]"
     ]
    },
    {
     "name": "stdout",
     "output_type": "stream",
     "text": [
      "No valid secondary label found at index 23252\n"
     ]
    },
    {
     "name": "stderr",
     "output_type": "stream",
     "text": [
      "Processing Non-Neutral Rows:  75%|█████████████████████████████████████▌            | 750/1000 [35:26<11:42,  2.81s/it]"
     ]
    },
    {
     "name": "stdout",
     "output_type": "stream",
     "text": [
      "No valid primary label found at index 23255\n",
      "No valid secondary label found at index 23255\n"
     ]
    },
    {
     "name": "stderr",
     "output_type": "stream",
     "text": [
      "\r",
      "Processing Non-Neutral Rows:  75%|█████████████████████████████████████▌            | 751/1000 [35:29<11:49,  2.85s/it]"
     ]
    },
    {
     "name": "stdout",
     "output_type": "stream",
     "text": [
      "No valid primary label found at index 23256\n",
      "No valid secondary label found at index 23256\n"
     ]
    },
    {
     "name": "stderr",
     "output_type": "stream",
     "text": [
      "\r",
      "Processing Non-Neutral Rows:  75%|█████████████████████████████████████▌            | 752/1000 [35:31<11:32,  2.79s/it]"
     ]
    },
    {
     "name": "stdout",
     "output_type": "stream",
     "text": [
      "No valid primary label found at index 23257\n",
      "No valid secondary label found at index 23257\n"
     ]
    },
    {
     "name": "stderr",
     "output_type": "stream",
     "text": [
      "\r",
      "Processing Non-Neutral Rows:  75%|█████████████████████████████████████▋            | 753/1000 [35:34<11:46,  2.86s/it]"
     ]
    },
    {
     "name": "stdout",
     "output_type": "stream",
     "text": [
      "No valid primary label found at index 23258\n",
      "No valid secondary label found at index 23258\n"
     ]
    },
    {
     "name": "stderr",
     "output_type": "stream",
     "text": [
      "\r",
      "Processing Non-Neutral Rows:  75%|█████████████████████████████████████▋            | 754/1000 [35:37<11:35,  2.83s/it]"
     ]
    },
    {
     "name": "stdout",
     "output_type": "stream",
     "text": [
      "No valid primary label found at index 23259\n",
      "No valid secondary label found at index 23259\n"
     ]
    },
    {
     "name": "stderr",
     "output_type": "stream",
     "text": [
      "Processing Non-Neutral Rows:  76%|█████████████████████████████████████▊            | 756/1000 [35:42<10:39,  2.62s/it]"
     ]
    },
    {
     "name": "stdout",
     "output_type": "stream",
     "text": [
      "No valid primary label found at index 23261\n",
      "No valid secondary label found at index 23261\n"
     ]
    },
    {
     "name": "stderr",
     "output_type": "stream",
     "text": [
      "Processing Non-Neutral Rows:  76%|██████████████████████████████████████▎           | 765/1000 [36:07<11:08,  2.85s/it]"
     ]
    },
    {
     "name": "stdout",
     "output_type": "stream",
     "text": [
      "No valid primary label found at index 23270\n",
      "No valid secondary label found at index 23270\n"
     ]
    },
    {
     "name": "stderr",
     "output_type": "stream",
     "text": [
      "Processing Non-Neutral Rows:  77%|██████████████████████████████████████▍           | 768/1000 [36:16<11:04,  2.86s/it]"
     ]
    },
    {
     "name": "stdout",
     "output_type": "stream",
     "text": [
      "No valid primary label found at index 23273\n",
      "No valid secondary label found at index 23273\n"
     ]
    },
    {
     "name": "stderr",
     "output_type": "stream",
     "text": [
      "Processing Non-Neutral Rows:  77%|██████████████████████████████████████▋           | 773/1000 [36:33<12:55,  3.42s/it]"
     ]
    },
    {
     "name": "stdout",
     "output_type": "stream",
     "text": [
      "No valid primary label found at index 23278\n",
      "No valid secondary label found at index 23278\n"
     ]
    },
    {
     "name": "stderr",
     "output_type": "stream",
     "text": [
      "Processing Non-Neutral Rows:  78%|██████████████████████████████████████▊           | 776/1000 [36:43<12:11,  3.26s/it]"
     ]
    },
    {
     "name": "stdout",
     "output_type": "stream",
     "text": [
      "No valid primary label found at index 23281\n",
      "No valid secondary label found at index 23281\n"
     ]
    },
    {
     "name": "stderr",
     "output_type": "stream",
     "text": [
      "\r",
      "Processing Non-Neutral Rows:  78%|██████████████████████████████████████▊           | 777/1000 [36:46<11:25,  3.08s/it]"
     ]
    },
    {
     "name": "stdout",
     "output_type": "stream",
     "text": [
      "No valid primary label found at index 23282\n",
      "No valid secondary label found at index 23282\n"
     ]
    },
    {
     "name": "stderr",
     "output_type": "stream",
     "text": [
      "Processing Non-Neutral Rows:  79%|███████████████████████████████████████▍          | 788/1000 [37:19<10:49,  3.06s/it]"
     ]
    },
    {
     "name": "stdout",
     "output_type": "stream",
     "text": [
      "No valid primary label found at index 23295\n",
      "No valid secondary label found at index 23295\n"
     ]
    },
    {
     "name": "stderr",
     "output_type": "stream",
     "text": [
      "Processing Non-Neutral Rows:  79%|███████████████████████████████████████▌          | 790/1000 [37:24<09:47,  2.80s/it]"
     ]
    },
    {
     "name": "stdout",
     "output_type": "stream",
     "text": [
      "No valid primary label found at index 23297\n",
      "No valid secondary label found at index 23297\n"
     ]
    },
    {
     "name": "stderr",
     "output_type": "stream",
     "text": [
      "\r",
      "Processing Non-Neutral Rows:  79%|███████████████████████████████████████▌          | 791/1000 [37:27<09:43,  2.79s/it]"
     ]
    },
    {
     "name": "stdout",
     "output_type": "stream",
     "text": [
      "No valid primary label found at index 23298\n",
      "No valid secondary label found at index 23298\n"
     ]
    },
    {
     "name": "stderr",
     "output_type": "stream",
     "text": [
      "\r",
      "Processing Non-Neutral Rows:  79%|███████████████████████████████████████▌          | 792/1000 [37:30<09:49,  2.83s/it]"
     ]
    },
    {
     "name": "stdout",
     "output_type": "stream",
     "text": [
      "No valid primary label found at index 23299\n",
      "No valid secondary label found at index 23299\n"
     ]
    },
    {
     "name": "stderr",
     "output_type": "stream",
     "text": [
      "\r",
      "Processing Non-Neutral Rows:  79%|███████████████████████████████████████▋          | 793/1000 [37:33<09:43,  2.82s/it]"
     ]
    },
    {
     "name": "stdout",
     "output_type": "stream",
     "text": [
      "No valid primary label found at index 23300\n",
      "No valid secondary label found at index 23300\n"
     ]
    },
    {
     "name": "stderr",
     "output_type": "stream",
     "text": [
      "Processing Non-Neutral Rows:  80%|████████████████████████████████████████▏         | 803/1000 [38:03<09:46,  2.98s/it]"
     ]
    },
    {
     "name": "stdout",
     "output_type": "stream",
     "text": [
      "No valid primary label found at index 23310\n",
      "No valid secondary label found at index 23310\n"
     ]
    },
    {
     "name": "stderr",
     "output_type": "stream",
     "text": [
      "Processing Non-Neutral Rows:  81%|████████████████████████████████████████▎         | 806/1000 [38:12<09:42,  3.00s/it]"
     ]
    },
    {
     "name": "stdout",
     "output_type": "stream",
     "text": [
      "No valid primary label found at index 23313\n",
      "No valid secondary label found at index 23313\n"
     ]
    },
    {
     "name": "stderr",
     "output_type": "stream",
     "text": [
      "\r",
      "Processing Non-Neutral Rows:  81%|████████████████████████████████████████▎         | 807/1000 [38:15<09:26,  2.93s/it]"
     ]
    },
    {
     "name": "stdout",
     "output_type": "stream",
     "text": [
      "No valid secondary label found at index 23314\n"
     ]
    },
    {
     "name": "stderr",
     "output_type": "stream",
     "text": [
      "Processing Non-Neutral Rows:  81%|████████████████████████████████████████▌         | 810/1000 [38:22<08:25,  2.66s/it]"
     ]
    },
    {
     "name": "stdout",
     "output_type": "stream",
     "text": [
      "No valid secondary label found at index 23317\n"
     ]
    },
    {
     "name": "stderr",
     "output_type": "stream",
     "text": [
      "\r",
      "Processing Non-Neutral Rows:  81%|████████████████████████████████████████▌         | 811/1000 [38:25<08:14,  2.62s/it]"
     ]
    },
    {
     "name": "stdout",
     "output_type": "stream",
     "text": [
      "No valid primary label found at index 23318\n",
      "No valid secondary label found at index 23318\n"
     ]
    },
    {
     "name": "stderr",
     "output_type": "stream",
     "text": [
      "Processing Non-Neutral Rows:  82%|████████████████████████████████████████▉         | 818/1000 [38:44<08:19,  2.74s/it]"
     ]
    },
    {
     "name": "stdout",
     "output_type": "stream",
     "text": [
      "No valid primary label found at index 23328\n",
      "No valid secondary label found at index 23328\n"
     ]
    },
    {
     "name": "stderr",
     "output_type": "stream",
     "text": [
      "Processing Non-Neutral Rows:  82%|█████████████████████████████████████████         | 821/1000 [38:52<07:52,  2.64s/it]"
     ]
    },
    {
     "name": "stdout",
     "output_type": "stream",
     "text": [
      "No valid secondary label found at index 23331\n"
     ]
    },
    {
     "name": "stderr",
     "output_type": "stream",
     "text": [
      "Processing Non-Neutral Rows:  83%|█████████████████████████████████████████▋        | 833/1000 [39:28<08:16,  2.97s/it]"
     ]
    },
    {
     "name": "stdout",
     "output_type": "stream",
     "text": [
      "No valid primary label found at index 23343\n",
      "No valid secondary label found at index 23343\n"
     ]
    },
    {
     "name": "stderr",
     "output_type": "stream",
     "text": [
      "\r",
      "Processing Non-Neutral Rows:  83%|█████████████████████████████████████████▋        | 834/1000 [39:31<08:03,  2.91s/it]"
     ]
    },
    {
     "name": "stdout",
     "output_type": "stream",
     "text": [
      "No valid primary label found at index 23344\n",
      "No valid secondary label found at index 23344\n"
     ]
    },
    {
     "name": "stderr",
     "output_type": "stream",
     "text": [
      "Processing Non-Neutral Rows:  84%|█████████████████████████████████████████▊        | 837/1000 [39:39<07:06,  2.62s/it]"
     ]
    },
    {
     "name": "stdout",
     "output_type": "stream",
     "text": [
      "No valid primary label found at index 23347\n",
      "No valid secondary label found at index 23347\n"
     ]
    },
    {
     "name": "stderr",
     "output_type": "stream",
     "text": [
      "Processing Non-Neutral Rows:  84%|██████████████████████████████████████████        | 841/1000 [39:51<07:38,  2.88s/it]"
     ]
    },
    {
     "name": "stdout",
     "output_type": "stream",
     "text": [
      "No valid primary label found at index 23351\n",
      "No valid secondary label found at index 23351\n"
     ]
    },
    {
     "name": "stderr",
     "output_type": "stream",
     "text": [
      "Processing Non-Neutral Rows:  84%|██████████████████████████████████████████▏       | 843/1000 [39:56<07:13,  2.76s/it]"
     ]
    },
    {
     "name": "stdout",
     "output_type": "stream",
     "text": [
      "No valid primary label found at index 23353\n",
      "No valid secondary label found at index 23353\n"
     ]
    },
    {
     "name": "stderr",
     "output_type": "stream",
     "text": [
      "Processing Non-Neutral Rows:  84%|██████████████████████████████████████████▎       | 845/1000 [40:02<07:07,  2.76s/it]"
     ]
    },
    {
     "name": "stdout",
     "output_type": "stream",
     "text": [
      "No valid primary label found at index 23355\n",
      "No valid secondary label found at index 23355\n"
     ]
    },
    {
     "name": "stderr",
     "output_type": "stream",
     "text": [
      "\r",
      "Processing Non-Neutral Rows:  85%|██████████████████████████████████████████▎       | 846/1000 [40:04<07:10,  2.80s/it]"
     ]
    },
    {
     "name": "stdout",
     "output_type": "stream",
     "text": [
      "No valid primary label found at index 23356\n",
      "No valid secondary label found at index 23356\n"
     ]
    },
    {
     "name": "stderr",
     "output_type": "stream",
     "text": [
      "Processing Non-Neutral Rows:  86%|██████████████████████████████████████████▊       | 856/1000 [40:36<07:15,  3.02s/it]"
     ]
    },
    {
     "name": "stdout",
     "output_type": "stream",
     "text": [
      "No valid primary label found at index 23372\n",
      "No valid secondary label found at index 23372\n"
     ]
    },
    {
     "name": "stderr",
     "output_type": "stream",
     "text": [
      "Processing Non-Neutral Rows:  86%|███████████████████████████████████████████       | 862/1000 [40:53<06:44,  2.93s/it]"
     ]
    },
    {
     "name": "stdout",
     "output_type": "stream",
     "text": [
      "No valid secondary label found at index 23380\n"
     ]
    },
    {
     "name": "stderr",
     "output_type": "stream",
     "text": [
      "Processing Non-Neutral Rows:  87%|███████████████████████████████████████████▎      | 866/1000 [41:04<06:17,  2.82s/it]"
     ]
    },
    {
     "name": "stdout",
     "output_type": "stream",
     "text": [
      "No valid primary label found at index 23384\n",
      "No valid secondary label found at index 23384\n"
     ]
    },
    {
     "name": "stderr",
     "output_type": "stream",
     "text": [
      "Processing Non-Neutral Rows:  87%|███████████████████████████████████████████▋      | 874/1000 [41:26<05:49,  2.77s/it]"
     ]
    },
    {
     "name": "stdout",
     "output_type": "stream",
     "text": [
      "No valid primary label found at index 23392\n",
      "No valid secondary label found at index 23392\n"
     ]
    },
    {
     "name": "stderr",
     "output_type": "stream",
     "text": [
      "\r",
      "Processing Non-Neutral Rows:  88%|███████████████████████████████████████████▊      | 875/1000 [41:29<05:54,  2.84s/it]"
     ]
    },
    {
     "name": "stdout",
     "output_type": "stream",
     "text": [
      "No valid secondary label found at index 23393\n"
     ]
    },
    {
     "name": "stderr",
     "output_type": "stream",
     "text": [
      "\r",
      "Processing Non-Neutral Rows:  88%|███████████████████████████████████████████▊      | 876/1000 [41:31<05:51,  2.83s/it]"
     ]
    },
    {
     "name": "stdout",
     "output_type": "stream",
     "text": [
      "No valid primary label found at index 23394\n",
      "No valid secondary label found at index 23394\n"
     ]
    },
    {
     "name": "stderr",
     "output_type": "stream",
     "text": [
      "Processing Non-Neutral Rows:  88%|████████████████████████████████████████████      | 881/1000 [41:48<06:38,  3.35s/it]"
     ]
    },
    {
     "name": "stdout",
     "output_type": "stream",
     "text": [
      "No valid primary label found at index 23400\n",
      "No valid secondary label found at index 23400\n"
     ]
    },
    {
     "name": "stderr",
     "output_type": "stream",
     "text": [
      "Processing Non-Neutral Rows:  89%|████████████████████████████████████████████▌     | 890/1000 [42:11<05:01,  2.74s/it]"
     ]
    },
    {
     "name": "stdout",
     "output_type": "stream",
     "text": [
      "No valid primary label found at index 23410\n",
      "No valid secondary label found at index 23410\n"
     ]
    },
    {
     "name": "stderr",
     "output_type": "stream",
     "text": [
      "\r",
      "Processing Non-Neutral Rows:  89%|████████████████████████████████████████████▌     | 891/1000 [42:14<04:57,  2.73s/it]"
     ]
    },
    {
     "name": "stdout",
     "output_type": "stream",
     "text": [
      "No valid primary label found at index 23411\n",
      "No valid secondary label found at index 23411\n"
     ]
    },
    {
     "name": "stderr",
     "output_type": "stream",
     "text": [
      "Processing Non-Neutral Rows:  90%|████████████████████████████████████████████▊     | 896/1000 [42:28<04:52,  2.81s/it]"
     ]
    },
    {
     "name": "stdout",
     "output_type": "stream",
     "text": [
      "No valid primary label found at index 23416\n",
      "No valid secondary label found at index 23416\n"
     ]
    },
    {
     "name": "stderr",
     "output_type": "stream",
     "text": [
      "Processing Non-Neutral Rows:  90%|█████████████████████████████████████████████     | 900/1000 [42:38<04:16,  2.57s/it]"
     ]
    },
    {
     "name": "stdout",
     "output_type": "stream",
     "text": [
      "No valid primary label found at index 23421\n",
      "No valid secondary label found at index 23421\n"
     ]
    },
    {
     "name": "stderr",
     "output_type": "stream",
     "text": [
      "Processing Non-Neutral Rows:  92%|█████████████████████████████████████████████▊    | 917/1000 [43:21<03:33,  2.57s/it]"
     ]
    },
    {
     "name": "stdout",
     "output_type": "stream",
     "text": [
      "No valid primary label found at index 23440\n",
      "No valid secondary label found at index 23440\n"
     ]
    },
    {
     "name": "stderr",
     "output_type": "stream",
     "text": [
      "Processing Non-Neutral Rows:  92%|█████████████████████████████████████████████▉    | 919/1000 [43:28<04:14,  3.14s/it]"
     ]
    },
    {
     "name": "stdout",
     "output_type": "stream",
     "text": [
      "No valid secondary label found at index 23442\n"
     ]
    },
    {
     "name": "stderr",
     "output_type": "stream",
     "text": [
      "Processing Non-Neutral Rows:  92%|██████████████████████████████████████████████▎   | 925/1000 [43:47<03:49,  3.06s/it]"
     ]
    },
    {
     "name": "stdout",
     "output_type": "stream",
     "text": [
      "No valid secondary label found at index 23448\n"
     ]
    },
    {
     "name": "stderr",
     "output_type": "stream",
     "text": [
      "\r",
      "Processing Non-Neutral Rows:  93%|██████████████████████████████████████████████▎   | 926/1000 [43:50<04:01,  3.27s/it]"
     ]
    },
    {
     "name": "stdout",
     "output_type": "stream",
     "text": [
      "No valid secondary label found at index 23449\n"
     ]
    },
    {
     "name": "stderr",
     "output_type": "stream",
     "text": [
      "Processing Non-Neutral Rows:  93%|██████████████████████████████████████████████▍   | 928/1000 [43:57<03:49,  3.18s/it]"
     ]
    },
    {
     "name": "stdout",
     "output_type": "stream",
     "text": [
      "No valid secondary label found at index 23451\n"
     ]
    },
    {
     "name": "stderr",
     "output_type": "stream",
     "text": [
      "\r",
      "Processing Non-Neutral Rows:  93%|██████████████████████████████████████████████▍   | 929/1000 [44:00<04:00,  3.38s/it]"
     ]
    },
    {
     "name": "stdout",
     "output_type": "stream",
     "text": [
      "No valid secondary label found at index 23452\n"
     ]
    },
    {
     "name": "stderr",
     "output_type": "stream",
     "text": [
      "Processing Non-Neutral Rows:  94%|███████████████████████████████████████████████   | 940/1000 [44:33<03:00,  3.01s/it]"
     ]
    },
    {
     "name": "stdout",
     "output_type": "stream",
     "text": [
      "No valid secondary label found at index 23464\n"
     ]
    },
    {
     "name": "stderr",
     "output_type": "stream",
     "text": [
      "Processing Non-Neutral Rows:  95%|███████████████████████████████████████████████▌  | 950/1000 [45:03<02:42,  3.25s/it]"
     ]
    },
    {
     "name": "stdout",
     "output_type": "stream",
     "text": [
      "No valid secondary label found at index 23474\n"
     ]
    },
    {
     "name": "stderr",
     "output_type": "stream",
     "text": [
      "Processing Non-Neutral Rows:  95%|███████████████████████████████████████████████▌  | 952/1000 [45:09<02:33,  3.19s/it]"
     ]
    },
    {
     "name": "stdout",
     "output_type": "stream",
     "text": [
      "No valid secondary label found at index 23476\n"
     ]
    },
    {
     "name": "stderr",
     "output_type": "stream",
     "text": [
      "Processing Non-Neutral Rows:  95%|███████████████████████████████████████████████▋  | 954/1000 [45:15<02:16,  2.97s/it]"
     ]
    },
    {
     "name": "stdout",
     "output_type": "stream",
     "text": [
      "No valid secondary label found at index 23478\n"
     ]
    },
    {
     "name": "stderr",
     "output_type": "stream",
     "text": [
      "Processing Non-Neutral Rows:  96%|███████████████████████████████████████████████▊  | 956/1000 [45:20<02:04,  2.84s/it]"
     ]
    },
    {
     "name": "stdout",
     "output_type": "stream",
     "text": [
      "No valid primary label found at index 23480\n",
      "No valid secondary label found at index 23480\n"
     ]
    },
    {
     "name": "stderr",
     "output_type": "stream",
     "text": [
      "Processing Non-Neutral Rows:  96%|████████████████████████████████████████████████▏ | 963/1000 [45:41<01:47,  2.91s/it]"
     ]
    },
    {
     "name": "stdout",
     "output_type": "stream",
     "text": [
      "No valid primary label found at index 23487\n",
      "No valid secondary label found at index 23487\n"
     ]
    },
    {
     "name": "stderr",
     "output_type": "stream",
     "text": [
      "Processing Non-Neutral Rows:  97%|████████████████████████████████████████████████▎ | 967/1000 [45:52<01:36,  2.91s/it]"
     ]
    },
    {
     "name": "stdout",
     "output_type": "stream",
     "text": [
      "No valid secondary label found at index 23491\n"
     ]
    },
    {
     "name": "stderr",
     "output_type": "stream",
     "text": [
      "Processing Non-Neutral Rows:  97%|████████████████████████████████████████████████▋ | 974/1000 [46:12<01:12,  2.78s/it]"
     ]
    },
    {
     "name": "stdout",
     "output_type": "stream",
     "text": [
      "No valid primary label found at index 23500\n",
      "No valid secondary label found at index 23500\n"
     ]
    },
    {
     "name": "stderr",
     "output_type": "stream",
     "text": [
      "Processing Non-Neutral Rows:  98%|████████████████████████████████████████████████▉ | 978/1000 [46:25<01:10,  3.22s/it]"
     ]
    },
    {
     "name": "stdout",
     "output_type": "stream",
     "text": [
      "No valid secondary label found at index 23504\n"
     ]
    },
    {
     "name": "stderr",
     "output_type": "stream",
     "text": [
      "Processing Non-Neutral Rows:  98%|█████████████████████████████████████████████████ | 981/1000 [46:33<00:52,  2.76s/it]"
     ]
    },
    {
     "name": "stdout",
     "output_type": "stream",
     "text": [
      "No valid primary label found at index 23507\n",
      "No valid secondary label found at index 23507\n"
     ]
    },
    {
     "name": "stderr",
     "output_type": "stream",
     "text": [
      "Processing Non-Neutral Rows: 100%|█████████████████████████████████████████████████▉| 998/1000 [47:27<00:06,  3.12s/it]"
     ]
    },
    {
     "name": "stdout",
     "output_type": "stream",
     "text": [
      "No valid secondary label found at index 23526\n"
     ]
    },
    {
     "name": "stderr",
     "output_type": "stream",
     "text": [
      "Processing Non-Neutral Rows: 100%|█████████████████████████████████████████████████| 1000/1000 [47:32<00:00,  2.85s/it]\n"
     ]
    }
   ],
   "source": [
    "for index in tqdm(non_neutral_indices[3000:4000], desc=\"Processing Non-Neutral Rows\"):\n",
    "    classify_and_update_labels(index)"
   ]
  },
  {
   "cell_type": "code",
   "execution_count": 51,
   "id": "631bc2bf",
   "metadata": {},
   "outputs": [],
   "source": [
    "df.to_csv('outputs.csv', index=False)"
   ]
  },
  {
   "cell_type": "code",
   "execution_count": 52,
   "id": "910c7fc8",
   "metadata": {},
   "outputs": [],
   "source": [
    "redo_indices=failed_indices"
   ]
  },
  {
   "cell_type": "code",
   "execution_count": 53,
   "id": "2e9f9a32",
   "metadata": {},
   "outputs": [],
   "source": [
    "with open('redo.pkl', 'wb') as f:\n",
    "    pickle.dump(redo_indices, f)"
   ]
  },
  {
   "cell_type": "code",
   "execution_count": 54,
   "id": "1f83d9ff",
   "metadata": {},
   "outputs": [
    {
     "name": "stderr",
     "output_type": "stream",
     "text": [
      "Processing Non-Neutral Rows:   1%|▎                                                   | 7/1000 [00:22<51:15,  3.10s/it]"
     ]
    },
    {
     "name": "stdout",
     "output_type": "stream",
     "text": [
      "No valid primary label found at index 23535\n",
      "No valid secondary label found at index 23535\n"
     ]
    },
    {
     "name": "stderr",
     "output_type": "stream",
     "text": [
      "Processing Non-Neutral Rows:   3%|█▋                                                 | 32/1000 [01:29<42:36,  2.64s/it]"
     ]
    },
    {
     "name": "stdout",
     "output_type": "stream",
     "text": [
      "No valid primary label found at index 23562\n",
      "No valid secondary label found at index 23562\n"
     ]
    },
    {
     "name": "stderr",
     "output_type": "stream",
     "text": [
      "Processing Non-Neutral Rows:   4%|█▉                                                 | 37/1000 [01:45<49:51,  3.11s/it]"
     ]
    },
    {
     "name": "stdout",
     "output_type": "stream",
     "text": [
      "No valid secondary label found at index 23568\n"
     ]
    },
    {
     "name": "stderr",
     "output_type": "stream",
     "text": [
      "\r",
      "Processing Non-Neutral Rows:   4%|█▉                                                 | 38/1000 [01:47<46:58,  2.93s/it]"
     ]
    },
    {
     "name": "stdout",
     "output_type": "stream",
     "text": [
      "No valid primary label found at index 23569\n",
      "No valid secondary label found at index 23569\n"
     ]
    },
    {
     "name": "stderr",
     "output_type": "stream",
     "text": [
      "Processing Non-Neutral Rows:   4%|██▏                                                | 42/1000 [01:58<45:14,  2.83s/it]"
     ]
    },
    {
     "name": "stdout",
     "output_type": "stream",
     "text": [
      "No valid primary label found at index 23573\n",
      "No valid secondary label found at index 23573\n"
     ]
    },
    {
     "name": "stderr",
     "output_type": "stream",
     "text": [
      "\r",
      "Processing Non-Neutral Rows:   4%|██▏                                                | 43/1000 [02:01<43:20,  2.72s/it]"
     ]
    },
    {
     "name": "stdout",
     "output_type": "stream",
     "text": [
      "No valid primary label found at index 23574\n",
      "No valid secondary label found at index 23574\n"
     ]
    },
    {
     "name": "stderr",
     "output_type": "stream",
     "text": [
      "Processing Non-Neutral Rows:   6%|███▏                                               | 63/1000 [03:00<44:08,  2.83s/it]"
     ]
    },
    {
     "name": "stdout",
     "output_type": "stream",
     "text": [
      "No valid primary label found at index 23595\n",
      "No valid secondary label found at index 23595\n"
     ]
    },
    {
     "name": "stderr",
     "output_type": "stream",
     "text": [
      "Processing Non-Neutral Rows:   7%|███▎                                               | 66/1000 [03:09<46:04,  2.96s/it]"
     ]
    },
    {
     "name": "stdout",
     "output_type": "stream",
     "text": [
      "No valid secondary label found at index 23598\n"
     ]
    },
    {
     "name": "stderr",
     "output_type": "stream",
     "text": [
      "Processing Non-Neutral Rows:   7%|███▌                                               | 69/1000 [03:16<41:38,  2.68s/it]"
     ]
    },
    {
     "name": "stdout",
     "output_type": "stream",
     "text": [
      "No valid primary label found at index 23601\n",
      "No valid secondary label found at index 23601\n"
     ]
    },
    {
     "name": "stderr",
     "output_type": "stream",
     "text": [
      "Processing Non-Neutral Rows:   8%|███▉                                               | 78/1000 [03:39<38:17,  2.49s/it]"
     ]
    },
    {
     "name": "stdout",
     "output_type": "stream",
     "text": [
      "No valid primary label found at index 23611\n",
      "No valid secondary label found at index 23611\n"
     ]
    },
    {
     "name": "stderr",
     "output_type": "stream",
     "text": [
      "\r",
      "Processing Non-Neutral Rows:   8%|████                                               | 79/1000 [03:41<39:17,  2.56s/it]"
     ]
    },
    {
     "name": "stdout",
     "output_type": "stream",
     "text": [
      "No valid primary label found at index 23612\n",
      "No valid secondary label found at index 23612\n"
     ]
    },
    {
     "name": "stderr",
     "output_type": "stream",
     "text": [
      "\r",
      "Processing Non-Neutral Rows:   8%|████                                               | 80/1000 [03:44<40:01,  2.61s/it]"
     ]
    },
    {
     "name": "stdout",
     "output_type": "stream",
     "text": [
      "No valid primary label found at index 23613\n",
      "No valid secondary label found at index 23613\n"
     ]
    },
    {
     "name": "stderr",
     "output_type": "stream",
     "text": [
      "Processing Non-Neutral Rows:   8%|████▏                                              | 82/1000 [03:50<43:10,  2.82s/it]"
     ]
    },
    {
     "name": "stdout",
     "output_type": "stream",
     "text": [
      "No valid primary label found at index 23615\n",
      "No valid secondary label found at index 23615\n"
     ]
    },
    {
     "name": "stderr",
     "output_type": "stream",
     "text": [
      "Processing Non-Neutral Rows:   9%|████▌                                              | 89/1000 [04:09<41:04,  2.71s/it]"
     ]
    },
    {
     "name": "stdout",
     "output_type": "stream",
     "text": [
      "No valid primary label found at index 23622\n",
      "No valid secondary label found at index 23622\n"
     ]
    },
    {
     "name": "stderr",
     "output_type": "stream",
     "text": [
      "Processing Non-Neutral Rows:  11%|█████▎                                            | 106/1000 [04:56<37:50,  2.54s/it]"
     ]
    },
    {
     "name": "stdout",
     "output_type": "stream",
     "text": [
      "No valid primary label found at index 23640\n",
      "No valid secondary label found at index 23640\n"
     ]
    },
    {
     "name": "stderr",
     "output_type": "stream",
     "text": [
      "Processing Non-Neutral Rows:  12%|█████▉                                            | 118/1000 [05:28<42:54,  2.92s/it]"
     ]
    },
    {
     "name": "stdout",
     "output_type": "stream",
     "text": [
      "No valid primary label found at index 23653\n",
      "No valid secondary label found at index 23653\n"
     ]
    },
    {
     "name": "stderr",
     "output_type": "stream",
     "text": [
      "Processing Non-Neutral Rows:  12%|██████                                            | 122/1000 [05:39<40:36,  2.77s/it]"
     ]
    },
    {
     "name": "stdout",
     "output_type": "stream",
     "text": [
      "No valid primary label found at index 23657\n",
      "No valid secondary label found at index 23657\n"
     ]
    },
    {
     "name": "stderr",
     "output_type": "stream",
     "text": [
      "Processing Non-Neutral Rows:  13%|██████▎                                           | 126/1000 [05:54<50:54,  3.49s/it]"
     ]
    },
    {
     "name": "stdout",
     "output_type": "stream",
     "text": [
      "No valid secondary label found at index 23661\n"
     ]
    },
    {
     "name": "stderr",
     "output_type": "stream",
     "text": [
      "Processing Non-Neutral Rows:  13%|██████▍                                           | 129/1000 [06:02<42:25,  2.92s/it]"
     ]
    },
    {
     "name": "stdout",
     "output_type": "stream",
     "text": [
      "No valid primary label found at index 23667\n",
      "No valid secondary label found at index 23667\n"
     ]
    },
    {
     "name": "stderr",
     "output_type": "stream",
     "text": [
      "Processing Non-Neutral Rows:  13%|██████▌                                           | 131/1000 [06:07<40:29,  2.80s/it]"
     ]
    },
    {
     "name": "stdout",
     "output_type": "stream",
     "text": [
      "No valid primary label found at index 23670\n",
      "No valid secondary label found at index 23670\n"
     ]
    },
    {
     "name": "stderr",
     "output_type": "stream",
     "text": [
      "Processing Non-Neutral Rows:  14%|██████▊                                           | 136/1000 [06:22<41:42,  2.90s/it]"
     ]
    },
    {
     "name": "stdout",
     "output_type": "stream",
     "text": [
      "No valid primary label found at index 23676\n",
      "No valid secondary label found at index 23676\n"
     ]
    },
    {
     "name": "stderr",
     "output_type": "stream",
     "text": [
      "Processing Non-Neutral Rows:  14%|███████                                           | 142/1000 [06:39<40:35,  2.84s/it]"
     ]
    },
    {
     "name": "stdout",
     "output_type": "stream",
     "text": [
      "No valid primary label found at index 23683\n",
      "No valid secondary label found at index 23683\n"
     ]
    },
    {
     "name": "stderr",
     "output_type": "stream",
     "text": [
      "\r",
      "Processing Non-Neutral Rows:  14%|███████▏                                          | 143/1000 [06:43<44:21,  3.11s/it]"
     ]
    },
    {
     "name": "stdout",
     "output_type": "stream",
     "text": [
      "No valid secondary label found at index 23684\n"
     ]
    },
    {
     "name": "stderr",
     "output_type": "stream",
     "text": [
      "\r",
      "Processing Non-Neutral Rows:  14%|███████▏                                          | 144/1000 [06:46<42:38,  2.99s/it]"
     ]
    },
    {
     "name": "stdout",
     "output_type": "stream",
     "text": [
      "No valid primary label found at index 23686\n",
      "No valid secondary label found at index 23686\n"
     ]
    },
    {
     "name": "stderr",
     "output_type": "stream",
     "text": [
      "Processing Non-Neutral Rows:  16%|████████                                          | 160/1000 [07:33<39:14,  2.80s/it]"
     ]
    },
    {
     "name": "stdout",
     "output_type": "stream",
     "text": [
      "No valid primary label found at index 23705\n",
      "No valid secondary label found at index 23705\n"
     ]
    },
    {
     "name": "stderr",
     "output_type": "stream",
     "text": [
      "\r",
      "Processing Non-Neutral Rows:  16%|████████                                          | 161/1000 [07:36<38:42,  2.77s/it]"
     ]
    },
    {
     "name": "stdout",
     "output_type": "stream",
     "text": [
      "No valid primary label found at index 23706\n",
      "No valid secondary label found at index 23706\n"
     ]
    },
    {
     "name": "stderr",
     "output_type": "stream",
     "text": [
      "Processing Non-Neutral Rows:  17%|████████▍                                         | 168/1000 [07:54<36:29,  2.63s/it]"
     ]
    },
    {
     "name": "stdout",
     "output_type": "stream",
     "text": [
      "No valid primary label found at index 23713\n",
      "No valid secondary label found at index 23713\n"
     ]
    },
    {
     "name": "stderr",
     "output_type": "stream",
     "text": [
      "\r",
      "Processing Non-Neutral Rows:  17%|████████▍                                         | 169/1000 [07:56<36:41,  2.65s/it]"
     ]
    },
    {
     "name": "stdout",
     "output_type": "stream",
     "text": [
      "No valid primary label found at index 23714\n",
      "No valid secondary label found at index 23714\n"
     ]
    },
    {
     "name": "stderr",
     "output_type": "stream",
     "text": [
      "\r",
      "Processing Non-Neutral Rows:  17%|████████▌                                         | 170/1000 [07:59<37:48,  2.73s/it]"
     ]
    },
    {
     "name": "stdout",
     "output_type": "stream",
     "text": [
      "No valid secondary label found at index 23715\n"
     ]
    },
    {
     "name": "stderr",
     "output_type": "stream",
     "text": [
      "Processing Non-Neutral Rows:  17%|████████▌                                         | 172/1000 [08:05<38:04,  2.76s/it]"
     ]
    },
    {
     "name": "stdout",
     "output_type": "stream",
     "text": [
      "No valid secondary label found at index 23717\n"
     ]
    },
    {
     "name": "stderr",
     "output_type": "stream",
     "text": [
      "Processing Non-Neutral Rows:  18%|████████▊                                         | 175/1000 [08:13<37:37,  2.74s/it]"
     ]
    },
    {
     "name": "stdout",
     "output_type": "stream",
     "text": [
      "No valid primary label found at index 23721\n",
      "No valid secondary label found at index 23721\n"
     ]
    },
    {
     "name": "stderr",
     "output_type": "stream",
     "text": [
      "\r",
      "Processing Non-Neutral Rows:  18%|████████▊                                         | 176/1000 [08:16<37:41,  2.74s/it]"
     ]
    },
    {
     "name": "stdout",
     "output_type": "stream",
     "text": [
      "No valid primary label found at index 23722\n",
      "No valid secondary label found at index 23722\n"
     ]
    },
    {
     "name": "stderr",
     "output_type": "stream",
     "text": [
      "\r",
      "Processing Non-Neutral Rows:  18%|████████▊                                         | 177/1000 [08:18<37:06,  2.70s/it]"
     ]
    },
    {
     "name": "stdout",
     "output_type": "stream",
     "text": [
      "No valid primary label found at index 23723\n",
      "No valid secondary label found at index 23723\n"
     ]
    },
    {
     "name": "stderr",
     "output_type": "stream",
     "text": [
      "Processing Non-Neutral Rows:  18%|█████████                                         | 181/1000 [08:31<44:22,  3.25s/it]"
     ]
    },
    {
     "name": "stdout",
     "output_type": "stream",
     "text": [
      "No valid primary label found at index 23727\n",
      "No valid secondary label found at index 23727\n"
     ]
    },
    {
     "name": "stderr",
     "output_type": "stream",
     "text": [
      "\r",
      "Processing Non-Neutral Rows:  18%|█████████                                         | 182/1000 [08:34<41:11,  3.02s/it]"
     ]
    },
    {
     "name": "stdout",
     "output_type": "stream",
     "text": [
      "No valid primary label found at index 23728\n",
      "No valid secondary label found at index 23728\n"
     ]
    },
    {
     "name": "stderr",
     "output_type": "stream",
     "text": [
      "Processing Non-Neutral Rows:  19%|█████████▍                                        | 188/1000 [08:49<36:34,  2.70s/it]"
     ]
    },
    {
     "name": "stdout",
     "output_type": "stream",
     "text": [
      "No valid secondary label found at index 23734\n"
     ]
    },
    {
     "name": "stderr",
     "output_type": "stream",
     "text": [
      "\r",
      "Processing Non-Neutral Rows:  19%|█████████▍                                        | 189/1000 [08:52<36:44,  2.72s/it]"
     ]
    },
    {
     "name": "stdout",
     "output_type": "stream",
     "text": [
      "No valid primary label found at index 23735\n",
      "No valid secondary label found at index 23735\n"
     ]
    },
    {
     "name": "stderr",
     "output_type": "stream",
     "text": [
      "Processing Non-Neutral Rows:  20%|█████████▊                                        | 197/1000 [09:16<40:12,  3.00s/it]"
     ]
    },
    {
     "name": "stdout",
     "output_type": "stream",
     "text": [
      "No valid primary label found at index 23747\n",
      "No valid secondary label found at index 23747\n"
     ]
    },
    {
     "name": "stderr",
     "output_type": "stream",
     "text": [
      "Processing Non-Neutral Rows:  20%|█████████▉                                        | 199/1000 [09:22<38:52,  2.91s/it]"
     ]
    },
    {
     "name": "stdout",
     "output_type": "stream",
     "text": [
      "No valid primary label found at index 23749\n",
      "No valid secondary label found at index 23749\n"
     ]
    },
    {
     "name": "stderr",
     "output_type": "stream",
     "text": [
      "Processing Non-Neutral Rows:  21%|██████████▋                                       | 214/1000 [10:03<35:04,  2.68s/it]"
     ]
    },
    {
     "name": "stdout",
     "output_type": "stream",
     "text": [
      "No valid primary label found at index 23766\n",
      "No valid secondary label found at index 23766\n"
     ]
    },
    {
     "name": "stderr",
     "output_type": "stream",
     "text": [
      "Processing Non-Neutral Rows:  22%|██████████▊                                       | 217/1000 [10:11<35:38,  2.73s/it]"
     ]
    },
    {
     "name": "stdout",
     "output_type": "stream",
     "text": [
      "No valid primary label found at index 23769\n",
      "No valid secondary label found at index 23769\n"
     ]
    },
    {
     "name": "stderr",
     "output_type": "stream",
     "text": [
      "Processing Non-Neutral Rows:  23%|███████████▌                                      | 230/1000 [10:53<57:31,  4.48s/it]"
     ]
    },
    {
     "name": "stdout",
     "output_type": "stream",
     "text": [
      "No valid secondary label found at index 23783\n"
     ]
    },
    {
     "name": "stderr",
     "output_type": "stream",
     "text": [
      "\r",
      "Processing Non-Neutral Rows:  23%|███████████▌                                      | 231/1000 [10:58<57:50,  4.51s/it]"
     ]
    },
    {
     "name": "stdout",
     "output_type": "stream",
     "text": [
      "No valid primary label found at index 23784\n",
      "No valid secondary label found at index 23784\n"
     ]
    },
    {
     "name": "stderr",
     "output_type": "stream",
     "text": [
      "\r",
      "Processing Non-Neutral Rows:  23%|███████████▌                                      | 232/1000 [11:01<50:37,  3.95s/it]"
     ]
    },
    {
     "name": "stdout",
     "output_type": "stream",
     "text": [
      "No valid primary label found at index 23785\n",
      "No valid secondary label found at index 23785\n"
     ]
    },
    {
     "name": "stderr",
     "output_type": "stream",
     "text": [
      "\r",
      "Processing Non-Neutral Rows:  23%|███████████▋                                      | 233/1000 [11:05<53:28,  4.18s/it]"
     ]
    },
    {
     "name": "stdout",
     "output_type": "stream",
     "text": [
      "No valid primary label found at index 23787\n",
      "No valid secondary label found at index 23787\n"
     ]
    },
    {
     "name": "stderr",
     "output_type": "stream",
     "text": [
      "\r",
      "Processing Non-Neutral Rows:  23%|███████████▋                                      | 234/1000 [11:10<56:06,  4.39s/it]"
     ]
    },
    {
     "name": "stdout",
     "output_type": "stream",
     "text": [
      "No valid primary label found at index 23788\n",
      "No valid secondary label found at index 23788\n"
     ]
    },
    {
     "name": "stderr",
     "output_type": "stream",
     "text": [
      "Processing Non-Neutral Rows:  27%|█████████████▎                                    | 267/1000 [12:44<32:17,  2.64s/it]"
     ]
    },
    {
     "name": "stdout",
     "output_type": "stream",
     "text": [
      "No valid primary label found at index 23825\n",
      "No valid secondary label found at index 23825\n"
     ]
    },
    {
     "name": "stderr",
     "output_type": "stream",
     "text": [
      "Processing Non-Neutral Rows:  27%|█████████████▌                                    | 271/1000 [12:55<31:49,  2.62s/it]"
     ]
    },
    {
     "name": "stdout",
     "output_type": "stream",
     "text": [
      "No valid primary label found at index 23829\n",
      "No valid secondary label found at index 23829\n"
     ]
    },
    {
     "name": "stderr",
     "output_type": "stream",
     "text": [
      "Processing Non-Neutral Rows:  28%|█████████████▉                                    | 278/1000 [13:15<36:55,  3.07s/it]"
     ]
    },
    {
     "name": "stdout",
     "output_type": "stream",
     "text": [
      "No valid secondary label found at index 23837\n"
     ]
    },
    {
     "name": "stderr",
     "output_type": "stream",
     "text": [
      "Processing Non-Neutral Rows:  28%|██████████████                                    | 280/1000 [13:20<33:03,  2.76s/it]"
     ]
    },
    {
     "name": "stdout",
     "output_type": "stream",
     "text": [
      "No valid primary label found at index 23839\n",
      "No valid secondary label found at index 23839\n"
     ]
    },
    {
     "name": "stderr",
     "output_type": "stream",
     "text": [
      "\r",
      "Processing Non-Neutral Rows:  28%|██████████████                                    | 281/1000 [13:23<33:28,  2.79s/it]"
     ]
    },
    {
     "name": "stdout",
     "output_type": "stream",
     "text": [
      "No valid primary label found at index 23840\n",
      "No valid secondary label found at index 23840\n"
     ]
    },
    {
     "name": "stderr",
     "output_type": "stream",
     "text": [
      "\r",
      "Processing Non-Neutral Rows:  28%|██████████████                                    | 282/1000 [13:25<32:28,  2.71s/it]"
     ]
    },
    {
     "name": "stdout",
     "output_type": "stream",
     "text": [
      "No valid primary label found at index 23842\n",
      "No valid secondary label found at index 23842\n"
     ]
    },
    {
     "name": "stderr",
     "output_type": "stream",
     "text": [
      "\r",
      "Processing Non-Neutral Rows:  28%|██████████████▏                                   | 283/1000 [13:28<31:47,  2.66s/it]"
     ]
    },
    {
     "name": "stdout",
     "output_type": "stream",
     "text": [
      "No valid primary label found at index 23843\n",
      "No valid secondary label found at index 23843\n"
     ]
    },
    {
     "name": "stderr",
     "output_type": "stream",
     "text": [
      "Processing Non-Neutral Rows:  30%|██████████████▊                                   | 295/1000 [14:04<36:00,  3.06s/it]"
     ]
    },
    {
     "name": "stdout",
     "output_type": "stream",
     "text": [
      "No valid secondary label found at index 23856\n"
     ]
    },
    {
     "name": "stderr",
     "output_type": "stream",
     "text": [
      "Processing Non-Neutral Rows:  30%|███████████████▏                                  | 304/1000 [14:28<30:58,  2.67s/it]"
     ]
    },
    {
     "name": "stdout",
     "output_type": "stream",
     "text": [
      "No valid primary label found at index 23865\n",
      "No valid secondary label found at index 23865\n"
     ]
    },
    {
     "name": "stderr",
     "output_type": "stream",
     "text": [
      "\r",
      "Processing Non-Neutral Rows:  30%|███████████████▎                                  | 305/1000 [14:30<30:37,  2.64s/it]"
     ]
    },
    {
     "name": "stdout",
     "output_type": "stream",
     "text": [
      "No valid primary label found at index 23866\n",
      "No valid secondary label found at index 23866\n"
     ]
    },
    {
     "name": "stderr",
     "output_type": "stream",
     "text": [
      "Processing Non-Neutral Rows:  31%|███████████████▍                                  | 308/1000 [14:38<29:51,  2.59s/it]"
     ]
    },
    {
     "name": "stdout",
     "output_type": "stream",
     "text": [
      "No valid secondary label found at index 23869\n"
     ]
    },
    {
     "name": "stderr",
     "output_type": "stream",
     "text": [
      "Processing Non-Neutral Rows:  31%|███████████████▌                                  | 312/1000 [14:50<32:30,  2.84s/it]"
     ]
    },
    {
     "name": "stdout",
     "output_type": "stream",
     "text": [
      "No valid primary label found at index 23873\n",
      "No valid secondary label found at index 23873\n"
     ]
    },
    {
     "name": "stderr",
     "output_type": "stream",
     "text": [
      "Processing Non-Neutral Rows:  32%|███████████████▊                                  | 317/1000 [15:04<32:56,  2.89s/it]"
     ]
    },
    {
     "name": "stdout",
     "output_type": "stream",
     "text": [
      "No valid primary label found at index 23878\n",
      "No valid secondary label found at index 23878\n"
     ]
    },
    {
     "name": "stderr",
     "output_type": "stream",
     "text": [
      "\r",
      "Processing Non-Neutral Rows:  32%|███████████████▉                                  | 318/1000 [15:07<32:12,  2.83s/it]"
     ]
    },
    {
     "name": "stdout",
     "output_type": "stream",
     "text": [
      "No valid primary label found at index 23879\n",
      "No valid secondary label found at index 23879\n"
     ]
    },
    {
     "name": "stderr",
     "output_type": "stream",
     "text": [
      "\r",
      "Processing Non-Neutral Rows:  32%|███████████████▉                                  | 319/1000 [15:10<31:43,  2.80s/it]"
     ]
    },
    {
     "name": "stdout",
     "output_type": "stream",
     "text": [
      "No valid primary label found at index 23880\n",
      "No valid secondary label found at index 23880\n"
     ]
    },
    {
     "name": "stderr",
     "output_type": "stream",
     "text": [
      "Processing Non-Neutral Rows:  32%|████████████████▏                                 | 323/1000 [15:22<35:08,  3.11s/it]"
     ]
    },
    {
     "name": "stdout",
     "output_type": "stream",
     "text": [
      "No valid secondary label found at index 23884\n"
     ]
    },
    {
     "name": "stderr",
     "output_type": "stream",
     "text": [
      "Processing Non-Neutral Rows:  33%|████████████████▌                                 | 330/1000 [15:40<29:33,  2.65s/it]"
     ]
    },
    {
     "name": "stdout",
     "output_type": "stream",
     "text": [
      "No valid primary label found at index 23892\n",
      "No valid secondary label found at index 23892\n"
     ]
    },
    {
     "name": "stderr",
     "output_type": "stream",
     "text": [
      "Processing Non-Neutral Rows:  33%|████████████████▌                                 | 332/1000 [15:47<33:25,  3.00s/it]"
     ]
    },
    {
     "name": "stdout",
     "output_type": "stream",
     "text": [
      "No valid primary label found at index 23894\n",
      "No valid secondary label found at index 23894\n"
     ]
    },
    {
     "name": "stderr",
     "output_type": "stream",
     "text": [
      "Processing Non-Neutral Rows:  34%|█████████████████                                 | 342/1000 [16:16<31:48,  2.90s/it]"
     ]
    },
    {
     "name": "stdout",
     "output_type": "stream",
     "text": [
      "No valid primary label found at index 23904\n",
      "No valid secondary label found at index 23904\n"
     ]
    },
    {
     "name": "stderr",
     "output_type": "stream",
     "text": [
      "Processing Non-Neutral Rows:  35%|█████████████████▎                                | 347/1000 [16:29<29:56,  2.75s/it]"
     ]
    },
    {
     "name": "stdout",
     "output_type": "stream",
     "text": [
      "No valid secondary label found at index 23909\n"
     ]
    },
    {
     "name": "stderr",
     "output_type": "stream",
     "text": [
      "Processing Non-Neutral Rows:  35%|█████████████████▍                                | 349/1000 [16:37<36:37,  3.38s/it]"
     ]
    },
    {
     "name": "stdout",
     "output_type": "stream",
     "text": [
      "No valid secondary label found at index 23911\n"
     ]
    },
    {
     "name": "stderr",
     "output_type": "stream",
     "text": [
      "\r",
      "Processing Non-Neutral Rows:  35%|█████████████████▌                                | 350/1000 [16:40<34:25,  3.18s/it]"
     ]
    },
    {
     "name": "stdout",
     "output_type": "stream",
     "text": [
      "No valid primary label found at index 23912\n",
      "No valid secondary label found at index 23912\n"
     ]
    },
    {
     "name": "stderr",
     "output_type": "stream",
     "text": [
      "Processing Non-Neutral Rows:  35%|█████████████████▌                                | 352/1000 [16:46<32:31,  3.01s/it]"
     ]
    },
    {
     "name": "stdout",
     "output_type": "stream",
     "text": [
      "No valid primary label found at index 23914\n",
      "No valid secondary label found at index 23914\n"
     ]
    },
    {
     "name": "stderr",
     "output_type": "stream",
     "text": [
      "\r",
      "Processing Non-Neutral Rows:  35%|█████████████████▋                                | 353/1000 [16:48<31:40,  2.94s/it]"
     ]
    },
    {
     "name": "stdout",
     "output_type": "stream",
     "text": [
      "No valid primary label found at index 23915\n",
      "No valid secondary label found at index 23915\n"
     ]
    },
    {
     "name": "stderr",
     "output_type": "stream",
     "text": [
      "Processing Non-Neutral Rows:  37%|██████████████████▎                               | 367/1000 [17:28<32:13,  3.05s/it]"
     ]
    },
    {
     "name": "stdout",
     "output_type": "stream",
     "text": [
      "No valid primary label found at index 23934\n",
      "No valid secondary label found at index 23934\n"
     ]
    },
    {
     "name": "stderr",
     "output_type": "stream",
     "text": [
      "Processing Non-Neutral Rows:  37%|██████████████████▌                               | 370/1000 [17:42<48:34,  4.63s/it]"
     ]
    },
    {
     "name": "stdout",
     "output_type": "stream",
     "text": [
      "No valid primary label found at index 23937\n",
      "No valid secondary label found at index 23937\n"
     ]
    },
    {
     "name": "stderr",
     "output_type": "stream",
     "text": [
      "Processing Non-Neutral Rows:  38%|███████████████████                               | 381/1000 [18:11<27:42,  2.69s/it]"
     ]
    },
    {
     "name": "stdout",
     "output_type": "stream",
     "text": [
      "No valid primary label found at index 23950\n",
      "No valid secondary label found at index 23950\n"
     ]
    },
    {
     "name": "stderr",
     "output_type": "stream",
     "text": [
      "\r",
      "Processing Non-Neutral Rows:  38%|███████████████████                               | 382/1000 [18:14<27:55,  2.71s/it]"
     ]
    },
    {
     "name": "stdout",
     "output_type": "stream",
     "text": [
      "No valid primary label found at index 23951\n",
      "No valid secondary label found at index 23951\n"
     ]
    },
    {
     "name": "stderr",
     "output_type": "stream",
     "text": [
      "\r",
      "Processing Non-Neutral Rows:  38%|███████████████████▏                              | 383/1000 [18:17<27:41,  2.69s/it]"
     ]
    },
    {
     "name": "stdout",
     "output_type": "stream",
     "text": [
      "No valid primary label found at index 23952\n",
      "No valid secondary label found at index 23952\n"
     ]
    },
    {
     "name": "stderr",
     "output_type": "stream",
     "text": [
      "Processing Non-Neutral Rows:  39%|███████████████████▎                              | 386/1000 [18:26<29:03,  2.84s/it]"
     ]
    },
    {
     "name": "stdout",
     "output_type": "stream",
     "text": [
      "No valid primary label found at index 23955\n",
      "No valid secondary label found at index 23955\n"
     ]
    },
    {
     "name": "stderr",
     "output_type": "stream",
     "text": [
      "\r",
      "Processing Non-Neutral Rows:  39%|███████████████████▎                              | 387/1000 [18:29<29:13,  2.86s/it]"
     ]
    },
    {
     "name": "stdout",
     "output_type": "stream",
     "text": [
      "No valid primary label found at index 23956\n",
      "No valid secondary label found at index 23956\n"
     ]
    },
    {
     "name": "stderr",
     "output_type": "stream",
     "text": [
      "\r",
      "Processing Non-Neutral Rows:  39%|███████████████████▍                              | 388/1000 [18:31<28:17,  2.77s/it]"
     ]
    },
    {
     "name": "stdout",
     "output_type": "stream",
     "text": [
      "No valid primary label found at index 23957\n",
      "No valid secondary label found at index 23957\n"
     ]
    },
    {
     "name": "stderr",
     "output_type": "stream",
     "text": [
      "Processing Non-Neutral Rows:  41%|████████████████████▋                             | 414/1000 [19:45<25:32,  2.62s/it]"
     ]
    },
    {
     "name": "stdout",
     "output_type": "stream",
     "text": [
      "No valid primary label found at index 23985\n",
      "No valid secondary label found at index 23985\n"
     ]
    },
    {
     "name": "stderr",
     "output_type": "stream",
     "text": [
      "Processing Non-Neutral Rows:  42%|████████████████████▊                             | 417/1000 [19:54<27:30,  2.83s/it]"
     ]
    },
    {
     "name": "stdout",
     "output_type": "stream",
     "text": [
      "No valid primary label found at index 23988\n",
      "No valid secondary label found at index 23988\n"
     ]
    },
    {
     "name": "stderr",
     "output_type": "stream",
     "text": [
      "Processing Non-Neutral Rows:  42%|█████████████████████▎                            | 425/1000 [20:14<25:00,  2.61s/it]"
     ]
    },
    {
     "name": "stdout",
     "output_type": "stream",
     "text": [
      "No valid primary label found at index 23999\n",
      "No valid secondary label found at index 23999\n"
     ]
    },
    {
     "name": "stderr",
     "output_type": "stream",
     "text": [
      "\r",
      "Processing Non-Neutral Rows:  43%|█████████████████████▎                            | 426/1000 [20:16<24:42,  2.58s/it]"
     ]
    },
    {
     "name": "stdout",
     "output_type": "stream",
     "text": [
      "No valid primary label found at index 24000\n",
      "No valid secondary label found at index 24000\n"
     ]
    },
    {
     "name": "stderr",
     "output_type": "stream",
     "text": [
      "\r",
      "Processing Non-Neutral Rows:  43%|█████████████████████▎                            | 427/1000 [20:19<24:32,  2.57s/it]"
     ]
    },
    {
     "name": "stdout",
     "output_type": "stream",
     "text": [
      "No valid primary label found at index 24002\n",
      "No valid secondary label found at index 24002\n"
     ]
    },
    {
     "name": "stderr",
     "output_type": "stream",
     "text": [
      "\r",
      "Processing Non-Neutral Rows:  43%|█████████████████████▍                            | 428/1000 [20:22<25:00,  2.62s/it]"
     ]
    },
    {
     "name": "stdout",
     "output_type": "stream",
     "text": [
      "No valid primary label found at index 24003\n",
      "No valid secondary label found at index 24003\n"
     ]
    },
    {
     "name": "stderr",
     "output_type": "stream",
     "text": [
      "Processing Non-Neutral Rows:  43%|█████████████████████▌                            | 430/1000 [20:27<24:20,  2.56s/it]"
     ]
    },
    {
     "name": "stdout",
     "output_type": "stream",
     "text": [
      "No valid primary label found at index 24005\n",
      "No valid secondary label found at index 24005\n"
     ]
    },
    {
     "name": "stderr",
     "output_type": "stream",
     "text": [
      "Processing Non-Neutral Rows:  44%|█████████████████████▊                            | 435/1000 [20:41<26:36,  2.83s/it]"
     ]
    },
    {
     "name": "stdout",
     "output_type": "stream",
     "text": [
      "No valid primary label found at index 24011\n",
      "No valid secondary label found at index 24011\n"
     ]
    },
    {
     "name": "stderr",
     "output_type": "stream",
     "text": [
      "Processing Non-Neutral Rows:  44%|█████████████████████▊                            | 437/1000 [20:47<26:26,  2.82s/it]"
     ]
    },
    {
     "name": "stdout",
     "output_type": "stream",
     "text": [
      "No valid primary label found at index 24013\n",
      "No valid secondary label found at index 24013\n"
     ]
    },
    {
     "name": "stderr",
     "output_type": "stream",
     "text": [
      "Processing Non-Neutral Rows:  44%|██████████████████████▏                           | 444/1000 [21:04<24:03,  2.60s/it]"
     ]
    },
    {
     "name": "stdout",
     "output_type": "stream",
     "text": [
      "No valid primary label found at index 24022\n",
      "No valid secondary label found at index 24022\n"
     ]
    },
    {
     "name": "stderr",
     "output_type": "stream",
     "text": [
      "\r",
      "Processing Non-Neutral Rows:  44%|██████████████████████▎                           | 445/1000 [21:07<24:13,  2.62s/it]"
     ]
    },
    {
     "name": "stdout",
     "output_type": "stream",
     "text": [
      "No valid primary label found at index 24023\n",
      "No valid secondary label found at index 24023\n"
     ]
    },
    {
     "name": "stderr",
     "output_type": "stream",
     "text": [
      "\r",
      "Processing Non-Neutral Rows:  45%|██████████████████████▎                           | 446/1000 [21:10<24:16,  2.63s/it]"
     ]
    },
    {
     "name": "stdout",
     "output_type": "stream",
     "text": [
      "No valid primary label found at index 24024\n",
      "No valid secondary label found at index 24024\n"
     ]
    },
    {
     "name": "stderr",
     "output_type": "stream",
     "text": [
      "Processing Non-Neutral Rows:  45%|██████████████████████▌                           | 450/1000 [21:21<24:32,  2.68s/it]"
     ]
    },
    {
     "name": "stdout",
     "output_type": "stream",
     "text": [
      "No valid primary label found at index 24028\n",
      "No valid secondary label found at index 24028\n"
     ]
    },
    {
     "name": "stderr",
     "output_type": "stream",
     "text": [
      "\r",
      "Processing Non-Neutral Rows:  45%|██████████████████████▌                           | 451/1000 [21:23<23:50,  2.61s/it]"
     ]
    },
    {
     "name": "stdout",
     "output_type": "stream",
     "text": [
      "No valid primary label found at index 24029\n",
      "No valid secondary label found at index 24029\n"
     ]
    },
    {
     "name": "stderr",
     "output_type": "stream",
     "text": [
      "\r",
      "Processing Non-Neutral Rows:  45%|██████████████████████▌                           | 452/1000 [21:26<23:52,  2.61s/it]"
     ]
    },
    {
     "name": "stdout",
     "output_type": "stream",
     "text": [
      "No valid primary label found at index 24030\n",
      "No valid secondary label found at index 24030\n"
     ]
    },
    {
     "name": "stderr",
     "output_type": "stream",
     "text": [
      "\r",
      "Processing Non-Neutral Rows:  45%|██████████████████████▋                           | 453/1000 [21:29<24:09,  2.65s/it]"
     ]
    },
    {
     "name": "stdout",
     "output_type": "stream",
     "text": [
      "No valid primary label found at index 24031\n",
      "No valid secondary label found at index 24031\n"
     ]
    },
    {
     "name": "stderr",
     "output_type": "stream",
     "text": [
      "Processing Non-Neutral Rows:  46%|██████████████████████▊                           | 455/1000 [21:34<23:48,  2.62s/it]"
     ]
    },
    {
     "name": "stdout",
     "output_type": "stream",
     "text": [
      "No valid primary label found at index 24033\n",
      "No valid secondary label found at index 24033\n"
     ]
    },
    {
     "name": "stderr",
     "output_type": "stream",
     "text": [
      "\r",
      "Processing Non-Neutral Rows:  46%|██████████████████████▊                           | 456/1000 [21:36<23:26,  2.58s/it]"
     ]
    },
    {
     "name": "stdout",
     "output_type": "stream",
     "text": [
      "No valid primary label found at index 24034\n",
      "No valid secondary label found at index 24034\n"
     ]
    },
    {
     "name": "stderr",
     "output_type": "stream",
     "text": [
      "Processing Non-Neutral Rows:  46%|██████████████████████▉                           | 458/1000 [21:41<23:09,  2.56s/it]"
     ]
    },
    {
     "name": "stdout",
     "output_type": "stream",
     "text": [
      "No valid primary label found at index 24036\n",
      "No valid secondary label found at index 24036\n"
     ]
    },
    {
     "name": "stderr",
     "output_type": "stream",
     "text": [
      "Processing Non-Neutral Rows:  47%|███████████████████████▎                          | 467/1000 [22:07<24:08,  2.72s/it]"
     ]
    },
    {
     "name": "stdout",
     "output_type": "stream",
     "text": [
      "No valid primary label found at index 24045\n",
      "No valid secondary label found at index 24045\n"
     ]
    },
    {
     "name": "stderr",
     "output_type": "stream",
     "text": [
      "Processing Non-Neutral Rows:  47%|███████████████████████▍                          | 469/1000 [22:13<24:53,  2.81s/it]"
     ]
    },
    {
     "name": "stdout",
     "output_type": "stream",
     "text": [
      "No valid secondary label found at index 24047\n"
     ]
    },
    {
     "name": "stderr",
     "output_type": "stream",
     "text": [
      "Processing Non-Neutral Rows:  47%|███████████████████████▋                          | 474/1000 [22:26<23:43,  2.71s/it]"
     ]
    },
    {
     "name": "stdout",
     "output_type": "stream",
     "text": [
      "No valid primary label found at index 24052\n",
      "No valid secondary label found at index 24052\n"
     ]
    },
    {
     "name": "stderr",
     "output_type": "stream",
     "text": [
      "\r",
      "Processing Non-Neutral Rows:  48%|███████████████████████▊                          | 475/1000 [22:29<23:39,  2.70s/it]"
     ]
    },
    {
     "name": "stdout",
     "output_type": "stream",
     "text": [
      "No valid primary label found at index 24053\n",
      "No valid secondary label found at index 24053\n"
     ]
    },
    {
     "name": "stderr",
     "output_type": "stream",
     "text": [
      "Processing Non-Neutral Rows:  48%|███████████████████████▊                          | 477/1000 [22:36<28:02,  3.22s/it]"
     ]
    },
    {
     "name": "stdout",
     "output_type": "stream",
     "text": [
      "No valid secondary label found at index 24055\n"
     ]
    },
    {
     "name": "stderr",
     "output_type": "stream",
     "text": [
      "Processing Non-Neutral Rows:  48%|████████████████████████                          | 480/1000 [22:45<26:07,  3.01s/it]"
     ]
    },
    {
     "name": "stdout",
     "output_type": "stream",
     "text": [
      "No valid primary label found at index 24058\n",
      "No valid secondary label found at index 24058\n"
     ]
    },
    {
     "name": "stderr",
     "output_type": "stream",
     "text": [
      "Processing Non-Neutral Rows:  49%|████████████████████████▍                         | 489/1000 [23:10<24:03,  2.82s/it]"
     ]
    },
    {
     "name": "stdout",
     "output_type": "stream",
     "text": [
      "No valid primary label found at index 24070\n",
      "No valid secondary label found at index 24070\n"
     ]
    },
    {
     "name": "stderr",
     "output_type": "stream",
     "text": [
      "Processing Non-Neutral Rows:  49%|████████████████████████▌                         | 492/1000 [23:19<23:10,  2.74s/it]"
     ]
    },
    {
     "name": "stdout",
     "output_type": "stream",
     "text": [
      "No valid primary label found at index 24073\n",
      "No valid secondary label found at index 24073\n"
     ]
    },
    {
     "name": "stderr",
     "output_type": "stream",
     "text": [
      "Processing Non-Neutral Rows:  49%|████████████████████████▋                         | 494/1000 [23:24<23:05,  2.74s/it]"
     ]
    },
    {
     "name": "stdout",
     "output_type": "stream",
     "text": [
      "No valid primary label found at index 24075\n",
      "No valid secondary label found at index 24075\n"
     ]
    },
    {
     "name": "stderr",
     "output_type": "stream",
     "text": [
      "\r",
      "Processing Non-Neutral Rows:  50%|████████████████████████▊                         | 495/1000 [23:27<23:03,  2.74s/it]"
     ]
    },
    {
     "name": "stdout",
     "output_type": "stream",
     "text": [
      "No valid primary label found at index 24076\n",
      "No valid secondary label found at index 24076\n"
     ]
    },
    {
     "name": "stderr",
     "output_type": "stream",
     "text": [
      "\r",
      "Processing Non-Neutral Rows:  50%|████████████████████████▊                         | 496/1000 [23:29<22:44,  2.71s/it]"
     ]
    },
    {
     "name": "stdout",
     "output_type": "stream",
     "text": [
      "No valid primary label found at index 24077\n",
      "No valid secondary label found at index 24077\n"
     ]
    },
    {
     "name": "stderr",
     "output_type": "stream",
     "text": [
      "Processing Non-Neutral Rows:  50%|████████████████████████▉                         | 498/1000 [23:35<23:05,  2.76s/it]"
     ]
    },
    {
     "name": "stdout",
     "output_type": "stream",
     "text": [
      "No valid primary label found at index 24079\n",
      "No valid secondary label found at index 24079\n"
     ]
    },
    {
     "name": "stderr",
     "output_type": "stream",
     "text": [
      "\r",
      "Processing Non-Neutral Rows:  50%|████████████████████████▉                         | 499/1000 [23:38<24:24,  2.92s/it]"
     ]
    },
    {
     "name": "stdout",
     "output_type": "stream",
     "text": [
      "No valid primary label found at index 24080\n",
      "No valid secondary label found at index 24080\n"
     ]
    },
    {
     "name": "stderr",
     "output_type": "stream",
     "text": [
      "\r",
      "Processing Non-Neutral Rows:  50%|█████████████████████████                         | 500/1000 [23:41<24:23,  2.93s/it]"
     ]
    },
    {
     "name": "stdout",
     "output_type": "stream",
     "text": [
      "No valid primary label found at index 24081\n",
      "No valid secondary label found at index 24081\n"
     ]
    },
    {
     "name": "stderr",
     "output_type": "stream",
     "text": [
      "\r",
      "Processing Non-Neutral Rows:  50%|█████████████████████████                         | 501/1000 [23:44<23:18,  2.80s/it]"
     ]
    },
    {
     "name": "stdout",
     "output_type": "stream",
     "text": [
      "No valid primary label found at index 24082\n",
      "No valid secondary label found at index 24082\n"
     ]
    },
    {
     "name": "stderr",
     "output_type": "stream",
     "text": [
      "Processing Non-Neutral Rows:  51%|█████████████████████████▎                        | 506/1000 [23:56<21:08,  2.57s/it]"
     ]
    },
    {
     "name": "stdout",
     "output_type": "stream",
     "text": [
      "No valid primary label found at index 24088\n",
      "No valid secondary label found at index 24088\n"
     ]
    },
    {
     "name": "stderr",
     "output_type": "stream",
     "text": [
      "Processing Non-Neutral Rows:  51%|█████████████████████████▌                        | 512/1000 [24:12<22:20,  2.75s/it]"
     ]
    },
    {
     "name": "stdout",
     "output_type": "stream",
     "text": [
      "No valid secondary label found at index 24095\n"
     ]
    },
    {
     "name": "stderr",
     "output_type": "stream",
     "text": [
      "Processing Non-Neutral Rows:  52%|█████████████████████████▊                        | 516/1000 [24:23<21:56,  2.72s/it]"
     ]
    },
    {
     "name": "stdout",
     "output_type": "stream",
     "text": [
      "No valid primary label found at index 24099\n",
      "No valid secondary label found at index 24099\n"
     ]
    },
    {
     "name": "stderr",
     "output_type": "stream",
     "text": [
      "Processing Non-Neutral Rows:  52%|██████████████████████████▏                       | 523/1000 [24:44<22:12,  2.79s/it]"
     ]
    },
    {
     "name": "stdout",
     "output_type": "stream",
     "text": [
      "No valid primary label found at index 24106\n",
      "No valid secondary label found at index 24106\n"
     ]
    },
    {
     "name": "stderr",
     "output_type": "stream",
     "text": [
      "Processing Non-Neutral Rows:  52%|██████████████████████████▎                       | 525/1000 [24:49<20:46,  2.62s/it]"
     ]
    },
    {
     "name": "stdout",
     "output_type": "stream",
     "text": [
      "No valid primary label found at index 24109\n",
      "No valid secondary label found at index 24109\n"
     ]
    },
    {
     "name": "stderr",
     "output_type": "stream",
     "text": [
      "Processing Non-Neutral Rows:  53%|██████████████████████████▌                       | 531/1000 [25:07<24:03,  3.08s/it]"
     ]
    },
    {
     "name": "stdout",
     "output_type": "stream",
     "text": [
      "No valid secondary label found at index 24115\n"
     ]
    },
    {
     "name": "stderr",
     "output_type": "stream",
     "text": [
      "Processing Non-Neutral Rows:  54%|███████████████████████████                       | 541/1000 [25:35<21:14,  2.78s/it]"
     ]
    },
    {
     "name": "stdout",
     "output_type": "stream",
     "text": [
      "No valid primary label found at index 24126\n",
      "No valid secondary label found at index 24126\n"
     ]
    },
    {
     "name": "stderr",
     "output_type": "stream",
     "text": [
      "Processing Non-Neutral Rows:  54%|███████████████████████████▏                      | 543/1000 [25:40<20:25,  2.68s/it]"
     ]
    },
    {
     "name": "stdout",
     "output_type": "stream",
     "text": [
      "No valid primary label found at index 24128\n",
      "No valid secondary label found at index 24128\n"
     ]
    },
    {
     "name": "stderr",
     "output_type": "stream",
     "text": [
      "Processing Non-Neutral Rows:  55%|███████████████████████████▋                      | 554/1000 [26:10<20:57,  2.82s/it]"
     ]
    },
    {
     "name": "stdout",
     "output_type": "stream",
     "text": [
      "No valid primary label found at index 24140\n",
      "No valid secondary label found at index 24140\n"
     ]
    },
    {
     "name": "stderr",
     "output_type": "stream",
     "text": [
      "\r",
      "Processing Non-Neutral Rows:  56%|███████████████████████████▊                      | 555/1000 [26:13<20:54,  2.82s/it]"
     ]
    },
    {
     "name": "stdout",
     "output_type": "stream",
     "text": [
      "No valid secondary label found at index 24141\n"
     ]
    },
    {
     "name": "stderr",
     "output_type": "stream",
     "text": [
      "Processing Non-Neutral Rows:  56%|███████████████████████████▊                      | 557/1000 [26:18<20:09,  2.73s/it]"
     ]
    },
    {
     "name": "stdout",
     "output_type": "stream",
     "text": [
      "No valid primary label found at index 24143\n",
      "No valid secondary label found at index 24143\n"
     ]
    },
    {
     "name": "stderr",
     "output_type": "stream",
     "text": [
      "\r",
      "Processing Non-Neutral Rows:  56%|███████████████████████████▉                      | 558/1000 [26:21<20:01,  2.72s/it]"
     ]
    },
    {
     "name": "stdout",
     "output_type": "stream",
     "text": [
      "No valid primary label found at index 24144\n",
      "No valid secondary label found at index 24144\n"
     ]
    },
    {
     "name": "stderr",
     "output_type": "stream",
     "text": [
      "\r",
      "Processing Non-Neutral Rows:  56%|███████████████████████████▉                      | 559/1000 [26:24<19:38,  2.67s/it]"
     ]
    },
    {
     "name": "stdout",
     "output_type": "stream",
     "text": [
      "No valid primary label found at index 24145\n",
      "No valid secondary label found at index 24145\n"
     ]
    },
    {
     "name": "stderr",
     "output_type": "stream",
     "text": [
      "Processing Non-Neutral Rows:  56%|████████████████████████████▏                     | 565/1000 [26:40<20:32,  2.83s/it]"
     ]
    },
    {
     "name": "stdout",
     "output_type": "stream",
     "text": [
      "No valid primary label found at index 24151\n",
      "No valid secondary label found at index 24151\n"
     ]
    },
    {
     "name": "stderr",
     "output_type": "stream",
     "text": [
      "\r",
      "Processing Non-Neutral Rows:  57%|████████████████████████████▎                     | 566/1000 [26:42<19:48,  2.74s/it]"
     ]
    },
    {
     "name": "stdout",
     "output_type": "stream",
     "text": [
      "No valid primary label found at index 24152\n",
      "No valid secondary label found at index 24152\n"
     ]
    },
    {
     "name": "stderr",
     "output_type": "stream",
     "text": [
      "\r",
      "Processing Non-Neutral Rows:  57%|████████████████████████████▎                     | 567/1000 [26:45<19:45,  2.74s/it]"
     ]
    },
    {
     "name": "stdout",
     "output_type": "stream",
     "text": [
      "No valid primary label found at index 24153\n",
      "No valid secondary label found at index 24153\n"
     ]
    },
    {
     "name": "stderr",
     "output_type": "stream",
     "text": [
      "\r",
      "Processing Non-Neutral Rows:  57%|████████████████████████████▍                     | 568/1000 [26:48<19:32,  2.71s/it]"
     ]
    },
    {
     "name": "stdout",
     "output_type": "stream",
     "text": [
      "No valid primary label found at index 24154\n",
      "No valid secondary label found at index 24154\n"
     ]
    },
    {
     "name": "stderr",
     "output_type": "stream",
     "text": [
      "\r",
      "Processing Non-Neutral Rows:  57%|████████████████████████████▍                     | 569/1000 [26:50<19:11,  2.67s/it]"
     ]
    },
    {
     "name": "stdout",
     "output_type": "stream",
     "text": [
      "No valid primary label found at index 24155\n",
      "No valid secondary label found at index 24155\n"
     ]
    },
    {
     "name": "stderr",
     "output_type": "stream",
     "text": [
      "Processing Non-Neutral Rows:  57%|████████████████████████████▌                     | 571/1000 [26:56<19:08,  2.68s/it]"
     ]
    },
    {
     "name": "stdout",
     "output_type": "stream",
     "text": [
      "No valid primary label found at index 24158\n",
      "No valid secondary label found at index 24158\n"
     ]
    },
    {
     "name": "stderr",
     "output_type": "stream",
     "text": [
      "Processing Non-Neutral Rows:  58%|████████████████████████████▉                     | 578/1000 [27:13<17:58,  2.56s/it]"
     ]
    },
    {
     "name": "stdout",
     "output_type": "stream",
     "text": [
      "No valid primary label found at index 24166\n",
      "No valid secondary label found at index 24166\n"
     ]
    },
    {
     "name": "stderr",
     "output_type": "stream",
     "text": [
      "Processing Non-Neutral Rows:  59%|█████████████████████████████▎                    | 586/1000 [27:35<19:03,  2.76s/it]"
     ]
    },
    {
     "name": "stdout",
     "output_type": "stream",
     "text": [
      "No valid primary label found at index 24176\n",
      "No valid secondary label found at index 24176\n"
     ]
    },
    {
     "name": "stderr",
     "output_type": "stream",
     "text": [
      "Processing Non-Neutral Rows:  59%|█████████████████████████████▌                    | 590/1000 [27:47<19:08,  2.80s/it]"
     ]
    },
    {
     "name": "stdout",
     "output_type": "stream",
     "text": [
      "No valid primary label found at index 24181\n",
      "No valid secondary label found at index 24181\n"
     ]
    },
    {
     "name": "stderr",
     "output_type": "stream",
     "text": [
      "Processing Non-Neutral Rows:  60%|█████████████████████████████▉                    | 598/1000 [28:09<19:26,  2.90s/it]"
     ]
    },
    {
     "name": "stdout",
     "output_type": "stream",
     "text": [
      "No valid secondary label found at index 24189\n"
     ]
    },
    {
     "name": "stderr",
     "output_type": "stream",
     "text": [
      "Processing Non-Neutral Rows:  60%|██████████████████████████████                    | 600/1000 [28:15<18:50,  2.83s/it]"
     ]
    },
    {
     "name": "stdout",
     "output_type": "stream",
     "text": [
      "No valid primary label found at index 24191\n",
      "No valid secondary label found at index 24191\n"
     ]
    },
    {
     "name": "stderr",
     "output_type": "stream",
     "text": [
      "Processing Non-Neutral Rows:  60%|██████████████████████████████▎                   | 605/1000 [28:29<19:08,  2.91s/it]"
     ]
    },
    {
     "name": "stdout",
     "output_type": "stream",
     "text": [
      "No valid secondary label found at index 24197\n"
     ]
    },
    {
     "name": "stderr",
     "output_type": "stream",
     "text": [
      "Processing Non-Neutral Rows:  61%|██████████████████████████████▍                   | 609/1000 [28:40<17:10,  2.64s/it]"
     ]
    },
    {
     "name": "stdout",
     "output_type": "stream",
     "text": [
      "No valid primary label found at index 24201\n",
      "No valid secondary label found at index 24201\n"
     ]
    },
    {
     "name": "stderr",
     "output_type": "stream",
     "text": [
      "\r",
      "Processing Non-Neutral Rows:  61%|██████████████████████████████▌                   | 610/1000 [28:42<16:59,  2.61s/it]"
     ]
    },
    {
     "name": "stdout",
     "output_type": "stream",
     "text": [
      "No valid primary label found at index 24202\n",
      "No valid secondary label found at index 24202\n"
     ]
    },
    {
     "name": "stderr",
     "output_type": "stream",
     "text": [
      "\r",
      "Processing Non-Neutral Rows:  61%|██████████████████████████████▌                   | 611/1000 [28:45<17:04,  2.63s/it]"
     ]
    },
    {
     "name": "stdout",
     "output_type": "stream",
     "text": [
      "No valid primary label found at index 24203\n",
      "No valid secondary label found at index 24203\n"
     ]
    },
    {
     "name": "stderr",
     "output_type": "stream",
     "text": [
      "Processing Non-Neutral Rows:  61%|██████████████████████████████▋                   | 614/1000 [28:54<18:09,  2.82s/it]"
     ]
    },
    {
     "name": "stdout",
     "output_type": "stream",
     "text": [
      "No valid secondary label found at index 24206\n"
     ]
    },
    {
     "name": "stderr",
     "output_type": "stream",
     "text": [
      "\r",
      "Processing Non-Neutral Rows:  62%|██████████████████████████████▊                   | 615/1000 [28:57<17:46,  2.77s/it]"
     ]
    },
    {
     "name": "stdout",
     "output_type": "stream",
     "text": [
      "No valid primary label found at index 24207\n",
      "No valid secondary label found at index 24207\n"
     ]
    },
    {
     "name": "stderr",
     "output_type": "stream",
     "text": [
      "Processing Non-Neutral Rows:  62%|██████████████████████████████▊                   | 617/1000 [29:02<17:24,  2.73s/it]"
     ]
    },
    {
     "name": "stdout",
     "output_type": "stream",
     "text": [
      "No valid primary label found at index 24209\n",
      "No valid secondary label found at index 24209\n"
     ]
    },
    {
     "name": "stderr",
     "output_type": "stream",
     "text": [
      "\r",
      "Processing Non-Neutral Rows:  62%|██████████████████████████████▉                   | 618/1000 [29:05<17:20,  2.72s/it]"
     ]
    },
    {
     "name": "stdout",
     "output_type": "stream",
     "text": [
      "No valid primary label found at index 24210\n",
      "No valid secondary label found at index 24210\n"
     ]
    },
    {
     "name": "stderr",
     "output_type": "stream",
     "text": [
      "Processing Non-Neutral Rows:  62%|███████████████████████████████▎                  | 625/1000 [29:25<18:11,  2.91s/it]"
     ]
    },
    {
     "name": "stdout",
     "output_type": "stream",
     "text": [
      "No valid primary label found at index 24217\n",
      "No valid secondary label found at index 24217\n"
     ]
    },
    {
     "name": "stderr",
     "output_type": "stream",
     "text": [
      "Processing Non-Neutral Rows:  63%|███████████████████████████████▎                  | 627/1000 [29:30<17:04,  2.75s/it]"
     ]
    },
    {
     "name": "stdout",
     "output_type": "stream",
     "text": [
      "No valid primary label found at index 24220\n",
      "No valid secondary label found at index 24220\n"
     ]
    },
    {
     "name": "stderr",
     "output_type": "stream",
     "text": [
      "Processing Non-Neutral Rows:  64%|███████████████████████████████▉                  | 638/1000 [30:03<18:29,  3.07s/it]"
     ]
    },
    {
     "name": "stdout",
     "output_type": "stream",
     "text": [
      "No valid primary label found at index 24232\n",
      "No valid secondary label found at index 24232\n"
     ]
    },
    {
     "name": "stderr",
     "output_type": "stream",
     "text": [
      "Processing Non-Neutral Rows:  64%|████████████████████████████████                  | 640/1000 [30:08<17:00,  2.84s/it]"
     ]
    },
    {
     "name": "stdout",
     "output_type": "stream",
     "text": [
      "No valid primary label found at index 24234\n",
      "No valid secondary label found at index 24234\n"
     ]
    },
    {
     "name": "stderr",
     "output_type": "stream",
     "text": [
      "Processing Non-Neutral Rows:  65%|████████████████████████████████▋                 | 653/1000 [30:42<14:22,  2.49s/it]"
     ]
    },
    {
     "name": "stdout",
     "output_type": "stream",
     "text": [
      "No valid primary label found at index 24252\n",
      "No valid secondary label found at index 24252\n"
     ]
    },
    {
     "name": "stderr",
     "output_type": "stream",
     "text": [
      "Processing Non-Neutral Rows:  66%|█████████████████████████████████▏                | 663/1000 [31:11<14:52,  2.65s/it]"
     ]
    },
    {
     "name": "stdout",
     "output_type": "stream",
     "text": [
      "No valid primary label found at index 24262\n",
      "No valid secondary label found at index 24262\n"
     ]
    },
    {
     "name": "stderr",
     "output_type": "stream",
     "text": [
      "\r",
      "Processing Non-Neutral Rows:  66%|█████████████████████████████████▏                | 664/1000 [31:13<14:35,  2.60s/it]"
     ]
    },
    {
     "name": "stdout",
     "output_type": "stream",
     "text": [
      "No valid primary label found at index 24263\n",
      "No valid secondary label found at index 24263\n"
     ]
    },
    {
     "name": "stderr",
     "output_type": "stream",
     "text": [
      "Processing Non-Neutral Rows:  67%|█████████████████████████████████▌                | 671/1000 [31:33<14:35,  2.66s/it]"
     ]
    },
    {
     "name": "stdout",
     "output_type": "stream",
     "text": [
      "No valid primary label found at index 24270\n",
      "No valid secondary label found at index 24270\n"
     ]
    },
    {
     "name": "stderr",
     "output_type": "stream",
     "text": [
      "\r",
      "Processing Non-Neutral Rows:  67%|█████████████████████████████████▌                | 672/1000 [31:36<14:28,  2.65s/it]"
     ]
    },
    {
     "name": "stdout",
     "output_type": "stream",
     "text": [
      "No valid primary label found at index 24271\n",
      "No valid secondary label found at index 24271\n"
     ]
    },
    {
     "name": "stderr",
     "output_type": "stream",
     "text": [
      "Processing Non-Neutral Rows:  69%|██████████████████████████████████▍               | 688/1000 [32:19<13:14,  2.55s/it]"
     ]
    },
    {
     "name": "stdout",
     "output_type": "stream",
     "text": [
      "No valid primary label found at index 24287\n",
      "No valid secondary label found at index 24287\n"
     ]
    },
    {
     "name": "stderr",
     "output_type": "stream",
     "text": [
      "\r",
      "Processing Non-Neutral Rows:  69%|██████████████████████████████████▍               | 689/1000 [32:22<14:51,  2.87s/it]"
     ]
    },
    {
     "name": "stdout",
     "output_type": "stream",
     "text": [
      "No valid secondary label found at index 24288\n"
     ]
    },
    {
     "name": "stderr",
     "output_type": "stream",
     "text": [
      "Processing Non-Neutral Rows:  69%|██████████████████████████████████▋               | 694/1000 [32:41<18:36,  3.65s/it]"
     ]
    },
    {
     "name": "stdout",
     "output_type": "stream",
     "text": [
      "No valid secondary label found at index 24293\n"
     ]
    },
    {
     "name": "stderr",
     "output_type": "stream",
     "text": [
      "\r",
      "Processing Non-Neutral Rows:  70%|██████████████████████████████████▊               | 695/1000 [32:43<17:03,  3.36s/it]"
     ]
    },
    {
     "name": "stdout",
     "output_type": "stream",
     "text": [
      "No valid secondary label found at index 24294\n"
     ]
    },
    {
     "name": "stderr",
     "output_type": "stream",
     "text": [
      "Processing Non-Neutral Rows:  70%|███████████████████████████████████               | 700/1000 [33:01<17:04,  3.41s/it]"
     ]
    },
    {
     "name": "stdout",
     "output_type": "stream",
     "text": [
      "No valid secondary label found at index 24299\n"
     ]
    },
    {
     "name": "stderr",
     "output_type": "stream",
     "text": [
      "Processing Non-Neutral Rows:  70%|███████████████████████████████████▏              | 704/1000 [33:12<14:20,  2.91s/it]"
     ]
    },
    {
     "name": "stdout",
     "output_type": "stream",
     "text": [
      "No valid secondary label found at index 24303\n"
     ]
    },
    {
     "name": "stderr",
     "output_type": "stream",
     "text": [
      "Processing Non-Neutral Rows:  71%|███████████████████████████████████▍              | 709/1000 [33:27<14:28,  2.98s/it]"
     ]
    },
    {
     "name": "stdout",
     "output_type": "stream",
     "text": [
      "No valid secondary label found at index 24308\n"
     ]
    },
    {
     "name": "stderr",
     "output_type": "stream",
     "text": [
      "Processing Non-Neutral Rows:  71%|███████████████████████████████████▋              | 714/1000 [33:40<12:51,  2.70s/it]"
     ]
    },
    {
     "name": "stdout",
     "output_type": "stream",
     "text": [
      "No valid primary label found at index 24313\n",
      "No valid secondary label found at index 24313\n"
     ]
    },
    {
     "name": "stderr",
     "output_type": "stream",
     "text": [
      "Processing Non-Neutral Rows:  72%|███████████████████████████████████▊              | 716/1000 [33:46<13:06,  2.77s/it]"
     ]
    },
    {
     "name": "stdout",
     "output_type": "stream",
     "text": [
      "No valid secondary label found at index 24315\n"
     ]
    },
    {
     "name": "stderr",
     "output_type": "stream",
     "text": [
      "Processing Non-Neutral Rows:  72%|███████████████████████████████████▉              | 718/1000 [33:53<15:24,  3.28s/it]"
     ]
    },
    {
     "name": "stdout",
     "output_type": "stream",
     "text": [
      "No valid primary label found at index 24317\n",
      "No valid secondary label found at index 24317\n"
     ]
    },
    {
     "name": "stderr",
     "output_type": "stream",
     "text": [
      "Processing Non-Neutral Rows:  72%|████████████████████████████████████▎             | 725/1000 [34:14<13:23,  2.92s/it]"
     ]
    },
    {
     "name": "stdout",
     "output_type": "stream",
     "text": [
      "No valid primary label found at index 24325\n",
      "No valid secondary label found at index 24325\n"
     ]
    },
    {
     "name": "stderr",
     "output_type": "stream",
     "text": [
      "\r",
      "Processing Non-Neutral Rows:  73%|████████████████████████████████████▎             | 726/1000 [34:16<12:49,  2.81s/it]"
     ]
    },
    {
     "name": "stdout",
     "output_type": "stream",
     "text": [
      "No valid primary label found at index 24326\n",
      "No valid secondary label found at index 24326\n"
     ]
    },
    {
     "name": "stderr",
     "output_type": "stream",
     "text": [
      "\r",
      "Processing Non-Neutral Rows:  73%|████████████████████████████████████▎             | 727/1000 [34:19<12:45,  2.80s/it]"
     ]
    },
    {
     "name": "stdout",
     "output_type": "stream",
     "text": [
      "No valid primary label found at index 24327\n",
      "No valid secondary label found at index 24327\n"
     ]
    },
    {
     "name": "stderr",
     "output_type": "stream",
     "text": [
      "Processing Non-Neutral Rows:  73%|████████████████████████████████████▍             | 729/1000 [34:24<12:10,  2.70s/it]"
     ]
    },
    {
     "name": "stdout",
     "output_type": "stream",
     "text": [
      "No valid primary label found at index 24329\n",
      "No valid secondary label found at index 24329\n"
     ]
    },
    {
     "name": "stderr",
     "output_type": "stream",
     "text": [
      "\r",
      "Processing Non-Neutral Rows:  73%|████████████████████████████████████▌             | 730/1000 [34:27<11:49,  2.63s/it]"
     ]
    },
    {
     "name": "stdout",
     "output_type": "stream",
     "text": [
      "No valid primary label found at index 24330\n",
      "No valid secondary label found at index 24330\n"
     ]
    },
    {
     "name": "stderr",
     "output_type": "stream",
     "text": [
      "\r",
      "Processing Non-Neutral Rows:  73%|████████████████████████████████████▌             | 731/1000 [34:29<11:42,  2.61s/it]"
     ]
    },
    {
     "name": "stdout",
     "output_type": "stream",
     "text": [
      "No valid primary label found at index 24331\n",
      "No valid secondary label found at index 24331\n"
     ]
    },
    {
     "name": "stderr",
     "output_type": "stream",
     "text": [
      "\r",
      "Processing Non-Neutral Rows:  73%|████████████████████████████████████▌             | 732/1000 [34:32<11:39,  2.61s/it]"
     ]
    },
    {
     "name": "stdout",
     "output_type": "stream",
     "text": [
      "No valid primary label found at index 24332\n",
      "No valid secondary label found at index 24332\n"
     ]
    },
    {
     "name": "stderr",
     "output_type": "stream",
     "text": [
      "\r",
      "Processing Non-Neutral Rows:  73%|████████████████████████████████████▋             | 733/1000 [34:34<11:23,  2.56s/it]"
     ]
    },
    {
     "name": "stdout",
     "output_type": "stream",
     "text": [
      "No valid primary label found at index 24333\n",
      "No valid secondary label found at index 24333\n"
     ]
    },
    {
     "name": "stderr",
     "output_type": "stream",
     "text": [
      "Processing Non-Neutral Rows:  74%|█████████████████████████████████████▏            | 744/1000 [35:05<11:49,  2.77s/it]"
     ]
    },
    {
     "name": "stdout",
     "output_type": "stream",
     "text": [
      "No valid secondary label found at index 24345\n"
     ]
    },
    {
     "name": "stderr",
     "output_type": "stream",
     "text": [
      "Processing Non-Neutral Rows:  75%|█████████████████████████████████████▎            | 746/1000 [35:10<11:25,  2.70s/it]"
     ]
    },
    {
     "name": "stdout",
     "output_type": "stream",
     "text": [
      "No valid primary label found at index 24347\n",
      "No valid secondary label found at index 24347\n"
     ]
    },
    {
     "name": "stderr",
     "output_type": "stream",
     "text": [
      "Processing Non-Neutral Rows:  75%|█████████████████████████████████████▌            | 750/1000 [35:21<11:26,  2.75s/it]"
     ]
    },
    {
     "name": "stdout",
     "output_type": "stream",
     "text": [
      "No valid secondary label found at index 24352\n"
     ]
    },
    {
     "name": "stderr",
     "output_type": "stream",
     "text": [
      "Processing Non-Neutral Rows:  76%|█████████████████████████████████████▊            | 757/1000 [35:41<11:39,  2.88s/it]"
     ]
    },
    {
     "name": "stdout",
     "output_type": "stream",
     "text": [
      "No valid primary label found at index 24359\n",
      "No valid secondary label found at index 24359\n"
     ]
    },
    {
     "name": "stderr",
     "output_type": "stream",
     "text": [
      "\r",
      "Processing Non-Neutral Rows:  76%|█████████████████████████████████████▉            | 758/1000 [35:43<11:12,  2.78s/it]"
     ]
    },
    {
     "name": "stdout",
     "output_type": "stream",
     "text": [
      "No valid primary label found at index 24360\n",
      "No valid secondary label found at index 24360\n"
     ]
    },
    {
     "name": "stderr",
     "output_type": "stream",
     "text": [
      "\r",
      "Processing Non-Neutral Rows:  76%|█████████████████████████████████████▉            | 759/1000 [35:46<11:09,  2.78s/it]"
     ]
    },
    {
     "name": "stdout",
     "output_type": "stream",
     "text": [
      "No valid primary label found at index 24361\n",
      "No valid secondary label found at index 24361\n"
     ]
    },
    {
     "name": "stderr",
     "output_type": "stream",
     "text": [
      "Processing Non-Neutral Rows:  76%|██████████████████████████████████████▎           | 765/1000 [36:02<10:34,  2.70s/it]"
     ]
    },
    {
     "name": "stdout",
     "output_type": "stream",
     "text": [
      "No valid primary label found at index 24367\n",
      "No valid secondary label found at index 24367\n"
     ]
    },
    {
     "name": "stderr",
     "output_type": "stream",
     "text": [
      "Processing Non-Neutral Rows:  77%|██████████████████████████████████████▎           | 767/1000 [36:07<10:09,  2.62s/it]"
     ]
    },
    {
     "name": "stdout",
     "output_type": "stream",
     "text": [
      "No valid primary label found at index 24369\n",
      "No valid secondary label found at index 24369\n"
     ]
    },
    {
     "name": "stderr",
     "output_type": "stream",
     "text": [
      "\r",
      "Processing Non-Neutral Rows:  77%|██████████████████████████████████████▍           | 768/1000 [36:10<09:54,  2.56s/it]"
     ]
    },
    {
     "name": "stdout",
     "output_type": "stream",
     "text": [
      "No valid primary label found at index 24370\n",
      "No valid secondary label found at index 24370\n"
     ]
    },
    {
     "name": "stderr",
     "output_type": "stream",
     "text": [
      "Processing Non-Neutral Rows:  77%|██████████████████████████████████████▋           | 773/1000 [36:23<09:46,  2.58s/it]"
     ]
    },
    {
     "name": "stdout",
     "output_type": "stream",
     "text": [
      "No valid primary label found at index 24375\n",
      "No valid secondary label found at index 24375\n"
     ]
    },
    {
     "name": "stderr",
     "output_type": "stream",
     "text": [
      "Processing Non-Neutral Rows:  79%|███████████████████████████████████████▎          | 786/1000 [36:58<10:12,  2.86s/it]"
     ]
    },
    {
     "name": "stdout",
     "output_type": "stream",
     "text": [
      "No valid secondary label found at index 24389\n"
     ]
    },
    {
     "name": "stderr",
     "output_type": "stream",
     "text": [
      "Processing Non-Neutral Rows:  80%|███████████████████████████████████████▉          | 799/1000 [37:37<09:05,  2.72s/it]"
     ]
    },
    {
     "name": "stdout",
     "output_type": "stream",
     "text": [
      "No valid primary label found at index 24404\n",
      "No valid secondary label found at index 24404\n"
     ]
    },
    {
     "name": "stderr",
     "output_type": "stream",
     "text": [
      "\r",
      "Processing Non-Neutral Rows:  80%|████████████████████████████████████████          | 800/1000 [37:39<09:00,  2.70s/it]"
     ]
    },
    {
     "name": "stdout",
     "output_type": "stream",
     "text": [
      "No valid primary label found at index 24405\n",
      "No valid secondary label found at index 24405\n"
     ]
    },
    {
     "name": "stderr",
     "output_type": "stream",
     "text": [
      "\r",
      "Processing Non-Neutral Rows:  80%|████████████████████████████████████████          | 801/1000 [37:42<08:39,  2.61s/it]"
     ]
    },
    {
     "name": "stdout",
     "output_type": "stream",
     "text": [
      "No valid primary label found at index 24406\n",
      "No valid secondary label found at index 24406\n"
     ]
    },
    {
     "name": "stderr",
     "output_type": "stream",
     "text": [
      "Processing Non-Neutral Rows:  81%|████████████████████████████████████████▍         | 809/1000 [38:02<08:11,  2.57s/it]"
     ]
    },
    {
     "name": "stdout",
     "output_type": "stream",
     "text": [
      "No valid primary label found at index 24415\n",
      "No valid secondary label found at index 24415\n"
     ]
    },
    {
     "name": "stderr",
     "output_type": "stream",
     "text": [
      "\r",
      "Processing Non-Neutral Rows:  81%|████████████████████████████████████████▌         | 810/1000 [38:05<08:08,  2.57s/it]"
     ]
    },
    {
     "name": "stdout",
     "output_type": "stream",
     "text": [
      "No valid secondary label found at index 24416\n"
     ]
    },
    {
     "name": "stderr",
     "output_type": "stream",
     "text": [
      "Processing Non-Neutral Rows:  81%|████████████████████████████████████████▌         | 812/1000 [38:10<08:22,  2.67s/it]"
     ]
    },
    {
     "name": "stdout",
     "output_type": "stream",
     "text": [
      "No valid primary label found at index 24418\n",
      "No valid secondary label found at index 24418\n"
     ]
    },
    {
     "name": "stderr",
     "output_type": "stream",
     "text": [
      "Processing Non-Neutral Rows:  82%|████████████████████████████████████████▊         | 817/1000 [38:25<08:44,  2.86s/it]"
     ]
    },
    {
     "name": "stdout",
     "output_type": "stream",
     "text": [
      "No valid primary label found at index 24423\n",
      "No valid secondary label found at index 24423\n"
     ]
    },
    {
     "name": "stderr",
     "output_type": "stream",
     "text": [
      "Processing Non-Neutral Rows:  82%|█████████████████████████████████████████         | 821/1000 [38:37<09:16,  3.11s/it]"
     ]
    },
    {
     "name": "stdout",
     "output_type": "stream",
     "text": [
      "No valid secondary label found at index 24427\n"
     ]
    },
    {
     "name": "stderr",
     "output_type": "stream",
     "text": [
      "Processing Non-Neutral Rows:  82%|█████████████████████████████████████████▏        | 824/1000 [38:45<08:12,  2.80s/it]"
     ]
    },
    {
     "name": "stdout",
     "output_type": "stream",
     "text": [
      "No valid primary label found at index 24430\n",
      "No valid secondary label found at index 24430\n"
     ]
    },
    {
     "name": "stderr",
     "output_type": "stream",
     "text": [
      "Processing Non-Neutral Rows:  83%|█████████████████████████████████████████▋        | 833/1000 [39:09<07:37,  2.74s/it]"
     ]
    },
    {
     "name": "stdout",
     "output_type": "stream",
     "text": [
      "No valid primary label found at index 24448\n",
      "No valid secondary label found at index 24448\n"
     ]
    },
    {
     "name": "stderr",
     "output_type": "stream",
     "text": [
      "Processing Non-Neutral Rows:  84%|██████████████████████████████████████████▏       | 843/1000 [39:38<07:21,  2.81s/it]"
     ]
    },
    {
     "name": "stdout",
     "output_type": "stream",
     "text": [
      "No valid secondary label found at index 24459\n"
     ]
    },
    {
     "name": "stderr",
     "output_type": "stream",
     "text": [
      "Processing Non-Neutral Rows:  85%|██████████████████████████████████████████▎       | 846/1000 [39:48<08:06,  3.16s/it]"
     ]
    },
    {
     "name": "stdout",
     "output_type": "stream",
     "text": [
      "No valid secondary label found at index 24462\n"
     ]
    },
    {
     "name": "stderr",
     "output_type": "stream",
     "text": [
      "Processing Non-Neutral Rows:  85%|██████████████████████████████████████████▌       | 852/1000 [40:04<06:52,  2.79s/it]"
     ]
    },
    {
     "name": "stdout",
     "output_type": "stream",
     "text": [
      "No valid secondary label found at index 24468\n"
     ]
    },
    {
     "name": "stderr",
     "output_type": "stream",
     "text": [
      "Processing Non-Neutral Rows:  85%|██████████████████████████████████████████▋       | 854/1000 [40:09<06:39,  2.74s/it]"
     ]
    },
    {
     "name": "stdout",
     "output_type": "stream",
     "text": [
      "No valid primary label found at index 24472\n",
      "No valid secondary label found at index 24472\n"
     ]
    },
    {
     "name": "stderr",
     "output_type": "stream",
     "text": [
      "\r",
      "Processing Non-Neutral Rows:  86%|██████████████████████████████████████████▊       | 855/1000 [40:12<06:35,  2.73s/it]"
     ]
    },
    {
     "name": "stdout",
     "output_type": "stream",
     "text": [
      "No valid primary label found at index 24473\n",
      "No valid secondary label found at index 24473\n"
     ]
    },
    {
     "name": "stderr",
     "output_type": "stream",
     "text": [
      "\r",
      "Processing Non-Neutral Rows:  86%|██████████████████████████████████████████▊       | 856/1000 [40:16<07:27,  3.11s/it]"
     ]
    },
    {
     "name": "stdout",
     "output_type": "stream",
     "text": [
      "No valid secondary label found at index 24474\n"
     ]
    },
    {
     "name": "stderr",
     "output_type": "stream",
     "text": [
      "Processing Non-Neutral Rows:  86%|███████████████████████████████████████████       | 861/1000 [40:30<06:32,  2.82s/it]"
     ]
    },
    {
     "name": "stdout",
     "output_type": "stream",
     "text": [
      "No valid primary label found at index 24479\n",
      "No valid secondary label found at index 24479\n"
     ]
    },
    {
     "name": "stderr",
     "output_type": "stream",
     "text": [
      "\r",
      "Processing Non-Neutral Rows:  86%|███████████████████████████████████████████       | 862/1000 [40:32<06:20,  2.76s/it]"
     ]
    },
    {
     "name": "stdout",
     "output_type": "stream",
     "text": [
      "No valid primary label found at index 24480\n",
      "No valid secondary label found at index 24480\n"
     ]
    },
    {
     "name": "stderr",
     "output_type": "stream",
     "text": [
      "Processing Non-Neutral Rows:  86%|███████████████████████████████████████████▎      | 865/1000 [40:41<06:09,  2.74s/it]"
     ]
    },
    {
     "name": "stdout",
     "output_type": "stream",
     "text": [
      "No valid primary label found at index 24483\n",
      "No valid secondary label found at index 24483\n"
     ]
    },
    {
     "name": "stderr",
     "output_type": "stream",
     "text": [
      "\r",
      "Processing Non-Neutral Rows:  87%|███████████████████████████████████████████▎      | 866/1000 [40:43<06:04,  2.72s/it]"
     ]
    },
    {
     "name": "stdout",
     "output_type": "stream",
     "text": [
      "No valid secondary label found at index 24484\n"
     ]
    },
    {
     "name": "stderr",
     "output_type": "stream",
     "text": [
      "Processing Non-Neutral Rows:  87%|███████████████████████████████████████████▋      | 873/1000 [41:03<06:13,  2.94s/it]"
     ]
    },
    {
     "name": "stdout",
     "output_type": "stream",
     "text": [
      "No valid secondary label found at index 24493\n"
     ]
    },
    {
     "name": "stderr",
     "output_type": "stream",
     "text": [
      "\r",
      "Processing Non-Neutral Rows:  87%|███████████████████████████████████████████▋      | 874/1000 [41:05<05:51,  2.79s/it]"
     ]
    },
    {
     "name": "stdout",
     "output_type": "stream",
     "text": [
      "No valid primary label found at index 24494\n",
      "No valid secondary label found at index 24494\n"
     ]
    },
    {
     "name": "stderr",
     "output_type": "stream",
     "text": [
      "Processing Non-Neutral Rows:  89%|████████████████████████████████████████████▌     | 890/1000 [41:51<05:10,  2.82s/it]"
     ]
    },
    {
     "name": "stdout",
     "output_type": "stream",
     "text": [
      "No valid primary label found at index 24512\n",
      "No valid secondary label found at index 24512\n"
     ]
    },
    {
     "name": "stderr",
     "output_type": "stream",
     "text": [
      "Processing Non-Neutral Rows:  90%|████████████████████████████████████████████▊     | 896/1000 [42:07<04:39,  2.69s/it]"
     ]
    },
    {
     "name": "stdout",
     "output_type": "stream",
     "text": [
      "No valid primary label found at index 24518\n",
      "No valid secondary label found at index 24518\n"
     ]
    },
    {
     "name": "stderr",
     "output_type": "stream",
     "text": [
      "Processing Non-Neutral Rows:  90%|████████████████████████████████████████████▉     | 899/1000 [42:15<04:29,  2.66s/it]"
     ]
    },
    {
     "name": "stdout",
     "output_type": "stream",
     "text": [
      "No valid primary label found at index 24521\n",
      "No valid secondary label found at index 24521\n"
     ]
    },
    {
     "name": "stderr",
     "output_type": "stream",
     "text": [
      "Processing Non-Neutral Rows:  90%|█████████████████████████████████████████████     | 902/1000 [42:22<04:15,  2.61s/it]"
     ]
    },
    {
     "name": "stdout",
     "output_type": "stream",
     "text": [
      "No valid primary label found at index 24525\n",
      "No valid secondary label found at index 24525\n"
     ]
    },
    {
     "name": "stderr",
     "output_type": "stream",
     "text": [
      "\r",
      "Processing Non-Neutral Rows:  90%|█████████████████████████████████████████████▏    | 903/1000 [42:25<04:12,  2.60s/it]"
     ]
    },
    {
     "name": "stdout",
     "output_type": "stream",
     "text": [
      "No valid primary label found at index 24526\n",
      "No valid secondary label found at index 24526\n"
     ]
    },
    {
     "name": "stderr",
     "output_type": "stream",
     "text": [
      "Processing Non-Neutral Rows:  91%|█████████████████████████████████████████████▎    | 907/1000 [42:37<04:19,  2.79s/it]"
     ]
    },
    {
     "name": "stdout",
     "output_type": "stream",
     "text": [
      "No valid primary label found at index 24530\n",
      "No valid secondary label found at index 24530\n"
     ]
    },
    {
     "name": "stderr",
     "output_type": "stream",
     "text": [
      "Processing Non-Neutral Rows:  91%|█████████████████████████████████████████████▍    | 909/1000 [42:42<04:05,  2.70s/it]"
     ]
    },
    {
     "name": "stdout",
     "output_type": "stream",
     "text": [
      "No valid primary label found at index 24533\n",
      "No valid secondary label found at index 24533\n"
     ]
    },
    {
     "name": "stderr",
     "output_type": "stream",
     "text": [
      "Processing Non-Neutral Rows:  91%|█████████████████████████████████████████████▋    | 913/1000 [42:56<04:54,  3.39s/it]"
     ]
    },
    {
     "name": "stdout",
     "output_type": "stream",
     "text": [
      "No valid secondary label found at index 24537\n"
     ]
    },
    {
     "name": "stderr",
     "output_type": "stream",
     "text": [
      "Processing Non-Neutral Rows:  93%|██████████████████████████████████████████████▎   | 926/1000 [43:35<03:35,  2.91s/it]"
     ]
    },
    {
     "name": "stdout",
     "output_type": "stream",
     "text": [
      "No valid primary label found at index 24552\n",
      "No valid secondary label found at index 24552\n"
     ]
    },
    {
     "name": "stderr",
     "output_type": "stream",
     "text": [
      "\r",
      "Processing Non-Neutral Rows:  93%|██████████████████████████████████████████████▎   | 927/1000 [43:38<03:24,  2.80s/it]"
     ]
    },
    {
     "name": "stdout",
     "output_type": "stream",
     "text": [
      "No valid primary label found at index 24553\n",
      "No valid secondary label found at index 24553\n"
     ]
    },
    {
     "name": "stderr",
     "output_type": "stream",
     "text": [
      "\r",
      "Processing Non-Neutral Rows:  93%|██████████████████████████████████████████████▍   | 928/1000 [43:42<03:45,  3.14s/it]"
     ]
    },
    {
     "name": "stdout",
     "output_type": "stream",
     "text": [
      "No valid primary label found at index 24554\n",
      "No valid secondary label found at index 24554\n"
     ]
    },
    {
     "name": "stderr",
     "output_type": "stream",
     "text": [
      "\r",
      "Processing Non-Neutral Rows:  93%|██████████████████████████████████████████████▍   | 929/1000 [43:44<03:32,  3.00s/it]"
     ]
    },
    {
     "name": "stdout",
     "output_type": "stream",
     "text": [
      "No valid primary label found at index 24555\n",
      "No valid secondary label found at index 24555\n"
     ]
    },
    {
     "name": "stderr",
     "output_type": "stream",
     "text": [
      "\r",
      "Processing Non-Neutral Rows:  93%|██████████████████████████████████████████████▌   | 930/1000 [43:47<03:22,  2.90s/it]"
     ]
    },
    {
     "name": "stdout",
     "output_type": "stream",
     "text": [
      "No valid primary label found at index 24556\n",
      "No valid secondary label found at index 24556\n"
     ]
    },
    {
     "name": "stderr",
     "output_type": "stream",
     "text": [
      "Processing Non-Neutral Rows:  93%|██████████████████████████████████████████████▋   | 933/1000 [43:55<03:02,  2.72s/it]"
     ]
    },
    {
     "name": "stdout",
     "output_type": "stream",
     "text": [
      "No valid primary label found at index 24559\n",
      "No valid secondary label found at index 24559\n"
     ]
    },
    {
     "name": "stderr",
     "output_type": "stream",
     "text": [
      "Processing Non-Neutral Rows:  94%|██████████████████████████████████████████████▉   | 938/1000 [44:09<02:52,  2.79s/it]"
     ]
    },
    {
     "name": "stdout",
     "output_type": "stream",
     "text": [
      "No valid primary label found at index 24565\n",
      "No valid secondary label found at index 24565\n"
     ]
    },
    {
     "name": "stderr",
     "output_type": "stream",
     "text": [
      "Processing Non-Neutral Rows:  94%|███████████████████████████████████████████████   | 940/1000 [44:16<03:02,  3.04s/it]"
     ]
    },
    {
     "name": "stdout",
     "output_type": "stream",
     "text": [
      "No valid primary label found at index 24567\n",
      "No valid secondary label found at index 24567\n"
     ]
    },
    {
     "name": "stderr",
     "output_type": "stream",
     "text": [
      "\r",
      "Processing Non-Neutral Rows:  94%|███████████████████████████████████████████████   | 941/1000 [44:18<02:52,  2.93s/it]"
     ]
    },
    {
     "name": "stdout",
     "output_type": "stream",
     "text": [
      "No valid primary label found at index 24568\n",
      "No valid secondary label found at index 24568\n"
     ]
    },
    {
     "name": "stderr",
     "output_type": "stream",
     "text": [
      "\r",
      "Processing Non-Neutral Rows:  94%|███████████████████████████████████████████████   | 942/1000 [44:21<02:43,  2.82s/it]"
     ]
    },
    {
     "name": "stdout",
     "output_type": "stream",
     "text": [
      "No valid primary label found at index 24569\n",
      "No valid secondary label found at index 24569\n"
     ]
    },
    {
     "name": "stderr",
     "output_type": "stream",
     "text": [
      "\r",
      "Processing Non-Neutral Rows:  94%|███████████████████████████████████████████████▏  | 943/1000 [44:23<02:38,  2.77s/it]"
     ]
    },
    {
     "name": "stdout",
     "output_type": "stream",
     "text": [
      "No valid primary label found at index 24570\n",
      "No valid secondary label found at index 24570\n"
     ]
    },
    {
     "name": "stderr",
     "output_type": "stream",
     "text": [
      "\r",
      "Processing Non-Neutral Rows:  94%|███████████████████████████████████████████████▏  | 944/1000 [44:26<02:37,  2.82s/it]"
     ]
    },
    {
     "name": "stdout",
     "output_type": "stream",
     "text": [
      "No valid primary label found at index 24571\n",
      "No valid secondary label found at index 24571\n"
     ]
    },
    {
     "name": "stderr",
     "output_type": "stream",
     "text": [
      "\r",
      "Processing Non-Neutral Rows:  94%|███████████████████████████████████████████████▎  | 945/1000 [44:30<02:40,  2.93s/it]"
     ]
    },
    {
     "name": "stdout",
     "output_type": "stream",
     "text": [
      "No valid primary label found at index 24573\n",
      "No valid secondary label found at index 24573\n"
     ]
    },
    {
     "name": "stderr",
     "output_type": "stream",
     "text": [
      "\r",
      "Processing Non-Neutral Rows:  95%|███████████████████████████████████████████████▎  | 946/1000 [44:33<02:43,  3.02s/it]"
     ]
    },
    {
     "name": "stdout",
     "output_type": "stream",
     "text": [
      "No valid primary label found at index 24574\n",
      "No valid secondary label found at index 24574\n"
     ]
    },
    {
     "name": "stderr",
     "output_type": "stream",
     "text": [
      "Processing Non-Neutral Rows:  95%|███████████████████████████████████████████████▍  | 948/1000 [44:38<02:28,  2.85s/it]"
     ]
    },
    {
     "name": "stdout",
     "output_type": "stream",
     "text": [
      "No valid primary label found at index 24577\n",
      "No valid secondary label found at index 24577\n"
     ]
    },
    {
     "name": "stderr",
     "output_type": "stream",
     "text": [
      "\r",
      "Processing Non-Neutral Rows:  95%|███████████████████████████████████████████████▍  | 949/1000 [44:41<02:26,  2.86s/it]"
     ]
    },
    {
     "name": "stdout",
     "output_type": "stream",
     "text": [
      "No valid primary label found at index 24579\n",
      "No valid secondary label found at index 24579\n"
     ]
    },
    {
     "name": "stderr",
     "output_type": "stream",
     "text": [
      "Processing Non-Neutral Rows:  95%|███████████████████████████████████████████████▌  | 952/1000 [44:49<02:07,  2.67s/it]"
     ]
    },
    {
     "name": "stdout",
     "output_type": "stream",
     "text": [
      "No valid primary label found at index 24584\n",
      "No valid secondary label found at index 24584\n"
     ]
    },
    {
     "name": "stderr",
     "output_type": "stream",
     "text": [
      "\r",
      "Processing Non-Neutral Rows:  95%|███████████████████████████████████████████████▋  | 953/1000 [44:51<02:03,  2.63s/it]"
     ]
    },
    {
     "name": "stdout",
     "output_type": "stream",
     "text": [
      "No valid primary label found at index 24585\n",
      "No valid secondary label found at index 24585\n"
     ]
    },
    {
     "name": "stderr",
     "output_type": "stream",
     "text": [
      "\r",
      "Processing Non-Neutral Rows:  95%|███████████████████████████████████████████████▋  | 954/1000 [44:54<01:57,  2.56s/it]"
     ]
    },
    {
     "name": "stdout",
     "output_type": "stream",
     "text": [
      "No valid primary label found at index 24586\n",
      "No valid secondary label found at index 24586\n"
     ]
    },
    {
     "name": "stderr",
     "output_type": "stream",
     "text": [
      "\r",
      "Processing Non-Neutral Rows:  96%|███████████████████████████████████████████████▊  | 955/1000 [44:56<01:56,  2.59s/it]"
     ]
    },
    {
     "name": "stdout",
     "output_type": "stream",
     "text": [
      "No valid primary label found at index 24587\n",
      "No valid secondary label found at index 24587\n"
     ]
    },
    {
     "name": "stderr",
     "output_type": "stream",
     "text": [
      "\r",
      "Processing Non-Neutral Rows:  96%|███████████████████████████████████████████████▊  | 956/1000 [44:59<01:59,  2.72s/it]"
     ]
    },
    {
     "name": "stdout",
     "output_type": "stream",
     "text": [
      "No valid primary label found at index 24588\n",
      "No valid secondary label found at index 24588\n"
     ]
    },
    {
     "name": "stderr",
     "output_type": "stream",
     "text": [
      "Processing Non-Neutral Rows:  96%|███████████████████████████████████████████████▉  | 958/1000 [45:06<02:01,  2.89s/it]"
     ]
    },
    {
     "name": "stdout",
     "output_type": "stream",
     "text": [
      "No valid primary label found at index 24590\n",
      "No valid secondary label found at index 24590\n"
     ]
    },
    {
     "name": "stderr",
     "output_type": "stream",
     "text": [
      "\r",
      "Processing Non-Neutral Rows:  96%|███████████████████████████████████████████████▉  | 959/1000 [45:08<01:54,  2.79s/it]"
     ]
    },
    {
     "name": "stdout",
     "output_type": "stream",
     "text": [
      "No valid primary label found at index 24591\n",
      "No valid secondary label found at index 24591\n"
     ]
    },
    {
     "name": "stderr",
     "output_type": "stream",
     "text": [
      "\r",
      "Processing Non-Neutral Rows:  96%|████████████████████████████████████████████████  | 960/1000 [45:11<01:50,  2.77s/it]"
     ]
    },
    {
     "name": "stdout",
     "output_type": "stream",
     "text": [
      "No valid primary label found at index 24593\n",
      "No valid secondary label found at index 24593\n"
     ]
    },
    {
     "name": "stderr",
     "output_type": "stream",
     "text": [
      "Processing Non-Neutral Rows:  96%|████████████████████████████████████████████████  | 962/1000 [45:17<01:49,  2.88s/it]"
     ]
    },
    {
     "name": "stdout",
     "output_type": "stream",
     "text": [
      "No valid primary label found at index 24595\n",
      "No valid secondary label found at index 24595\n"
     ]
    },
    {
     "name": "stderr",
     "output_type": "stream",
     "text": [
      "Processing Non-Neutral Rows:  96%|████████████████████████████████████████████████▏ | 964/1000 [45:23<01:46,  2.95s/it]"
     ]
    },
    {
     "name": "stdout",
     "output_type": "stream",
     "text": [
      "No valid primary label found at index 24597\n",
      "No valid secondary label found at index 24597\n"
     ]
    },
    {
     "name": "stderr",
     "output_type": "stream",
     "text": [
      "Processing Non-Neutral Rows:  97%|████████████████████████████████████████████████▎ | 967/1000 [45:33<01:49,  3.31s/it]"
     ]
    },
    {
     "name": "stdout",
     "output_type": "stream",
     "text": [
      "No valid secondary label found at index 24602\n"
     ]
    },
    {
     "name": "stderr",
     "output_type": "stream",
     "text": [
      "Processing Non-Neutral Rows:  97%|████████████████████████████████████████████████▍ | 969/1000 [45:38<01:28,  2.87s/it]"
     ]
    },
    {
     "name": "stdout",
     "output_type": "stream",
     "text": [
      "No valid primary label found at index 24605\n",
      "No valid secondary label found at index 24605\n"
     ]
    },
    {
     "name": "stderr",
     "output_type": "stream",
     "text": [
      "Processing Non-Neutral Rows:  97%|████████████████████████████████████████████████▋ | 974/1000 [45:52<01:14,  2.87s/it]"
     ]
    },
    {
     "name": "stdout",
     "output_type": "stream",
     "text": [
      "No valid secondary label found at index 24611\n"
     ]
    },
    {
     "name": "stderr",
     "output_type": "stream",
     "text": [
      "Processing Non-Neutral Rows:  98%|████████████████████████████████████████████████▊ | 976/1000 [45:58<01:06,  2.79s/it]"
     ]
    },
    {
     "name": "stdout",
     "output_type": "stream",
     "text": [
      "No valid primary label found at index 24613\n",
      "No valid secondary label found at index 24613\n"
     ]
    },
    {
     "name": "stderr",
     "output_type": "stream",
     "text": [
      "\r",
      "Processing Non-Neutral Rows:  98%|████████████████████████████████████████████████▊ | 977/1000 [46:00<01:01,  2.67s/it]"
     ]
    },
    {
     "name": "stdout",
     "output_type": "stream",
     "text": [
      "No valid primary label found at index 24614\n",
      "No valid secondary label found at index 24614\n"
     ]
    },
    {
     "name": "stderr",
     "output_type": "stream",
     "text": [
      "\r",
      "Processing Non-Neutral Rows:  98%|████████████████████████████████████████████████▉ | 978/1000 [46:04<01:05,  2.98s/it]"
     ]
    },
    {
     "name": "stdout",
     "output_type": "stream",
     "text": [
      "No valid primary label found at index 24615\n",
      "No valid secondary label found at index 24615\n"
     ]
    },
    {
     "name": "stderr",
     "output_type": "stream",
     "text": [
      "Processing Non-Neutral Rows:  98%|█████████████████████████████████████████████████ | 982/1000 [46:16<00:53,  2.95s/it]"
     ]
    },
    {
     "name": "stdout",
     "output_type": "stream",
     "text": [
      "No valid primary label found at index 24622\n",
      "No valid secondary label found at index 24622\n"
     ]
    },
    {
     "name": "stderr",
     "output_type": "stream",
     "text": [
      "\r",
      "Processing Non-Neutral Rows:  98%|█████████████████████████████████████████████████▏| 983/1000 [46:18<00:48,  2.83s/it]"
     ]
    },
    {
     "name": "stdout",
     "output_type": "stream",
     "text": [
      "No valid primary label found at index 24623\n",
      "No valid secondary label found at index 24623\n"
     ]
    },
    {
     "name": "stderr",
     "output_type": "stream",
     "text": [
      "Processing Non-Neutral Rows:  99%|█████████████████████████████████████████████████▌| 992/1000 [46:44<00:22,  2.80s/it]"
     ]
    },
    {
     "name": "stdout",
     "output_type": "stream",
     "text": [
      "No valid secondary label found at index 24634\n"
     ]
    },
    {
     "name": "stderr",
     "output_type": "stream",
     "text": [
      "\r",
      "Processing Non-Neutral Rows:  99%|█████████████████████████████████████████████████▋| 993/1000 [46:47<00:19,  2.80s/it]"
     ]
    },
    {
     "name": "stdout",
     "output_type": "stream",
     "text": [
      "No valid secondary label found at index 24635\n"
     ]
    },
    {
     "name": "stderr",
     "output_type": "stream",
     "text": [
      "Processing Non-Neutral Rows: 100%|█████████████████████████████████████████████████▉| 999/1000 [47:04<00:03,  3.07s/it]"
     ]
    },
    {
     "name": "stdout",
     "output_type": "stream",
     "text": [
      "No valid primary label found at index 24641\n",
      "No valid secondary label found at index 24641\n"
     ]
    },
    {
     "name": "stderr",
     "output_type": "stream",
     "text": [
      "Processing Non-Neutral Rows: 100%|█████████████████████████████████████████████████| 1000/1000 [47:07<00:00,  2.83s/it]\n"
     ]
    }
   ],
   "source": [
    "for index in tqdm(non_neutral_indices[4000:5000], desc=\"Processing Non-Neutral Rows\"):\n",
    "    classify_and_update_labels(index)"
   ]
  },
  {
   "cell_type": "code",
   "execution_count": 55,
   "id": "bfe7be9b",
   "metadata": {},
   "outputs": [],
   "source": [
    "df.to_csv('outputs.csv', index=False)"
   ]
  },
  {
   "cell_type": "code",
   "execution_count": 56,
   "id": "dabf02b5",
   "metadata": {},
   "outputs": [],
   "source": [
    "redo_indices=failed_indices"
   ]
  },
  {
   "cell_type": "code",
   "execution_count": 58,
   "id": "4f1199a4",
   "metadata": {},
   "outputs": [],
   "source": [
    "with open('redo.pkl', 'wb') as f:\n",
    "    pickle.dump(redo_indices, f)"
   ]
  },
  {
   "cell_type": "code",
   "execution_count": 59,
   "id": "a2918e1a",
   "metadata": {},
   "outputs": [
    {
     "name": "stderr",
     "output_type": "stream",
     "text": [
      "Processing Non-Neutral Rows:   0%|▏                                                    | 2/426 [00:05<19:35,  2.77s/it]"
     ]
    },
    {
     "name": "stdout",
     "output_type": "stream",
     "text": [
      "No valid primary label found at index 24644\n",
      "No valid secondary label found at index 24644\n"
     ]
    },
    {
     "name": "stderr",
     "output_type": "stream",
     "text": [
      "Processing Non-Neutral Rows:   2%|█▏                                                  | 10/426 [00:27<18:45,  2.71s/it]"
     ]
    },
    {
     "name": "stdout",
     "output_type": "stream",
     "text": [
      "No valid primary label found at index 24653\n",
      "No valid secondary label found at index 24653\n"
     ]
    },
    {
     "name": "stderr",
     "output_type": "stream",
     "text": [
      "Processing Non-Neutral Rows:   4%|█▉                                                  | 16/426 [00:42<17:34,  2.57s/it]"
     ]
    },
    {
     "name": "stdout",
     "output_type": "stream",
     "text": [
      "No valid primary label found at index 24660\n",
      "No valid secondary label found at index 24660\n"
     ]
    },
    {
     "name": "stderr",
     "output_type": "stream",
     "text": [
      "\r",
      "Processing Non-Neutral Rows:   4%|██                                                  | 17/426 [00:45<17:58,  2.64s/it]"
     ]
    },
    {
     "name": "stdout",
     "output_type": "stream",
     "text": [
      "No valid primary label found at index 24661\n",
      "No valid secondary label found at index 24661\n"
     ]
    },
    {
     "name": "stderr",
     "output_type": "stream",
     "text": [
      "\r",
      "Processing Non-Neutral Rows:   4%|██▏                                                 | 18/426 [00:48<18:25,  2.71s/it]"
     ]
    },
    {
     "name": "stdout",
     "output_type": "stream",
     "text": [
      "No valid primary label found at index 24662\n",
      "No valid secondary label found at index 24662\n"
     ]
    },
    {
     "name": "stderr",
     "output_type": "stream",
     "text": [
      "\r",
      "Processing Non-Neutral Rows:   4%|██▎                                                 | 19/426 [00:50<18:29,  2.72s/it]"
     ]
    },
    {
     "name": "stdout",
     "output_type": "stream",
     "text": [
      "No valid primary label found at index 24663\n",
      "No valid secondary label found at index 24663\n"
     ]
    },
    {
     "name": "stderr",
     "output_type": "stream",
     "text": [
      "Processing Non-Neutral Rows:   7%|███▋                                                | 30/426 [01:20<20:13,  3.06s/it]"
     ]
    },
    {
     "name": "stdout",
     "output_type": "stream",
     "text": [
      "No valid secondary label found at index 24674\n"
     ]
    },
    {
     "name": "stderr",
     "output_type": "stream",
     "text": [
      "Processing Non-Neutral Rows:   8%|███▉                                                | 32/426 [01:26<19:05,  2.91s/it]"
     ]
    },
    {
     "name": "stdout",
     "output_type": "stream",
     "text": [
      "No valid primary label found at index 24676\n",
      "No valid secondary label found at index 24676\n"
     ]
    },
    {
     "name": "stderr",
     "output_type": "stream",
     "text": [
      "Processing Non-Neutral Rows:   8%|████▏                                               | 34/426 [01:31<18:56,  2.90s/it]"
     ]
    },
    {
     "name": "stdout",
     "output_type": "stream",
     "text": [
      "No valid primary label found at index 24678\n",
      "No valid secondary label found at index 24678\n"
     ]
    },
    {
     "name": "stderr",
     "output_type": "stream",
     "text": [
      "Processing Non-Neutral Rows:  13%|██████▉                                             | 57/426 [02:35<17:54,  2.91s/it]"
     ]
    },
    {
     "name": "stdout",
     "output_type": "stream",
     "text": [
      "No valid secondary label found at index 24704\n"
     ]
    },
    {
     "name": "stderr",
     "output_type": "stream",
     "text": [
      "\r",
      "Processing Non-Neutral Rows:  14%|███████                                             | 58/426 [02:38<18:31,  3.02s/it]"
     ]
    },
    {
     "name": "stdout",
     "output_type": "stream",
     "text": [
      "No valid secondary label found at index 24705\n"
     ]
    },
    {
     "name": "stderr",
     "output_type": "stream",
     "text": [
      "\r",
      "Processing Non-Neutral Rows:  14%|███████▏                                            | 59/426 [02:40<17:45,  2.90s/it]"
     ]
    },
    {
     "name": "stdout",
     "output_type": "stream",
     "text": [
      "No valid primary label found at index 24706\n",
      "No valid secondary label found at index 24706\n"
     ]
    },
    {
     "name": "stderr",
     "output_type": "stream",
     "text": [
      "\r",
      "Processing Non-Neutral Rows:  14%|███████▎                                            | 60/426 [02:43<17:35,  2.88s/it]"
     ]
    },
    {
     "name": "stdout",
     "output_type": "stream",
     "text": [
      "No valid primary label found at index 24707\n",
      "No valid secondary label found at index 24707\n"
     ]
    },
    {
     "name": "stderr",
     "output_type": "stream",
     "text": [
      "\r",
      "Processing Non-Neutral Rows:  14%|███████▍                                            | 61/426 [02:46<16:42,  2.75s/it]"
     ]
    },
    {
     "name": "stdout",
     "output_type": "stream",
     "text": [
      "No valid primary label found at index 24708\n",
      "No valid secondary label found at index 24708\n"
     ]
    },
    {
     "name": "stderr",
     "output_type": "stream",
     "text": [
      "Processing Non-Neutral Rows:  16%|████████▌                                           | 70/426 [03:10<16:25,  2.77s/it]"
     ]
    },
    {
     "name": "stdout",
     "output_type": "stream",
     "text": [
      "No valid secondary label found at index 24717\n"
     ]
    },
    {
     "name": "stderr",
     "output_type": "stream",
     "text": [
      "\r",
      "Processing Non-Neutral Rows:  17%|████████▋                                           | 71/426 [03:13<17:46,  3.01s/it]"
     ]
    },
    {
     "name": "stdout",
     "output_type": "stream",
     "text": [
      "No valid primary label found at index 24718\n",
      "No valid secondary label found at index 24718\n"
     ]
    },
    {
     "name": "stderr",
     "output_type": "stream",
     "text": [
      "\r",
      "Processing Non-Neutral Rows:  17%|████████▊                                           | 72/426 [03:16<17:14,  2.92s/it]"
     ]
    },
    {
     "name": "stdout",
     "output_type": "stream",
     "text": [
      "No valid primary label found at index 24719\n",
      "No valid secondary label found at index 24719\n"
     ]
    },
    {
     "name": "stderr",
     "output_type": "stream",
     "text": [
      "Processing Non-Neutral Rows:  17%|█████████                                           | 74/426 [03:22<16:34,  2.82s/it]"
     ]
    },
    {
     "name": "stdout",
     "output_type": "stream",
     "text": [
      "No valid primary label found at index 24721\n",
      "No valid secondary label found at index 24721\n"
     ]
    },
    {
     "name": "stderr",
     "output_type": "stream",
     "text": [
      "\r",
      "Processing Non-Neutral Rows:  18%|█████████▏                                          | 75/426 [03:24<16:27,  2.81s/it]"
     ]
    },
    {
     "name": "stdout",
     "output_type": "stream",
     "text": [
      "No valid primary label found at index 24722\n",
      "No valid secondary label found at index 24722\n"
     ]
    },
    {
     "name": "stderr",
     "output_type": "stream",
     "text": [
      "\r",
      "Processing Non-Neutral Rows:  18%|█████████▎                                          | 76/426 [03:27<15:48,  2.71s/it]"
     ]
    },
    {
     "name": "stdout",
     "output_type": "stream",
     "text": [
      "No valid primary label found at index 24723\n",
      "No valid secondary label found at index 24723\n"
     ]
    },
    {
     "name": "stderr",
     "output_type": "stream",
     "text": [
      "\r",
      "Processing Non-Neutral Rows:  18%|█████████▍                                          | 77/426 [03:29<15:15,  2.62s/it]"
     ]
    },
    {
     "name": "stdout",
     "output_type": "stream",
     "text": [
      "No valid primary label found at index 24724\n",
      "No valid secondary label found at index 24724\n"
     ]
    },
    {
     "name": "stderr",
     "output_type": "stream",
     "text": [
      "Processing Non-Neutral Rows:  20%|██████████▎                                         | 84/426 [03:48<15:00,  2.63s/it]"
     ]
    },
    {
     "name": "stdout",
     "output_type": "stream",
     "text": [
      "No valid primary label found at index 24732\n",
      "No valid secondary label found at index 24732\n"
     ]
    },
    {
     "name": "stderr",
     "output_type": "stream",
     "text": [
      "\r",
      "Processing Non-Neutral Rows:  20%|██████████▍                                         | 85/426 [03:50<15:05,  2.65s/it]"
     ]
    },
    {
     "name": "stdout",
     "output_type": "stream",
     "text": [
      "No valid primary label found at index 24733\n",
      "No valid secondary label found at index 24733\n"
     ]
    },
    {
     "name": "stderr",
     "output_type": "stream",
     "text": [
      "\r",
      "Processing Non-Neutral Rows:  20%|██████████▍                                         | 86/426 [03:53<14:54,  2.63s/it]"
     ]
    },
    {
     "name": "stdout",
     "output_type": "stream",
     "text": [
      "No valid primary label found at index 24734\n",
      "No valid secondary label found at index 24734\n"
     ]
    },
    {
     "name": "stderr",
     "output_type": "stream",
     "text": [
      "\r",
      "Processing Non-Neutral Rows:  20%|██████████▌                                         | 87/426 [03:56<15:09,  2.68s/it]"
     ]
    },
    {
     "name": "stdout",
     "output_type": "stream",
     "text": [
      "No valid primary label found at index 24736\n",
      "No valid secondary label found at index 24736\n"
     ]
    },
    {
     "name": "stderr",
     "output_type": "stream",
     "text": [
      "\r",
      "Processing Non-Neutral Rows:  21%|██████████▋                                         | 88/426 [03:58<14:55,  2.65s/it]"
     ]
    },
    {
     "name": "stdout",
     "output_type": "stream",
     "text": [
      "No valid primary label found at index 24738\n",
      "No valid secondary label found at index 24738\n"
     ]
    },
    {
     "name": "stderr",
     "output_type": "stream",
     "text": [
      "Processing Non-Neutral Rows:  23%|████████████                                        | 99/426 [04:30<14:51,  2.73s/it]"
     ]
    },
    {
     "name": "stdout",
     "output_type": "stream",
     "text": [
      "No valid primary label found at index 24757\n",
      "No valid secondary label found at index 24757\n"
     ]
    },
    {
     "name": "stderr",
     "output_type": "stream",
     "text": [
      "Processing Non-Neutral Rows:  24%|████████████▎                                      | 103/426 [04:40<14:17,  2.65s/it]"
     ]
    },
    {
     "name": "stdout",
     "output_type": "stream",
     "text": [
      "No valid primary label found at index 24764\n",
      "No valid secondary label found at index 24764\n"
     ]
    },
    {
     "name": "stderr",
     "output_type": "stream",
     "text": [
      "Processing Non-Neutral Rows:  26%|█████████████                                      | 109/426 [04:57<15:06,  2.86s/it]"
     ]
    },
    {
     "name": "stdout",
     "output_type": "stream",
     "text": [
      "No valid secondary label found at index 24773\n"
     ]
    },
    {
     "name": "stderr",
     "output_type": "stream",
     "text": [
      "\r",
      "Processing Non-Neutral Rows:  26%|█████████████▏                                     | 110/426 [05:00<15:07,  2.87s/it]"
     ]
    },
    {
     "name": "stdout",
     "output_type": "stream",
     "text": [
      "No valid primary label found at index 24774\n",
      "No valid secondary label found at index 24774\n"
     ]
    },
    {
     "name": "stderr",
     "output_type": "stream",
     "text": [
      "\r",
      "Processing Non-Neutral Rows:  26%|█████████████▎                                     | 111/426 [05:02<15:03,  2.87s/it]"
     ]
    },
    {
     "name": "stdout",
     "output_type": "stream",
     "text": [
      "No valid primary label found at index 24775\n",
      "No valid secondary label found at index 24775\n"
     ]
    },
    {
     "name": "stderr",
     "output_type": "stream",
     "text": [
      "Processing Non-Neutral Rows:  27%|█████████████▊                                     | 115/426 [05:15<15:56,  3.08s/it]"
     ]
    },
    {
     "name": "stdout",
     "output_type": "stream",
     "text": [
      "No valid primary label found at index 24779\n",
      "No valid secondary label found at index 24779\n"
     ]
    },
    {
     "name": "stderr",
     "output_type": "stream",
     "text": [
      "Processing Non-Neutral Rows:  27%|██████████████                                     | 117/426 [05:21<14:37,  2.84s/it]"
     ]
    },
    {
     "name": "stdout",
     "output_type": "stream",
     "text": [
      "No valid primary label found at index 24781\n",
      "No valid secondary label found at index 24781\n"
     ]
    },
    {
     "name": "stderr",
     "output_type": "stream",
     "text": [
      "\r",
      "Processing Non-Neutral Rows:  28%|██████████████▏                                    | 118/426 [05:24<15:11,  2.96s/it]"
     ]
    },
    {
     "name": "stdout",
     "output_type": "stream",
     "text": [
      "No valid primary label found at index 24782\n",
      "No valid secondary label found at index 24782\n"
     ]
    },
    {
     "name": "stderr",
     "output_type": "stream",
     "text": [
      "\r",
      "Processing Non-Neutral Rows:  28%|██████████████▏                                    | 119/426 [05:26<14:26,  2.82s/it]"
     ]
    },
    {
     "name": "stdout",
     "output_type": "stream",
     "text": [
      "No valid primary label found at index 24783\n",
      "No valid secondary label found at index 24783\n"
     ]
    },
    {
     "name": "stderr",
     "output_type": "stream",
     "text": [
      "\r",
      "Processing Non-Neutral Rows:  28%|██████████████▎                                    | 120/426 [05:29<14:04,  2.76s/it]"
     ]
    },
    {
     "name": "stdout",
     "output_type": "stream",
     "text": [
      "No valid primary label found at index 24784\n",
      "No valid secondary label found at index 24784\n"
     ]
    },
    {
     "name": "stderr",
     "output_type": "stream",
     "text": [
      "Processing Non-Neutral Rows:  29%|██████████████▋                                    | 123/426 [05:37<13:34,  2.69s/it]"
     ]
    },
    {
     "name": "stdout",
     "output_type": "stream",
     "text": [
      "No valid primary label found at index 24787\n",
      "No valid secondary label found at index 24787\n"
     ]
    },
    {
     "name": "stderr",
     "output_type": "stream",
     "text": [
      "Processing Non-Neutral Rows:  31%|███████████████▋                                   | 131/426 [06:00<13:40,  2.78s/it]"
     ]
    },
    {
     "name": "stdout",
     "output_type": "stream",
     "text": [
      "No valid primary label found at index 24797\n",
      "No valid secondary label found at index 24797\n"
     ]
    },
    {
     "name": "stderr",
     "output_type": "stream",
     "text": [
      "\r",
      "Processing Non-Neutral Rows:  31%|███████████████▊                                   | 132/426 [06:03<13:55,  2.84s/it]"
     ]
    },
    {
     "name": "stdout",
     "output_type": "stream",
     "text": [
      "No valid primary label found at index 24798\n",
      "No valid secondary label found at index 24798\n"
     ]
    },
    {
     "name": "stderr",
     "output_type": "stream",
     "text": [
      "Processing Non-Neutral Rows:  32%|████████████████▎                                  | 136/426 [06:12<12:24,  2.57s/it]"
     ]
    },
    {
     "name": "stdout",
     "output_type": "stream",
     "text": [
      "No valid primary label found at index 24804\n",
      "No valid secondary label found at index 24804\n"
     ]
    },
    {
     "name": "stderr",
     "output_type": "stream",
     "text": [
      "\r",
      "Processing Non-Neutral Rows:  32%|████████████████▍                                  | 137/426 [06:15<12:17,  2.55s/it]"
     ]
    },
    {
     "name": "stdout",
     "output_type": "stream",
     "text": [
      "No valid primary label found at index 24805\n",
      "No valid secondary label found at index 24805\n"
     ]
    },
    {
     "name": "stderr",
     "output_type": "stream",
     "text": [
      "Processing Non-Neutral Rows:  34%|█████████████████▎                                 | 145/426 [06:38<14:06,  3.01s/it]"
     ]
    },
    {
     "name": "stdout",
     "output_type": "stream",
     "text": [
      "No valid secondary label found at index 24813\n"
     ]
    },
    {
     "name": "stderr",
     "output_type": "stream",
     "text": [
      "Processing Non-Neutral Rows:  36%|██████████████████▏                                | 152/426 [06:59<13:38,  2.99s/it]"
     ]
    },
    {
     "name": "stdout",
     "output_type": "stream",
     "text": [
      "No valid primary label found at index 24820\n",
      "No valid secondary label found at index 24820\n"
     ]
    },
    {
     "name": "stderr",
     "output_type": "stream",
     "text": [
      "\r",
      "Processing Non-Neutral Rows:  36%|██████████████████▎                                | 153/426 [07:01<12:55,  2.84s/it]"
     ]
    },
    {
     "name": "stdout",
     "output_type": "stream",
     "text": [
      "No valid primary label found at index 24821\n",
      "No valid secondary label found at index 24821\n"
     ]
    },
    {
     "name": "stderr",
     "output_type": "stream",
     "text": [
      "Processing Non-Neutral Rows:  37%|██████████████████▋                                | 156/426 [07:10<12:41,  2.82s/it]"
     ]
    },
    {
     "name": "stdout",
     "output_type": "stream",
     "text": [
      "No valid primary label found at index 24824\n",
      "No valid secondary label found at index 24824\n"
     ]
    },
    {
     "name": "stderr",
     "output_type": "stream",
     "text": [
      "Processing Non-Neutral Rows:  38%|███████████████████▏                               | 160/426 [07:21<12:12,  2.75s/it]"
     ]
    },
    {
     "name": "stdout",
     "output_type": "stream",
     "text": [
      "No valid primary label found at index 24828\n",
      "No valid secondary label found at index 24828\n"
     ]
    },
    {
     "name": "stderr",
     "output_type": "stream",
     "text": [
      "Processing Non-Neutral Rows:  38%|███████████████████▌                               | 163/426 [07:30<12:38,  2.89s/it]"
     ]
    },
    {
     "name": "stdout",
     "output_type": "stream",
     "text": [
      "No valid primary label found at index 24831\n",
      "No valid secondary label found at index 24831\n"
     ]
    },
    {
     "name": "stderr",
     "output_type": "stream",
     "text": [
      "Processing Non-Neutral Rows:  41%|████████████████████▊                              | 174/426 [08:04<13:42,  3.26s/it]"
     ]
    },
    {
     "name": "stdout",
     "output_type": "stream",
     "text": [
      "No valid secondary label found at index 24842\n"
     ]
    },
    {
     "name": "stderr",
     "output_type": "stream",
     "text": [
      "Processing Non-Neutral Rows:  44%|██████████████████████▎                            | 186/426 [08:39<12:28,  3.12s/it]"
     ]
    },
    {
     "name": "stdout",
     "output_type": "stream",
     "text": [
      "No valid secondary label found at index 24855\n"
     ]
    },
    {
     "name": "stderr",
     "output_type": "stream",
     "text": [
      "Processing Non-Neutral Rows:  45%|███████████████████████                            | 193/426 [09:00<12:20,  3.18s/it]"
     ]
    },
    {
     "name": "stdout",
     "output_type": "stream",
     "text": [
      "No valid primary label found at index 24862\n",
      "No valid secondary label found at index 24862\n"
     ]
    },
    {
     "name": "stderr",
     "output_type": "stream",
     "text": [
      "Processing Non-Neutral Rows:  46%|███████████████████████▎                           | 195/426 [09:06<12:13,  3.18s/it]"
     ]
    },
    {
     "name": "stdout",
     "output_type": "stream",
     "text": [
      "No valid secondary label found at index 24864\n"
     ]
    },
    {
     "name": "stderr",
     "output_type": "stream",
     "text": [
      "\r",
      "Processing Non-Neutral Rows:  46%|███████████████████████▍                           | 196/426 [09:09<11:22,  2.97s/it]"
     ]
    },
    {
     "name": "stdout",
     "output_type": "stream",
     "text": [
      "No valid primary label found at index 24865\n",
      "No valid secondary label found at index 24865\n"
     ]
    },
    {
     "name": "stderr",
     "output_type": "stream",
     "text": [
      "Processing Non-Neutral Rows:  46%|███████████████████████▋                           | 198/426 [09:14<10:26,  2.75s/it]"
     ]
    },
    {
     "name": "stdout",
     "output_type": "stream",
     "text": [
      "No valid primary label found at index 24867\n",
      "No valid secondary label found at index 24867\n"
     ]
    },
    {
     "name": "stderr",
     "output_type": "stream",
     "text": [
      "\r",
      "Processing Non-Neutral Rows:  47%|███████████████████████▊                           | 199/426 [09:17<10:25,  2.75s/it]"
     ]
    },
    {
     "name": "stdout",
     "output_type": "stream",
     "text": [
      "No valid primary label found at index 24868\n",
      "No valid secondary label found at index 24868\n"
     ]
    },
    {
     "name": "stderr",
     "output_type": "stream",
     "text": [
      "Processing Non-Neutral Rows:  48%|████████████████████████▎                          | 203/426 [09:29<10:39,  2.87s/it]"
     ]
    },
    {
     "name": "stdout",
     "output_type": "stream",
     "text": [
      "No valid primary label found at index 24872\n",
      "No valid secondary label found at index 24872\n"
     ]
    },
    {
     "name": "stderr",
     "output_type": "stream",
     "text": [
      "Processing Non-Neutral Rows:  50%|█████████████████████████▎                         | 211/426 [09:53<11:24,  3.18s/it]"
     ]
    },
    {
     "name": "stdout",
     "output_type": "stream",
     "text": [
      "No valid secondary label found at index 24880\n"
     ]
    },
    {
     "name": "stderr",
     "output_type": "stream",
     "text": [
      "\r",
      "Processing Non-Neutral Rows:  50%|█████████████████████████▍                         | 212/426 [09:56<10:46,  3.02s/it]"
     ]
    },
    {
     "name": "stdout",
     "output_type": "stream",
     "text": [
      "No valid primary label found at index 24881\n",
      "No valid secondary label found at index 24881\n"
     ]
    },
    {
     "name": "stderr",
     "output_type": "stream",
     "text": [
      "\r",
      "Processing Non-Neutral Rows:  50%|█████████████████████████▌                         | 213/426 [09:58<10:15,  2.89s/it]"
     ]
    },
    {
     "name": "stdout",
     "output_type": "stream",
     "text": [
      "No valid primary label found at index 24882\n",
      "No valid secondary label found at index 24882\n"
     ]
    },
    {
     "name": "stderr",
     "output_type": "stream",
     "text": [
      "Processing Non-Neutral Rows:  51%|█████████████████████████▊                         | 216/426 [10:07<10:06,  2.89s/it]"
     ]
    },
    {
     "name": "stdout",
     "output_type": "stream",
     "text": [
      "No valid primary label found at index 24885\n",
      "No valid secondary label found at index 24885\n"
     ]
    },
    {
     "name": "stderr",
     "output_type": "stream",
     "text": [
      "\r",
      "Processing Non-Neutral Rows:  51%|█████████████████████████▉                         | 217/426 [10:10<10:13,  2.94s/it]"
     ]
    },
    {
     "name": "stdout",
     "output_type": "stream",
     "text": [
      "No valid primary label found at index 24886\n",
      "No valid secondary label found at index 24886\n"
     ]
    },
    {
     "name": "stderr",
     "output_type": "stream",
     "text": [
      "Processing Non-Neutral Rows:  53%|██████████████████████████▉                        | 225/426 [10:35<10:40,  3.19s/it]"
     ]
    },
    {
     "name": "stdout",
     "output_type": "stream",
     "text": [
      "No valid secondary label found at index 24894\n"
     ]
    },
    {
     "name": "stderr",
     "output_type": "stream",
     "text": [
      "Processing Non-Neutral Rows:  53%|███████████████████████████▏                       | 227/426 [10:41<10:29,  3.16s/it]"
     ]
    },
    {
     "name": "stdout",
     "output_type": "stream",
     "text": [
      "No valid primary label found at index 24896\n",
      "No valid secondary label found at index 24896\n"
     ]
    },
    {
     "name": "stderr",
     "output_type": "stream",
     "text": [
      "Processing Non-Neutral Rows:  56%|████████████████████████████▎                      | 237/426 [11:10<08:44,  2.78s/it]"
     ]
    },
    {
     "name": "stdout",
     "output_type": "stream",
     "text": [
      "No valid primary label found at index 24906\n",
      "No valid secondary label found at index 24906\n"
     ]
    },
    {
     "name": "stderr",
     "output_type": "stream",
     "text": [
      "Processing Non-Neutral Rows:  61%|███████████████████████████████                    | 259/426 [12:06<07:12,  2.59s/it]"
     ]
    },
    {
     "name": "stdout",
     "output_type": "stream",
     "text": [
      "No valid primary label found at index 26119\n",
      "No valid secondary label found at index 26119\n"
     ]
    },
    {
     "name": "stderr",
     "output_type": "stream",
     "text": [
      "Processing Non-Neutral Rows:  63%|████████████████████████████████                   | 268/426 [12:30<06:38,  2.52s/it]"
     ]
    },
    {
     "name": "stdout",
     "output_type": "stream",
     "text": [
      "No valid primary label found at index 26130\n",
      "No valid secondary label found at index 26130\n"
     ]
    },
    {
     "name": "stderr",
     "output_type": "stream",
     "text": [
      "Processing Non-Neutral Rows:  63%|████████████████████████████████▎                  | 270/426 [12:36<07:02,  2.71s/it]"
     ]
    },
    {
     "name": "stdout",
     "output_type": "stream",
     "text": [
      "No valid primary label found at index 26132\n",
      "No valid secondary label found at index 26132\n"
     ]
    },
    {
     "name": "stderr",
     "output_type": "stream",
     "text": [
      "Processing Non-Neutral Rows:  66%|█████████████████████████████████▊                 | 282/426 [13:07<06:12,  2.59s/it]"
     ]
    },
    {
     "name": "stdout",
     "output_type": "stream",
     "text": [
      "No valid primary label found at index 26145\n",
      "No valid secondary label found at index 26145\n"
     ]
    },
    {
     "name": "stderr",
     "output_type": "stream",
     "text": [
      "\r",
      "Processing Non-Neutral Rows:  66%|█████████████████████████████████▉                 | 283/426 [13:10<06:06,  2.57s/it]"
     ]
    },
    {
     "name": "stdout",
     "output_type": "stream",
     "text": [
      "No valid primary label found at index 26146\n",
      "No valid secondary label found at index 26146\n"
     ]
    },
    {
     "name": "stderr",
     "output_type": "stream",
     "text": [
      "Processing Non-Neutral Rows:  68%|██████████████████████████████████▊                | 291/426 [13:30<05:46,  2.57s/it]"
     ]
    },
    {
     "name": "stdout",
     "output_type": "stream",
     "text": [
      "No valid primary label found at index 26158\n",
      "No valid secondary label found at index 26158\n"
     ]
    },
    {
     "name": "stderr",
     "output_type": "stream",
     "text": [
      "Processing Non-Neutral Rows:  69%|███████████████████████████████████                | 293/426 [13:36<05:46,  2.60s/it]"
     ]
    },
    {
     "name": "stdout",
     "output_type": "stream",
     "text": [
      "No valid primary label found at index 26160\n",
      "No valid secondary label found at index 26160\n"
     ]
    },
    {
     "name": "stderr",
     "output_type": "stream",
     "text": [
      "Processing Non-Neutral Rows:  72%|████████████████████████████████████▊              | 307/426 [14:12<05:17,  2.67s/it]"
     ]
    },
    {
     "name": "stdout",
     "output_type": "stream",
     "text": [
      "No valid primary label found at index 26176\n",
      "No valid secondary label found at index 26176\n"
     ]
    },
    {
     "name": "stderr",
     "output_type": "stream",
     "text": [
      "\r",
      "Processing Non-Neutral Rows:  72%|████████████████████████████████████▊              | 308/426 [14:15<05:13,  2.66s/it]"
     ]
    },
    {
     "name": "stdout",
     "output_type": "stream",
     "text": [
      "No valid primary label found at index 26177\n",
      "No valid secondary label found at index 26177\n"
     ]
    },
    {
     "name": "stderr",
     "output_type": "stream",
     "text": [
      "Processing Non-Neutral Rows:  76%|██████████████████████████████████████▊            | 324/426 [14:56<04:22,  2.58s/it]"
     ]
    },
    {
     "name": "stdout",
     "output_type": "stream",
     "text": [
      "No valid primary label found at index 26195\n",
      "No valid secondary label found at index 26195\n"
     ]
    },
    {
     "name": "stderr",
     "output_type": "stream",
     "text": [
      "\r",
      "Processing Non-Neutral Rows:  76%|██████████████████████████████████████▉            | 325/426 [14:59<04:17,  2.55s/it]"
     ]
    },
    {
     "name": "stdout",
     "output_type": "stream",
     "text": [
      "No valid primary label found at index 26196\n",
      "No valid secondary label found at index 26196\n"
     ]
    },
    {
     "name": "stderr",
     "output_type": "stream",
     "text": [
      "\r",
      "Processing Non-Neutral Rows:  77%|███████████████████████████████████████            | 326/426 [15:02<04:27,  2.67s/it]"
     ]
    },
    {
     "name": "stdout",
     "output_type": "stream",
     "text": [
      "No valid primary label found at index 26197\n",
      "No valid secondary label found at index 26197\n"
     ]
    },
    {
     "name": "stderr",
     "output_type": "stream",
     "text": [
      "\r",
      "Processing Non-Neutral Rows:  77%|███████████████████████████████████████▏           | 327/426 [15:04<04:21,  2.64s/it]"
     ]
    },
    {
     "name": "stdout",
     "output_type": "stream",
     "text": [
      "No valid primary label found at index 26198\n",
      "No valid secondary label found at index 26198\n"
     ]
    },
    {
     "name": "stderr",
     "output_type": "stream",
     "text": [
      "Processing Non-Neutral Rows:  77%|███████████████████████████████████████▍           | 329/426 [15:10<04:12,  2.60s/it]"
     ]
    },
    {
     "name": "stdout",
     "output_type": "stream",
     "text": [
      "No valid primary label found at index 26201\n",
      "No valid secondary label found at index 26201\n"
     ]
    },
    {
     "name": "stderr",
     "output_type": "stream",
     "text": [
      "Processing Non-Neutral Rows:  80%|████████████████████████████████████████▊          | 341/426 [15:39<03:33,  2.51s/it]"
     ]
    },
    {
     "name": "stdout",
     "output_type": "stream",
     "text": [
      "No valid primary label found at index 26214\n",
      "No valid secondary label found at index 26214\n"
     ]
    },
    {
     "name": "stderr",
     "output_type": "stream",
     "text": [
      "Processing Non-Neutral Rows:  81%|█████████████████████████████████████████▌         | 347/426 [15:55<03:34,  2.71s/it]"
     ]
    },
    {
     "name": "stdout",
     "output_type": "stream",
     "text": [
      "No valid primary label found at index 26221\n",
      "No valid secondary label found at index 26221\n"
     ]
    },
    {
     "name": "stderr",
     "output_type": "stream",
     "text": [
      "\r",
      "Processing Non-Neutral Rows:  82%|█████████████████████████████████████████▋         | 348/426 [15:58<03:27,  2.66s/it]"
     ]
    },
    {
     "name": "stdout",
     "output_type": "stream",
     "text": [
      "No valid primary label found at index 26222\n",
      "No valid secondary label found at index 26222\n"
     ]
    },
    {
     "name": "stderr",
     "output_type": "stream",
     "text": [
      "Processing Non-Neutral Rows:  83%|██████████████████████████████████████████▌        | 355/426 [16:18<03:20,  2.82s/it]"
     ]
    },
    {
     "name": "stdout",
     "output_type": "stream",
     "text": [
      "No valid primary label found at index 26234\n",
      "No valid secondary label found at index 26234\n"
     ]
    },
    {
     "name": "stderr",
     "output_type": "stream",
     "text": [
      "Processing Non-Neutral Rows:  87%|████████████████████████████████████████████▎      | 370/426 [16:57<02:35,  2.77s/it]"
     ]
    },
    {
     "name": "stdout",
     "output_type": "stream",
     "text": [
      "No valid secondary label found at index 26259\n"
     ]
    },
    {
     "name": "stderr",
     "output_type": "stream",
     "text": [
      "Processing Non-Neutral Rows:  88%|█████████████████████████████████████████████      | 376/426 [17:13<02:19,  2.79s/it]"
     ]
    },
    {
     "name": "stdout",
     "output_type": "stream",
     "text": [
      "No valid primary label found at index 26265\n",
      "No valid secondary label found at index 26265\n"
     ]
    },
    {
     "name": "stderr",
     "output_type": "stream",
     "text": [
      "Processing Non-Neutral Rows:  90%|█████████████████████████████████████████████▊     | 383/426 [17:32<01:52,  2.62s/it]"
     ]
    },
    {
     "name": "stdout",
     "output_type": "stream",
     "text": [
      "No valid primary label found at index 26272\n",
      "No valid secondary label found at index 26272\n"
     ]
    },
    {
     "name": "stderr",
     "output_type": "stream",
     "text": [
      "\r",
      "Processing Non-Neutral Rows:  90%|█████████████████████████████████████████████▉     | 384/426 [17:34<01:51,  2.66s/it]"
     ]
    },
    {
     "name": "stdout",
     "output_type": "stream",
     "text": [
      "No valid primary label found at index 26273\n",
      "No valid secondary label found at index 26273\n"
     ]
    },
    {
     "name": "stderr",
     "output_type": "stream",
     "text": [
      "Processing Non-Neutral Rows:  93%|███████████████████████████████████████████████▎   | 395/426 [18:01<01:16,  2.47s/it]"
     ]
    },
    {
     "name": "stdout",
     "output_type": "stream",
     "text": [
      "No valid primary label found at index 26287\n",
      "No valid secondary label found at index 26287\n"
     ]
    },
    {
     "name": "stderr",
     "output_type": "stream",
     "text": [
      "\r",
      "Processing Non-Neutral Rows:  93%|███████████████████████████████████████████████▍   | 396/426 [18:04<01:16,  2.54s/it]"
     ]
    },
    {
     "name": "stdout",
     "output_type": "stream",
     "text": [
      "No valid secondary label found at index 26288\n"
     ]
    },
    {
     "name": "stderr",
     "output_type": "stream",
     "text": [
      "Processing Non-Neutral Rows:  94%|███████████████████████████████████████████████▊   | 399/426 [18:12<01:08,  2.54s/it]"
     ]
    },
    {
     "name": "stdout",
     "output_type": "stream",
     "text": [
      "No valid primary label found at index 26292\n",
      "No valid secondary label found at index 26292\n"
     ]
    },
    {
     "name": "stderr",
     "output_type": "stream",
     "text": [
      "Processing Non-Neutral Rows:  96%|████████████████████████████████████████████████▉  | 409/426 [18:37<00:42,  2.48s/it]"
     ]
    },
    {
     "name": "stdout",
     "output_type": "stream",
     "text": [
      "No valid primary label found at index 26305\n",
      "No valid secondary label found at index 26305\n"
     ]
    },
    {
     "name": "stderr",
     "output_type": "stream",
     "text": [
      "Processing Non-Neutral Rows:  98%|█████████████████████████████████████████████████▊ | 416/426 [18:55<00:25,  2.56s/it]"
     ]
    },
    {
     "name": "stdout",
     "output_type": "stream",
     "text": [
      "No valid primary label found at index 26315\n",
      "No valid secondary label found at index 26315\n"
     ]
    },
    {
     "name": "stderr",
     "output_type": "stream",
     "text": [
      "Processing Non-Neutral Rows:  99%|██████████████████████████████████████████████████▋| 423/426 [19:14<00:08,  2.85s/it]"
     ]
    },
    {
     "name": "stdout",
     "output_type": "stream",
     "text": [
      "No valid primary label found at index 26322\n",
      "No valid secondary label found at index 26322\n"
     ]
    },
    {
     "name": "stderr",
     "output_type": "stream",
     "text": [
      "Processing Non-Neutral Rows: 100%|███████████████████████████████████████████████████| 426/426 [19:22<00:00,  2.73s/it]\n"
     ]
    }
   ],
   "source": [
    "for index in tqdm(non_neutral_indices[5000:], desc=\"Processing Non-Neutral Rows\"):\n",
    "    classify_and_update_labels(index)"
   ]
  },
  {
   "cell_type": "code",
   "execution_count": 60,
   "id": "f275625f",
   "metadata": {},
   "outputs": [],
   "source": [
    "df.to_csv('outputs.csv', index=False)"
   ]
  },
  {
   "cell_type": "code",
   "execution_count": 61,
   "id": "126d2fba",
   "metadata": {},
   "outputs": [],
   "source": [
    "redo_indices=failed_indices"
   ]
  },
  {
   "cell_type": "code",
   "execution_count": 62,
   "id": "d4b20617",
   "metadata": {},
   "outputs": [],
   "source": [
    "with open('redo.pkl', 'wb') as f:\n",
    "    pickle.dump(redo_indices, f)"
   ]
  },
  {
   "cell_type": "code",
   "execution_count": 63,
   "id": "8cb41317",
   "metadata": {},
   "outputs": [],
   "source": [
    "preds = df.iloc[non_neutral_indices]"
   ]
  },
  {
   "cell_type": "code",
   "execution_count": 95,
   "id": "1252cd3f",
   "metadata": {},
   "outputs": [
    {
     "name": "stderr",
     "output_type": "stream",
     "text": [
      "C:\\Users\\manda\\AppData\\Local\\Temp\\ipykernel_16364\\3363166466.py:1: SettingWithCopyWarning: \n",
      "A value is trying to be set on a copy of a slice from a DataFrame.\n",
      "Try using .loc[row_indexer,col_indexer] = value instead\n",
      "\n",
      "See the caveats in the documentation: https://pandas.pydata.org/pandas-docs/stable/user_guide/indexing.html#returning-a-view-versus-a-copy\n",
      "  preds['pred_primary'] = preds['pred_primary'].fillna('Hate Speech')\n"
     ]
    }
   ],
   "source": [
    "preds['pred_primary'] = preds['pred_primary'].fillna('Hate Speech')"
   ]
  },
  {
   "cell_type": "code",
   "execution_count": 96,
   "id": "2c29b5ab",
   "metadata": {},
   "outputs": [
    {
     "data": {
      "text/html": [
       "<div>\n",
       "<style scoped>\n",
       "    .dataframe tbody tr th:only-of-type {\n",
       "        vertical-align: middle;\n",
       "    }\n",
       "\n",
       "    .dataframe tbody tr th {\n",
       "        vertical-align: top;\n",
       "    }\n",
       "\n",
       "    .dataframe thead th {\n",
       "        text-align: right;\n",
       "    }\n",
       "</style>\n",
       "<table border=\"1\" class=\"dataframe\">\n",
       "  <thead>\n",
       "    <tr style=\"text-align: right;\">\n",
       "      <th></th>\n",
       "      <th>utterance</th>\n",
       "      <th>context</th>\n",
       "      <th>label_primary</th>\n",
       "      <th>label_secondary</th>\n",
       "      <th>context_needed</th>\n",
       "      <th>pred_primary</th>\n",
       "      <th>pred_secondary</th>\n",
       "    </tr>\n",
       "  </thead>\n",
       "  <tbody>\n",
       "    <tr>\n",
       "      <th>90</th>\n",
       "      <td>No Republican can ever be trusted. Mueller is ...</td>\n",
       "      <td>['Throwaway02122019: Remember that Robert Muel...</td>\n",
       "      <td>AffiliationDirectedAbuse</td>\n",
       "      <td>AffiliationDirectedAbuse / derogation</td>\n",
       "      <td>0.0</td>\n",
       "      <td>PersonDirectedAbuse</td>\n",
       "      <td>PersonDirectedAbuse / directed to a person in ...</td>\n",
       "    </tr>\n",
       "    <tr>\n",
       "      <th>216</th>\n",
       "      <td>The original \"Hey, would you like cake or pie?...</td>\n",
       "      <td>[\"pyrbear: Yes is the laziest, tired, and most...</td>\n",
       "      <td>Slur</td>\n",
       "      <td>NaN</td>\n",
       "      <td>0.0</td>\n",
       "      <td>Not Hate Speech</td>\n",
       "      <td>NaN</td>\n",
       "    </tr>\n",
       "    <tr>\n",
       "      <th>262</th>\n",
       "      <td>What a fucking idiot. [linebreak]  [linebreak]...</td>\n",
       "      <td>['butterflyonsteroids: Weird flex but okkk', '...</td>\n",
       "      <td>PersonDirectedAbuse</td>\n",
       "      <td>PersonDirectedAbuse / about a person who is no...</td>\n",
       "      <td>0.0</td>\n",
       "      <td>PersonDirectedAbuse</td>\n",
       "      <td>PersonDirectedAbuse / directed to a person in ...</td>\n",
       "    </tr>\n",
       "    <tr>\n",
       "      <th>269</th>\n",
       "      <td>Easy there Hitler.</td>\n",
       "      <td>['butterflyonsteroids: Weird flex but okkk', '...</td>\n",
       "      <td>PersonDirectedAbuse</td>\n",
       "      <td>PersonDirectedAbuse / directed to a person in ...</td>\n",
       "      <td>0.0</td>\n",
       "      <td>PersonDirectedAbuse</td>\n",
       "      <td>PersonDirectedAbuse / directed to a person in ...</td>\n",
       "    </tr>\n",
       "    <tr>\n",
       "      <th>274</th>\n",
       "      <td>Oof. That's dumb. Makes actaul people with dys...</td>\n",
       "      <td>['footfaceball: UwU', 'footfaceball:', 'CritFa...</td>\n",
       "      <td>IdentityDirectedAbuse</td>\n",
       "      <td>IdentityDirectedAbuse / animosity</td>\n",
       "      <td>1.0</td>\n",
       "      <td>PersonDirectedAbuse</td>\n",
       "      <td>PersonDirectedAbuse / directed to a person in ...</td>\n",
       "    </tr>\n",
       "    <tr>\n",
       "      <th>...</th>\n",
       "      <td>...</td>\n",
       "      <td>...</td>\n",
       "      <td>...</td>\n",
       "      <td>...</td>\n",
       "      <td>...</td>\n",
       "      <td>...</td>\n",
       "      <td>...</td>\n",
       "    </tr>\n",
       "    <tr>\n",
       "      <th>26321</th>\n",
       "      <td>Seems to me that POC are more privileged than ...</td>\n",
       "      <td>[]</td>\n",
       "      <td>IdentityDirectedAbuse</td>\n",
       "      <td>IdentityDirectedAbuse / animosity</td>\n",
       "      <td>0.0</td>\n",
       "      <td>IdentityDirectedAbuse</td>\n",
       "      <td>IdentityDirectedAbuse / derogation</td>\n",
       "    </tr>\n",
       "    <tr>\n",
       "      <th>26322</th>\n",
       "      <td>#Victims There is now the possibility that the...</td>\n",
       "      <td>[]</td>\n",
       "      <td>AffiliationDirectedAbuse</td>\n",
       "      <td>AffiliationDirectedAbuse / derogation</td>\n",
       "      <td>0.0</td>\n",
       "      <td>Hate Speech</td>\n",
       "      <td>None</td>\n",
       "    </tr>\n",
       "    <tr>\n",
       "      <th>26323</th>\n",
       "      <td>Drinking too much hot water from your Rainies?</td>\n",
       "      <td>[]</td>\n",
       "      <td>IdentityDirectedAbuse</td>\n",
       "      <td>IdentityDirectedAbuse / animosity</td>\n",
       "      <td>0.0</td>\n",
       "      <td>Not Hate Speech</td>\n",
       "      <td>NaN</td>\n",
       "    </tr>\n",
       "    <tr>\n",
       "      <th>26324</th>\n",
       "      <td>Night ninjas</td>\n",
       "      <td>[]</td>\n",
       "      <td>IdentityDirectedAbuse</td>\n",
       "      <td>IdentityDirectedAbuse / derogation</td>\n",
       "      <td>0.0</td>\n",
       "      <td>Not Hate Speech</td>\n",
       "      <td>NaN</td>\n",
       "    </tr>\n",
       "    <tr>\n",
       "      <th>26326</th>\n",
       "      <td>r/environment thinks Feinstein shouldn't hold ...</td>\n",
       "      <td>[]</td>\n",
       "      <td>PersonDirectedAbuse</td>\n",
       "      <td>PersonDirectedAbuse / about a person who is no...</td>\n",
       "      <td>0.0</td>\n",
       "      <td>PersonDirectedAbuse</td>\n",
       "      <td>PersonDirectedAbuse / directed to a person in ...</td>\n",
       "    </tr>\n",
       "  </tbody>\n",
       "</table>\n",
       "<p>5426 rows × 7 columns</p>\n",
       "</div>"
      ],
      "text/plain": [
       "                                               utterance  \\\n",
       "90     No Republican can ever be trusted. Mueller is ...   \n",
       "216    The original \"Hey, would you like cake or pie?...   \n",
       "262    What a fucking idiot. [linebreak]  [linebreak]...   \n",
       "269                                   Easy there Hitler.   \n",
       "274    Oof. That's dumb. Makes actaul people with dys...   \n",
       "...                                                  ...   \n",
       "26321  Seems to me that POC are more privileged than ...   \n",
       "26322  #Victims There is now the possibility that the...   \n",
       "26323     Drinking too much hot water from your Rainies?   \n",
       "26324                                       Night ninjas   \n",
       "26326  r/environment thinks Feinstein shouldn't hold ...   \n",
       "\n",
       "                                                 context  \\\n",
       "90     ['Throwaway02122019: Remember that Robert Muel...   \n",
       "216    [\"pyrbear: Yes is the laziest, tired, and most...   \n",
       "262    ['butterflyonsteroids: Weird flex but okkk', '...   \n",
       "269    ['butterflyonsteroids: Weird flex but okkk', '...   \n",
       "274    ['footfaceball: UwU', 'footfaceball:', 'CritFa...   \n",
       "...                                                  ...   \n",
       "26321                                                 []   \n",
       "26322                                                 []   \n",
       "26323                                                 []   \n",
       "26324                                                 []   \n",
       "26326                                                 []   \n",
       "\n",
       "                  label_primary  \\\n",
       "90     AffiliationDirectedAbuse   \n",
       "216                        Slur   \n",
       "262         PersonDirectedAbuse   \n",
       "269         PersonDirectedAbuse   \n",
       "274       IdentityDirectedAbuse   \n",
       "...                         ...   \n",
       "26321     IdentityDirectedAbuse   \n",
       "26322  AffiliationDirectedAbuse   \n",
       "26323     IdentityDirectedAbuse   \n",
       "26324     IdentityDirectedAbuse   \n",
       "26326       PersonDirectedAbuse   \n",
       "\n",
       "                                         label_secondary  context_needed  \\\n",
       "90                 AffiliationDirectedAbuse / derogation             0.0   \n",
       "216                                                  NaN             0.0   \n",
       "262    PersonDirectedAbuse / about a person who is no...             0.0   \n",
       "269    PersonDirectedAbuse / directed to a person in ...             0.0   \n",
       "274                    IdentityDirectedAbuse / animosity             1.0   \n",
       "...                                                  ...             ...   \n",
       "26321                  IdentityDirectedAbuse / animosity             0.0   \n",
       "26322              AffiliationDirectedAbuse / derogation             0.0   \n",
       "26323                  IdentityDirectedAbuse / animosity             0.0   \n",
       "26324                 IdentityDirectedAbuse / derogation             0.0   \n",
       "26326  PersonDirectedAbuse / about a person who is no...             0.0   \n",
       "\n",
       "                pred_primary  \\\n",
       "90       PersonDirectedAbuse   \n",
       "216          Not Hate Speech   \n",
       "262      PersonDirectedAbuse   \n",
       "269      PersonDirectedAbuse   \n",
       "274      PersonDirectedAbuse   \n",
       "...                      ...   \n",
       "26321  IdentityDirectedAbuse   \n",
       "26322            Hate Speech   \n",
       "26323        Not Hate Speech   \n",
       "26324        Not Hate Speech   \n",
       "26326    PersonDirectedAbuse   \n",
       "\n",
       "                                          pred_secondary  \n",
       "90     PersonDirectedAbuse / directed to a person in ...  \n",
       "216                                                  NaN  \n",
       "262    PersonDirectedAbuse / directed to a person in ...  \n",
       "269    PersonDirectedAbuse / directed to a person in ...  \n",
       "274    PersonDirectedAbuse / directed to a person in ...  \n",
       "...                                                  ...  \n",
       "26321                 IdentityDirectedAbuse / derogation  \n",
       "26322                                               None  \n",
       "26323                                                NaN  \n",
       "26324                                                NaN  \n",
       "26326  PersonDirectedAbuse / directed to a person in ...  \n",
       "\n",
       "[5426 rows x 7 columns]"
      ]
     },
     "execution_count": 96,
     "metadata": {},
     "output_type": "execute_result"
    }
   ],
   "source": [
    "preds"
   ]
  },
  {
   "cell_type": "code",
   "execution_count": 97,
   "id": "19585e37",
   "metadata": {},
   "outputs": [
    {
     "name": "stdout",
     "output_type": "stream",
     "text": [
      "Accuracy for binary classification:  0.659049023221526\n"
     ]
    }
   ],
   "source": [
    "count = (preds['pred_primary'] == 'Not Hate Speech').sum()\n",
    "accuracy=1-count/len(preds)\n",
    "print(\"Accuracy for binary classification: \",accuracy)"
   ]
  },
  {
   "cell_type": "code",
   "execution_count": 91,
   "id": "fa09778d",
   "metadata": {},
   "outputs": [],
   "source": [
    "from sklearn.metrics import classification_report"
   ]
  },
  {
   "cell_type": "code",
   "execution_count": 98,
   "id": "ffa30926",
   "metadata": {},
   "outputs": [],
   "source": [
    "y_true = preds['label_primary']      \n",
    "y_pred = preds['pred_primary']"
   ]
  },
  {
   "cell_type": "code",
   "execution_count": 99,
   "id": "bc0c383e",
   "metadata": {},
   "outputs": [
    {
     "name": "stderr",
     "output_type": "stream",
     "text": [
      "C:\\Users\\manda\\anaconda3\\envs\\new_env_name\\lib\\site-packages\\sklearn\\metrics\\_classification.py:1531: UndefinedMetricWarning: Recall is ill-defined and being set to 0.0 in labels with no true samples. Use `zero_division` parameter to control this behavior.\n",
      "  _warn_prf(average, modifier, f\"{metric.capitalize()} is\", len(result))\n",
      "C:\\Users\\manda\\anaconda3\\envs\\new_env_name\\lib\\site-packages\\sklearn\\metrics\\_classification.py:1531: UndefinedMetricWarning: Recall is ill-defined and being set to 0.0 in labels with no true samples. Use `zero_division` parameter to control this behavior.\n",
      "  _warn_prf(average, modifier, f\"{metric.capitalize()} is\", len(result))\n"
     ]
    },
    {
     "name": "stdout",
     "output_type": "stream",
     "text": [
      "                          precision    recall  f1-score   support\n",
      "\n",
      "AffiliationDirectedAbuse       0.53      0.01      0.01      1327\n",
      "           CounterSpeech       0.00      0.00      0.00       220\n",
      "             Hate Speech       0.00      0.00      0.00         0\n",
      "   IdentityDirectedAbuse       0.50      0.08      0.14      2635\n",
      "         Not Hate Speech       0.00      0.00      0.00         0\n",
      "     PersonDirectedAbuse       0.25      0.43      0.31      1100\n",
      "                    Slur       0.07      0.06      0.06       144\n",
      "\n",
      "                accuracy                           0.13      5426\n",
      "               macro avg       0.19      0.08      0.08      5426\n",
      "            weighted avg       0.42      0.13      0.14      5426\n",
      "\n"
     ]
    },
    {
     "name": "stderr",
     "output_type": "stream",
     "text": [
      "C:\\Users\\manda\\anaconda3\\envs\\new_env_name\\lib\\site-packages\\sklearn\\metrics\\_classification.py:1531: UndefinedMetricWarning: Recall is ill-defined and being set to 0.0 in labels with no true samples. Use `zero_division` parameter to control this behavior.\n",
      "  _warn_prf(average, modifier, f\"{metric.capitalize()} is\", len(result))\n"
     ]
    }
   ],
   "source": [
    "report = classification_report(y_true, y_pred)\n",
    "print(report)"
   ]
  },
  {
   "cell_type": "code",
   "execution_count": null,
   "id": "02fc125b",
   "metadata": {},
   "outputs": [],
   "source": []
  }
 ],
 "metadata": {
  "kernelspec": {
   "display_name": "Python (new_env_name)",
   "language": "python",
   "name": "new_env_name"
  },
  "language_info": {
   "codemirror_mode": {
    "name": "ipython",
    "version": 3
   },
   "file_extension": ".py",
   "mimetype": "text/x-python",
   "name": "python",
   "nbconvert_exporter": "python",
   "pygments_lexer": "ipython3",
   "version": "3.9.19"
  }
 },
 "nbformat": 4,
 "nbformat_minor": 5
}
